{
 "cells": [
  {
   "cell_type": "code",
   "execution_count": 1,
   "id": "7ef96b57-69bd-4dbe-a182-d735b8e1967e",
   "metadata": {},
   "outputs": [
    {
     "name": "stdout",
     "output_type": "stream",
     "text": [
      "{'checkpoint_config': <Box: {'interval': 1}>,\n",
      " 'debug': False,\n",
      " 'earlystopping_config': {'mode': 'max',\n",
      "                          'monitor': 'f1_score',\n",
      "                          'patience': 2},\n",
      " 'epochs': 5,\n",
      " 'image_size': 384,\n",
      " 'image_size_tta': 440,\n",
      " 'log_average_filter': <BoxList: []>,\n",
      " 'log_config': {'hooks': <BoxList: [{'name': 'FackFaceDetLoggerHook'}]>,\n",
      "                'interval': 50},\n",
      " 'log_level': 'INFO',\n",
      " 'lr_config': <Box: {'policy': 'OneCycle', 'max_lr': 2e-05, 'by_epoch': False}>,\n",
      " 'model': <Box: {'name': 'swin_large_patch4_window12_384', 'output_dim': 1}>,\n",
      " 'momentum_config': <Box: {'policy': 'OneCycle', 'by_epoch': False}>,\n",
      " 'n_splits': 10,\n",
      " 'name': 'FackFaceDet',\n",
      " 'optimizer': <Box: {'name': 'AdamW'}>,\n",
      " 'optimizer_config': <Box: {'grad_clip': None}>,\n",
      " 'root': '../datasets/fackface_det/',\n",
      " 'seed': 999,\n",
      " 'train_loader': {'batch_size': 16,\n",
      "                  'drop_last': True,\n",
      "                  'num_workers': 10,\n",
      "                  'pin_memory': False,\n",
      "                  'shuffle': True},\n",
      " 'val_loader': {'batch_size': 16,\n",
      "                'drop_last': False,\n",
      "                'num_workers': 10,\n",
      "                'pin_memory': False,\n",
      "                'shuffle': False},\n",
      " 'work_dir': './checkpoint',\n",
      " 'workflow': <BoxList: [('train', 1), ('val', 1)]>}\n"
     ]
    }
   ],
   "source": [
    "import os\n",
    "import gc\n",
    "import copy\n",
    "\n",
    "import torch\n",
    "from torch import nn\n",
    "import pandas as pd\n",
    "\n",
    "from glob import glob\n",
    "from tqdm import tqdm\n",
    "import numpy as np\n",
    "\n",
    "from config import config\n",
    "from dataset import FackFaceDetLoader\n",
    "from model import FackFaceDetModel"
   ]
  },
  {
   "cell_type": "code",
   "execution_count": 2,
   "id": "014b1581-1ca3-4796-bcb4-99a79f2d6946",
   "metadata": {},
   "outputs": [
    {
     "data": {
      "text/html": [
       "<div>\n",
       "<style scoped>\n",
       "    .dataframe tbody tr th:only-of-type {\n",
       "        vertical-align: middle;\n",
       "    }\n",
       "\n",
       "    .dataframe tbody tr th {\n",
       "        vertical-align: top;\n",
       "    }\n",
       "\n",
       "    .dataframe thead th {\n",
       "        text-align: right;\n",
       "    }\n",
       "</style>\n",
       "<table border=\"1\" class=\"dataframe\">\n",
       "  <thead>\n",
       "    <tr style=\"text-align: right;\">\n",
       "      <th></th>\n",
       "      <th>fnames</th>\n",
       "      <th>label</th>\n",
       "    </tr>\n",
       "  </thead>\n",
       "  <tbody>\n",
       "    <tr>\n",
       "      <th>0</th>\n",
       "      <td>../datasets/fackface_det/image/test/test_0.jpg</td>\n",
       "      <td>1</td>\n",
       "    </tr>\n",
       "    <tr>\n",
       "      <th>1</th>\n",
       "      <td>../datasets/fackface_det/image/test/test_1.jpg</td>\n",
       "      <td>0</td>\n",
       "    </tr>\n",
       "    <tr>\n",
       "      <th>2</th>\n",
       "      <td>../datasets/fackface_det/image/test/test_2.jpg</td>\n",
       "      <td>1</td>\n",
       "    </tr>\n",
       "    <tr>\n",
       "      <th>3</th>\n",
       "      <td>../datasets/fackface_det/image/test/test_3.jpg</td>\n",
       "      <td>0</td>\n",
       "    </tr>\n",
       "    <tr>\n",
       "      <th>4</th>\n",
       "      <td>../datasets/fackface_det/image/test/test_4.jpg</td>\n",
       "      <td>1</td>\n",
       "    </tr>\n",
       "  </tbody>\n",
       "</table>\n",
       "</div>"
      ],
      "text/plain": [
       "                                           fnames  label\n",
       "0  ../datasets/fackface_det/image/test/test_0.jpg      1\n",
       "1  ../datasets/fackface_det/image/test/test_1.jpg      0\n",
       "2  ../datasets/fackface_det/image/test/test_2.jpg      1\n",
       "3  ../datasets/fackface_det/image/test/test_3.jpg      0\n",
       "4  ../datasets/fackface_det/image/test/test_4.jpg      1"
      ]
     },
     "execution_count": 2,
     "metadata": {},
     "output_type": "execute_result"
    }
   ],
   "source": [
    "df = pd.read_csv(os.path.join(config.root, 'submission.csv'), sep='\\t') if not config.debug else pd.read_csv(os.path.join(config.root, 'submission.csv'), sep='\\t')[:100]\n",
    "df_org = copy.deepcopy(df)\n",
    "df['fnames'] = df['fnames'].apply(lambda x: os.path.join(config.root, 'image', 'test', x))\n",
    "df.head()"
   ]
  },
  {
   "cell_type": "code",
   "execution_count": 3,
   "id": "4635260d-d120-4304-8e9c-26eb0e63e87c",
   "metadata": {},
   "outputs": [
    {
     "name": "stderr",
     "output_type": "stream",
     "text": [
      "Predicting. : 100%|██████████| 505/505 [09:38<00:00,  1.15s/it]\n",
      "Predicting. : 100%|██████████| 505/505 [09:39<00:00,  1.15s/it]\n",
      "Predicting. : 100%|██████████| 505/505 [09:39<00:00,  1.15s/it]\n"
     ]
    }
   ],
   "source": [
    "import ttach as tta\n",
    "\n",
    "test_loader = FackFaceDetLoader(df, df, config).test_dataloader()\n",
    "models_dir = './checkpoint/swin_large_patch4_window12_384/commit/'\n",
    "device = \"cuda:1\" \n",
    "\n",
    "predicted_labels = None\n",
    "for model_name in glob(models_dir + '/*'):\n",
    "\n",
    "    model = FackFaceDetModel(config)\n",
    "    model.load_state_dict(torch.load(model_name)['state_dict'])\n",
    "    model = model.cuda()\n",
    "    model.eval()\n",
    "    tta_model = tta.ClassificationTTAWrapper(\n",
    "        model, \n",
    "        tta.aliases.five_crop_transform(config.image_size,config.image_size)\n",
    "    )\n",
    "    \n",
    "    temp_preds = None\n",
    "    with torch.no_grad():\n",
    "        for (images, target) in tqdm(test_loader, desc=f'Predicting. '):\n",
    "            images = images.to(\"cuda\", non_blocking=True)\n",
    "            predictions = torch.sigmoid(tta_model(images)).to('cpu').numpy()\n",
    "            \n",
    "            if temp_preds is None:\n",
    "                temp_preds = predictions\n",
    "            else:\n",
    "                temp_preds = np.vstack((temp_preds, predictions))\n",
    "\n",
    "    if predicted_labels is None:\n",
    "        predicted_labels = temp_preds\n",
    "    else:\n",
    "        predicted_labels += temp_preds\n",
    "    \n",
    "#     del model\n",
    "    gc.collect()\n",
    "predicted_labels /= (len(glob(models_dir + '/*')))\n",
    "predicted_labels[predicted_labels >= 0.5] = 1\n",
    "predicted_labels[predicted_labels < 0.5] = 0\n",
    "\n",
    "sub_df = pd.DataFrame()\n",
    "sub_df['fnames'] = df_org['fnames']\n",
    "sub_df['label'] = predicted_labels.astype(int)\n",
    "\n",
    "sub_df.to_csv('submission.csv', index=False, sep='\\t')"
   ]
  },
  {
   "cell_type": "code",
   "execution_count": null,
   "id": "34fcfd5f-3f77-4c97-95f6-bff3fc10a26f",
   "metadata": {},
   "outputs": [],
   "source": []
  }
 ],
 "metadata": {
  "kernelspec": {
   "display_name": "Python 3",
   "language": "python",
   "name": "python3"
  },
  "language_info": {
   "codemirror_mode": {
    "name": "ipython",
    "version": 3
   },
   "file_extension": ".py",
   "mimetype": "text/x-python",
   "name": "python",
   "nbconvert_exporter": "python",
   "pygments_lexer": "ipython3",
   "version": "3.7.10"
  }
 },
 "nbformat": 4,
 "nbformat_minor": 5
}
