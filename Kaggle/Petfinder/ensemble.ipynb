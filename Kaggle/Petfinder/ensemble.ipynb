{
 "cells": [
  {
   "cell_type": "code",
   "execution_count": 1,
   "metadata": {},
   "outputs": [],
   "source": [
    "from timm import create_model"
   ]
  },
  {
   "cell_type": "code",
   "execution_count": 2,
   "metadata": {},
   "outputs": [],
   "source": [
    "from fastai.vision.all import *"
   ]
  },
  {
   "cell_type": "code",
   "execution_count": 3,
   "metadata": {},
   "outputs": [],
   "source": [
    "set_seed(999, reproducible=True)\n",
    "BATCH_SIZE = 8"
   ]
  },
  {
   "cell_type": "code",
   "execution_count": 4,
   "metadata": {},
   "outputs": [
    {
     "data": {
      "text/plain": [
       "(#13) [Path('../datasets/kaggle/petfinder/train_5folds.csv'),Path('../datasets/kaggle/petfinder/train_10folds.csv'),Path('../datasets/kaggle/petfinder/test.csv'),Path('../datasets/kaggle/petfinder/train.csv'),Path('../datasets/kaggle/petfinder/test'),Path('../datasets/kaggle/petfinder/sample_submission.csv'),Path('../datasets/kaggle/petfinder/archive.zip'),Path('../datasets/kaggle/petfinder/.ipynb_checkpoints'),Path('../datasets/kaggle/petfinder/train'),Path('../datasets/kaggle/petfinder/crop')...]"
      ]
     },
     "execution_count": 4,
     "metadata": {},
     "output_type": "execute_result"
    }
   ],
   "source": [
    "dataset_path = Path('../datasets/kaggle/petfinder/')\n",
    "dataset_path.ls()"
   ]
  },
  {
   "cell_type": "code",
   "execution_count": 5,
   "metadata": {},
   "outputs": [
    {
     "data": {
      "text/html": [
       "<div>\n",
       "<style scoped>\n",
       "    .dataframe tbody tr th:only-of-type {\n",
       "        vertical-align: middle;\n",
       "    }\n",
       "\n",
       "    .dataframe tbody tr th {\n",
       "        vertical-align: top;\n",
       "    }\n",
       "\n",
       "    .dataframe thead th {\n",
       "        text-align: right;\n",
       "    }\n",
       "</style>\n",
       "<table border=\"1\" class=\"dataframe\">\n",
       "  <thead>\n",
       "    <tr style=\"text-align: right;\">\n",
       "      <th></th>\n",
       "      <th>Id</th>\n",
       "      <th>Subject Focus</th>\n",
       "      <th>Eyes</th>\n",
       "      <th>Face</th>\n",
       "      <th>Near</th>\n",
       "      <th>Action</th>\n",
       "      <th>Accessory</th>\n",
       "      <th>Group</th>\n",
       "      <th>Collage</th>\n",
       "      <th>Human</th>\n",
       "      <th>Occlusion</th>\n",
       "      <th>Info</th>\n",
       "      <th>Blur</th>\n",
       "      <th>Pawpularity</th>\n",
       "    </tr>\n",
       "  </thead>\n",
       "  <tbody>\n",
       "    <tr>\n",
       "      <th>0</th>\n",
       "      <td>0007de18844b0dbbb5e1f607da0606e0</td>\n",
       "      <td>0</td>\n",
       "      <td>1</td>\n",
       "      <td>1</td>\n",
       "      <td>1</td>\n",
       "      <td>0</td>\n",
       "      <td>0</td>\n",
       "      <td>1</td>\n",
       "      <td>0</td>\n",
       "      <td>0</td>\n",
       "      <td>0</td>\n",
       "      <td>0</td>\n",
       "      <td>0</td>\n",
       "      <td>63</td>\n",
       "    </tr>\n",
       "    <tr>\n",
       "      <th>1</th>\n",
       "      <td>0009c66b9439883ba2750fb825e1d7db</td>\n",
       "      <td>0</td>\n",
       "      <td>1</td>\n",
       "      <td>1</td>\n",
       "      <td>0</td>\n",
       "      <td>0</td>\n",
       "      <td>0</td>\n",
       "      <td>0</td>\n",
       "      <td>0</td>\n",
       "      <td>0</td>\n",
       "      <td>0</td>\n",
       "      <td>0</td>\n",
       "      <td>0</td>\n",
       "      <td>42</td>\n",
       "    </tr>\n",
       "    <tr>\n",
       "      <th>2</th>\n",
       "      <td>0013fd999caf9a3efe1352ca1b0d937e</td>\n",
       "      <td>0</td>\n",
       "      <td>1</td>\n",
       "      <td>1</td>\n",
       "      <td>1</td>\n",
       "      <td>0</td>\n",
       "      <td>0</td>\n",
       "      <td>0</td>\n",
       "      <td>0</td>\n",
       "      <td>1</td>\n",
       "      <td>1</td>\n",
       "      <td>0</td>\n",
       "      <td>0</td>\n",
       "      <td>28</td>\n",
       "    </tr>\n",
       "    <tr>\n",
       "      <th>3</th>\n",
       "      <td>0018df346ac9c1d8413cfcc888ca8246</td>\n",
       "      <td>0</td>\n",
       "      <td>1</td>\n",
       "      <td>1</td>\n",
       "      <td>1</td>\n",
       "      <td>0</td>\n",
       "      <td>0</td>\n",
       "      <td>0</td>\n",
       "      <td>0</td>\n",
       "      <td>0</td>\n",
       "      <td>0</td>\n",
       "      <td>0</td>\n",
       "      <td>0</td>\n",
       "      <td>15</td>\n",
       "    </tr>\n",
       "    <tr>\n",
       "      <th>4</th>\n",
       "      <td>001dc955e10590d3ca4673f034feeef2</td>\n",
       "      <td>0</td>\n",
       "      <td>0</td>\n",
       "      <td>0</td>\n",
       "      <td>1</td>\n",
       "      <td>0</td>\n",
       "      <td>0</td>\n",
       "      <td>1</td>\n",
       "      <td>0</td>\n",
       "      <td>0</td>\n",
       "      <td>0</td>\n",
       "      <td>0</td>\n",
       "      <td>0</td>\n",
       "      <td>72</td>\n",
       "    </tr>\n",
       "  </tbody>\n",
       "</table>\n",
       "</div>"
      ],
      "text/plain": [
       "                                 Id  Subject Focus  Eyes  Face  Near  Action  \\\n",
       "0  0007de18844b0dbbb5e1f607da0606e0              0     1     1     1       0   \n",
       "1  0009c66b9439883ba2750fb825e1d7db              0     1     1     0       0   \n",
       "2  0013fd999caf9a3efe1352ca1b0d937e              0     1     1     1       0   \n",
       "3  0018df346ac9c1d8413cfcc888ca8246              0     1     1     1       0   \n",
       "4  001dc955e10590d3ca4673f034feeef2              0     0     0     1       0   \n",
       "\n",
       "   Accessory  Group  Collage  Human  Occlusion  Info  Blur  Pawpularity  \n",
       "0          0      1        0      0          0     0     0           63  \n",
       "1          0      0        0      0          0     0     0           42  \n",
       "2          0      0        0      1          1     0     0           28  \n",
       "3          0      0        0      0          0     0     0           15  \n",
       "4          0      1        0      0          0     0     0           72  "
      ]
     },
     "execution_count": 5,
     "metadata": {},
     "output_type": "execute_result"
    }
   ],
   "source": [
    "df = pd.read_csv(dataset_path/'train.csv')\n",
    "df.head()"
   ]
  },
  {
   "cell_type": "code",
   "execution_count": 6,
   "metadata": {},
   "outputs": [
    {
     "data": {
      "text/html": [
       "<div>\n",
       "<style scoped>\n",
       "    .dataframe tbody tr th:only-of-type {\n",
       "        vertical-align: middle;\n",
       "    }\n",
       "\n",
       "    .dataframe tbody tr th {\n",
       "        vertical-align: top;\n",
       "    }\n",
       "\n",
       "    .dataframe thead th {\n",
       "        text-align: right;\n",
       "    }\n",
       "</style>\n",
       "<table border=\"1\" class=\"dataframe\">\n",
       "  <thead>\n",
       "    <tr style=\"text-align: right;\">\n",
       "      <th></th>\n",
       "      <th>Subject Focus</th>\n",
       "      <th>Eyes</th>\n",
       "      <th>Face</th>\n",
       "      <th>Near</th>\n",
       "      <th>Action</th>\n",
       "      <th>Accessory</th>\n",
       "      <th>Group</th>\n",
       "      <th>Collage</th>\n",
       "      <th>Human</th>\n",
       "      <th>Occlusion</th>\n",
       "      <th>Info</th>\n",
       "      <th>Blur</th>\n",
       "      <th>Pawpularity</th>\n",
       "      <th>path</th>\n",
       "    </tr>\n",
       "  </thead>\n",
       "  <tbody>\n",
       "    <tr>\n",
       "      <th>0</th>\n",
       "      <td>0</td>\n",
       "      <td>0</td>\n",
       "      <td>1</td>\n",
       "      <td>1</td>\n",
       "      <td>0</td>\n",
       "      <td>0</td>\n",
       "      <td>0</td>\n",
       "      <td>0</td>\n",
       "      <td>0</td>\n",
       "      <td>0</td>\n",
       "      <td>0</td>\n",
       "      <td>1</td>\n",
       "      <td>50</td>\n",
       "      <td>../datasets/kaggle/petfinder/train/ebaaa8e384b3d2f0a56c7ff7675c154c.jpg</td>\n",
       "    </tr>\n",
       "    <tr>\n",
       "      <th>1</th>\n",
       "      <td>0</td>\n",
       "      <td>1</td>\n",
       "      <td>1</td>\n",
       "      <td>1</td>\n",
       "      <td>0</td>\n",
       "      <td>1</td>\n",
       "      <td>0</td>\n",
       "      <td>1</td>\n",
       "      <td>0</td>\n",
       "      <td>0</td>\n",
       "      <td>1</td>\n",
       "      <td>0</td>\n",
       "      <td>25</td>\n",
       "      <td>../datasets/kaggle/petfinder/train/25e3bf4267c2dc3f579b779418221bb7.jpg</td>\n",
       "    </tr>\n",
       "    <tr>\n",
       "      <th>2</th>\n",
       "      <td>0</td>\n",
       "      <td>0</td>\n",
       "      <td>1</td>\n",
       "      <td>1</td>\n",
       "      <td>0</td>\n",
       "      <td>1</td>\n",
       "      <td>0</td>\n",
       "      <td>0</td>\n",
       "      <td>0</td>\n",
       "      <td>0</td>\n",
       "      <td>0</td>\n",
       "      <td>0</td>\n",
       "      <td>27</td>\n",
       "      <td>../datasets/kaggle/petfinder/train/6548166fb3fda22b67881176397f0223.jpg</td>\n",
       "    </tr>\n",
       "    <tr>\n",
       "      <th>3</th>\n",
       "      <td>0</td>\n",
       "      <td>1</td>\n",
       "      <td>1</td>\n",
       "      <td>1</td>\n",
       "      <td>0</td>\n",
       "      <td>0</td>\n",
       "      <td>0</td>\n",
       "      <td>0</td>\n",
       "      <td>1</td>\n",
       "      <td>1</td>\n",
       "      <td>0</td>\n",
       "      <td>0</td>\n",
       "      <td>19</td>\n",
       "      <td>../datasets/kaggle/petfinder/train/472c40116e1833555715e4774445ae5b.jpg</td>\n",
       "    </tr>\n",
       "    <tr>\n",
       "      <th>4</th>\n",
       "      <td>0</td>\n",
       "      <td>1</td>\n",
       "      <td>1</td>\n",
       "      <td>1</td>\n",
       "      <td>0</td>\n",
       "      <td>0</td>\n",
       "      <td>0</td>\n",
       "      <td>1</td>\n",
       "      <td>0</td>\n",
       "      <td>0</td>\n",
       "      <td>0</td>\n",
       "      <td>0</td>\n",
       "      <td>27</td>\n",
       "      <td>../datasets/kaggle/petfinder/train/7b77e1a6d93667b575d57db83facd860.jpg</td>\n",
       "    </tr>\n",
       "  </tbody>\n",
       "</table>\n",
       "</div>"
      ],
      "text/plain": [
       "   Subject Focus  Eyes  Face  Near  Action  Accessory  Group  Collage  Human  \\\n",
       "0              0     0     1     1       0          0      0        0      0   \n",
       "1              0     1     1     1       0          1      0        1      0   \n",
       "2              0     0     1     1       0          1      0        0      0   \n",
       "3              0     1     1     1       0          0      0        0      1   \n",
       "4              0     1     1     1       0          0      0        1      0   \n",
       "\n",
       "   Occlusion  Info  Blur  Pawpularity  \\\n",
       "0          0     0     1           50   \n",
       "1          0     1     0           25   \n",
       "2          0     0     0           27   \n",
       "3          1     0     0           19   \n",
       "4          0     0     0           27   \n",
       "\n",
       "                                                                      path  \n",
       "0  ../datasets/kaggle/petfinder/train/ebaaa8e384b3d2f0a56c7ff7675c154c.jpg  \n",
       "1  ../datasets/kaggle/petfinder/train/25e3bf4267c2dc3f579b779418221bb7.jpg  \n",
       "2  ../datasets/kaggle/petfinder/train/6548166fb3fda22b67881176397f0223.jpg  \n",
       "3  ../datasets/kaggle/petfinder/train/472c40116e1833555715e4774445ae5b.jpg  \n",
       "4  ../datasets/kaggle/petfinder/train/7b77e1a6d93667b575d57db83facd860.jpg  "
      ]
     },
     "execution_count": 6,
     "metadata": {},
     "output_type": "execute_result"
    }
   ],
   "source": [
    "df['path'] = df['Id'].map(lambda x:str(dataset_path/'train'/x)+'.jpg')\n",
    "df = df.drop(columns=['Id'])\n",
    "df = df.sample(frac=1).reset_index(drop=True) #shuffle dataframe\n",
    "df.head()"
   ]
  },
  {
   "cell_type": "code",
   "execution_count": 7,
   "metadata": {},
   "outputs": [
    {
     "name": "stdout",
     "output_type": "stream",
     "text": [
      "There are 9912 images\n"
     ]
    }
   ],
   "source": [
    "len_df = len(df)\n",
    "print(f\"There are {len_df} images\")"
   ]
  },
  {
   "cell_type": "code",
   "execution_count": 8,
   "metadata": {},
   "outputs": [
    {
     "name": "stdout",
     "output_type": "stream",
     "text": [
      "The mean Pawpularity score is 38.03904358353511\n",
      "The median Pawpularity score is 33.0\n",
      "The standard deviation of the Pawpularity score is 20.59199010577444\n"
     ]
    },
    {
     "data": {
      "image/png": "[encoded data removed]",
      "text/plain": [
       "<Figure size 720x360 with 1 Axes>"
      ]
     },
     "metadata": {
      "needs_background": "light"
     },
     "output_type": "display_data"
    }
   ],
   "source": [
    "df['Pawpularity'].hist(figsize = (10, 5))\n",
    "print(f\"The mean Pawpularity score is {df['Pawpularity'].mean()}\")\n",
    "print(f\"The median Pawpularity score is {df['Pawpularity'].median()}\")\n",
    "print(f\"The standard deviation of the Pawpularity score is {df['Pawpularity'].std()}\")"
   ]
  },
  {
   "cell_type": "code",
   "execution_count": 9,
   "metadata": {},
   "outputs": [
    {
     "data": {
      "text/plain": [
       "0       0.50\n",
       "1       0.25\n",
       "2       0.27\n",
       "3       0.19\n",
       "4       0.27\n",
       "        ... \n",
       "9907    0.26\n",
       "9908    0.65\n",
       "9909    0.38\n",
       "9910    0.44\n",
       "9911    0.62\n",
       "Name: norm_score, Length: 9912, dtype: float64"
      ]
     },
     "execution_count": 9,
     "metadata": {},
     "output_type": "execute_result"
    }
   ],
   "source": [
    "df['norm_score'] = df['Pawpularity']/100\n",
    "df['norm_score']"
   ]
  },
  {
   "cell_type": "code",
   "execution_count": 10,
   "metadata": {},
   "outputs": [],
   "source": [
    "seed=999\n",
    "set_seed(seed, reproducible=True)\n",
    "torch.manual_seed(seed)\n",
    "torch.cuda.manual_seed(seed)\n",
    "torch.backends.cudnn.deterministic = True\n",
    "torch.use_deterministic_algorithms = True"
   ]
  },
  {
   "cell_type": "code",
   "execution_count": 11,
   "metadata": {},
   "outputs": [],
   "source": [
    "#Sturges' rule\n",
    "num_bins = int(np.floor(1+(3.3)*(np.log2(len(df)))))\n",
    "# num_bins"
   ]
  },
  {
   "cell_type": "code",
   "execution_count": 12,
   "metadata": {},
   "outputs": [
    {
     "data": {
      "text/plain": [
       "<AxesSubplot:>"
      ]
     },
     "execution_count": 12,
     "metadata": {},
     "output_type": "execute_result"
    },
    {
     "data": {
      "image/png": "[encoded data removed]",
      "text/plain": [
       "<Figure size 432x288 with 1 Axes>"
      ]
     },
     "metadata": {
      "needs_background": "light"
     },
     "output_type": "display_data"
    }
   ],
   "source": [
    "df['bins'] = pd.cut(df['norm_score'], bins=num_bins, labels=False)\n",
    "df['bins'].hist()"
   ]
  },
  {
   "cell_type": "code",
   "execution_count": 13,
   "metadata": {},
   "outputs": [],
   "source": [
    "import torch\n",
    "import torch.nn as nn\n",
    "\n",
    "class PetModel_swin(nn.Module):\n",
    "    def __init__(\n",
    "        self,\n",
    "        num_classes\n",
    "    ):\n",
    "        super().__init__()\n",
    "        self.model = create_model('swin_large_patch4_window7_224', num_classes=num_classes, pretrained=True)\n",
    "\n",
    "    def forward(self, x):\n",
    "        features = self.model.forward_features(x)\n",
    "        pred = self.model.head(features)\n",
    "        return pred\n",
    "\n",
    "class PetModel_beit(nn.Module):\n",
    "    def __init__(\n",
    "        self,\n",
    "        num_classes\n",
    "    ):\n",
    "        super().__init__()\n",
    "        self.model = create_model('beit_large_patch16_224', num_classes=num_classes, pretrained=True)\n",
    "\n",
    "    def forward(self, x):\n",
    "        features = self.model.forward_features(x)\n",
    "        pred = self.model.head(features)\n",
    "        return pred\n",
    "    \n",
    "class PetModel_vit(nn.Module):\n",
    "    def __init__(\n",
    "        self,\n",
    "        num_classes\n",
    "    ):\n",
    "        super().__init__()\n",
    "        self.model = create_model('vit_large_patch16_224', num_classes=num_classes, pretrained=True)\n",
    "\n",
    "    def forward(self, x):\n",
    "        features = self.model.forward_features(x)\n",
    "        pred = self.model.head(features)\n",
    "        return pred\n",
    "\n",
    "class PetModel_twins(nn.Module):\n",
    "    def __init__(\n",
    "        self,\n",
    "        num_classes\n",
    "    ):\n",
    "        super().__init__()\n",
    "        self.model = create_model('twins_svt_large', num_classes=num_classes, pretrained=False)\n",
    "\n",
    "    def forward(self, x):\n",
    "        features = self.model.forward_features(x)\n",
    "        pred = self.model.head(features)\n",
    "        return pred\n",
    "\n",
    "# class PetModel(nn.Module):\n",
    "#     def __init__(\n",
    "#         self,\n",
    "#         num_classes\n",
    "#     ):\n",
    "#         super().__init__()\n",
    "#         self.model = create_model('tf_efficientnet_b0', num_classes=num_classes, pretrained=False)\n",
    "\n",
    "#     def forward(self, x):\n",
    "#         x = self.model.forward_features(x)\n",
    "#         x = self.model.global_pool(x)\n",
    "#         if self.model.drop_rate > 0.:\n",
    "#             x = F.dropout(x, p=self.model.drop_rate, training=self.model.training)\n",
    "#         return self.model.classifier(x)\n",
    "\n",
    "# class PetModelForCB(nn.Module):\n",
    "#     def __init__(\n",
    "#         self,\n",
    "#         num_classes\n",
    "#     ):\n",
    "#         super().__init__()\n",
    "#         self.model = create_model('tf_efficientnet_b0', num_classes=num_classes, pretrained=False)\n",
    "\n",
    "#     def forward(self, x):\n",
    "#         self.eval()\n",
    "#         features = self.model.forward_features(x)\n",
    "#         features = self.model.global_pool(features)\n",
    "#         if self.model.drop_rate > 0.:\n",
    "#             features = F.dropout(features, p=self.model.drop_rate, training=self.model.training)\n",
    "#         pred = self.model.classifier(features)\n",
    "#         out = torch.cat([pred, features], dim=1)\n",
    "#         return out"
   ]
  },
  {
   "cell_type": "code",
   "execution_count": 14,
   "metadata": {},
   "outputs": [],
   "source": [
    "def petfinder_rmse(input,target):\n",
    "    return 100*torch.sqrt(F.mse_loss(F.sigmoid(input.flatten()), target))"
   ]
  },
  {
   "cell_type": "code",
   "execution_count": 15,
   "metadata": {},
   "outputs": [
    {
     "name": "stderr",
     "output_type": "stream",
     "text": [
      "/opt/conda/envs/rapids/lib/python3.7/site-packages/fastai/learner.py:56: UserWarning: Saved filed doesn't contain an optimizer state.\n",
      "  elif with_opt: warn(\"Saved filed doesn't contain an optimizer state.\")\n"
     ]
    },
    {
     "data": {
      "text/html": [
       "\n",
       "    <div>\n",
       "        <style>\n",
       "            /* Turns off some styling */\n",
       "            progress {\n",
       "                /* gets rid of default border in Firefox and Opera. */\n",
       "                border: none;\n",
       "                /* Needs to be in here for Safari polyfill so background images work as expected. */\n",
       "                background-size: auto;\n",
       "            }\n",
       "            .progress-bar-interrupted, .progress-bar-interrupted::-webkit-progress-bar {\n",
       "                background: #F44336;\n",
       "            }\n",
       "        </style>\n",
       "      <progress value='0' class='' max='1' style='width:300px; height:20px; vertical-align: middle;'></progress>\n",
       "      \n",
       "    </div>\n",
       "    \n"
      ],
      "text/plain": [
       "<IPython.core.display.HTML object>"
      ]
     },
     "metadata": {},
     "output_type": "display_data"
    },
    {
     "data": {
      "text/html": [],
      "text/plain": [
       "<IPython.core.display.HTML object>"
      ]
     },
     "metadata": {},
     "output_type": "display_data"
    },
    {
     "data": {
      "text/html": [
       "\n",
       "    <div>\n",
       "        <style>\n",
       "            /* Turns off some styling */\n",
       "            progress {\n",
       "                /* gets rid of default border in Firefox and Opera. */\n",
       "                border: none;\n",
       "                /* Needs to be in here for Safari polyfill so background images work as expected. */\n",
       "                background-size: auto;\n",
       "            }\n",
       "            .progress-bar-interrupted, .progress-bar-interrupted::-webkit-progress-bar {\n",
       "                background: #F44336;\n",
       "            }\n",
       "        </style>\n",
       "      <progress value='0' class='' max='1' style='width:300px; height:20px; vertical-align: middle;'></progress>\n",
       "      \n",
       "    </div>\n",
       "    \n"
      ],
      "text/plain": [
       "<IPython.core.display.HTML object>"
      ]
     },
     "metadata": {},
     "output_type": "display_data"
    },
    {
     "data": {
      "text/html": [],
      "text/plain": [
       "<IPython.core.display.HTML object>"
      ]
     },
     "metadata": {},
     "output_type": "display_data"
    },
    {
     "data": {
      "text/html": [
       "\n",
       "    <div>\n",
       "        <style>\n",
       "            /* Turns off some styling */\n",
       "            progress {\n",
       "                /* gets rid of default border in Firefox and Opera. */\n",
       "                border: none;\n",
       "                /* Needs to be in here for Safari polyfill so background images work as expected. */\n",
       "                background-size: auto;\n",
       "            }\n",
       "            .progress-bar-interrupted, .progress-bar-interrupted::-webkit-progress-bar {\n",
       "                background: #F44336;\n",
       "            }\n",
       "        </style>\n",
       "      <progress value='0' class='' max='1' style='width:300px; height:20px; vertical-align: middle;'></progress>\n",
       "      \n",
       "    </div>\n",
       "    \n"
      ],
      "text/plain": [
       "<IPython.core.display.HTML object>"
      ]
     },
     "metadata": {},
     "output_type": "display_data"
    },
    {
     "data": {
      "text/html": [],
      "text/plain": [
       "<IPython.core.display.HTML object>"
      ]
     },
     "metadata": {},
     "output_type": "display_data"
    },
    {
     "name": "stdout",
     "output_type": "stream",
     "text": [
      "Fold1 Swin NN RSME = 17.59280291058582 \n",
      "\n",
      "Fold1 Beit RSME = 17.76848187914709 \n",
      "\n",
      "Fold1 Vit RSME = 17.647976813715367 \n",
      "\n",
      "Ensemble RSME = 17.37322337136709 \n",
      "\n"
     ]
    },
    {
     "name": "stderr",
     "output_type": "stream",
     "text": [
      "/opt/conda/envs/rapids/lib/python3.7/site-packages/fastai/learner.py:56: UserWarning: Saved filed doesn't contain an optimizer state.\n",
      "  elif with_opt: warn(\"Saved filed doesn't contain an optimizer state.\")\n"
     ]
    },
    {
     "data": {
      "text/html": [
       "\n",
       "    <div>\n",
       "        <style>\n",
       "            /* Turns off some styling */\n",
       "            progress {\n",
       "                /* gets rid of default border in Firefox and Opera. */\n",
       "                border: none;\n",
       "                /* Needs to be in here for Safari polyfill so background images work as expected. */\n",
       "                background-size: auto;\n",
       "            }\n",
       "            .progress-bar-interrupted, .progress-bar-interrupted::-webkit-progress-bar {\n",
       "                background: #F44336;\n",
       "            }\n",
       "        </style>\n",
       "      <progress value='0' class='' max='1' style='width:300px; height:20px; vertical-align: middle;'></progress>\n",
       "      \n",
       "    </div>\n",
       "    \n"
      ],
      "text/plain": [
       "<IPython.core.display.HTML object>"
      ]
     },
     "metadata": {},
     "output_type": "display_data"
    },
    {
     "data": {
      "text/html": [],
      "text/plain": [
       "<IPython.core.display.HTML object>"
      ]
     },
     "metadata": {},
     "output_type": "display_data"
    },
    {
     "data": {
      "text/html": [
       "\n",
       "    <div>\n",
       "        <style>\n",
       "            /* Turns off some styling */\n",
       "            progress {\n",
       "                /* gets rid of default border in Firefox and Opera. */\n",
       "                border: none;\n",
       "                /* Needs to be in here for Safari polyfill so background images work as expected. */\n",
       "                background-size: auto;\n",
       "            }\n",
       "            .progress-bar-interrupted, .progress-bar-interrupted::-webkit-progress-bar {\n",
       "                background: #F44336;\n",
       "            }\n",
       "        </style>\n",
       "      <progress value='0' class='' max='1' style='width:300px; height:20px; vertical-align: middle;'></progress>\n",
       "      \n",
       "    </div>\n",
       "    \n"
      ],
      "text/plain": [
       "<IPython.core.display.HTML object>"
      ]
     },
     "metadata": {},
     "output_type": "display_data"
    },
    {
     "data": {
      "text/html": [],
      "text/plain": [
       "<IPython.core.display.HTML object>"
      ]
     },
     "metadata": {},
     "output_type": "display_data"
    },
    {
     "data": {
      "text/html": [
       "\n",
       "    <div>\n",
       "        <style>\n",
       "            /* Turns off some styling */\n",
       "            progress {\n",
       "                /* gets rid of default border in Firefox and Opera. */\n",
       "                border: none;\n",
       "                /* Needs to be in here for Safari polyfill so background images work as expected. */\n",
       "                background-size: auto;\n",
       "            }\n",
       "            .progress-bar-interrupted, .progress-bar-interrupted::-webkit-progress-bar {\n",
       "                background: #F44336;\n",
       "            }\n",
       "        </style>\n",
       "      <progress value='0' class='' max='1' style='width:300px; height:20px; vertical-align: middle;'></progress>\n",
       "      \n",
       "    </div>\n",
       "    \n"
      ],
      "text/plain": [
       "<IPython.core.display.HTML object>"
      ]
     },
     "metadata": {},
     "output_type": "display_data"
    },
    {
     "data": {
      "text/html": [],
      "text/plain": [
       "<IPython.core.display.HTML object>"
      ]
     },
     "metadata": {},
     "output_type": "display_data"
    },
    {
     "name": "stdout",
     "output_type": "stream",
     "text": [
      "Fold2 Swin NN RSME = 17.064103469489712 \n",
      "\n",
      "Fold2 Beit RSME = 17.132523431284135 \n",
      "\n",
      "Fold2 Vit RSME = 17.583413542586328 \n",
      "\n",
      "Ensemble RSME = 16.866524466972212 \n",
      "\n"
     ]
    },
    {
     "name": "stderr",
     "output_type": "stream",
     "text": [
      "/opt/conda/envs/rapids/lib/python3.7/site-packages/fastai/learner.py:56: UserWarning: Saved filed doesn't contain an optimizer state.\n",
      "  elif with_opt: warn(\"Saved filed doesn't contain an optimizer state.\")\n"
     ]
    },
    {
     "data": {
      "text/html": [
       "\n",
       "    <div>\n",
       "        <style>\n",
       "            /* Turns off some styling */\n",
       "            progress {\n",
       "                /* gets rid of default border in Firefox and Opera. */\n",
       "                border: none;\n",
       "                /* Needs to be in here for Safari polyfill so background images work as expected. */\n",
       "                background-size: auto;\n",
       "            }\n",
       "            .progress-bar-interrupted, .progress-bar-interrupted::-webkit-progress-bar {\n",
       "                background: #F44336;\n",
       "            }\n",
       "        </style>\n",
       "      <progress value='0' class='' max='1' style='width:300px; height:20px; vertical-align: middle;'></progress>\n",
       "      \n",
       "    </div>\n",
       "    \n"
      ],
      "text/plain": [
       "<IPython.core.display.HTML object>"
      ]
     },
     "metadata": {},
     "output_type": "display_data"
    },
    {
     "data": {
      "text/html": [],
      "text/plain": [
       "<IPython.core.display.HTML object>"
      ]
     },
     "metadata": {},
     "output_type": "display_data"
    },
    {
     "data": {
      "text/html": [
       "\n",
       "    <div>\n",
       "        <style>\n",
       "            /* Turns off some styling */\n",
       "            progress {\n",
       "                /* gets rid of default border in Firefox and Opera. */\n",
       "                border: none;\n",
       "                /* Needs to be in here for Safari polyfill so background images work as expected. */\n",
       "                background-size: auto;\n",
       "            }\n",
       "            .progress-bar-interrupted, .progress-bar-interrupted::-webkit-progress-bar {\n",
       "                background: #F44336;\n",
       "            }\n",
       "        </style>\n",
       "      <progress value='0' class='' max='1' style='width:300px; height:20px; vertical-align: middle;'></progress>\n",
       "      \n",
       "    </div>\n",
       "    \n"
      ],
      "text/plain": [
       "<IPython.core.display.HTML object>"
      ]
     },
     "metadata": {},
     "output_type": "display_data"
    },
    {
     "data": {
      "text/html": [],
      "text/plain": [
       "<IPython.core.display.HTML object>"
      ]
     },
     "metadata": {},
     "output_type": "display_data"
    },
    {
     "data": {
      "text/html": [
       "\n",
       "    <div>\n",
       "        <style>\n",
       "            /* Turns off some styling */\n",
       "            progress {\n",
       "                /* gets rid of default border in Firefox and Opera. */\n",
       "                border: none;\n",
       "                /* Needs to be in here for Safari polyfill so background images work as expected. */\n",
       "                background-size: auto;\n",
       "            }\n",
       "            .progress-bar-interrupted, .progress-bar-interrupted::-webkit-progress-bar {\n",
       "                background: #F44336;\n",
       "            }\n",
       "        </style>\n",
       "      <progress value='0' class='' max='1' style='width:300px; height:20px; vertical-align: middle;'></progress>\n",
       "      \n",
       "    </div>\n",
       "    \n"
      ],
      "text/plain": [
       "<IPython.core.display.HTML object>"
      ]
     },
     "metadata": {},
     "output_type": "display_data"
    },
    {
     "data": {
      "text/html": [],
      "text/plain": [
       "<IPython.core.display.HTML object>"
      ]
     },
     "metadata": {},
     "output_type": "display_data"
    },
    {
     "name": "stdout",
     "output_type": "stream",
     "text": [
      "Fold3 Swin NN RSME = 17.898589418916867 \n",
      "\n",
      "Fold3 Beit RSME = 17.602873091198767 \n",
      "\n",
      "Fold3 Vit RSME = 17.915650038693734 \n",
      "\n",
      "Ensemble RSME = 17.478400426723397 \n",
      "\n"
     ]
    },
    {
     "name": "stderr",
     "output_type": "stream",
     "text": [
      "/opt/conda/envs/rapids/lib/python3.7/site-packages/fastai/learner.py:56: UserWarning: Saved filed doesn't contain an optimizer state.\n",
      "  elif with_opt: warn(\"Saved filed doesn't contain an optimizer state.\")\n"
     ]
    },
    {
     "data": {
      "text/html": [
       "\n",
       "    <div>\n",
       "        <style>\n",
       "            /* Turns off some styling */\n",
       "            progress {\n",
       "                /* gets rid of default border in Firefox and Opera. */\n",
       "                border: none;\n",
       "                /* Needs to be in here for Safari polyfill so background images work as expected. */\n",
       "                background-size: auto;\n",
       "            }\n",
       "            .progress-bar-interrupted, .progress-bar-interrupted::-webkit-progress-bar {\n",
       "                background: #F44336;\n",
       "            }\n",
       "        </style>\n",
       "      <progress value='0' class='' max='1' style='width:300px; height:20px; vertical-align: middle;'></progress>\n",
       "      \n",
       "    </div>\n",
       "    \n"
      ],
      "text/plain": [
       "<IPython.core.display.HTML object>"
      ]
     },
     "metadata": {},
     "output_type": "display_data"
    },
    {
     "data": {
      "text/html": [],
      "text/plain": [
       "<IPython.core.display.HTML object>"
      ]
     },
     "metadata": {},
     "output_type": "display_data"
    },
    {
     "data": {
      "text/html": [
       "\n",
       "    <div>\n",
       "        <style>\n",
       "            /* Turns off some styling */\n",
       "            progress {\n",
       "                /* gets rid of default border in Firefox and Opera. */\n",
       "                border: none;\n",
       "                /* Needs to be in here for Safari polyfill so background images work as expected. */\n",
       "                background-size: auto;\n",
       "            }\n",
       "            .progress-bar-interrupted, .progress-bar-interrupted::-webkit-progress-bar {\n",
       "                background: #F44336;\n",
       "            }\n",
       "        </style>\n",
       "      <progress value='0' class='' max='1' style='width:300px; height:20px; vertical-align: middle;'></progress>\n",
       "      \n",
       "    </div>\n",
       "    \n"
      ],
      "text/plain": [
       "<IPython.core.display.HTML object>"
      ]
     },
     "metadata": {},
     "output_type": "display_data"
    },
    {
     "data": {
      "text/html": [],
      "text/plain": [
       "<IPython.core.display.HTML object>"
      ]
     },
     "metadata": {},
     "output_type": "display_data"
    },
    {
     "data": {
      "text/html": [
       "\n",
       "    <div>\n",
       "        <style>\n",
       "            /* Turns off some styling */\n",
       "            progress {\n",
       "                /* gets rid of default border in Firefox and Opera. */\n",
       "                border: none;\n",
       "                /* Needs to be in here for Safari polyfill so background images work as expected. */\n",
       "                background-size: auto;\n",
       "            }\n",
       "            .progress-bar-interrupted, .progress-bar-interrupted::-webkit-progress-bar {\n",
       "                background: #F44336;\n",
       "            }\n",
       "        </style>\n",
       "      <progress value='0' class='' max='1' style='width:300px; height:20px; vertical-align: middle;'></progress>\n",
       "      \n",
       "    </div>\n",
       "    \n"
      ],
      "text/plain": [
       "<IPython.core.display.HTML object>"
      ]
     },
     "metadata": {},
     "output_type": "display_data"
    },
    {
     "data": {
      "text/html": [],
      "text/plain": [
       "<IPython.core.display.HTML object>"
      ]
     },
     "metadata": {},
     "output_type": "display_data"
    },
    {
     "name": "stdout",
     "output_type": "stream",
     "text": [
      "Fold4 Swin NN RSME = 17.063153462518258 \n",
      "\n",
      "Fold4 Beit RSME = 17.346880743060503 \n",
      "\n",
      "Fold4 Vit RSME = 17.257354246566017 \n",
      "\n",
      "Ensemble RSME = 16.877993992936066 \n",
      "\n"
     ]
    },
    {
     "name": "stderr",
     "output_type": "stream",
     "text": [
      "/opt/conda/envs/rapids/lib/python3.7/site-packages/fastai/learner.py:56: UserWarning: Saved filed doesn't contain an optimizer state.\n",
      "  elif with_opt: warn(\"Saved filed doesn't contain an optimizer state.\")\n"
     ]
    },
    {
     "data": {
      "text/html": [
       "\n",
       "    <div>\n",
       "        <style>\n",
       "            /* Turns off some styling */\n",
       "            progress {\n",
       "                /* gets rid of default border in Firefox and Opera. */\n",
       "                border: none;\n",
       "                /* Needs to be in here for Safari polyfill so background images work as expected. */\n",
       "                background-size: auto;\n",
       "            }\n",
       "            .progress-bar-interrupted, .progress-bar-interrupted::-webkit-progress-bar {\n",
       "                background: #F44336;\n",
       "            }\n",
       "        </style>\n",
       "      <progress value='0' class='' max='1' style='width:300px; height:20px; vertical-align: middle;'></progress>\n",
       "      \n",
       "    </div>\n",
       "    \n"
      ],
      "text/plain": [
       "<IPython.core.display.HTML object>"
      ]
     },
     "metadata": {},
     "output_type": "display_data"
    },
    {
     "data": {
      "text/html": [],
      "text/plain": [
       "<IPython.core.display.HTML object>"
      ]
     },
     "metadata": {},
     "output_type": "display_data"
    },
    {
     "data": {
      "text/html": [
       "\n",
       "    <div>\n",
       "        <style>\n",
       "            /* Turns off some styling */\n",
       "            progress {\n",
       "                /* gets rid of default border in Firefox and Opera. */\n",
       "                border: none;\n",
       "                /* Needs to be in here for Safari polyfill so background images work as expected. */\n",
       "                background-size: auto;\n",
       "            }\n",
       "            .progress-bar-interrupted, .progress-bar-interrupted::-webkit-progress-bar {\n",
       "                background: #F44336;\n",
       "            }\n",
       "        </style>\n",
       "      <progress value='0' class='' max='1' style='width:300px; height:20px; vertical-align: middle;'></progress>\n",
       "      \n",
       "    </div>\n",
       "    \n"
      ],
      "text/plain": [
       "<IPython.core.display.HTML object>"
      ]
     },
     "metadata": {},
     "output_type": "display_data"
    },
    {
     "data": {
      "text/html": [],
      "text/plain": [
       "<IPython.core.display.HTML object>"
      ]
     },
     "metadata": {},
     "output_type": "display_data"
    },
    {
     "data": {
      "text/html": [
       "\n",
       "    <div>\n",
       "        <style>\n",
       "            /* Turns off some styling */\n",
       "            progress {\n",
       "                /* gets rid of default border in Firefox and Opera. */\n",
       "                border: none;\n",
       "                /* Needs to be in here for Safari polyfill so background images work as expected. */\n",
       "                background-size: auto;\n",
       "            }\n",
       "            .progress-bar-interrupted, .progress-bar-interrupted::-webkit-progress-bar {\n",
       "                background: #F44336;\n",
       "            }\n",
       "        </style>\n",
       "      <progress value='0' class='' max='1' style='width:300px; height:20px; vertical-align: middle;'></progress>\n",
       "      \n",
       "    </div>\n",
       "    \n"
      ],
      "text/plain": [
       "<IPython.core.display.HTML object>"
      ]
     },
     "metadata": {},
     "output_type": "display_data"
    },
    {
     "data": {
      "text/html": [],
      "text/plain": [
       "<IPython.core.display.HTML object>"
      ]
     },
     "metadata": {},
     "output_type": "display_data"
    },
    {
     "name": "stdout",
     "output_type": "stream",
     "text": [
      "Fold5 Swin NN RSME = 18.013797974916685 \n",
      "\n",
      "Fold5 Beit RSME = 17.824407923794062 \n",
      "\n",
      "Fold5 Vit RSME = 18.19478930607464 \n",
      "\n",
      "Ensemble RSME = 17.768775379530226 \n",
      "\n"
     ]
    },
    {
     "name": "stderr",
     "output_type": "stream",
     "text": [
      "/opt/conda/envs/rapids/lib/python3.7/site-packages/fastai/learner.py:56: UserWarning: Saved filed doesn't contain an optimizer state.\n",
      "  elif with_opt: warn(\"Saved filed doesn't contain an optimizer state.\")\n"
     ]
    },
    {
     "data": {
      "text/html": [
       "\n",
       "    <div>\n",
       "        <style>\n",
       "            /* Turns off some styling */\n",
       "            progress {\n",
       "                /* gets rid of default border in Firefox and Opera. */\n",
       "                border: none;\n",
       "                /* Needs to be in here for Safari polyfill so background images work as expected. */\n",
       "                background-size: auto;\n",
       "            }\n",
       "            .progress-bar-interrupted, .progress-bar-interrupted::-webkit-progress-bar {\n",
       "                background: #F44336;\n",
       "            }\n",
       "        </style>\n",
       "      <progress value='0' class='' max='1' style='width:300px; height:20px; vertical-align: middle;'></progress>\n",
       "      \n",
       "    </div>\n",
       "    \n"
      ],
      "text/plain": [
       "<IPython.core.display.HTML object>"
      ]
     },
     "metadata": {},
     "output_type": "display_data"
    },
    {
     "data": {
      "text/html": [],
      "text/plain": [
       "<IPython.core.display.HTML object>"
      ]
     },
     "metadata": {},
     "output_type": "display_data"
    },
    {
     "data": {
      "text/html": [
       "\n",
       "    <div>\n",
       "        <style>\n",
       "            /* Turns off some styling */\n",
       "            progress {\n",
       "                /* gets rid of default border in Firefox and Opera. */\n",
       "                border: none;\n",
       "                /* Needs to be in here for Safari polyfill so background images work as expected. */\n",
       "                background-size: auto;\n",
       "            }\n",
       "            .progress-bar-interrupted, .progress-bar-interrupted::-webkit-progress-bar {\n",
       "                background: #F44336;\n",
       "            }\n",
       "        </style>\n",
       "      <progress value='0' class='' max='1' style='width:300px; height:20px; vertical-align: middle;'></progress>\n",
       "      \n",
       "    </div>\n",
       "    \n"
      ],
      "text/plain": [
       "<IPython.core.display.HTML object>"
      ]
     },
     "metadata": {},
     "output_type": "display_data"
    },
    {
     "data": {
      "text/html": [],
      "text/plain": [
       "<IPython.core.display.HTML object>"
      ]
     },
     "metadata": {},
     "output_type": "display_data"
    },
    {
     "data": {
      "text/html": [
       "\n",
       "    <div>\n",
       "        <style>\n",
       "            /* Turns off some styling */\n",
       "            progress {\n",
       "                /* gets rid of default border in Firefox and Opera. */\n",
       "                border: none;\n",
       "                /* Needs to be in here for Safari polyfill so background images work as expected. */\n",
       "                background-size: auto;\n",
       "            }\n",
       "            .progress-bar-interrupted, .progress-bar-interrupted::-webkit-progress-bar {\n",
       "                background: #F44336;\n",
       "            }\n",
       "        </style>\n",
       "      <progress value='0' class='' max='1' style='width:300px; height:20px; vertical-align: middle;'></progress>\n",
       "      \n",
       "    </div>\n",
       "    \n"
      ],
      "text/plain": [
       "<IPython.core.display.HTML object>"
      ]
     },
     "metadata": {},
     "output_type": "display_data"
    },
    {
     "data": {
      "text/html": [],
      "text/plain": [
       "<IPython.core.display.HTML object>"
      ]
     },
     "metadata": {},
     "output_type": "display_data"
    },
    {
     "name": "stdout",
     "output_type": "stream",
     "text": [
      "Fold6 Swin NN RSME = 17.086710616154313 \n",
      "\n",
      "Fold6 Beit RSME = 17.26684725568726 \n",
      "\n",
      "Fold6 Vit RSME = 17.226056120172846 \n",
      "\n",
      "Ensemble RSME = 16.877970464260915 \n",
      "\n"
     ]
    },
    {
     "name": "stderr",
     "output_type": "stream",
     "text": [
      "/opt/conda/envs/rapids/lib/python3.7/site-packages/fastai/learner.py:56: UserWarning: Saved filed doesn't contain an optimizer state.\n",
      "  elif with_opt: warn(\"Saved filed doesn't contain an optimizer state.\")\n"
     ]
    },
    {
     "data": {
      "text/html": [
       "\n",
       "    <div>\n",
       "        <style>\n",
       "            /* Turns off some styling */\n",
       "            progress {\n",
       "                /* gets rid of default border in Firefox and Opera. */\n",
       "                border: none;\n",
       "                /* Needs to be in here for Safari polyfill so background images work as expected. */\n",
       "                background-size: auto;\n",
       "            }\n",
       "            .progress-bar-interrupted, .progress-bar-interrupted::-webkit-progress-bar {\n",
       "                background: #F44336;\n",
       "            }\n",
       "        </style>\n",
       "      <progress value='0' class='' max='1' style='width:300px; height:20px; vertical-align: middle;'></progress>\n",
       "      \n",
       "    </div>\n",
       "    \n"
      ],
      "text/plain": [
       "<IPython.core.display.HTML object>"
      ]
     },
     "metadata": {},
     "output_type": "display_data"
    },
    {
     "data": {
      "text/html": [],
      "text/plain": [
       "<IPython.core.display.HTML object>"
      ]
     },
     "metadata": {},
     "output_type": "display_data"
    },
    {
     "data": {
      "text/html": [
       "\n",
       "    <div>\n",
       "        <style>\n",
       "            /* Turns off some styling */\n",
       "            progress {\n",
       "                /* gets rid of default border in Firefox and Opera. */\n",
       "                border: none;\n",
       "                /* Needs to be in here for Safari polyfill so background images work as expected. */\n",
       "                background-size: auto;\n",
       "            }\n",
       "            .progress-bar-interrupted, .progress-bar-interrupted::-webkit-progress-bar {\n",
       "                background: #F44336;\n",
       "            }\n",
       "        </style>\n",
       "      <progress value='0' class='' max='1' style='width:300px; height:20px; vertical-align: middle;'></progress>\n",
       "      \n",
       "    </div>\n",
       "    \n"
      ],
      "text/plain": [
       "<IPython.core.display.HTML object>"
      ]
     },
     "metadata": {},
     "output_type": "display_data"
    },
    {
     "data": {
      "text/html": [],
      "text/plain": [
       "<IPython.core.display.HTML object>"
      ]
     },
     "metadata": {},
     "output_type": "display_data"
    },
    {
     "data": {
      "text/html": [
       "\n",
       "    <div>\n",
       "        <style>\n",
       "            /* Turns off some styling */\n",
       "            progress {\n",
       "                /* gets rid of default border in Firefox and Opera. */\n",
       "                border: none;\n",
       "                /* Needs to be in here for Safari polyfill so background images work as expected. */\n",
       "                background-size: auto;\n",
       "            }\n",
       "            .progress-bar-interrupted, .progress-bar-interrupted::-webkit-progress-bar {\n",
       "                background: #F44336;\n",
       "            }\n",
       "        </style>\n",
       "      <progress value='0' class='' max='1' style='width:300px; height:20px; vertical-align: middle;'></progress>\n",
       "      \n",
       "    </div>\n",
       "    \n"
      ],
      "text/plain": [
       "<IPython.core.display.HTML object>"
      ]
     },
     "metadata": {},
     "output_type": "display_data"
    },
    {
     "data": {
      "text/html": [],
      "text/plain": [
       "<IPython.core.display.HTML object>"
      ]
     },
     "metadata": {},
     "output_type": "display_data"
    },
    {
     "name": "stdout",
     "output_type": "stream",
     "text": [
      "Fold7 Swin NN RSME = 17.71255110888103 \n",
      "\n",
      "Fold7 Beit RSME = 17.79748606496054 \n",
      "\n",
      "Fold7 Vit RSME = 18.096397181685262 \n",
      "\n",
      "Ensemble RSME = 17.571185116601846 \n",
      "\n"
     ]
    },
    {
     "name": "stderr",
     "output_type": "stream",
     "text": [
      "/opt/conda/envs/rapids/lib/python3.7/site-packages/fastai/learner.py:56: UserWarning: Saved filed doesn't contain an optimizer state.\n",
      "  elif with_opt: warn(\"Saved filed doesn't contain an optimizer state.\")\n"
     ]
    },
    {
     "data": {
      "text/html": [
       "\n",
       "    <div>\n",
       "        <style>\n",
       "            /* Turns off some styling */\n",
       "            progress {\n",
       "                /* gets rid of default border in Firefox and Opera. */\n",
       "                border: none;\n",
       "                /* Needs to be in here for Safari polyfill so background images work as expected. */\n",
       "                background-size: auto;\n",
       "            }\n",
       "            .progress-bar-interrupted, .progress-bar-interrupted::-webkit-progress-bar {\n",
       "                background: #F44336;\n",
       "            }\n",
       "        </style>\n",
       "      <progress value='0' class='' max='1' style='width:300px; height:20px; vertical-align: middle;'></progress>\n",
       "      \n",
       "    </div>\n",
       "    \n"
      ],
      "text/plain": [
       "<IPython.core.display.HTML object>"
      ]
     },
     "metadata": {},
     "output_type": "display_data"
    },
    {
     "data": {
      "text/html": [],
      "text/plain": [
       "<IPython.core.display.HTML object>"
      ]
     },
     "metadata": {},
     "output_type": "display_data"
    },
    {
     "data": {
      "text/html": [
       "\n",
       "    <div>\n",
       "        <style>\n",
       "            /* Turns off some styling */\n",
       "            progress {\n",
       "                /* gets rid of default border in Firefox and Opera. */\n",
       "                border: none;\n",
       "                /* Needs to be in here for Safari polyfill so background images work as expected. */\n",
       "                background-size: auto;\n",
       "            }\n",
       "            .progress-bar-interrupted, .progress-bar-interrupted::-webkit-progress-bar {\n",
       "                background: #F44336;\n",
       "            }\n",
       "        </style>\n",
       "      <progress value='0' class='' max='1' style='width:300px; height:20px; vertical-align: middle;'></progress>\n",
       "      \n",
       "    </div>\n",
       "    \n"
      ],
      "text/plain": [
       "<IPython.core.display.HTML object>"
      ]
     },
     "metadata": {},
     "output_type": "display_data"
    },
    {
     "data": {
      "text/html": [],
      "text/plain": [
       "<IPython.core.display.HTML object>"
      ]
     },
     "metadata": {},
     "output_type": "display_data"
    },
    {
     "data": {
      "text/html": [
       "\n",
       "    <div>\n",
       "        <style>\n",
       "            /* Turns off some styling */\n",
       "            progress {\n",
       "                /* gets rid of default border in Firefox and Opera. */\n",
       "                border: none;\n",
       "                /* Needs to be in here for Safari polyfill so background images work as expected. */\n",
       "                background-size: auto;\n",
       "            }\n",
       "            .progress-bar-interrupted, .progress-bar-interrupted::-webkit-progress-bar {\n",
       "                background: #F44336;\n",
       "            }\n",
       "        </style>\n",
       "      <progress value='0' class='' max='1' style='width:300px; height:20px; vertical-align: middle;'></progress>\n",
       "      \n",
       "    </div>\n",
       "    \n"
      ],
      "text/plain": [
       "<IPython.core.display.HTML object>"
      ]
     },
     "metadata": {},
     "output_type": "display_data"
    },
    {
     "data": {
      "text/html": [],
      "text/plain": [
       "<IPython.core.display.HTML object>"
      ]
     },
     "metadata": {},
     "output_type": "display_data"
    },
    {
     "name": "stdout",
     "output_type": "stream",
     "text": [
      "Fold8 Swin NN RSME = 18.084148168383418 \n",
      "\n",
      "Fold8 Beit RSME = 17.79468624517873 \n",
      "\n",
      "Fold8 Vit RSME = 17.874456125815083 \n",
      "\n",
      "Ensemble RSME = 17.597732214360388 \n",
      "\n"
     ]
    },
    {
     "name": "stderr",
     "output_type": "stream",
     "text": [
      "/opt/conda/envs/rapids/lib/python3.7/site-packages/fastai/learner.py:56: UserWarning: Saved filed doesn't contain an optimizer state.\n",
      "  elif with_opt: warn(\"Saved filed doesn't contain an optimizer state.\")\n"
     ]
    },
    {
     "data": {
      "text/html": [
       "\n",
       "    <div>\n",
       "        <style>\n",
       "            /* Turns off some styling */\n",
       "            progress {\n",
       "                /* gets rid of default border in Firefox and Opera. */\n",
       "                border: none;\n",
       "                /* Needs to be in here for Safari polyfill so background images work as expected. */\n",
       "                background-size: auto;\n",
       "            }\n",
       "            .progress-bar-interrupted, .progress-bar-interrupted::-webkit-progress-bar {\n",
       "                background: #F44336;\n",
       "            }\n",
       "        </style>\n",
       "      <progress value='0' class='' max='1' style='width:300px; height:20px; vertical-align: middle;'></progress>\n",
       "      \n",
       "    </div>\n",
       "    \n"
      ],
      "text/plain": [
       "<IPython.core.display.HTML object>"
      ]
     },
     "metadata": {},
     "output_type": "display_data"
    },
    {
     "data": {
      "text/html": [],
      "text/plain": [
       "<IPython.core.display.HTML object>"
      ]
     },
     "metadata": {},
     "output_type": "display_data"
    },
    {
     "data": {
      "text/html": [
       "\n",
       "    <div>\n",
       "        <style>\n",
       "            /* Turns off some styling */\n",
       "            progress {\n",
       "                /* gets rid of default border in Firefox and Opera. */\n",
       "                border: none;\n",
       "                /* Needs to be in here for Safari polyfill so background images work as expected. */\n",
       "                background-size: auto;\n",
       "            }\n",
       "            .progress-bar-interrupted, .progress-bar-interrupted::-webkit-progress-bar {\n",
       "                background: #F44336;\n",
       "            }\n",
       "        </style>\n",
       "      <progress value='0' class='' max='1' style='width:300px; height:20px; vertical-align: middle;'></progress>\n",
       "      \n",
       "    </div>\n",
       "    \n"
      ],
      "text/plain": [
       "<IPython.core.display.HTML object>"
      ]
     },
     "metadata": {},
     "output_type": "display_data"
    },
    {
     "data": {
      "text/html": [],
      "text/plain": [
       "<IPython.core.display.HTML object>"
      ]
     },
     "metadata": {},
     "output_type": "display_data"
    },
    {
     "data": {
      "text/html": [
       "\n",
       "    <div>\n",
       "        <style>\n",
       "            /* Turns off some styling */\n",
       "            progress {\n",
       "                /* gets rid of default border in Firefox and Opera. */\n",
       "                border: none;\n",
       "                /* Needs to be in here for Safari polyfill so background images work as expected. */\n",
       "                background-size: auto;\n",
       "            }\n",
       "            .progress-bar-interrupted, .progress-bar-interrupted::-webkit-progress-bar {\n",
       "                background: #F44336;\n",
       "            }\n",
       "        </style>\n",
       "      <progress value='0' class='' max='1' style='width:300px; height:20px; vertical-align: middle;'></progress>\n",
       "      \n",
       "    </div>\n",
       "    \n"
      ],
      "text/plain": [
       "<IPython.core.display.HTML object>"
      ]
     },
     "metadata": {},
     "output_type": "display_data"
    },
    {
     "data": {
      "text/html": [],
      "text/plain": [
       "<IPython.core.display.HTML object>"
      ]
     },
     "metadata": {},
     "output_type": "display_data"
    },
    {
     "name": "stdout",
     "output_type": "stream",
     "text": [
      "Fold9 Swin NN RSME = 17.366508139812705 \n",
      "\n",
      "Fold9 Beit RSME = 17.186674343199645 \n",
      "\n",
      "Fold9 Vit RSME = 17.426211776502424 \n",
      "\n",
      "Ensemble RSME = 16.988536277774024 \n",
      "\n"
     ]
    },
    {
     "name": "stderr",
     "output_type": "stream",
     "text": [
      "/opt/conda/envs/rapids/lib/python3.7/site-packages/fastai/learner.py:56: UserWarning: Saved filed doesn't contain an optimizer state.\n",
      "  elif with_opt: warn(\"Saved filed doesn't contain an optimizer state.\")\n"
     ]
    },
    {
     "data": {
      "text/html": [
       "\n",
       "    <div>\n",
       "        <style>\n",
       "            /* Turns off some styling */\n",
       "            progress {\n",
       "                /* gets rid of default border in Firefox and Opera. */\n",
       "                border: none;\n",
       "                /* Needs to be in here for Safari polyfill so background images work as expected. */\n",
       "                background-size: auto;\n",
       "            }\n",
       "            .progress-bar-interrupted, .progress-bar-interrupted::-webkit-progress-bar {\n",
       "                background: #F44336;\n",
       "            }\n",
       "        </style>\n",
       "      <progress value='0' class='' max='1' style='width:300px; height:20px; vertical-align: middle;'></progress>\n",
       "      \n",
       "    </div>\n",
       "    \n"
      ],
      "text/plain": [
       "<IPython.core.display.HTML object>"
      ]
     },
     "metadata": {},
     "output_type": "display_data"
    },
    {
     "data": {
      "text/html": [],
      "text/plain": [
       "<IPython.core.display.HTML object>"
      ]
     },
     "metadata": {},
     "output_type": "display_data"
    },
    {
     "data": {
      "text/html": [
       "\n",
       "    <div>\n",
       "        <style>\n",
       "            /* Turns off some styling */\n",
       "            progress {\n",
       "                /* gets rid of default border in Firefox and Opera. */\n",
       "                border: none;\n",
       "                /* Needs to be in here for Safari polyfill so background images work as expected. */\n",
       "                background-size: auto;\n",
       "            }\n",
       "            .progress-bar-interrupted, .progress-bar-interrupted::-webkit-progress-bar {\n",
       "                background: #F44336;\n",
       "            }\n",
       "        </style>\n",
       "      <progress value='0' class='' max='1' style='width:300px; height:20px; vertical-align: middle;'></progress>\n",
       "      \n",
       "    </div>\n",
       "    \n"
      ],
      "text/plain": [
       "<IPython.core.display.HTML object>"
      ]
     },
     "metadata": {},
     "output_type": "display_data"
    },
    {
     "data": {
      "text/html": [],
      "text/plain": [
       "<IPython.core.display.HTML object>"
      ]
     },
     "metadata": {},
     "output_type": "display_data"
    },
    {
     "data": {
      "text/html": [
       "\n",
       "    <div>\n",
       "        <style>\n",
       "            /* Turns off some styling */\n",
       "            progress {\n",
       "                /* gets rid of default border in Firefox and Opera. */\n",
       "                border: none;\n",
       "                /* Needs to be in here for Safari polyfill so background images work as expected. */\n",
       "                background-size: auto;\n",
       "            }\n",
       "            .progress-bar-interrupted, .progress-bar-interrupted::-webkit-progress-bar {\n",
       "                background: #F44336;\n",
       "            }\n",
       "        </style>\n",
       "      <progress value='0' class='' max='1' style='width:300px; height:20px; vertical-align: middle;'></progress>\n",
       "      \n",
       "    </div>\n",
       "    \n"
      ],
      "text/plain": [
       "<IPython.core.display.HTML object>"
      ]
     },
     "metadata": {},
     "output_type": "display_data"
    },
    {
     "data": {
      "text/html": [],
      "text/plain": [
       "<IPython.core.display.HTML object>"
      ]
     },
     "metadata": {},
     "output_type": "display_data"
    },
    {
     "name": "stdout",
     "output_type": "stream",
     "text": [
      "Fold10 Swin NN RSME = 16.924377794308 \n",
      "\n",
      "Fold10 Beit RSME = 17.259454272278976 \n",
      "\n",
      "Fold10 Vit RSME = 17.425066182042563 \n",
      "\n",
      "Ensemble RSME = 16.90789071177771 \n",
      "\n"
     ]
    }
   ],
   "source": [
    "import gc\n",
    "import torch\n",
    "from sklearn.model_selection import KFold\n",
    "from  sklearn.decomposition import PCA\n",
    "from sklearn.model_selection import StratifiedKFold\n",
    "from sklearn.svm import SVR\n",
    "\n",
    "def sigmoid(x):\n",
    "    return 1 / (1 + math.exp(-x))\n",
    "\n",
    "df['fold'] = -1\n",
    "\n",
    "super_final_predictions = []\n",
    "super_final_predictions2 = []\n",
    "super_final_predictions3 = []\n",
    "super_final_oof_predictions = []\n",
    "super_final_oof_predictions2 = []\n",
    "super_final_oof_predictions3 = []\n",
    "super_final_oof_true = []\n",
    "\n",
    "\n",
    "N_FOLDS = 10\n",
    "strat_kfold = StratifiedKFold(n_splits=N_FOLDS, random_state=seed, shuffle=True)\n",
    "for fold, (idx, val_idx) in enumerate(strat_kfold.split(df.index, df['bins'])):\n",
    "    name = f\"SVR_fold_{fold}.pkl\"\n",
    "    train_df = df.loc[idx].reset_index(drop=True)\n",
    "    val_df = df.loc[val_idx].reset_index(drop=True)\n",
    "\n",
    "    dls = ImageDataLoaders.from_df(train_df, #pass in train DataFrame\n",
    "                               valid_pct=0.2, #80-20 train-validation random split\n",
    "                               seed=999, #seed\n",
    "                               fn_col='path', #filename/path is in the second column of the DataFrame\n",
    "                               label_col='norm_score', #label is in the first column of the DataFrame\n",
    "                               y_block=RegressionBlock, #The type of target\n",
    "                               bs=BATCH_SIZE, #pass in batch size\n",
    "                               num_workers=8,\n",
    "                               item_tfms=Resize(224), #pass in item_tfms\n",
    "                               batch_tfms=setup_aug_tfms([Brightness(), Contrast(), Hue(), Saturation()])) #pass in batch_tfms\n",
    "\n",
    "    model_swin = PetModel_swin(num_classes=1)\n",
    "    model_beit = PetModel_beit(num_classes=1)\n",
    "    model_vit = PetModel_vit(num_classes=1)\n",
    "    # model_twins = PetModel_twins(num_classes=1)\n",
    "\n",
    "    learn_swin = Learner(\n",
    "        dls, \n",
    "        model_swin, \n",
    "        loss_func=BCEWithLogitsLossFlat(), \n",
    "        metrics=petfinder_rmse,\n",
    "        model_dir = \"swin_large_patch4_window7_224_bs8_10fold_mixup\"\n",
    "    ).to_fp16()\n",
    "    learn_swin.load(f'swin_large_patch4_window7_224_fold{fold}')\n",
    "\n",
    "    learn_beit = Learner(\n",
    "        dls, \n",
    "        model_beit, \n",
    "        loss_func=BCEWithLogitsLossFlat(), \n",
    "        metrics=petfinder_rmse,\n",
    "        model_dir = \"beit_large_patch16_224_bs8_10fold_10epoch\"\n",
    "    ).to_fp16()\n",
    "    learn_beit.load(f'beit_large_patch16_224_fold{fold}')\n",
    "    \n",
    "    learn_vit = Learner(\n",
    "        dls, \n",
    "        model_vit, \n",
    "        loss_func=BCEWithLogitsLossFlat(), \n",
    "        metrics=petfinder_rmse,\n",
    "        model_dir = \"vit_large_patch16_224_bs8_10fold_10epoch\"\n",
    "    ).to_fp16()\n",
    "    learn_vit.load(f'vit_large_patch16_224_fold{fold}')\n",
    "\n",
    "#     learn_twins = Learner(\n",
    "#         dls, \n",
    "#         model_twins, \n",
    "#         loss_func=BCEWithLogitsLossFlat(), \n",
    "#         metrics=petfinder_rmse,\n",
    "#         model_dir = \"twins_svt_large_pure\"\n",
    "#     ).to_fp16()\n",
    "#     learn_twins.load(f'twins_svt_large_fold{fold}')\n",
    "    \n",
    "    val_dl = dls.test_dl(val_df)\n",
    "\n",
    "    swin_val_preds, _ = learn_swin.tta(dl=val_dl, n=5, beta=0)\n",
    "    swin_val_preds = swin_val_preds.cpu().detach().numpy()\n",
    "    \n",
    "    final_test_predictions = []\n",
    "    final_test_predictions.extend(swin_val_preds[:,:].ravel().tolist())\n",
    "    final_test_predictions = [x * 100 for x in final_test_predictions]\n",
    "    super_final_predictions.append(final_test_predictions)\n",
    "    \n",
    "    beit_val_preds, _ = learn_beit.tta(dl=val_dl, n=5, beta=0)\n",
    "    beit_val_preds = beit_val_preds.cpu().detach().numpy()\n",
    "    \n",
    "    final_test_predictions2 = []\n",
    "    final_test_predictions2.extend(beit_val_preds[:,:].ravel().tolist())\n",
    "    final_test_predictions2 = [x * 100 for x in final_test_predictions2]\n",
    "    super_final_predictions2.append(final_test_predictions2)\n",
    "    \n",
    "    vit_val_preds, _ = learn_vit.tta(dl=val_dl, n=5, beta=0)\n",
    "    vit_val_preds = vit_val_preds.cpu().detach().numpy()\n",
    "    \n",
    "    final_test_predictions3 = []\n",
    "    final_test_predictions3.extend(vit_val_preds[:,:].ravel().tolist())\n",
    "    final_test_predictions3 = [x * 100 for x in final_test_predictions3]\n",
    "    super_final_predictions3.append(final_test_predictions3)\n",
    "    \n",
    "#     twins_val_preds, _ = learn_twins.tta(dl=val_dl, n=5, beta=0)\n",
    "#     twins_val_preds = twins_val_preds.cpu().detach().numpy()\n",
    "    \n",
    "#     final_test_predictions3 = []\n",
    "#     final_test_predictions3.extend(twins_val_preds[:,:].ravel().tolist())\n",
    "#     final_test_predictions3 = [x * 100 for x in final_test_predictions3]\n",
    "#     super_final_predictions3.append(final_test_predictions3)\n",
    "  \n",
    "    final_oof_true = val_df['Pawpularity'].values\n",
    "    super_final_oof_true.append(final_oof_true)\n",
    "\n",
    "    ##################\n",
    "    # COMPUTE RSME\n",
    "    rsme = np.sqrt( np.mean( (super_final_oof_true[-1] - np.array(super_final_predictions[-1]))**2.0 ) )\n",
    "    print(f'Fold{fold + 1} Swin NN RSME =', rsme, '\\n')\n",
    "    rsme = np.sqrt( np.mean( (super_final_oof_true[-1] - np.array(super_final_predictions2[-1]))**2.0 ) )\n",
    "    print(f'Fold{fold + 1} Beit RSME =', rsme, '\\n')\n",
    "    rsme = np.sqrt( np.mean( (super_final_oof_true[-1] - np.array(super_final_predictions3[-1]))**2.0 ) )\n",
    "    print(f'Fold{fold + 1} Vit RSME =', rsme, '\\n')\n",
    "    # rsme = np.sqrt( np.mean( (super_final_oof_true[-1] - np.array(super_final_predictions3[-1]))**2.0 ) )\n",
    "    # print(f'Fold{fold + 1} Twins RSME =', rsme, '\\n')\n",
    "\n",
    "    w1, w2, w3 = 0.33, 0.34, 0.33\n",
    "    oof2 = w1*np.array(super_final_predictions[-1]) + w2*np.array(super_final_predictions2[-1]) + w3*np.array(super_final_predictions3[-1])\n",
    "    rsme = np.sqrt( np.mean( (super_final_oof_true[-1] - oof2)**2.0 ) )\n",
    "    print('Ensemble RSME =',rsme,'\\n')\n",
    "\n",
    "    gc.collect()\n",
    "    torch.cuda.empty_cache()\n",
    "    "
   ]
  },
  {
   "cell_type": "code",
   "execution_count": 16,
   "metadata": {},
   "outputs": [
    {
     "name": "stdout",
     "output_type": "stream",
     "text": [
      "Overall CV Swin NN head RSME = 17.466146331286087\n",
      "Overall CV Beit NN head RSME = 17.469720142692935\n",
      "Overall CV Vit NN head RSME = 17.613538773237334\n",
      "Overall CV Ensemble heads RSME with 50% Swin and 40% Beit and 10% Vit = 17.320755211406127\n"
     ]
    }
   ],
   "source": [
    "true = np.hstack(super_final_oof_true)\n",
    "\n",
    "oof = np.hstack(super_final_predictions)\n",
    "oof[oof > 58] = oof[oof > 58] * 0.9 + 38 * 0.1\n",
    "oof[oof < 22] = oof[oof < 22] * 0.9 + 38 * 0.1\n",
    "oof = oof * 1.005\n",
    "rsme = np.sqrt( np.mean( (oof - true)**2.0 ))\n",
    "print('Overall CV Swin NN head RSME =',rsme)\n",
    "\n",
    "oof2 = np.hstack(super_final_predictions2)\n",
    "oof2[oof2 < 22] = oof2[oof2 < 22] * 0.5\n",
    "oof2 = oof * 1.01\n",
    "rsme = np.sqrt( np.mean( (oof2 - true)**2.0 ))\n",
    "print('Overall CV Beit NN head RSME =',rsme)\n",
    "\n",
    "oof3 = np.hstack(super_final_predictions3)\n",
    "oof3[oof3 > 73] = oof3[oof3 > 73] * 0.8 + 38 * 0.2\n",
    "oof3[oof3 < 22] = oof3[oof3 < 22] * 0.8 + 38 * 0.2\n",
    "oof3 = oof3 * 1.03\n",
    "rsme = np.sqrt( np.mean( (oof3 - true)**2.0 ))\n",
    "print('Overall CV Vit NN head RSME =',rsme)\n",
    "\n",
    "oof4 = w1*oof + w2*oof2 + w3*oof3\n",
    "rsme = np.sqrt( np.mean( (oof4 - true)**2.0 ))\n",
    "print('Overall CV Ensemble heads RSME with 50% Swin and 40% Beit and 10% Vit =',rsme)"
   ]
  },
  {
   "cell_type": "code",
   "execution_count": 17,
   "metadata": {},
   "outputs": [
    {
     "name": "stdout",
     "output_type": "stream",
     "text": [
      "0.0 and 0.0 CV Ensemble RSME = 17.466146331286087\n",
      "0.0 and 0.05 CV Ensemble RSME = 17.432037273982647\n",
      "0.0 and 0.1 CV Ensemble RSME = 17.402243873011418\n",
      "0.0 and 0.15 CV Ensemble RSME = 17.376788326633534\n",
      "0.0 and 0.2 CV Ensemble RSME = 17.355689721820692\n",
      "0.0 and 0.25 CV Ensemble RSME = 17.338963963576905\n",
      "0.0 and 0.3 CV Ensemble RSME = 17.32662371551208\n",
      "0.0 and 0.35 CV Ensemble RSME = 17.31867835218074\n",
      "0.0 and 0.4 CV Ensemble RSME = 17.31513392360172\n",
      "0.0 and 0.45 CV Ensemble RSME = 17.31599313227091\n",
      "0.0 and 0.5 CV Ensemble RSME = 17.321255322870357\n",
      "0.0 and 0.55 CV Ensemble RSME = 17.330916484764934\n",
      "0.0 and 0.6 CV Ensemble RSME = 17.34496926726451\n",
      "0.0 and 0.65 CV Ensemble RSME = 17.36340300751626\n",
      "0.0 and 0.7 CV Ensemble RSME = 17.386203770781023\n",
      "0.0 and 0.75 CV Ensemble RSME = 17.413354402740353\n",
      "0.0 and 0.8 CV Ensemble RSME = 17.44483459337962\n",
      "0.0 and 0.85 CV Ensemble RSME = 17.48062095189793\n",
      "0.0 and 0.9 CV Ensemble RSME = 17.52068709200962\n",
      "0.0 and 0.95 CV Ensemble RSME = 17.565003726925685\n",
      "0.0 and 1.0 CV Ensemble RSME = 17.613538773237334\n",
      "0.05 and 0.0 CV Ensemble RSME = 17.46611254182827\n",
      "0.05 and 0.05 CV Ensemble RSME = 17.431986004512293\n",
      "0.05 and 0.1 CV Ensemble RSME = 17.402175072037263\n",
      "0.05 and 0.15 CV Ensemble RSME = 17.376701955571974\n",
      "0.05 and 0.2 CV Ensemble RSME = 17.355585755206988\n",
      "0.05 and 0.25 CV Ensemble RSME = 17.338842389229146\n",
      "0.05 and 0.3 CV Ensemble RSME = 17.326484534646273\n",
      "0.05 and 0.35 CV Ensemble RSME = 17.318521579475664\n",
      "0.05 and 0.4 CV Ensemble RSME = 17.314959587212822\n",
      "0.05 and 0.45 CV Ensemble RSME = 17.315801273792772\n",
      "0.05 and 0.5 CV Ensemble RSME = 17.321045997247808\n",
      "0.05 and 0.55 CV Ensemble RSME = 17.330689760153412\n",
      "0.05 and 0.6 CV Ensemble RSME = 17.344725224840534\n",
      "0.05 and 0.65 CV Ensemble RSME = 17.363141741239506\n",
      "0.05 and 0.7 CV Ensemble RSME = 17.385925387109793\n",
      "0.05 and 0.75 CV Ensemble RSME = 17.413059020302693\n",
      "0.05 and 0.8 CV Ensemble RSME = 17.44452234260263\n",
      "0.05 and 0.85 CV Ensemble RSME = 17.480291974598156\n",
      "0.05 and 0.9 CV Ensemble RSME = 17.52034154094777\n",
      "0.05 and 0.95 CV Ensemble RSME = 17.564641765329018\n",
      "0.1 and 0.0 CV Ensemble RSME = 17.466101120616962\n",
      "0.1 and 0.05 CV Ensemble RSME = 17.431957147015893\n",
      "0.1 and 0.1 CV Ensemble RSME = 17.402128721331795\n",
      "0.1 and 0.15 CV Ensemble RSME = 17.376638067555657\n",
      "0.1 and 0.2 CV Ensemble RSME = 17.355504298823156\n",
      "0.1 and 0.25 CV Ensemble RSME = 17.338743346642353\n",
      "0.1 and 0.3 CV Ensemble RSME = 17.3263679013699\n",
      "0.1 and 0.35 CV Ensemble RSME = 17.318387364449634\n",
      "0.1 and 0.4 CV Ensemble RSME = 17.314807812830537\n",
      "0.1 and 0.45 CV Ensemble RSME = 17.3156319758768\n",
      "0.1 and 0.5 CV Ensemble RSME = 17.320859224974317\n",
      "0.1 and 0.55 CV Ensemble RSME = 17.330485575925728\n",
      "0.1 and 0.6 CV Ensemble RSME = 17.3445037041128\n",
      "0.1 and 0.65 CV Ensemble RSME = 17.362902972291714\n",
      "0.1 and 0.7 CV Ensemble RSME = 17.385669470775966\n",
      "0.1 and 0.75 CV Ensemble RSME = 17.412786069654313\n",
      "0.1 and 0.8 CV Ensemble RSME = 17.444232482589893\n",
      "0.1 and 0.85 CV Ensemble RSME = 17.47998534165182\n",
      "0.1 and 0.9 CV Ensemble RSME = 17.52001828254473\n",
      "0.15 and 0.0 CV Ensemble RSME = 17.46611206769605\n",
      "0.15 and 0.05 CV Ensemble RSME = 17.43195070160476\n",
      "0.15 and 0.1 CV Ensemble RSME = 17.4021048210744\n",
      "0.15 and 0.15 CV Ensemble RSME = 17.376596662832572\n",
      "0.15 and 0.2 CV Ensemble RSME = 17.35544535298614\n",
      "0.15 and 0.25 CV Ensemble RSME = 17.33866683620265\n",
      "0.15 and 0.3 CV Ensemble RSME = 17.326273816138308\n",
      "0.15 and 0.35 CV Ensemble RSME = 17.31827570762711\n",
      "0.15 and 0.4 CV Ensemble RSME = 17.31467860104818\n",
      "0.15 and 0.45 CV Ensemble RSME = 17.315485239184756\n",
      "0.15 and 0.5 CV Ensemble RSME = 17.32069500677948\n",
      "0.15 and 0.55 CV Ensemble RSME = 17.330303932878593\n",
      "0.15 and 0.6 CV Ensemble RSME = 17.344304705944246\n",
      "0.15 and 0.65 CV Ensemble RSME = 17.36268670160103\n",
      "0.15 and 0.7 CV Ensemble RSME = 17.385436022771703\n",
      "0.15 and 0.75 CV Ensemble RSME = 17.4125355518501\n",
      "0.15 and 0.8 CV Ensemble RSME = 17.443965014457593\n",
      "0.15 and 0.85 CV Ensemble RSME = 17.47970105423483\n",
      "0.2 and 0.0 CV Ensemble RSME = 17.466145383023466\n",
      "0.2 and 0.05 CV Ensemble RSME = 17.431966668303744\n",
      "0.2 and 0.1 CV Ensemble RSME = 17.402103371357576\n",
      "0.2 and 0.15 CV Ensemble RSME = 17.376577741563434\n",
      "0.2 and 0.2 CV Ensemble RSME = 17.355408917925317\n",
      "0.2 and 0.25 CV Ensemble RSME = 17.338612858208315\n",
      "0.2 and 0.3 CV Ensemble RSME = 17.32620227931882\n",
      "0.2 and 0.35 CV Ensemble RSME = 17.318186609444414\n",
      "0.2 and 0.4 CV Ensemble RSME = 17.31457195237087\n",
      "0.2 and 0.45 CV Ensemble RSME = 17.3153610642902\n",
      "0.2 and 0.5 CV Ensemble RSME = 17.32055334330481\n",
      "0.2 and 0.55 CV Ensemble RSME = 17.330144831720784\n",
      "0.2 and 0.6 CV Ensemble RSME = 17.34412823111012\n",
      "0.2 and 0.65 CV Ensemble RSME = 17.362492930008187\n",
      "0.2 and 0.7 CV Ensemble RSME = 17.385225044002123\n",
      "0.2 and 0.75 CV Ensemble RSME = 17.412307467858305\n",
      "0.2 and 0.8 CV Ensemble RSME = 17.44371993923574\n",
      "0.25 and 0.0 CV Ensemble RSME = 17.46620106647122\n",
      "0.25 and 0.05 CV Ensemble RSME = 17.432005047051273\n",
      "0.25 and 0.1 CV Ensemble RSME = 17.402124372186936\n",
      "0.25 and 0.15 CV Ensemble RSME = 17.376581303821684\n",
      "0.25 and 0.2 CV Ensemble RSME = 17.35539499378245\n",
      "0.25 and 0.25 CV Ensemble RSME = 17.33858141286979\n",
      "0.25 and 0.3 CV Ensemble RSME = 17.326153291190735\n",
      "0.25 and 0.35 CV Ensemble RSME = 17.318120070249726\n",
      "0.25 and 0.4 CV Ensemble RSME = 17.314487867215544\n",
      "0.25 and 0.45 CV Ensemble RSME = 17.315259451678543\n",
      "0.25 and 0.5 CV Ensemble RSME = 17.320434235103725\n",
      "0.25 and 0.55 CV Ensemble RSME = 17.330008273073158\n",
      "0.25 and 0.6 CV Ensemble RSME = 17.34397428029793\n",
      "0.25 and 0.65 CV Ensemble RSME = 17.36232165826648\n",
      "0.25 and 0.7 CV Ensemble RSME = 17.38503653528526\n",
      "0.25 and 0.75 CV Ensemble RSME = 17.41210181856052\n",
      "0.3 and 0.0 CV Ensemble RSME = 17.46627911782538\n",
      "0.3 and 0.05 CV Ensemble RSME = 17.432065837699305\n",
      "0.3 and 0.1 CV Ensemble RSME = 17.402167823481204\n",
      "0.3 and 0.15 CV Ensemble RSME = 17.376607349593503\n",
      "0.3 and 0.2 CV Ensemble RSME = 17.35540358061173\n",
      "0.3 and 0.25 CV Ensemble RSME = 17.338572500309677\n",
      "0.3 and 0.3 CV Ensemble RSME = 17.326126851945315\n",
      "0.3 and 0.35 CV Ensemble RSME = 17.318076090303073\n",
      "0.3 and 0.4 CV Ensemble RSME = 17.314426345910935\n",
      "0.3 and 0.45 CV Ensemble RSME = 17.315180401746993\n",
      "0.3 and 0.5 CV Ensemble RSME = 17.320337682641554\n",
      "0.3 and 0.55 CV Ensemble RSME = 17.329894257468613\n",
      "0.3 and 0.6 CV Ensemble RSME = 17.34384285410749\n",
      "0.3 and 0.65 CV Ensemble RSME = 17.362172887041766\n",
      "0.3 and 0.7 CV Ensemble RSME = 17.38487049735206\n",
      "0.35 and 0.0 CV Ensemble RSME = 17.466379536786075\n",
      "0.35 and 0.05 CV Ensemble RSME = 17.432149040013382\n",
      "0.35 and 0.1 CV Ensemble RSME = 17.40223372507221\n",
      "0.35 and 0.15 CV Ensemble RSME = 17.37665587877779\n",
      "0.35 and 0.2 CV Ensemble RSME = 17.355434678379734\n",
      "0.35 and 0.25 CV Ensemble RSME = 17.338586120562717\n",
      "0.35 and 0.3 CV Ensemble RSME = 17.326122961685783\n",
      "0.35 and 0.35 CV Ensemble RSME = 17.318054669776327\n",
      "0.35 and 0.4 CV Ensemble RSME = 17.314387388697554\n",
      "0.35 and 0.45 CV Ensemble RSME = 17.315123914804577\n",
      "0.35 and 0.5 CV Ensemble RSME = 17.320263686295505\n",
      "0.35 and 0.55 CV Ensemble RSME = 17.329802785352094\n",
      "0.35 and 0.6 CV Ensemble RSME = 17.343733953050844\n",
      "0.35 and 0.65 CV Ensemble RSME = 17.362046616912455\n",
      "0.4 and 0.0 CV Ensemble RSME = 17.466502322967525\n",
      "0.4 and 0.05 CV Ensemble RSME = 17.432254653672594\n",
      "0.4 and 0.1 CV Ensemble RSME = 17.402322076704895\n",
      "0.4 and 0.15 CV Ensemble RSME = 17.376726891186166\n",
      "0.4 and 0.2 CV Ensemble RSME = 17.35548828696546\n",
      "0.4 and 0.25 CV Ensemble RSME = 17.33862227357581\n",
      "0.4 and 0.3 CV Ensemble RSME = 17.326141620427332\n",
      "0.4 and 0.35 CV Ensemble RSME = 17.318055808753197\n",
      "0.4 and 0.4 CV Ensemble RSME = 17.31437099572772\n",
      "0.4 and 0.45 CV Ensemble RSME = 17.315089991072107\n",
      "0.4 and 0.5 CV Ensemble RSME = 17.32021224635468\n",
      "0.4 and 0.55 CV Ensemble RSME = 17.329733857080576\n",
      "0.4 and 0.6 CV Ensemble RSME = 17.343647577552307\n",
      "0.45 and 0.0 CV Ensemble RSME = 17.466647475898014\n",
      "0.45 and 0.05 CV Ensemble RSME = 17.4323826782696\n",
      "0.45 and 0.1 CV Ensemble RSME = 17.40243287803733\n",
      "0.45 and 0.15 CV Ensemble RSME = 17.376820386542995\n",
      "0.45 and 0.2 CV Ensemble RSME = 17.355564406160315\n",
      "0.45 and 0.25 CV Ensemble RSME = 17.338680959208013\n",
      "0.45 and 0.3 CV Ensemble RSME = 17.326182828097114\n",
      "0.45 and 0.35 CV Ensemble RSME = 17.31807950722923\n",
      "0.45 and 0.4 CV Ensemble RSME = 17.31437716706552\n",
      "0.45 and 0.45 CV Ensemble RSME = 17.31507863068221\n",
      "0.45 and 0.5 CV Ensemble RSME = 17.32018336302005\n",
      "0.45 and 0.55 CV Ensemble RSME = 17.329687472923055\n",
      "0.45 and 0.6 CV Ensemble RSME = 17.343583727948424\n",
      "0.5 and 0.0 CV Ensemble RSME = 17.466814995019934\n",
      "0.5 and 0.05 CV Ensemble RSME = 17.432533113310654\n",
      "0.5 and 0.1 CV Ensemble RSME = 17.402566128640707\n",
      "0.5 and 0.15 CV Ensemble RSME = 17.37693636448537\n",
      "0.5 and 0.2 CV Ensemble RSME = 17.35566303566811\n",
      "0.5 and 0.25 CV Ensemble RSME = 17.338762177230524\n",
      "0.5 and 0.3 CV Ensemble RSME = 17.326246584534235\n",
      "0.5 and 0.35 CV Ensemble RSME = 17.318125765111816\n",
      "0.5 and 0.4 CV Ensemble RSME = 17.314405902686822\n",
      "0.5 and 0.45 CV Ensemble RSME = 17.315089833679288\n",
      "0.5 and 0.5 CV Ensemble RSME = 17.32017703640446\n",
      "0.55 and 0.0 CV Ensemble RSME = 17.46700487968976\n",
      "0.55 and 0.05 CV Ensemble RSME = 17.432705958215575\n",
      "0.55 and 0.1 CV Ensemble RSME = 17.402721827999343\n",
      "0.55 and 0.15 CV Ensemble RSME = 17.377074824563135\n",
      "0.55 and 0.2 CV Ensemble RSME = 17.355784175105082\n",
      "0.55 and 0.25 CV Ensemble RSME = 17.338865927326708\n",
      "0.55 and 0.3 CV Ensemble RSME = 17.32633288948978\n",
      "0.55 and 0.35 CV Ensemble RSME = 17.318194582220183\n",
      "0.55 and 0.4 CV Ensemble RSME = 17.314457202479286\n",
      "0.55 and 0.45 CV Ensemble RSME = 17.31512360001955\n",
      "0.6 and 0.0 CV Ensemble RSME = 17.467217129178092\n",
      "0.6 and 0.05 CV Ensemble RSME = 17.432901212317795\n",
      "0.6 and 0.1 CV Ensemble RSME = 17.40289997551072\n",
      "0.6 and 0.15 CV Ensemble RSME = 17.377235766238883\n",
      "0.6 and 0.2 CV Ensemble RSME = 17.35592782399989\n",
      "0.6 and 0.25 CV Ensemble RSME = 17.338992209092098\n",
      "0.6 and 0.3 CV Ensemble RSME = 17.3264417426268\n",
      "0.6 and 0.35 CV Ensemble RSME = 17.3182859582854\n",
      "0.6 and 0.4 CV Ensemble RSME = 17.314531066242342\n",
      "0.65 and 0.0 CV Ensemble RSME = 17.46745174266966\n",
      "0.65 and 0.05 CV Ensemble RSME = 17.433118874864352\n",
      "0.65 and 0.1 CV Ensemble RSME = 17.403100570485456\n",
      "0.65 and 0.15 CV Ensemble RSME = 17.377419188887966\n",
      "0.65 and 0.2 CV Ensemble RSME = 17.356093981793638\n",
      "0.65 and 0.25 CV Ensemble RSME = 17.33914102203439\n",
      "0.65 and 0.3 CV Ensemble RSME = 17.326573143520317\n",
      "0.65 and 0.35 CV Ensemble RSME = 17.318399892950392\n",
      "0.7 and 0.0 CV Ensemble RSME = 17.467708719263324\n",
      "0.7 and 0.05 CV Ensemble RSME = 17.43335894501591\n",
      "0.7 and 0.1 CV Ensemble RSME = 17.403323612147346\n",
      "0.7 and 0.15 CV Ensemble RSME = 17.377625091798524\n",
      "0.7 and 0.2 CV Ensemble RSME = 17.356282647839855\n",
      "0.7 and 0.25 CV Ensemble RSME = 17.339312365573477\n",
      "0.7 and 0.3 CV Ensemble RSME = 17.326727091657343\n",
      "0.75 and 0.0 CV Ensemble RSME = 17.467988057972125\n",
      "0.75 and 0.05 CV Ensemble RSME = 17.433621421846773\n",
      "0.75 and 0.1 CV Ensemble RSME = 17.403569099633376\n",
      "0.75 and 0.15 CV Ensemble RSME = 17.377853474171474\n",
      "0.75 and 0.2 CV Ensemble RSME = 17.35649382140456\n",
      "0.75 and 0.25 CV Ensemble RSME = 17.33950623904143\n",
      "0.75 and 0.3 CV Ensemble RSME = 17.326903586436895\n",
      "0.8 and 0.0 CV Ensemble RSME = 17.468289757723266\n",
      "0.8 and 0.05 CV Ensemble RSME = 17.433906304344912\n",
      "0.8 and 0.1 CV Ensemble RSME = 17.403837031993717\n",
      "0.8 and 0.15 CV Ensemble RSME = 17.378104335120547\n",
      "0.8 and 0.2 CV Ensemble RSME = 17.356727501666214\n",
      "0.85 and 0.0 CV Ensemble RSME = 17.46861381735816\n",
      "0.85 and 0.05 CV Ensemble RSME = 17.43421359141197\n",
      "0.85 and 0.1 CV Ensemble RSME = 17.404127408191776\n",
      "0.85 and 0.15 CV Ensemble RSME = 17.378377673672293\n",
      "0.9 and 0.0 CV Ensemble RSME = 17.46896023563244\n",
      "0.9 and 0.05 CV Ensemble RSME = 17.43454328186329\n",
      "0.9 and 0.1 CV Ensemble RSME = 17.404440227104192\n",
      "0.9 and 0.15 CV Ensemble RSME = 17.3786734887661\n",
      "0.95 and 0.0 CV Ensemble RSME = 17.469329011215983\n",
      "0.95 and 0.05 CV Ensemble RSME = 17.43489537442795\n",
      "1.0 and 0.0 CV Ensemble RSME = 17.469720142692935\n",
      "1.0 and 0.05 CV Ensemble RSME = 17.435269867748758\n"
     ]
    }
   ],
   "source": [
    "import matplotlib.pyplot as plt\n",
    "\n",
    "score = []\n",
    "for ww1 in np.arange(0,1.05,0.05):\n",
    "    for ww2 in np.arange(0, 1.05-ww1, 0.05):\n",
    "        oof4 = (1-ww1-ww2)*oof + ww1*oof2 + ww2*oof3\n",
    "        rsme = np.sqrt( np.mean( (oof4 - true)**2.0 ))\n",
    "        print(f'{ww1:0.2} and {ww2:0.2} CV Ensemble RSME =',rsme)\n",
    "        # score.append(rsme)\n",
    "# best_w = np.argmin(score)*0.05\n",
    "\n",
    "# plt.figure(figsize=(20,5))\n",
    "# plt.plot(np.arange(21)/20.0,score,'-o')\n",
    "# plt.plot([best_w],np.min(score),'o',color='black',markersize=15)\n",
    "# plt.title(f'Best Overall CV RSME={np.min(score):.4} with SVR Ensemble Weight={best_w:.2}',size=16)\n",
    "# plt.ylabel('Overall Ensemble RSME',size=14)\n",
    "# plt.xlabel('SVR Weight',size=14)\n",
    "# plt.show()\n"
   ]
  },
  {
   "cell_type": "markdown",
   "metadata": {},
   "source": [
    "# Ensemble\n",
    "\n",
    "Overall CV Swin NN head RSME = 17.502606275790534\n",
    "\n",
    "Overall CV Beit NN head RSME = 17.49958706740525\n",
    "\n",
    "Overall CV Twins NN head RSME = 17.618109930487275\n",
    "\n",
    "0.4 and 0.25 CV Ensemble RSME = 17.23118435659117\n",
    "\n",
    "\n",
    "# Ensemble\n",
    "\n",
    "Overall CV Swin NN head RSME = 17.466146331286087\n",
    "\n",
    "Overall CV Beit NN head RSME = 17.469720142692935\n",
    "\n",
    "Overall CV Vit NN head RSME = 17.613538773237334\n",
    "\n",
    "0.4 and 0.4 CV Ensemble RSME = 17.31437099572772\n"
   ]
  },
  {
   "cell_type": "code",
   "execution_count": null,
   "metadata": {},
   "outputs": [],
   "source": []
  }
 ],
 "metadata": {
  "interpreter": {
   "hash": "5e12d91e1da5d66fb580e96699ee198fd9d2759057be15109a9caf046b9070c6"
  },
  "kernelspec": {
   "display_name": "Python 3",
   "language": "python",
   "name": "python3"
  },
  "language_info": {
   "codemirror_mode": {
    "name": "ipython",
    "version": 3
   },
   "file_extension": ".py",
   "mimetype": "text/x-python",
   "name": "python",
   "nbconvert_exporter": "python",
   "pygments_lexer": "ipython3",
   "version": "3.7.10"
  }
 },
 "nbformat": 4,
 "nbformat_minor": 4
}
