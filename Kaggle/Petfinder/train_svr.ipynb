{
 "cells": [
  {
   "cell_type": "code",
   "execution_count": 1,
   "metadata": {},
   "outputs": [],
   "source": [
    "from timm import create_model"
   ]
  },
  {
   "cell_type": "code",
   "execution_count": 2,
   "metadata": {},
   "outputs": [],
   "source": [
    "from fastai.vision.all import *"
   ]
  },
  {
   "cell_type": "code",
   "execution_count": 3,
   "metadata": {},
   "outputs": [],
   "source": [
    "set_seed(999, reproducible=True)\n",
    "BATCH_SIZE = 8"
   ]
  },
  {
   "cell_type": "code",
   "execution_count": 4,
   "metadata": {},
   "outputs": [
    {
     "data": {
      "text/plain": [
       "(#10) [Path('../datasets/kaggle/petfinder/train_5folds.csv'),Path('../datasets/kaggle/petfinder/train_10folds.csv'),Path('../datasets/kaggle/petfinder/test.csv'),Path('../datasets/kaggle/petfinder/train.csv'),Path('../datasets/kaggle/petfinder/test'),Path('../datasets/kaggle/petfinder/sample_submission.csv'),Path('../datasets/kaggle/petfinder/archive.zip'),Path('../datasets/kaggle/petfinder/train'),Path('../datasets/kaggle/petfinder/crop'),Path('../datasets/kaggle/petfinder/petfinder-pawpularity-score.zip')]"
      ]
     },
     "execution_count": 4,
     "metadata": {},
     "output_type": "execute_result"
    }
   ],
   "source": [
    "dataset_path = Path('../datasets/kaggle/petfinder/')\n",
    "dataset_path.ls()"
   ]
  },
  {
   "cell_type": "code",
   "execution_count": 5,
   "metadata": {},
   "outputs": [
    {
     "data": {
      "text/html": [
       "<div>\n",
       "<style scoped>\n",
       "    .dataframe tbody tr th:only-of-type {\n",
       "        vertical-align: middle;\n",
       "    }\n",
       "\n",
       "    .dataframe tbody tr th {\n",
       "        vertical-align: top;\n",
       "    }\n",
       "\n",
       "    .dataframe thead th {\n",
       "        text-align: right;\n",
       "    }\n",
       "</style>\n",
       "<table border=\"1\" class=\"dataframe\">\n",
       "  <thead>\n",
       "    <tr style=\"text-align: right;\">\n",
       "      <th></th>\n",
       "      <th>Id</th>\n",
       "      <th>Subject Focus</th>\n",
       "      <th>Eyes</th>\n",
       "      <th>Face</th>\n",
       "      <th>Near</th>\n",
       "      <th>Action</th>\n",
       "      <th>Accessory</th>\n",
       "      <th>Group</th>\n",
       "      <th>Collage</th>\n",
       "      <th>Human</th>\n",
       "      <th>Occlusion</th>\n",
       "      <th>Info</th>\n",
       "      <th>Blur</th>\n",
       "      <th>Pawpularity</th>\n",
       "    </tr>\n",
       "  </thead>\n",
       "  <tbody>\n",
       "    <tr>\n",
       "      <th>0</th>\n",
       "      <td>0007de18844b0dbbb5e1f607da0606e0</td>\n",
       "      <td>0</td>\n",
       "      <td>1</td>\n",
       "      <td>1</td>\n",
       "      <td>1</td>\n",
       "      <td>0</td>\n",
       "      <td>0</td>\n",
       "      <td>1</td>\n",
       "      <td>0</td>\n",
       "      <td>0</td>\n",
       "      <td>0</td>\n",
       "      <td>0</td>\n",
       "      <td>0</td>\n",
       "      <td>63</td>\n",
       "    </tr>\n",
       "    <tr>\n",
       "      <th>1</th>\n",
       "      <td>0009c66b9439883ba2750fb825e1d7db</td>\n",
       "      <td>0</td>\n",
       "      <td>1</td>\n",
       "      <td>1</td>\n",
       "      <td>0</td>\n",
       "      <td>0</td>\n",
       "      <td>0</td>\n",
       "      <td>0</td>\n",
       "      <td>0</td>\n",
       "      <td>0</td>\n",
       "      <td>0</td>\n",
       "      <td>0</td>\n",
       "      <td>0</td>\n",
       "      <td>42</td>\n",
       "    </tr>\n",
       "    <tr>\n",
       "      <th>2</th>\n",
       "      <td>0013fd999caf9a3efe1352ca1b0d937e</td>\n",
       "      <td>0</td>\n",
       "      <td>1</td>\n",
       "      <td>1</td>\n",
       "      <td>1</td>\n",
       "      <td>0</td>\n",
       "      <td>0</td>\n",
       "      <td>0</td>\n",
       "      <td>0</td>\n",
       "      <td>1</td>\n",
       "      <td>1</td>\n",
       "      <td>0</td>\n",
       "      <td>0</td>\n",
       "      <td>28</td>\n",
       "    </tr>\n",
       "    <tr>\n",
       "      <th>3</th>\n",
       "      <td>0018df346ac9c1d8413cfcc888ca8246</td>\n",
       "      <td>0</td>\n",
       "      <td>1</td>\n",
       "      <td>1</td>\n",
       "      <td>1</td>\n",
       "      <td>0</td>\n",
       "      <td>0</td>\n",
       "      <td>0</td>\n",
       "      <td>0</td>\n",
       "      <td>0</td>\n",
       "      <td>0</td>\n",
       "      <td>0</td>\n",
       "      <td>0</td>\n",
       "      <td>15</td>\n",
       "    </tr>\n",
       "    <tr>\n",
       "      <th>4</th>\n",
       "      <td>001dc955e10590d3ca4673f034feeef2</td>\n",
       "      <td>0</td>\n",
       "      <td>0</td>\n",
       "      <td>0</td>\n",
       "      <td>1</td>\n",
       "      <td>0</td>\n",
       "      <td>0</td>\n",
       "      <td>1</td>\n",
       "      <td>0</td>\n",
       "      <td>0</td>\n",
       "      <td>0</td>\n",
       "      <td>0</td>\n",
       "      <td>0</td>\n",
       "      <td>72</td>\n",
       "    </tr>\n",
       "  </tbody>\n",
       "</table>\n",
       "</div>"
      ],
      "text/plain": [
       "                                 Id  Subject Focus  Eyes  Face  Near  Action  \\\n",
       "0  0007de18844b0dbbb5e1f607da0606e0              0     1     1     1       0   \n",
       "1  0009c66b9439883ba2750fb825e1d7db              0     1     1     0       0   \n",
       "2  0013fd999caf9a3efe1352ca1b0d937e              0     1     1     1       0   \n",
       "3  0018df346ac9c1d8413cfcc888ca8246              0     1     1     1       0   \n",
       "4  001dc955e10590d3ca4673f034feeef2              0     0     0     1       0   \n",
       "\n",
       "   Accessory  Group  Collage  Human  Occlusion  Info  Blur  Pawpularity  \n",
       "0          0      1        0      0          0     0     0           63  \n",
       "1          0      0        0      0          0     0     0           42  \n",
       "2          0      0        0      1          1     0     0           28  \n",
       "3          0      0        0      0          0     0     0           15  \n",
       "4          0      1        0      0          0     0     0           72  "
      ]
     },
     "execution_count": 5,
     "metadata": {},
     "output_type": "execute_result"
    }
   ],
   "source": [
    "df = pd.read_csv(dataset_path/'train.csv')\n",
    "df.head()"
   ]
  },
  {
   "cell_type": "code",
   "execution_count": 6,
   "metadata": {},
   "outputs": [
    {
     "data": {
      "text/html": [
       "<div>\n",
       "<style scoped>\n",
       "    .dataframe tbody tr th:only-of-type {\n",
       "        vertical-align: middle;\n",
       "    }\n",
       "\n",
       "    .dataframe tbody tr th {\n",
       "        vertical-align: top;\n",
       "    }\n",
       "\n",
       "    .dataframe thead th {\n",
       "        text-align: right;\n",
       "    }\n",
       "</style>\n",
       "<table border=\"1\" class=\"dataframe\">\n",
       "  <thead>\n",
       "    <tr style=\"text-align: right;\">\n",
       "      <th></th>\n",
       "      <th>Subject Focus</th>\n",
       "      <th>Eyes</th>\n",
       "      <th>Face</th>\n",
       "      <th>Near</th>\n",
       "      <th>Action</th>\n",
       "      <th>Accessory</th>\n",
       "      <th>Group</th>\n",
       "      <th>Collage</th>\n",
       "      <th>Human</th>\n",
       "      <th>Occlusion</th>\n",
       "      <th>Info</th>\n",
       "      <th>Blur</th>\n",
       "      <th>Pawpularity</th>\n",
       "      <th>path</th>\n",
       "    </tr>\n",
       "  </thead>\n",
       "  <tbody>\n",
       "    <tr>\n",
       "      <th>0</th>\n",
       "      <td>0</td>\n",
       "      <td>0</td>\n",
       "      <td>1</td>\n",
       "      <td>1</td>\n",
       "      <td>0</td>\n",
       "      <td>0</td>\n",
       "      <td>0</td>\n",
       "      <td>0</td>\n",
       "      <td>0</td>\n",
       "      <td>0</td>\n",
       "      <td>0</td>\n",
       "      <td>1</td>\n",
       "      <td>50</td>\n",
       "      <td>../datasets/kaggle/petfinder/train/ebaaa8e384b3d2f0a56c7ff7675c154c.jpg</td>\n",
       "    </tr>\n",
       "    <tr>\n",
       "      <th>1</th>\n",
       "      <td>0</td>\n",
       "      <td>1</td>\n",
       "      <td>1</td>\n",
       "      <td>1</td>\n",
       "      <td>0</td>\n",
       "      <td>1</td>\n",
       "      <td>0</td>\n",
       "      <td>1</td>\n",
       "      <td>0</td>\n",
       "      <td>0</td>\n",
       "      <td>1</td>\n",
       "      <td>0</td>\n",
       "      <td>25</td>\n",
       "      <td>../datasets/kaggle/petfinder/train/25e3bf4267c2dc3f579b779418221bb7.jpg</td>\n",
       "    </tr>\n",
       "    <tr>\n",
       "      <th>2</th>\n",
       "      <td>0</td>\n",
       "      <td>0</td>\n",
       "      <td>1</td>\n",
       "      <td>1</td>\n",
       "      <td>0</td>\n",
       "      <td>1</td>\n",
       "      <td>0</td>\n",
       "      <td>0</td>\n",
       "      <td>0</td>\n",
       "      <td>0</td>\n",
       "      <td>0</td>\n",
       "      <td>0</td>\n",
       "      <td>27</td>\n",
       "      <td>../datasets/kaggle/petfinder/train/6548166fb3fda22b67881176397f0223.jpg</td>\n",
       "    </tr>\n",
       "    <tr>\n",
       "      <th>3</th>\n",
       "      <td>0</td>\n",
       "      <td>1</td>\n",
       "      <td>1</td>\n",
       "      <td>1</td>\n",
       "      <td>0</td>\n",
       "      <td>0</td>\n",
       "      <td>0</td>\n",
       "      <td>0</td>\n",
       "      <td>1</td>\n",
       "      <td>1</td>\n",
       "      <td>0</td>\n",
       "      <td>0</td>\n",
       "      <td>19</td>\n",
       "      <td>../datasets/kaggle/petfinder/train/472c40116e1833555715e4774445ae5b.jpg</td>\n",
       "    </tr>\n",
       "    <tr>\n",
       "      <th>4</th>\n",
       "      <td>0</td>\n",
       "      <td>1</td>\n",
       "      <td>1</td>\n",
       "      <td>1</td>\n",
       "      <td>0</td>\n",
       "      <td>0</td>\n",
       "      <td>0</td>\n",
       "      <td>1</td>\n",
       "      <td>0</td>\n",
       "      <td>0</td>\n",
       "      <td>0</td>\n",
       "      <td>0</td>\n",
       "      <td>27</td>\n",
       "      <td>../datasets/kaggle/petfinder/train/7b77e1a6d93667b575d57db83facd860.jpg</td>\n",
       "    </tr>\n",
       "  </tbody>\n",
       "</table>\n",
       "</div>"
      ],
      "text/plain": [
       "   Subject Focus  Eyes  Face  Near  Action  Accessory  Group  Collage  Human  \\\n",
       "0              0     0     1     1       0          0      0        0      0   \n",
       "1              0     1     1     1       0          1      0        1      0   \n",
       "2              0     0     1     1       0          1      0        0      0   \n",
       "3              0     1     1     1       0          0      0        0      1   \n",
       "4              0     1     1     1       0          0      0        1      0   \n",
       "\n",
       "   Occlusion  Info  Blur  Pawpularity  \\\n",
       "0          0     0     1           50   \n",
       "1          0     1     0           25   \n",
       "2          0     0     0           27   \n",
       "3          1     0     0           19   \n",
       "4          0     0     0           27   \n",
       "\n",
       "                                                                      path  \n",
       "0  ../datasets/kaggle/petfinder/train/ebaaa8e384b3d2f0a56c7ff7675c154c.jpg  \n",
       "1  ../datasets/kaggle/petfinder/train/25e3bf4267c2dc3f579b779418221bb7.jpg  \n",
       "2  ../datasets/kaggle/petfinder/train/6548166fb3fda22b67881176397f0223.jpg  \n",
       "3  ../datasets/kaggle/petfinder/train/472c40116e1833555715e4774445ae5b.jpg  \n",
       "4  ../datasets/kaggle/petfinder/train/7b77e1a6d93667b575d57db83facd860.jpg  "
      ]
     },
     "execution_count": 6,
     "metadata": {},
     "output_type": "execute_result"
    }
   ],
   "source": [
    "df['path'] = df['Id'].map(lambda x:str(dataset_path/'train'/x)+'.jpg')\n",
    "df = df.drop(columns=['Id'])\n",
    "df = df.sample(frac=1).reset_index(drop=True) #shuffle dataframe\n",
    "df.head()"
   ]
  },
  {
   "cell_type": "code",
   "execution_count": 7,
   "metadata": {},
   "outputs": [
    {
     "name": "stdout",
     "output_type": "stream",
     "text": [
      "There are 9912 images\n"
     ]
    }
   ],
   "source": [
    "len_df = len(df)\n",
    "print(f\"There are {len_df} images\")"
   ]
  },
  {
   "cell_type": "code",
   "execution_count": 8,
   "metadata": {},
   "outputs": [
    {
     "name": "stdout",
     "output_type": "stream",
     "text": [
      "The mean Pawpularity score is 38.03904358353511\n",
      "The median Pawpularity score is 33.0\n",
      "The standard deviation of the Pawpularity score is 20.59199010577444\n"
     ]
    },
    {
     "data": {
      "image/png": "[encoded data removed]",
      "text/plain": [
       "<Figure size 720x360 with 1 Axes>"
      ]
     },
     "metadata": {
      "needs_background": "light"
     },
     "output_type": "display_data"
    }
   ],
   "source": [
    "df['Pawpularity'].hist(figsize = (10, 5))\n",
    "print(f\"The mean Pawpularity score is {df['Pawpularity'].mean()}\")\n",
    "print(f\"The median Pawpularity score is {df['Pawpularity'].median()}\")\n",
    "print(f\"The standard deviation of the Pawpularity score is {df['Pawpularity'].std()}\")"
   ]
  },
  {
   "cell_type": "code",
   "execution_count": 9,
   "metadata": {},
   "outputs": [
    {
     "data": {
      "text/plain": [
       "0       0.50\n",
       "1       0.25\n",
       "2       0.27\n",
       "3       0.19\n",
       "4       0.27\n",
       "        ... \n",
       "9907    0.26\n",
       "9908    0.65\n",
       "9909    0.38\n",
       "9910    0.44\n",
       "9911    0.62\n",
       "Name: norm_score, Length: 9912, dtype: float64"
      ]
     },
     "execution_count": 9,
     "metadata": {},
     "output_type": "execute_result"
    }
   ],
   "source": [
    "df['norm_score'] = df['Pawpularity']/100\n",
    "df['norm_score']"
   ]
  },
  {
   "cell_type": "code",
   "execution_count": 10,
   "metadata": {},
   "outputs": [],
   "source": [
    "seed=999\n",
    "set_seed(seed, reproducible=True)\n",
    "torch.manual_seed(seed)\n",
    "torch.cuda.manual_seed(seed)\n",
    "torch.backends.cudnn.deterministic = True\n",
    "torch.use_deterministic_algorithms = True"
   ]
  },
  {
   "cell_type": "code",
   "execution_count": 11,
   "metadata": {},
   "outputs": [],
   "source": [
    "#Sturges' rule\n",
    "num_bins = int(np.floor(1+(3.3)*(np.log2(len(df)))))\n",
    "# num_bins"
   ]
  },
  {
   "cell_type": "code",
   "execution_count": 12,
   "metadata": {},
   "outputs": [
    {
     "data": {
      "text/plain": [
       "<AxesSubplot:>"
      ]
     },
     "execution_count": 12,
     "metadata": {},
     "output_type": "execute_result"
    },
    {
     "data": {
      "image/png": "[encoded data removed]",
      "text/plain": [
       "<Figure size 432x288 with 1 Axes>"
      ]
     },
     "metadata": {
      "needs_background": "light"
     },
     "output_type": "display_data"
    }
   ],
   "source": [
    "df['bins'] = pd.cut(df['norm_score'], bins=num_bins, labels=False)\n",
    "df['bins'].hist()"
   ]
  },
  {
   "cell_type": "code",
   "execution_count": 13,
   "metadata": {},
   "outputs": [],
   "source": [
    "import torch\n",
    "import torch.nn as nn\n",
    "\n",
    "class PetModel_swin(nn.Module):\n",
    "    def __init__(\n",
    "        self,\n",
    "        num_classes\n",
    "    ):\n",
    "        super().__init__()\n",
    "        self.model = create_model('swin_large_patch4_window7_224', num_classes=num_classes, pretrained=True)\n",
    "\n",
    "    def forward(self, x):\n",
    "        features = self.model.forward_features(x)\n",
    "        pred = self.model.head(features)\n",
    "        return pred\n",
    "\n",
    "class PetModel_beit(nn.Module):\n",
    "    def __init__(\n",
    "        self,\n",
    "        num_classes\n",
    "    ):\n",
    "        super().__init__()\n",
    "        self.model = create_model('beit_large_patch16_224', num_classes=num_classes, pretrained=True)\n",
    "\n",
    "    def forward(self, x):\n",
    "        features = self.model.forward_features(x)\n",
    "        pred = self.model.head(features)\n",
    "        return pred\n",
    "    \n",
    "class PetModel_vit(nn.Module):\n",
    "    def __init__(\n",
    "        self,\n",
    "        num_classes\n",
    "    ):\n",
    "        super().__init__()\n",
    "        self.model = create_model('vit_large_patch16_224', num_classes=num_classes, pretrained=True)\n",
    "\n",
    "    def forward(self, x):\n",
    "        features = self.model.forward_features(x)\n",
    "        pred = self.model.head(features)\n",
    "        return pred\n",
    "    \n",
    "    \n",
    "class PetModelForCB_swin(nn.Module):\n",
    "    def __init__(\n",
    "        self,\n",
    "        num_classes\n",
    "    ):\n",
    "        super().__init__()\n",
    "        self.model = create_model('swin_large_patch4_window7_224', num_classes=num_classes, pretrained=True)\n",
    "\n",
    "    def forward(self, x):\n",
    "        features = self.model.forward_features(x)\n",
    "        pred = self.model.head(features)\n",
    "        out = torch.cat([pred, features], dim=1)\n",
    "        return out  \n",
    "\n",
    "class PetModelForCB_beit(nn.Module):\n",
    "    def __init__(\n",
    "        self,\n",
    "        num_classes\n",
    "    ):\n",
    "        super().__init__()\n",
    "        self.model = create_model('beit_large_patch16_224', num_classes=num_classes, pretrained=True)\n",
    "\n",
    "    def forward(self, x):\n",
    "        features = self.model.forward_features(x)\n",
    "        pred = self.model.head(features)\n",
    "        out = torch.cat([pred, features], dim=1)\n",
    "        return out    \n",
    "    \n",
    "class PetModelForCB_vit(nn.Module):\n",
    "    def __init__(\n",
    "        self,\n",
    "        num_classes\n",
    "    ):\n",
    "        super().__init__()\n",
    "        self.model = create_model('vit_large_patch16_224', num_classes=num_classes, pretrained=True)\n",
    "\n",
    "    def forward(self, x):\n",
    "        features = self.model.forward_features(x)\n",
    "        pred = self.model.head(features)\n",
    "        out = torch.cat([pred, features], dim=1)\n",
    "        return out\n",
    "    \n",
    "\n",
    "# class PetModel(nn.Module):\n",
    "#     def __init__(\n",
    "#         self,\n",
    "#         num_classes\n",
    "#     ):\n",
    "#         super().__init__()\n",
    "#         self.model = create_model('tf_efficientnet_b0', num_classes=num_classes, pretrained=False)\n",
    "\n",
    "#     def forward(self, x):\n",
    "#         x = self.model.forward_features(x)\n",
    "#         x = self.model.global_pool(x)\n",
    "#         if self.model.drop_rate > 0.:\n",
    "#             x = F.dropout(x, p=self.model.drop_rate, training=self.model.training)\n",
    "#         return self.model.classifier(x)\n",
    "\n",
    "# class PetModelForCB(nn.Module):\n",
    "#     def __init__(\n",
    "#         self,\n",
    "#         num_classes\n",
    "#     ):\n",
    "#         super().__init__()\n",
    "#         self.model = create_model('tf_efficientnet_b0', num_classes=num_classes, pretrained=False)\n",
    "\n",
    "#     def forward(self, x):\n",
    "#         self.eval()\n",
    "#         features = self.model.forward_features(x)\n",
    "#         features = self.model.global_pool(features)\n",
    "#         if self.model.drop_rate > 0.:\n",
    "#             features = F.dropout(features, p=self.model.drop_rate, training=self.model.training)\n",
    "#         pred = self.model.classifier(features)\n",
    "#         out = torch.cat([pred, features], dim=1)\n",
    "#         return out"
   ]
  },
  {
   "cell_type": "code",
   "execution_count": 14,
   "metadata": {},
   "outputs": [],
   "source": [
    "def petfinder_rmse(input,target):\n",
    "    return 100*torch.sqrt(F.mse_loss(F.sigmoid(input.flatten()), target))"
   ]
  },
  {
   "cell_type": "code",
   "execution_count": 15,
   "metadata": {},
   "outputs": [
    {
     "name": "stderr",
     "output_type": "stream",
     "text": [
      "/opt/conda/envs/rapids/lib/python3.7/site-packages/fastai/learner.py:56: UserWarning: Saved filed doesn't contain an optimizer state.\n",
      "  elif with_opt: warn(\"Saved filed doesn't contain an optimizer state.\")\n"
     ]
    },
    {
     "data": {
      "text/html": [
       "\n",
       "    <div>\n",
       "        <style>\n",
       "            /* Turns off some styling */\n",
       "            progress {\n",
       "                /* gets rid of default border in Firefox and Opera. */\n",
       "                border: none;\n",
       "                /* Needs to be in here for Safari polyfill so background images work as expected. */\n",
       "                background-size: auto;\n",
       "            }\n",
       "            .progress-bar-interrupted, .progress-bar-interrupted::-webkit-progress-bar {\n",
       "                background: #F44336;\n",
       "            }\n",
       "        </style>\n",
       "      <progress value='0' class='' max='1' style='width:300px; height:20px; vertical-align: middle;'></progress>\n",
       "      \n",
       "    </div>\n",
       "    \n"
      ],
      "text/plain": [
       "<IPython.core.display.HTML object>"
      ]
     },
     "metadata": {},
     "output_type": "display_data"
    },
    {
     "data": {
      "text/html": [],
      "text/plain": [
       "<IPython.core.display.HTML object>"
      ]
     },
     "metadata": {},
     "output_type": "display_data"
    },
    {
     "data": {
      "text/html": [
       "\n",
       "    <div>\n",
       "        <style>\n",
       "            /* Turns off some styling */\n",
       "            progress {\n",
       "                /* gets rid of default border in Firefox and Opera. */\n",
       "                border: none;\n",
       "                /* Needs to be in here for Safari polyfill so background images work as expected. */\n",
       "                background-size: auto;\n",
       "            }\n",
       "            .progress-bar-interrupted, .progress-bar-interrupted::-webkit-progress-bar {\n",
       "                background: #F44336;\n",
       "            }\n",
       "        </style>\n",
       "      <progress value='0' class='' max='1' style='width:300px; height:20px; vertical-align: middle;'></progress>\n",
       "      \n",
       "    </div>\n",
       "    \n"
      ],
      "text/plain": [
       "<IPython.core.display.HTML object>"
      ]
     },
     "metadata": {},
     "output_type": "display_data"
    },
    {
     "data": {
      "text/html": [],
      "text/plain": [
       "<IPython.core.display.HTML object>"
      ]
     },
     "metadata": {},
     "output_type": "display_data"
    },
    {
     "data": {
      "text/html": [
       "\n",
       "    <div>\n",
       "        <style>\n",
       "            /* Turns off some styling */\n",
       "            progress {\n",
       "                /* gets rid of default border in Firefox and Opera. */\n",
       "                border: none;\n",
       "                /* Needs to be in here for Safari polyfill so background images work as expected. */\n",
       "                background-size: auto;\n",
       "            }\n",
       "            .progress-bar-interrupted, .progress-bar-interrupted::-webkit-progress-bar {\n",
       "                background: #F44336;\n",
       "            }\n",
       "        </style>\n",
       "      <progress value='0' class='' max='1' style='width:300px; height:20px; vertical-align: middle;'></progress>\n",
       "      \n",
       "    </div>\n",
       "    \n"
      ],
      "text/plain": [
       "<IPython.core.display.HTML object>"
      ]
     },
     "metadata": {},
     "output_type": "display_data"
    },
    {
     "data": {
      "text/html": [],
      "text/plain": [
       "<IPython.core.display.HTML object>"
      ]
     },
     "metadata": {},
     "output_type": "display_data"
    },
    {
     "name": "stdout",
     "output_type": "stream",
     "text": [
      "Fold0 Swin NN RSME = 17.59280291058582 \n",
      "\n",
      "Fold0 Beit NN RSME = 17.792923577466944 \n",
      "\n",
      "Fold0 Vit NN RSME = 17.852725075612227 \n",
      "\n",
      "Fold0 Ensemble RSME = 17.401751520430654 \n",
      "\n"
     ]
    },
    {
     "name": "stderr",
     "output_type": "stream",
     "text": [
      "/opt/conda/envs/rapids/lib/python3.7/site-packages/fastai/learner.py:56: UserWarning: Saved filed doesn't contain an optimizer state.\n",
      "  elif with_opt: warn(\"Saved filed doesn't contain an optimizer state.\")\n"
     ]
    },
    {
     "data": {
      "text/html": [
       "\n",
       "    <div>\n",
       "        <style>\n",
       "            /* Turns off some styling */\n",
       "            progress {\n",
       "                /* gets rid of default border in Firefox and Opera. */\n",
       "                border: none;\n",
       "                /* Needs to be in here for Safari polyfill so background images work as expected. */\n",
       "                background-size: auto;\n",
       "            }\n",
       "            .progress-bar-interrupted, .progress-bar-interrupted::-webkit-progress-bar {\n",
       "                background: #F44336;\n",
       "            }\n",
       "        </style>\n",
       "      <progress value='0' class='' max='1' style='width:300px; height:20px; vertical-align: middle;'></progress>\n",
       "      \n",
       "    </div>\n",
       "    \n"
      ],
      "text/plain": [
       "<IPython.core.display.HTML object>"
      ]
     },
     "metadata": {},
     "output_type": "display_data"
    },
    {
     "data": {
      "text/html": [],
      "text/plain": [
       "<IPython.core.display.HTML object>"
      ]
     },
     "metadata": {},
     "output_type": "display_data"
    },
    {
     "data": {
      "text/html": [
       "\n",
       "    <div>\n",
       "        <style>\n",
       "            /* Turns off some styling */\n",
       "            progress {\n",
       "                /* gets rid of default border in Firefox and Opera. */\n",
       "                border: none;\n",
       "                /* Needs to be in here for Safari polyfill so background images work as expected. */\n",
       "                background-size: auto;\n",
       "            }\n",
       "            .progress-bar-interrupted, .progress-bar-interrupted::-webkit-progress-bar {\n",
       "                background: #F44336;\n",
       "            }\n",
       "        </style>\n",
       "      <progress value='0' class='' max='1' style='width:300px; height:20px; vertical-align: middle;'></progress>\n",
       "      \n",
       "    </div>\n",
       "    \n"
      ],
      "text/plain": [
       "<IPython.core.display.HTML object>"
      ]
     },
     "metadata": {},
     "output_type": "display_data"
    },
    {
     "data": {
      "text/html": [],
      "text/plain": [
       "<IPython.core.display.HTML object>"
      ]
     },
     "metadata": {},
     "output_type": "display_data"
    },
    {
     "data": {
      "text/html": [
       "\n",
       "    <div>\n",
       "        <style>\n",
       "            /* Turns off some styling */\n",
       "            progress {\n",
       "                /* gets rid of default border in Firefox and Opera. */\n",
       "                border: none;\n",
       "                /* Needs to be in here for Safari polyfill so background images work as expected. */\n",
       "                background-size: auto;\n",
       "            }\n",
       "            .progress-bar-interrupted, .progress-bar-interrupted::-webkit-progress-bar {\n",
       "                background: #F44336;\n",
       "            }\n",
       "        </style>\n",
       "      <progress value='0' class='' max='1' style='width:300px; height:20px; vertical-align: middle;'></progress>\n",
       "      \n",
       "    </div>\n",
       "    \n"
      ],
      "text/plain": [
       "<IPython.core.display.HTML object>"
      ]
     },
     "metadata": {},
     "output_type": "display_data"
    },
    {
     "data": {
      "text/html": [],
      "text/plain": [
       "<IPython.core.display.HTML object>"
      ]
     },
     "metadata": {},
     "output_type": "display_data"
    },
    {
     "name": "stdout",
     "output_type": "stream",
     "text": [
      "Fold1 Swin NN RSME = 17.064103469489712 \n",
      "\n",
      "Fold1 Beit NN RSME = 17.155231113097337 \n",
      "\n",
      "Fold1 Vit NN RSME = 17.597134389417917 \n",
      "\n",
      "Fold1 Ensemble RSME = 16.83461909268195 \n",
      "\n"
     ]
    },
    {
     "name": "stderr",
     "output_type": "stream",
     "text": [
      "/opt/conda/envs/rapids/lib/python3.7/site-packages/fastai/learner.py:56: UserWarning: Saved filed doesn't contain an optimizer state.\n",
      "  elif with_opt: warn(\"Saved filed doesn't contain an optimizer state.\")\n"
     ]
    },
    {
     "data": {
      "text/html": [
       "\n",
       "    <div>\n",
       "        <style>\n",
       "            /* Turns off some styling */\n",
       "            progress {\n",
       "                /* gets rid of default border in Firefox and Opera. */\n",
       "                border: none;\n",
       "                /* Needs to be in here for Safari polyfill so background images work as expected. */\n",
       "                background-size: auto;\n",
       "            }\n",
       "            .progress-bar-interrupted, .progress-bar-interrupted::-webkit-progress-bar {\n",
       "                background: #F44336;\n",
       "            }\n",
       "        </style>\n",
       "      <progress value='0' class='' max='1' style='width:300px; height:20px; vertical-align: middle;'></progress>\n",
       "      \n",
       "    </div>\n",
       "    \n"
      ],
      "text/plain": [
       "<IPython.core.display.HTML object>"
      ]
     },
     "metadata": {},
     "output_type": "display_data"
    },
    {
     "data": {
      "text/html": [],
      "text/plain": [
       "<IPython.core.display.HTML object>"
      ]
     },
     "metadata": {},
     "output_type": "display_data"
    },
    {
     "data": {
      "text/html": [
       "\n",
       "    <div>\n",
       "        <style>\n",
       "            /* Turns off some styling */\n",
       "            progress {\n",
       "                /* gets rid of default border in Firefox and Opera. */\n",
       "                border: none;\n",
       "                /* Needs to be in here for Safari polyfill so background images work as expected. */\n",
       "                background-size: auto;\n",
       "            }\n",
       "            .progress-bar-interrupted, .progress-bar-interrupted::-webkit-progress-bar {\n",
       "                background: #F44336;\n",
       "            }\n",
       "        </style>\n",
       "      <progress value='0' class='' max='1' style='width:300px; height:20px; vertical-align: middle;'></progress>\n",
       "      \n",
       "    </div>\n",
       "    \n"
      ],
      "text/plain": [
       "<IPython.core.display.HTML object>"
      ]
     },
     "metadata": {},
     "output_type": "display_data"
    },
    {
     "data": {
      "text/html": [],
      "text/plain": [
       "<IPython.core.display.HTML object>"
      ]
     },
     "metadata": {},
     "output_type": "display_data"
    },
    {
     "data": {
      "text/html": [
       "\n",
       "    <div>\n",
       "        <style>\n",
       "            /* Turns off some styling */\n",
       "            progress {\n",
       "                /* gets rid of default border in Firefox and Opera. */\n",
       "                border: none;\n",
       "                /* Needs to be in here for Safari polyfill so background images work as expected. */\n",
       "                background-size: auto;\n",
       "            }\n",
       "            .progress-bar-interrupted, .progress-bar-interrupted::-webkit-progress-bar {\n",
       "                background: #F44336;\n",
       "            }\n",
       "        </style>\n",
       "      <progress value='0' class='' max='1' style='width:300px; height:20px; vertical-align: middle;'></progress>\n",
       "      \n",
       "    </div>\n",
       "    \n"
      ],
      "text/plain": [
       "<IPython.core.display.HTML object>"
      ]
     },
     "metadata": {},
     "output_type": "display_data"
    },
    {
     "data": {
      "text/html": [],
      "text/plain": [
       "<IPython.core.display.HTML object>"
      ]
     },
     "metadata": {},
     "output_type": "display_data"
    },
    {
     "name": "stdout",
     "output_type": "stream",
     "text": [
      "Fold2 Swin NN RSME = 17.89858944888401 \n",
      "\n",
      "Fold2 Beit NN RSME = 17.809983453226867 \n",
      "\n",
      "Fold2 Vit NN RSME = 18.12926118714461 \n",
      "\n",
      "Fold2 Ensemble RSME = 17.68528134812497 \n",
      "\n"
     ]
    },
    {
     "name": "stderr",
     "output_type": "stream",
     "text": [
      "/opt/conda/envs/rapids/lib/python3.7/site-packages/fastai/learner.py:56: UserWarning: Saved filed doesn't contain an optimizer state.\n",
      "  elif with_opt: warn(\"Saved filed doesn't contain an optimizer state.\")\n"
     ]
    },
    {
     "data": {
      "text/html": [
       "\n",
       "    <div>\n",
       "        <style>\n",
       "            /* Turns off some styling */\n",
       "            progress {\n",
       "                /* gets rid of default border in Firefox and Opera. */\n",
       "                border: none;\n",
       "                /* Needs to be in here for Safari polyfill so background images work as expected. */\n",
       "                background-size: auto;\n",
       "            }\n",
       "            .progress-bar-interrupted, .progress-bar-interrupted::-webkit-progress-bar {\n",
       "                background: #F44336;\n",
       "            }\n",
       "        </style>\n",
       "      <progress value='0' class='' max='1' style='width:300px; height:20px; vertical-align: middle;'></progress>\n",
       "      \n",
       "    </div>\n",
       "    \n"
      ],
      "text/plain": [
       "<IPython.core.display.HTML object>"
      ]
     },
     "metadata": {},
     "output_type": "display_data"
    },
    {
     "data": {
      "text/html": [],
      "text/plain": [
       "<IPython.core.display.HTML object>"
      ]
     },
     "metadata": {},
     "output_type": "display_data"
    },
    {
     "data": {
      "text/html": [
       "\n",
       "    <div>\n",
       "        <style>\n",
       "            /* Turns off some styling */\n",
       "            progress {\n",
       "                /* gets rid of default border in Firefox and Opera. */\n",
       "                border: none;\n",
       "                /* Needs to be in here for Safari polyfill so background images work as expected. */\n",
       "                background-size: auto;\n",
       "            }\n",
       "            .progress-bar-interrupted, .progress-bar-interrupted::-webkit-progress-bar {\n",
       "                background: #F44336;\n",
       "            }\n",
       "        </style>\n",
       "      <progress value='0' class='' max='1' style='width:300px; height:20px; vertical-align: middle;'></progress>\n",
       "      \n",
       "    </div>\n",
       "    \n"
      ],
      "text/plain": [
       "<IPython.core.display.HTML object>"
      ]
     },
     "metadata": {},
     "output_type": "display_data"
    },
    {
     "data": {
      "text/html": [],
      "text/plain": [
       "<IPython.core.display.HTML object>"
      ]
     },
     "metadata": {},
     "output_type": "display_data"
    },
    {
     "data": {
      "text/html": [
       "\n",
       "    <div>\n",
       "        <style>\n",
       "            /* Turns off some styling */\n",
       "            progress {\n",
       "                /* gets rid of default border in Firefox and Opera. */\n",
       "                border: none;\n",
       "                /* Needs to be in here for Safari polyfill so background images work as expected. */\n",
       "                background-size: auto;\n",
       "            }\n",
       "            .progress-bar-interrupted, .progress-bar-interrupted::-webkit-progress-bar {\n",
       "                background: #F44336;\n",
       "            }\n",
       "        </style>\n",
       "      <progress value='0' class='' max='1' style='width:300px; height:20px; vertical-align: middle;'></progress>\n",
       "      \n",
       "    </div>\n",
       "    \n"
      ],
      "text/plain": [
       "<IPython.core.display.HTML object>"
      ]
     },
     "metadata": {},
     "output_type": "display_data"
    },
    {
     "data": {
      "text/html": [],
      "text/plain": [
       "<IPython.core.display.HTML object>"
      ]
     },
     "metadata": {},
     "output_type": "display_data"
    },
    {
     "name": "stdout",
     "output_type": "stream",
     "text": [
      "Fold3 Swin NN RSME = 17.063153465968377 \n",
      "\n",
      "Fold3 Beit NN RSME = 17.35090206971495 \n",
      "\n",
      "Fold3 Vit NN RSME = 17.608946512650515 \n",
      "\n",
      "Fold3 Ensemble RSME = 16.90498392324367 \n",
      "\n"
     ]
    },
    {
     "name": "stderr",
     "output_type": "stream",
     "text": [
      "/opt/conda/envs/rapids/lib/python3.7/site-packages/fastai/learner.py:56: UserWarning: Saved filed doesn't contain an optimizer state.\n",
      "  elif with_opt: warn(\"Saved filed doesn't contain an optimizer state.\")\n"
     ]
    },
    {
     "data": {
      "text/html": [
       "\n",
       "    <div>\n",
       "        <style>\n",
       "            /* Turns off some styling */\n",
       "            progress {\n",
       "                /* gets rid of default border in Firefox and Opera. */\n",
       "                border: none;\n",
       "                /* Needs to be in here for Safari polyfill so background images work as expected. */\n",
       "                background-size: auto;\n",
       "            }\n",
       "            .progress-bar-interrupted, .progress-bar-interrupted::-webkit-progress-bar {\n",
       "                background: #F44336;\n",
       "            }\n",
       "        </style>\n",
       "      <progress value='0' class='' max='1' style='width:300px; height:20px; vertical-align: middle;'></progress>\n",
       "      \n",
       "    </div>\n",
       "    \n"
      ],
      "text/plain": [
       "<IPython.core.display.HTML object>"
      ]
     },
     "metadata": {},
     "output_type": "display_data"
    },
    {
     "data": {
      "text/html": [],
      "text/plain": [
       "<IPython.core.display.HTML object>"
      ]
     },
     "metadata": {},
     "output_type": "display_data"
    },
    {
     "data": {
      "text/html": [
       "\n",
       "    <div>\n",
       "        <style>\n",
       "            /* Turns off some styling */\n",
       "            progress {\n",
       "                /* gets rid of default border in Firefox and Opera. */\n",
       "                border: none;\n",
       "                /* Needs to be in here for Safari polyfill so background images work as expected. */\n",
       "                background-size: auto;\n",
       "            }\n",
       "            .progress-bar-interrupted, .progress-bar-interrupted::-webkit-progress-bar {\n",
       "                background: #F44336;\n",
       "            }\n",
       "        </style>\n",
       "      <progress value='0' class='' max='1' style='width:300px; height:20px; vertical-align: middle;'></progress>\n",
       "      \n",
       "    </div>\n",
       "    \n"
      ],
      "text/plain": [
       "<IPython.core.display.HTML object>"
      ]
     },
     "metadata": {},
     "output_type": "display_data"
    },
    {
     "data": {
      "text/html": [],
      "text/plain": [
       "<IPython.core.display.HTML object>"
      ]
     },
     "metadata": {},
     "output_type": "display_data"
    },
    {
     "data": {
      "text/html": [
       "\n",
       "    <div>\n",
       "        <style>\n",
       "            /* Turns off some styling */\n",
       "            progress {\n",
       "                /* gets rid of default border in Firefox and Opera. */\n",
       "                border: none;\n",
       "                /* Needs to be in here for Safari polyfill so background images work as expected. */\n",
       "                background-size: auto;\n",
       "            }\n",
       "            .progress-bar-interrupted, .progress-bar-interrupted::-webkit-progress-bar {\n",
       "                background: #F44336;\n",
       "            }\n",
       "        </style>\n",
       "      <progress value='0' class='' max='1' style='width:300px; height:20px; vertical-align: middle;'></progress>\n",
       "      \n",
       "    </div>\n",
       "    \n"
      ],
      "text/plain": [
       "<IPython.core.display.HTML object>"
      ]
     },
     "metadata": {},
     "output_type": "display_data"
    },
    {
     "data": {
      "text/html": [],
      "text/plain": [
       "<IPython.core.display.HTML object>"
      ]
     },
     "metadata": {},
     "output_type": "display_data"
    },
    {
     "name": "stdout",
     "output_type": "stream",
     "text": [
      "Fold4 Swin NN RSME = 18.013797956079998 \n",
      "\n",
      "Fold4 Beit NN RSME = 18.077316569862518 \n",
      "\n",
      "Fold4 Vit NN RSME = 18.65775895616903 \n",
      "\n",
      "Fold4 Ensemble RSME = 17.88016760430026 \n",
      "\n"
     ]
    },
    {
     "name": "stderr",
     "output_type": "stream",
     "text": [
      "/opt/conda/envs/rapids/lib/python3.7/site-packages/fastai/learner.py:56: UserWarning: Saved filed doesn't contain an optimizer state.\n",
      "  elif with_opt: warn(\"Saved filed doesn't contain an optimizer state.\")\n"
     ]
    },
    {
     "data": {
      "text/html": [
       "\n",
       "    <div>\n",
       "        <style>\n",
       "            /* Turns off some styling */\n",
       "            progress {\n",
       "                /* gets rid of default border in Firefox and Opera. */\n",
       "                border: none;\n",
       "                /* Needs to be in here for Safari polyfill so background images work as expected. */\n",
       "                background-size: auto;\n",
       "            }\n",
       "            .progress-bar-interrupted, .progress-bar-interrupted::-webkit-progress-bar {\n",
       "                background: #F44336;\n",
       "            }\n",
       "        </style>\n",
       "      <progress value='0' class='' max='1' style='width:300px; height:20px; vertical-align: middle;'></progress>\n",
       "      \n",
       "    </div>\n",
       "    \n"
      ],
      "text/plain": [
       "<IPython.core.display.HTML object>"
      ]
     },
     "metadata": {},
     "output_type": "display_data"
    },
    {
     "data": {
      "text/html": [],
      "text/plain": [
       "<IPython.core.display.HTML object>"
      ]
     },
     "metadata": {},
     "output_type": "display_data"
    },
    {
     "data": {
      "text/html": [
       "\n",
       "    <div>\n",
       "        <style>\n",
       "            /* Turns off some styling */\n",
       "            progress {\n",
       "                /* gets rid of default border in Firefox and Opera. */\n",
       "                border: none;\n",
       "                /* Needs to be in here for Safari polyfill so background images work as expected. */\n",
       "                background-size: auto;\n",
       "            }\n",
       "            .progress-bar-interrupted, .progress-bar-interrupted::-webkit-progress-bar {\n",
       "                background: #F44336;\n",
       "            }\n",
       "        </style>\n",
       "      <progress value='0' class='' max='1' style='width:300px; height:20px; vertical-align: middle;'></progress>\n",
       "      \n",
       "    </div>\n",
       "    \n"
      ],
      "text/plain": [
       "<IPython.core.display.HTML object>"
      ]
     },
     "metadata": {},
     "output_type": "display_data"
    },
    {
     "data": {
      "text/html": [],
      "text/plain": [
       "<IPython.core.display.HTML object>"
      ]
     },
     "metadata": {},
     "output_type": "display_data"
    },
    {
     "data": {
      "text/html": [
       "\n",
       "    <div>\n",
       "        <style>\n",
       "            /* Turns off some styling */\n",
       "            progress {\n",
       "                /* gets rid of default border in Firefox and Opera. */\n",
       "                border: none;\n",
       "                /* Needs to be in here for Safari polyfill so background images work as expected. */\n",
       "                background-size: auto;\n",
       "            }\n",
       "            .progress-bar-interrupted, .progress-bar-interrupted::-webkit-progress-bar {\n",
       "                background: #F44336;\n",
       "            }\n",
       "        </style>\n",
       "      <progress value='0' class='' max='1' style='width:300px; height:20px; vertical-align: middle;'></progress>\n",
       "      \n",
       "    </div>\n",
       "    \n"
      ],
      "text/plain": [
       "<IPython.core.display.HTML object>"
      ]
     },
     "metadata": {},
     "output_type": "display_data"
    },
    {
     "data": {
      "text/html": [],
      "text/plain": [
       "<IPython.core.display.HTML object>"
      ]
     },
     "metadata": {},
     "output_type": "display_data"
    },
    {
     "name": "stdout",
     "output_type": "stream",
     "text": [
      "Fold5 Swin NN RSME = 17.08671060824816 \n",
      "\n",
      "Fold5 Beit NN RSME = 17.23391088609033 \n",
      "\n",
      "Fold5 Vit NN RSME = 17.222583505722874 \n",
      "\n",
      "Fold5 Ensemble RSME = 16.869197401211295 \n",
      "\n"
     ]
    },
    {
     "name": "stderr",
     "output_type": "stream",
     "text": [
      "/opt/conda/envs/rapids/lib/python3.7/site-packages/fastai/learner.py:56: UserWarning: Saved filed doesn't contain an optimizer state.\n",
      "  elif with_opt: warn(\"Saved filed doesn't contain an optimizer state.\")\n"
     ]
    },
    {
     "data": {
      "text/html": [
       "\n",
       "    <div>\n",
       "        <style>\n",
       "            /* Turns off some styling */\n",
       "            progress {\n",
       "                /* gets rid of default border in Firefox and Opera. */\n",
       "                border: none;\n",
       "                /* Needs to be in here for Safari polyfill so background images work as expected. */\n",
       "                background-size: auto;\n",
       "            }\n",
       "            .progress-bar-interrupted, .progress-bar-interrupted::-webkit-progress-bar {\n",
       "                background: #F44336;\n",
       "            }\n",
       "        </style>\n",
       "      <progress value='0' class='' max='1' style='width:300px; height:20px; vertical-align: middle;'></progress>\n",
       "      \n",
       "    </div>\n",
       "    \n"
      ],
      "text/plain": [
       "<IPython.core.display.HTML object>"
      ]
     },
     "metadata": {},
     "output_type": "display_data"
    },
    {
     "data": {
      "text/html": [],
      "text/plain": [
       "<IPython.core.display.HTML object>"
      ]
     },
     "metadata": {},
     "output_type": "display_data"
    },
    {
     "data": {
      "text/html": [
       "\n",
       "    <div>\n",
       "        <style>\n",
       "            /* Turns off some styling */\n",
       "            progress {\n",
       "                /* gets rid of default border in Firefox and Opera. */\n",
       "                border: none;\n",
       "                /* Needs to be in here for Safari polyfill so background images work as expected. */\n",
       "                background-size: auto;\n",
       "            }\n",
       "            .progress-bar-interrupted, .progress-bar-interrupted::-webkit-progress-bar {\n",
       "                background: #F44336;\n",
       "            }\n",
       "        </style>\n",
       "      <progress value='0' class='' max='1' style='width:300px; height:20px; vertical-align: middle;'></progress>\n",
       "      \n",
       "    </div>\n",
       "    \n"
      ],
      "text/plain": [
       "<IPython.core.display.HTML object>"
      ]
     },
     "metadata": {},
     "output_type": "display_data"
    },
    {
     "data": {
      "text/html": [],
      "text/plain": [
       "<IPython.core.display.HTML object>"
      ]
     },
     "metadata": {},
     "output_type": "display_data"
    },
    {
     "data": {
      "text/html": [
       "\n",
       "    <div>\n",
       "        <style>\n",
       "            /* Turns off some styling */\n",
       "            progress {\n",
       "                /* gets rid of default border in Firefox and Opera. */\n",
       "                border: none;\n",
       "                /* Needs to be in here for Safari polyfill so background images work as expected. */\n",
       "                background-size: auto;\n",
       "            }\n",
       "            .progress-bar-interrupted, .progress-bar-interrupted::-webkit-progress-bar {\n",
       "                background: #F44336;\n",
       "            }\n",
       "        </style>\n",
       "      <progress value='0' class='' max='1' style='width:300px; height:20px; vertical-align: middle;'></progress>\n",
       "      \n",
       "    </div>\n",
       "    \n"
      ],
      "text/plain": [
       "<IPython.core.display.HTML object>"
      ]
     },
     "metadata": {},
     "output_type": "display_data"
    },
    {
     "data": {
      "text/html": [],
      "text/plain": [
       "<IPython.core.display.HTML object>"
      ]
     },
     "metadata": {},
     "output_type": "display_data"
    },
    {
     "name": "stdout",
     "output_type": "stream",
     "text": [
      "Fold6 Swin NN RSME = 17.71255108556369 \n",
      "\n",
      "Fold6 Beit NN RSME = 17.764415196833294 \n",
      "\n",
      "Fold6 Vit NN RSME = 18.469748635464054 \n",
      "\n",
      "Fold6 Ensemble RSME = 17.552469104074152 \n",
      "\n"
     ]
    },
    {
     "name": "stderr",
     "output_type": "stream",
     "text": [
      "/opt/conda/envs/rapids/lib/python3.7/site-packages/fastai/learner.py:56: UserWarning: Saved filed doesn't contain an optimizer state.\n",
      "  elif with_opt: warn(\"Saved filed doesn't contain an optimizer state.\")\n"
     ]
    },
    {
     "data": {
      "text/html": [
       "\n",
       "    <div>\n",
       "        <style>\n",
       "            /* Turns off some styling */\n",
       "            progress {\n",
       "                /* gets rid of default border in Firefox and Opera. */\n",
       "                border: none;\n",
       "                /* Needs to be in here for Safari polyfill so background images work as expected. */\n",
       "                background-size: auto;\n",
       "            }\n",
       "            .progress-bar-interrupted, .progress-bar-interrupted::-webkit-progress-bar {\n",
       "                background: #F44336;\n",
       "            }\n",
       "        </style>\n",
       "      <progress value='0' class='' max='1' style='width:300px; height:20px; vertical-align: middle;'></progress>\n",
       "      \n",
       "    </div>\n",
       "    \n"
      ],
      "text/plain": [
       "<IPython.core.display.HTML object>"
      ]
     },
     "metadata": {},
     "output_type": "display_data"
    },
    {
     "data": {
      "text/html": [],
      "text/plain": [
       "<IPython.core.display.HTML object>"
      ]
     },
     "metadata": {},
     "output_type": "display_data"
    },
    {
     "data": {
      "text/html": [
       "\n",
       "    <div>\n",
       "        <style>\n",
       "            /* Turns off some styling */\n",
       "            progress {\n",
       "                /* gets rid of default border in Firefox and Opera. */\n",
       "                border: none;\n",
       "                /* Needs to be in here for Safari polyfill so background images work as expected. */\n",
       "                background-size: auto;\n",
       "            }\n",
       "            .progress-bar-interrupted, .progress-bar-interrupted::-webkit-progress-bar {\n",
       "                background: #F44336;\n",
       "            }\n",
       "        </style>\n",
       "      <progress value='0' class='' max='1' style='width:300px; height:20px; vertical-align: middle;'></progress>\n",
       "      \n",
       "    </div>\n",
       "    \n"
      ],
      "text/plain": [
       "<IPython.core.display.HTML object>"
      ]
     },
     "metadata": {},
     "output_type": "display_data"
    },
    {
     "data": {
      "text/html": [],
      "text/plain": [
       "<IPython.core.display.HTML object>"
      ]
     },
     "metadata": {},
     "output_type": "display_data"
    },
    {
     "data": {
      "text/html": [
       "\n",
       "    <div>\n",
       "        <style>\n",
       "            /* Turns off some styling */\n",
       "            progress {\n",
       "                /* gets rid of default border in Firefox and Opera. */\n",
       "                border: none;\n",
       "                /* Needs to be in here for Safari polyfill so background images work as expected. */\n",
       "                background-size: auto;\n",
       "            }\n",
       "            .progress-bar-interrupted, .progress-bar-interrupted::-webkit-progress-bar {\n",
       "                background: #F44336;\n",
       "            }\n",
       "        </style>\n",
       "      <progress value='0' class='' max='1' style='width:300px; height:20px; vertical-align: middle;'></progress>\n",
       "      \n",
       "    </div>\n",
       "    \n"
      ],
      "text/plain": [
       "<IPython.core.display.HTML object>"
      ]
     },
     "metadata": {},
     "output_type": "display_data"
    },
    {
     "data": {
      "text/html": [],
      "text/plain": [
       "<IPython.core.display.HTML object>"
      ]
     },
     "metadata": {},
     "output_type": "display_data"
    },
    {
     "name": "stdout",
     "output_type": "stream",
     "text": [
      "Fold7 Swin NN RSME = 18.08414816057283 \n",
      "\n",
      "Fold7 Beit NN RSME = 18.017230501493916 \n",
      "\n",
      "Fold7 Vit NN RSME = 18.854617383204513 \n",
      "\n",
      "Fold7 Ensemble RSME = 17.80581644282251 \n",
      "\n"
     ]
    },
    {
     "name": "stderr",
     "output_type": "stream",
     "text": [
      "/opt/conda/envs/rapids/lib/python3.7/site-packages/fastai/learner.py:56: UserWarning: Saved filed doesn't contain an optimizer state.\n",
      "  elif with_opt: warn(\"Saved filed doesn't contain an optimizer state.\")\n"
     ]
    },
    {
     "data": {
      "text/html": [
       "\n",
       "    <div>\n",
       "        <style>\n",
       "            /* Turns off some styling */\n",
       "            progress {\n",
       "                /* gets rid of default border in Firefox and Opera. */\n",
       "                border: none;\n",
       "                /* Needs to be in here for Safari polyfill so background images work as expected. */\n",
       "                background-size: auto;\n",
       "            }\n",
       "            .progress-bar-interrupted, .progress-bar-interrupted::-webkit-progress-bar {\n",
       "                background: #F44336;\n",
       "            }\n",
       "        </style>\n",
       "      <progress value='0' class='' max='1' style='width:300px; height:20px; vertical-align: middle;'></progress>\n",
       "      \n",
       "    </div>\n",
       "    \n"
      ],
      "text/plain": [
       "<IPython.core.display.HTML object>"
      ]
     },
     "metadata": {},
     "output_type": "display_data"
    },
    {
     "data": {
      "text/html": [],
      "text/plain": [
       "<IPython.core.display.HTML object>"
      ]
     },
     "metadata": {},
     "output_type": "display_data"
    },
    {
     "data": {
      "text/html": [
       "\n",
       "    <div>\n",
       "        <style>\n",
       "            /* Turns off some styling */\n",
       "            progress {\n",
       "                /* gets rid of default border in Firefox and Opera. */\n",
       "                border: none;\n",
       "                /* Needs to be in here for Safari polyfill so background images work as expected. */\n",
       "                background-size: auto;\n",
       "            }\n",
       "            .progress-bar-interrupted, .progress-bar-interrupted::-webkit-progress-bar {\n",
       "                background: #F44336;\n",
       "            }\n",
       "        </style>\n",
       "      <progress value='0' class='' max='1' style='width:300px; height:20px; vertical-align: middle;'></progress>\n",
       "      \n",
       "    </div>\n",
       "    \n"
      ],
      "text/plain": [
       "<IPython.core.display.HTML object>"
      ]
     },
     "metadata": {},
     "output_type": "display_data"
    },
    {
     "data": {
      "text/html": [],
      "text/plain": [
       "<IPython.core.display.HTML object>"
      ]
     },
     "metadata": {},
     "output_type": "display_data"
    },
    {
     "data": {
      "text/html": [
       "\n",
       "    <div>\n",
       "        <style>\n",
       "            /* Turns off some styling */\n",
       "            progress {\n",
       "                /* gets rid of default border in Firefox and Opera. */\n",
       "                border: none;\n",
       "                /* Needs to be in here for Safari polyfill so background images work as expected. */\n",
       "                background-size: auto;\n",
       "            }\n",
       "            .progress-bar-interrupted, .progress-bar-interrupted::-webkit-progress-bar {\n",
       "                background: #F44336;\n",
       "            }\n",
       "        </style>\n",
       "      <progress value='0' class='' max='1' style='width:300px; height:20px; vertical-align: middle;'></progress>\n",
       "      \n",
       "    </div>\n",
       "    \n"
      ],
      "text/plain": [
       "<IPython.core.display.HTML object>"
      ]
     },
     "metadata": {},
     "output_type": "display_data"
    },
    {
     "data": {
      "text/html": [],
      "text/plain": [
       "<IPython.core.display.HTML object>"
      ]
     },
     "metadata": {},
     "output_type": "display_data"
    },
    {
     "name": "stdout",
     "output_type": "stream",
     "text": [
      "Fold8 Swin NN RSME = 17.366508133893454 \n",
      "\n",
      "Fold8 Beit NN RSME = 17.513225263238592 \n",
      "\n",
      "Fold8 Vit NN RSME = 17.786172593447336 \n",
      "\n",
      "Fold8 Ensemble RSME = 17.245441049150518 \n",
      "\n"
     ]
    },
    {
     "name": "stderr",
     "output_type": "stream",
     "text": [
      "/opt/conda/envs/rapids/lib/python3.7/site-packages/fastai/learner.py:56: UserWarning: Saved filed doesn't contain an optimizer state.\n",
      "  elif with_opt: warn(\"Saved filed doesn't contain an optimizer state.\")\n"
     ]
    },
    {
     "data": {
      "text/html": [
       "\n",
       "    <div>\n",
       "        <style>\n",
       "            /* Turns off some styling */\n",
       "            progress {\n",
       "                /* gets rid of default border in Firefox and Opera. */\n",
       "                border: none;\n",
       "                /* Needs to be in here for Safari polyfill so background images work as expected. */\n",
       "                background-size: auto;\n",
       "            }\n",
       "            .progress-bar-interrupted, .progress-bar-interrupted::-webkit-progress-bar {\n",
       "                background: #F44336;\n",
       "            }\n",
       "        </style>\n",
       "      <progress value='0' class='' max='1' style='width:300px; height:20px; vertical-align: middle;'></progress>\n",
       "      \n",
       "    </div>\n",
       "    \n"
      ],
      "text/plain": [
       "<IPython.core.display.HTML object>"
      ]
     },
     "metadata": {},
     "output_type": "display_data"
    },
    {
     "data": {
      "text/html": [],
      "text/plain": [
       "<IPython.core.display.HTML object>"
      ]
     },
     "metadata": {},
     "output_type": "display_data"
    },
    {
     "data": {
      "text/html": [
       "\n",
       "    <div>\n",
       "        <style>\n",
       "            /* Turns off some styling */\n",
       "            progress {\n",
       "                /* gets rid of default border in Firefox and Opera. */\n",
       "                border: none;\n",
       "                /* Needs to be in here for Safari polyfill so background images work as expected. */\n",
       "                background-size: auto;\n",
       "            }\n",
       "            .progress-bar-interrupted, .progress-bar-interrupted::-webkit-progress-bar {\n",
       "                background: #F44336;\n",
       "            }\n",
       "        </style>\n",
       "      <progress value='0' class='' max='1' style='width:300px; height:20px; vertical-align: middle;'></progress>\n",
       "      \n",
       "    </div>\n",
       "    \n"
      ],
      "text/plain": [
       "<IPython.core.display.HTML object>"
      ]
     },
     "metadata": {},
     "output_type": "display_data"
    },
    {
     "data": {
      "text/html": [],
      "text/plain": [
       "<IPython.core.display.HTML object>"
      ]
     },
     "metadata": {},
     "output_type": "display_data"
    },
    {
     "data": {
      "text/html": [
       "\n",
       "    <div>\n",
       "        <style>\n",
       "            /* Turns off some styling */\n",
       "            progress {\n",
       "                /* gets rid of default border in Firefox and Opera. */\n",
       "                border: none;\n",
       "                /* Needs to be in here for Safari polyfill so background images work as expected. */\n",
       "                background-size: auto;\n",
       "            }\n",
       "            .progress-bar-interrupted, .progress-bar-interrupted::-webkit-progress-bar {\n",
       "                background: #F44336;\n",
       "            }\n",
       "        </style>\n",
       "      <progress value='0' class='' max='1' style='width:300px; height:20px; vertical-align: middle;'></progress>\n",
       "      \n",
       "    </div>\n",
       "    \n"
      ],
      "text/plain": [
       "<IPython.core.display.HTML object>"
      ]
     },
     "metadata": {},
     "output_type": "display_data"
    },
    {
     "data": {
      "text/html": [],
      "text/plain": [
       "<IPython.core.display.HTML object>"
      ]
     },
     "metadata": {},
     "output_type": "display_data"
    },
    {
     "name": "stdout",
     "output_type": "stream",
     "text": [
      "Fold9 Swin NN RSME = 16.92437778426538 \n",
      "\n",
      "Fold9 Beit NN RSME = 17.389583026243283 \n",
      "\n",
      "Fold9 Vit NN RSME = 17.527611866099903 \n",
      "\n",
      "Fold9 Ensemble RSME = 16.914326521156582 \n",
      "\n"
     ]
    }
   ],
   "source": [
    "import gc\n",
    "import torch\n",
    "from sklearn.model_selection import KFold\n",
    "from sklearn.model_selection import StratifiedKFold\n",
    "\n",
    "def sigmoid(x):\n",
    "    return 1 / (1 + math.exp(-x))\n",
    "\n",
    "df['fold'] = -1\n",
    "\n",
    "super_final_predictions = []\n",
    "super_final_predictions2 = []\n",
    "super_final_predictions3 = []\n",
    "super_final_oof_predictions = []\n",
    "super_final_oof_predictions2 = []\n",
    "super_final_oof_predictions3 = []\n",
    "super_final_oof_true = []\n",
    "\n",
    "\n",
    "N_FOLDS = 10\n",
    "strat_kfold = StratifiedKFold(n_splits=N_FOLDS, random_state=seed, shuffle=True)\n",
    "for fold, (idx, val_idx) in enumerate(strat_kfold.split(df.index, df['bins'])):\n",
    "    train_df = df.loc[idx].reset_index(drop=True)\n",
    "    val_df = df.loc[val_idx].reset_index(drop=True)\n",
    "\n",
    "    dls = ImageDataLoaders.from_df(train_df, #pass in train DataFrame\n",
    "                               valid_pct=0.2, #80-20 train-validation random split\n",
    "                               seed=999, #seed\n",
    "                               fn_col='path', #filename/path is in the second column of the DataFrame\n",
    "                               label_col='norm_score', #label is in the first column of the DataFrame\n",
    "                               y_block=RegressionBlock, #The type of target\n",
    "                               bs=BATCH_SIZE, #pass in batch size\n",
    "                               num_workers=8,\n",
    "                               item_tfms=Resize(224), #pass in item_tfms\n",
    "                               batch_tfms=setup_aug_tfms([Brightness(), Contrast(), Hue(), Saturation()])) #pass in batch_tfms\n",
    "\n",
    "    model_swin = PetModelForCB_swin(num_classes=1)\n",
    "    model_beit = PetModelForCB_beit(num_classes=1)\n",
    "    model_vit = PetModelForCB_vit(num_classes=1)\n",
    "\n",
    "    learn_swin = Learner(\n",
    "        dls, \n",
    "        model_swin, \n",
    "        loss_func=BCEWithLogitsLossFlat(), \n",
    "        metrics=petfinder_rmse,\n",
    "        model_dir = \"swin_large_patch4_window7_224_bs8_10fold_mixup\"\n",
    "    ).to_fp16()\n",
    "    learn_swin.load(f'swin_large_patch4_window7_224_fold{fold}')\n",
    "    \n",
    "    learn_beit = Learner(\n",
    "        dls, \n",
    "        model_beit, \n",
    "        loss_func=BCEWithLogitsLossFlat(), \n",
    "        metrics=petfinder_rmse,\n",
    "        model_dir = \"beit_large_patch16_224_bs8_10fold_mixup\"\n",
    "    ).to_fp16()\n",
    "    learn_beit.load(f'beit_large_patch16_224_fold{fold}')\n",
    "    \n",
    "    learn_vit = Learner(\n",
    "        dls, \n",
    "        model_vit, \n",
    "        loss_func=BCEWithLogitsLossFlat(), \n",
    "        metrics=petfinder_rmse,\n",
    "        model_dir = \"vit_large_patch16_224_bs8_10fold_mixup\"\n",
    "    ).to_fp16()\n",
    "    learn_vit.load(f'vit_large_patch16_224_fold{fold}')\n",
    "\n",
    "\n",
    "    val_dl = dls.test_dl(val_df)\n",
    "\n",
    "    swin_val_preds, _ = learn_swin.tta(dl=val_dl, n=5, beta=0)\n",
    "    swin_val_preds = swin_val_preds.cpu().detach().numpy()\n",
    "    \n",
    "    final_test_predictions = []\n",
    "    final_test_predictions.extend(swin_val_preds[:,:1].ravel().tolist())\n",
    "    final_test_predictions = [x * 100 for x in final_test_predictions]\n",
    "    super_final_predictions.append(final_test_predictions)\n",
    "\n",
    "\n",
    "    beit_val_preds, _ = learn_beit.tta(dl=val_dl, n=5, beta=0)\n",
    "    beit_val_preds = beit_val_preds.cpu().detach().numpy()\n",
    "    \n",
    "    final_test_predictions2 = []\n",
    "    final_test_predictions2.extend(beit_val_preds[:,:1].ravel().tolist())\n",
    "    final_test_predictions2 = [x * 100 for x in final_test_predictions2]\n",
    "    super_final_predictions2.append(final_test_predictions2)\n",
    "\n",
    "    vit_val_preds, _ = learn_vit.tta(dl=val_dl, n=5, beta=0)\n",
    "    vit_val_preds = vit_val_preds.cpu().detach().numpy()\n",
    "    \n",
    "    final_test_predictions3 = []\n",
    "    final_test_predictions3.extend(vit_val_preds[:,:1].ravel().tolist())\n",
    "    final_test_predictions3 = [x * 100 for x in final_test_predictions3]\n",
    "    super_final_predictions3.append(final_test_predictions3)\n",
    "\n",
    "    \n",
    "    final_oof_true = val_df['Pawpularity'].values\n",
    "    super_final_oof_true.append(final_oof_true)\n",
    "\n",
    "    ##################\n",
    "    # COMPUTE RSME\n",
    "    rsme = np.sqrt( np.mean( (super_final_oof_true[-1] - np.array(super_final_predictions[-1]))**2.0 ) )\n",
    "    print(f'Fold{fold} Swin NN RSME =',rsme,'\\n')\n",
    "    rsme = np.sqrt( np.mean( (super_final_oof_true[-1] - np.array(super_final_predictions2[-1]))**2.0 ) )\n",
    "    print(f'Fold{fold} Beit NN RSME =',rsme,'\\n')\n",
    "    rsme = np.sqrt( np.mean( (super_final_oof_true[-1] - np.array(super_final_predictions3[-1]))**2.0 ) )\n",
    "    print(f'Fold{fold} Vit NN RSME =',rsme,'\\n')\n",
    "\n",
    "    w1, w2, w3 = 0.5, 0.4, 0.1\n",
    "    oof2 = w1*np.array(super_final_predictions[-1]) + w2*np.array(super_final_predictions2[-1]) + w3*np.array(super_final_predictions3[-1])\n",
    "    rsme = np.sqrt( np.mean( (super_final_oof_true[-1] - oof2)**2.0 ) )\n",
    "    print(f'Fold{fold} Ensemble RSME =',rsme,'\\n')\n",
    "\n",
    "gc.collect()\n",
    "torch.cuda.empty_cache()\n",
    "    "
   ]
  },
  {
   "cell_type": "code",
   "execution_count": 16,
   "metadata": {},
   "outputs": [
    {
     "name": "stdout",
     "output_type": "stream",
     "text": [
      "Overall CV Swin NN head RSME = 17.485547747948647\n",
      "Overall CV Beit NN head RSME = 17.613155628622746\n",
      "Overall CV Vit NN head RSME = 17.97784337952811\n",
      "Overall CV Ensemble heads RSME with 50% Swin and 30% Beit and 20% Vit = 17.31376836260132\n"
     ]
    }
   ],
   "source": [
    "true = np.hstack(super_final_oof_true)\n",
    "\n",
    "oof = np.hstack(super_final_predictions)\n",
    "rsme = np.sqrt( np.mean( (oof - true)**2.0 ))\n",
    "print('Overall CV Swin NN head RSME =',rsme)\n",
    "\n",
    "oof2 = np.hstack(super_final_predictions2)\n",
    "rsme = np.sqrt( np.mean( (oof2 - true)**2.0 ))\n",
    "print('Overall CV Beit NN head RSME =',rsme)\n",
    "\n",
    "oof3 = np.hstack(super_final_predictions3)\n",
    "rsme = np.sqrt( np.mean( (oof3 - true)**2.0 ))\n",
    "print('Overall CV Vit NN head RSME =',rsme)\n",
    "\n",
    "\n",
    "oof4 = w1*oof + w2*oof2 + w3*oof3\n",
    "rsme = np.sqrt( np.mean( (oof4 - true)**2.0 ))\n",
    "print('Overall CV Ensemble heads RSME with 50% Swin and 30% Beit and 20% Vit =',rsme)"
   ]
  },
  {
   "cell_type": "code",
   "execution_count": 17,
   "metadata": {},
   "outputs": [
    {
     "name": "stdout",
     "output_type": "stream",
     "text": [
      "0.0 and 0.0 CV Ensemble RSME = 17.485547747948647\n",
      "0.0 and 0.05 CV Ensemble RSME = 17.4597273274936\n",
      "0.0 and 0.1 CV Ensemble RSME = 17.439227118150388\n",
      "0.0 and 0.15 CV Ensemble RSME = 17.424065898343223\n",
      "0.0 and 0.2 CV Ensemble RSME = 17.414257612788234\n",
      "0.0 and 0.25 CV Ensemble RSME = 17.409811308646308\n",
      "0.0 and 0.3 CV Ensemble RSME = 17.41073109390169\n",
      "0.0 and 0.35 CV Ensemble RSME = 17.417016118411663\n",
      "0.0 and 0.4 CV Ensemble RSME = 17.428660577830943\n",
      "0.0 and 0.45 CV Ensemble RSME = 17.44565374036856\n",
      "0.0 and 0.5 CV Ensemble RSME = 17.467979996090072\n",
      "0.0 and 0.55 CV Ensemble RSME = 17.495618928238596\n",
      "0.0 and 0.6 CV Ensemble RSME = 17.528545405818722\n",
      "0.0 and 0.65 CV Ensemble RSME = 17.566729696472443\n",
      "0.0 and 0.7 CV Ensemble RSME = 17.61013759847933\n",
      "0.0 and 0.75 CV Ensemble RSME = 17.658730590537765\n",
      "0.0 and 0.8 CV Ensemble RSME = 17.712465997832805\n",
      "0.0 and 0.85 CV Ensemble RSME = 17.771297172771117\n",
      "0.0 and 0.9 CV Ensemble RSME = 17.835173688665677\n",
      "0.0 and 0.95 CV Ensemble RSME = 17.904041544583514\n",
      "0.0 and 1.0 CV Ensemble RSME = 17.97784337952811\n",
      "0.05 and 0.0 CV Ensemble RSME = 17.450617298910114\n",
      "0.05 and 0.05 CV Ensemble RSME = 17.426799897748914\n",
      "0.05 and 0.1 CV Ensemble RSME = 17.408317869992853\n",
      "0.05 and 0.15 CV Ensemble RSME = 17.39518822182197\n",
      "0.05 and 0.2 CV Ensemble RSME = 17.387423078359983\n",
      "0.05 and 0.25 CV Ensemble RSME = 17.385029627887533\n",
      "0.05 and 0.3 CV Ensemble RSME = 17.38801008863692\n",
      "0.05 and 0.35 CV Ensemble RSME = 17.39636169852541\n",
      "0.05 and 0.4 CV Ensemble RSME = 17.410076727937604\n",
      "0.05 and 0.45 CV Ensemble RSME = 17.42914251541933\n",
      "0.05 and 0.5 CV Ensemble RSME = 17.453541525899286\n",
      "0.05 and 0.55 CV Ensemble RSME = 17.483251430816708\n",
      "0.05 and 0.6 CV Ensemble RSME = 17.518245209306446\n",
      "0.05 and 0.65 CV Ensemble RSME = 17.558491269382813\n",
      "0.05 and 0.7 CV Ensemble RSME = 17.60395358787244\n",
      "0.05 and 0.75 CV Ensemble RSME = 17.654591867678835\n",
      "0.05 and 0.8 CV Ensemble RSME = 17.710361710818518\n",
      "0.05 and 0.85 CV Ensemble RSME = 17.771214805553164\n",
      "0.05 and 0.9 CV Ensemble RSME = 17.83709912585473\n",
      "0.05 and 0.95 CV Ensemble RSME = 17.90795914138162\n",
      "0.1 and 0.0 CV Ensemble RSME = 17.419980987368795\n",
      "0.1 and 0.05 CV Ensemble RSME = 17.398179801978625\n",
      "0.1 and 0.1 CV Ensemble RSME = 17.38172744772607\n",
      "0.1 and 0.15 CV Ensemble RSME = 17.370639122826226\n",
      "0.1 and 0.2 CV Ensemble RSME = 17.364925102840452\n",
      "0.1 and 0.25 CV Ensemble RSME = 17.364590693201677\n",
      "0.1 and 0.3 CV Ensemble RSME = 17.369636204623408\n",
      "0.1 and 0.35 CV Ensemble RSME = 17.380056951657917\n",
      "0.1 and 0.4 CV Ensemble RSME = 17.39584327441907\n",
      "0.1 and 0.45 CV Ensemble RSME = 17.416980583235436\n",
      "0.1 and 0.5 CV Ensemble RSME = 17.44344942575348\n",
      "0.1 and 0.55 CV Ensemble RSME = 17.47522557577466\n",
      "0.1 and 0.6 CV Ensemble RSME = 17.51228014288741\n",
      "0.1 and 0.65 CV Ensemble RSME = 17.55457970175016\n",
      "0.1 and 0.7 CV Ensemble RSME = 17.60208643969797\n",
      "0.1 and 0.75 CV Ensemble RSME = 17.65475832118553\n",
      "0.1 and 0.8 CV Ensemble RSME = 17.71254926744625\n",
      "0.1 and 0.85 CV Ensemble RSME = 17.775409349641485\n",
      "0.1 and 0.9 CV Ensemble RSME = 17.843284993697303\n",
      "0.15 and 0.0 CV Ensemble RSME = 17.39366150376626\n",
      "0.15 and 0.05 CV Ensemble RSME = 17.373888326676123\n",
      "0.15 and 0.1 CV Ensemble RSME = 17.359475697479915\n",
      "0.15 and 0.15 CV Ensemble RSME = 17.35043697485308\n",
      "0.15 and 0.2 CV Ensemble RSME = 17.346780559189423\n",
      "0.15 and 0.25 CV Ensemble RSME = 17.348509853655035\n",
      "0.15 and 0.3 CV Ensemble RSME = 17.355623248371977\n",
      "0.15 and 0.35 CV Ensemble RSME = 17.36811412790301\n",
      "0.15 and 0.4 CV Ensemble RSME = 17.385970901956227\n",
      "0.15 and 0.45 CV Ensemble RSME = 17.409177058977928\n",
      "0.15 and 0.5 CV Ensemble RSME = 17.437711242057787\n",
      "0.15 and 0.55 CV Ensemble RSME = 17.471547346337243\n",
      "0.15 and 0.6 CV Ensemble RSME = 17.51065463689435\n",
      "0.15 and 0.65 CV Ensemble RSME = 17.55499788587984\n",
      "0.15 and 0.7 CV Ensemble RSME = 17.604537527503297\n",
      "0.15 and 0.75 CV Ensemble RSME = 17.659229829317827\n",
      "0.15 and 0.8 CV Ensemble RSME = 17.719027078128057\n",
      "0.15 and 0.85 CV Ensemble RSME = 17.783877778751528\n",
      "0.2 and 0.0 CV Ensemble RSME = 17.371678469133347\n",
      "0.2 and 0.05 CV Ensemble RSME = 17.353943649029446\n",
      "0.2 and 0.1 CV Ensemble RSME = 17.34157932069044\n",
      "0.2 and 0.15 CV Ensemble RSME = 17.33459697602679\n",
      "0.2 and 0.2 CV Ensemble RSME = 17.33300311919797\n",
      "0.2 and 0.25 CV Ensemble RSME = 17.33679923637423\n",
      "0.2 and 0.3 CV Ensemble RSME = 17.34598178881599\n",
      "0.2 and 0.35 CV Ensemble RSME = 17.36054222934572\n",
      "0.2 and 0.4 CV Ensemble RSME = 17.380467042033896\n",
      "0.2 and 0.45 CV Ensemble RSME = 17.405737804670256\n",
      "0.2 and 0.5 CV Ensemble RSME = 17.436331273349857\n",
      "0.2 and 0.55 CV Ensemble RSME = 17.472219488274508\n",
      "0.2 and 0.6 CV Ensemble RSME = 17.513369899658123\n",
      "0.2 and 0.65 CV Ensemble RSME = 17.559745512433633\n",
      "0.2 and 0.7 CV Ensemble RSME = 17.611305048291715\n",
      "0.2 and 0.75 CV Ensemble RSME = 17.668003123440627\n",
      "0.2 and 0.8 CV Ensemble RSME = 17.729790440363374\n",
      "0.25 and 0.0 CV Ensemble RSME = 17.354048362913545\n",
      "0.25 and 0.05 CV Ensemble RSME = 17.338360769680815\n",
      "0.25 and 0.1 CV Ensemble RSME = 17.32805181202553\n",
      "0.25 and 0.15 CV Ensemble RSME = 17.32313109239338\n",
      "0.25 and 0.2 CV Ensemble RSME = 17.323603202325472\n",
      "0.25 and 0.25 CV Ensemble RSME = 17.32946770106823\n",
      "0.25 and 0.3 CV Ensemble RSME = 17.34071911762839\n",
      "0.25 and 0.35 CV Ensemble RSME = 17.357346976250973\n",
      "0.25 and 0.4 CV Ensemble RSME = 17.379335845043823\n",
      "0.25 and 0.45 CV Ensemble RSME = 17.40666540722409\n",
      "0.25 and 0.5 CV Ensemble RSME = 17.43931055422343\n",
      "0.25 and 0.55 CV Ensemble RSME = 17.477241499665098\n",
      "0.25 and 0.6 CV Ensemble RSME = 17.520423913020867\n",
      "0.25 and 0.65 CV Ensemble RSME = 17.568819071572833\n",
      "0.25 and 0.7 CV Ensemble RSME = 17.622384029147113\n",
      "0.25 and 0.75 CV Ensemble RSME = 17.68107179995567\n",
      "0.3 and 0.0 CV Ensemble RSME = 17.340784461776067\n",
      "0.3 and 0.05 CV Ensemble RSME = 17.327151456761857\n",
      "0.3 and 0.1 CV Ensemble RSME = 17.318903408839862\n",
      "0.3 and 0.15 CV Ensemble RSME = 17.316048012963464\n",
      "0.3 and 0.2 CV Ensemble RSME = 17.31858793646748\n",
      "0.3 and 0.25 CV Ensemble RSME = 17.32652080662556\n",
      "0.3 and 0.3 CV Ensemble RSME = 17.339839221719156\n",
      "0.3 and 0.35 CV Ensemble RSME = 17.358530785498008\n",
      "0.3 and 0.4 CV Ensemble RSME = 17.38257816465855\n",
      "0.3 and 0.45 CV Ensemble RSME = 17.411959168721275\n",
      "0.3 and 0.5 CV Ensemble RSME = 17.44664685145371\n",
      "0.3 and 0.55 CV Ensemble RSME = 17.486609632768523\n",
      "0.3 and 0.6 CV Ensemble RSME = 17.531811439828353\n",
      "0.3 and 0.65 CV Ensemble RSME = 17.58221186591522\n",
      "0.3 and 0.7 CV Ensemble RSME = 17.637766345473963\n",
      "0.35 and 0.0 CV Ensemble RSME = 17.331896789943297\n",
      "0.35 and 0.05 CV Ensemble RSME = 17.320324201687534\n",
      "0.35 and 0.1 CV Ensemble RSME = 17.314141052597712\n",
      "0.35 and 0.15 CV Ensemble RSME = 17.31335311689524\n",
      "0.35 and 0.2 CV Ensemble RSME = 17.317961130997293\n",
      "0.35 and 0.25 CV Ensemble RSME = 17.327960790079437\n",
      "0.35 and 0.3 CV Ensemble RSME = 17.34334276815453\n",
      "0.35 and 0.35 CV Ensemble RSME = 17.364092761449875\n",
      "0.35 and 0.4 CV Ensemble RSME = 17.39019155461331\n",
      "0.35 and 0.45 CV Ensemble RSME = 17.421615109036892\n",
      "0.35 and 0.5 CV Ensemble RSME = 17.458334672358394\n",
      "0.35 and 0.55 CV Ensemble RSME = 17.500316907990275\n",
      "0.35 and 0.6 CV Ensemble RSME = 17.547524043336704\n",
      "0.35 and 0.65 CV Ensemble RSME = 17.599914035194583\n",
      "0.4 and 0.0 CV Ensemble RSME = 17.32739208146338\n",
      "0.4 and 0.05 CV Ensemble RSME = 17.317884187094045\n",
      "0.4 and 0.1 CV Ensemble RSME = 17.31376836260132\n",
      "0.4 and 0.15 CV Ensemble RSME = 17.315048453105668\n",
      "0.4 and 0.2 CV Ensemble RSME = 17.321723262318613\n",
      "0.4 and 0.25 CV Ensemble RSME = 17.3337865581261\n",
      "0.4 and 0.3 CV Ensemble RSME = 17.351227101630784\n",
      "0.4 and 0.35 CV Ensemble RSME = 17.374028699338282\n",
      "0.4 and 0.4 CV Ensemble RSME = 17.402170277924085\n",
      "0.4 and 0.45 CV Ensemble RSME = 17.435625980780525\n",
      "0.4 and 0.5 CV Ensemble RSME = 17.47436528532134\n",
      "0.4 and 0.55 CV Ensemble RSME = 17.51835313981849\n",
      "0.4 and 0.6 CV Ensemble RSME = 17.567550118366068\n",
      "0.45 and 0.0 CV Ensemble RSME = 17.32727375475766\n",
      "0.45 and 0.05 CV Ensemble RSME = 17.319833267202128\n",
      "0.45 and 0.1 CV Ensemble RSME = 17.317785622256093\n",
      "0.45 and 0.15 CV Ensemble RSME = 17.321132732489765\n",
      "0.45 and 0.2 CV Ensemble RSME = 17.329871472056773\n",
      "0.45 and 0.25 CV Ensemble RSME = 17.343993691271233\n",
      "0.45 and 0.3 CV Ensemble RSME = 17.36348625452492\n",
      "0.45 and 0.35 CV Ensemble RSME = 17.388331101134042\n",
      "0.45 and 0.4 CV Ensemble RSME = 17.418505328461034\n",
      "0.45 and 0.45 CV Ensemble RSME = 17.45398129642506\n",
      "0.45 and 0.5 CV Ensemble RSME = 17.49472675230043\n",
      "0.45 and 0.55 CV Ensemble RSME = 17.54070497450793\n",
      "0.45 and 0.6 CV Ensemble RSME = 17.5918749339338\n",
      "0.5 and 0.0 CV Ensemble RSME = 17.33154189966686\n",
      "0.5 and 0.05 CV Ensemble RSME = 17.326169960779037\n",
      "0.5 and 0.1 CV Ensemble RSME = 17.326189777994063\n",
      "0.5 and 0.15 CV Ensemble RSME = 17.331601332816895\n",
      "0.5 and 0.2 CV Ensemble RSME = 17.34239957790459\n",
      "0.5 and 0.25 CV Ensemble RSME = 17.3585744605679\n",
      "0.5 and 0.3 CV Ensemble RSME = 17.38011096943358\n",
      "0.5 and 0.35 CV Ensemble RSME = 17.406989203763562\n",
      "0.5 and 0.4 CV Ensemble RSME = 17.43918446468834\n",
      "0.5 and 0.45 CV Ensemble RSME = 17.476667367386817\n",
      "0.5 and 0.5 CV Ensemble RSME = 17.519403973038287\n",
      "0.55 and 0.0 CV Ensemble RSME = 17.340193277110348\n",
      "0.55 and 0.05 CV Ensemble RSME = 17.336889456761345\n",
      "0.55 and 0.1 CV Ensemble RSME = 17.338974450865102\n",
      "0.55 and 0.15 CV Ensemble RSME = 17.346446316260664\n",
      "0.55 and 0.2 CV Ensemble RSME = 17.35929809702696\n",
      "0.55 and 0.25 CV Ensemble RSME = 17.377517856798328\n",
      "0.55 and 0.3 CV Ensemble RSME = 17.401088734002133\n",
      "0.55 and 0.35 CV Ensemble RSME = 17.429989019424468\n",
      "0.55 and 0.4 CV Ensemble RSME = 17.464192255276778\n",
      "0.55 and 0.45 CV Ensemble RSME = 17.503667354718882\n",
      "0.6 and 0.0 CV Ensemble RSME = 17.35322133136146\n",
      "0.6 and 0.05 CV Ensemble RSME = 17.351983632488945\n",
      "0.6 and 0.1 CV Ensemble RSME = 17.35612996069343\n",
      "0.6 and 0.15 CV Ensemble RSME = 17.365656459407646\n",
      "0.6 and 0.2 CV Ensemble RSME = 17.38055428181803\n",
      "0.6 and 0.25 CV Ensemble RSME = 17.40080963184328\n",
      "0.6 and 0.3 CV Ensemble RSME = 17.426403827739303\n",
      "0.6 and 0.35 CV Ensemble RSME = 17.457313387649727\n",
      "0.6 and 0.4 CV Ensemble RSME = 17.493510136194853\n",
      "0.65 and 0.0 CV Ensemble RSME = 17.37061621483057\n",
      "0.65 and 0.05 CV Ensemble RSME = 17.371441084389236\n",
      "0.65 and 0.1 CV Ensemble RSME = 17.377643362586543\n",
      "0.65 and 0.15 CV Ensemble RSME = 17.38921729548114\n",
      "0.65 and 0.2 CV Ensemble RSME = 17.40615216769757\n",
      "0.65 and 0.25 CV Ensemble RSME = 17.42843235187823\n",
      "0.65 and 0.3 CV Ensemble RSME = 17.45603738041136\n",
      "0.65 and 0.35 CV Ensemble RSME = 17.48894203867152\n",
      "0.7 and 0.0 CV Ensemble RSME = 17.392364825137825\n",
      "0.7 and 0.05 CV Ensemble RSME = 17.39524717084207\n",
      "0.7 and 0.1 CV Ensemble RSME = 17.403498495476615\n",
      "0.7 and 0.15 CV Ensemble RSME = 17.41711116841122\n",
      "0.7 and 0.2 CV Ensemble RSME = 17.436072632531193\n",
      "0.7 and 0.25 CV Ensemble RSME = 17.460365461936412\n",
      "0.7 and 0.3 CV Ensemble RSME = 17.489967441514317\n",
      "0.75 and 0.0 CV Ensemble RSME = 17.418450854151434\n",
      "0.75 and 0.05 CV Ensemble RSME = 17.423384066851433\n",
      "0.75 and 0.1 CV Ensemble RSME = 17.433676042272495\n",
      "0.75 and 0.15 CV Ensemble RSME = 17.449317298283336\n",
      "0.75 and 0.2 CV Ensemble RSME = 17.470293467163177\n",
      "0.75 and 0.25 CV Ensemble RSME = 17.49658536128718\n",
      "0.75 and 0.3 CV Ensemble RSME = 17.528169060235122\n",
      "0.8 and 0.0 CV Ensemble RSME = 17.44885484856605\n",
      "0.8 and 0.05 CV Ensemble RSME = 17.455830830051493\n",
      "0.8 and 0.1 CV Ensemble RSME = 17.46815360110495\n",
      "0.8 and 0.15 CV Ensemble RSME = 17.48581185760575\n",
      "0.8 and 0.2 CV Ensemble RSME = 17.508789456462885\n",
      "0.85 and 0.0 CV Ensemble RSME = 17.483554281501387\n",
      "0.85 and 0.05 CV Ensemble RSME = 17.492563477483248\n",
      "0.85 and 0.1 CV Ensemble RSME = 17.506905767060218\n",
      "0.85 and 0.15 CV Ensemble RSME = 17.52656805775284\n",
      "0.9 and 0.0 CV Ensemble RSME = 17.52252363451466\n",
      "0.9 and 0.05 CV Ensemble RSME = 17.533555072495307\n",
      "0.9 and 0.1 CV Ensemble RSME = 17.54990422371864\n",
      "0.9 and 0.15 CV Ensemble RSME = 17.571556244867416\n",
      "0.95 and 0.0 CV Ensemble RSME = 17.565734489342727\n",
      "0.95 and 0.05 CV Ensemble RSME = 17.57877582104942\n",
      "1.0 and 0.0 CV Ensemble RSME = 17.613155628622746\n",
      "1.0 and 0.05 CV Ensemble RSME = 17.628193176648537\n"
     ]
    }
   ],
   "source": [
    "import matplotlib.pyplot as plt\n",
    "\n",
    "score = []\n",
    "for ww1 in np.arange(0,1.05,0.05):\n",
    "    for ww2 in np.arange(0, 1.05-ww1, 0.05):\n",
    "        oof4 = (1-ww1-ww2)*oof + ww1*oof2 + ww2*oof3\n",
    "        rsme = np.sqrt( np.mean( (oof4 - true)**2.0 ))\n",
    "        print(f'{ww1:0.2} and {ww2:0.2} CV Ensemble RSME =',rsme)\n",
    "        score.append(rsme)\n",
    "        \n",
    "best_w = np.argmin(score)*0.05\n",
    "\n",
    "# print(best_w)\n",
    "\n",
    "# plt.figure(figsize=(20,5))\n",
    "# plt.plot(np.arange(21)/20.0,score,'-o')\n",
    "# plt.plot([best_w],np.min(score),'o',color='black',markersize=15)\n",
    "# plt.title(f'Best Overall CV RSME={np.min(score):.4} with SVR Ensemble Weight={best_w:.2}',size=16)\n",
    "# plt.ylabel('Overall Ensemble RSME',size=14)\n",
    "# plt.xlabel('SVR Weight',size=14)\n",
    "# plt.show()\n"
   ]
  },
  {
   "cell_type": "code",
   "execution_count": null,
   "metadata": {},
   "outputs": [],
   "source": []
  }
 ],
 "metadata": {
  "interpreter": {
   "hash": "5e12d91e1da5d66fb580e96699ee198fd9d2759057be15109a9caf046b9070c6"
  },
  "kernelspec": {
   "display_name": "Python 3",
   "language": "python",
   "name": "python3"
  },
  "language_info": {
   "codemirror_mode": {
    "name": "ipython",
    "version": 3
   },
   "file_extension": ".py",
   "mimetype": "text/x-python",
   "name": "python",
   "nbconvert_exporter": "python",
   "pygments_lexer": "ipython3",
   "version": "3.7.10"
  }
 },
 "nbformat": 4,
 "nbformat_minor": 4
}
