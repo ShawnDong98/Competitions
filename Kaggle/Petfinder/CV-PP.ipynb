{
 "cells": [
  {
   "cell_type": "code",
   "execution_count": 1,
   "id": "5f0a996d-9c51-4f8d-8872-971cc28a0605",
   "metadata": {},
   "outputs": [],
   "source": [
    "import os\n",
    "os.environ[\"CUDA_VISIBLE_DEVICES\"] = \"0\""
   ]
  },
  {
   "cell_type": "code",
   "execution_count": 2,
   "id": "4ea6f926-51dc-413b-80fb-d9c49fbc825c",
   "metadata": {},
   "outputs": [],
   "source": [
    "from timm import create_model"
   ]
  },
  {
   "cell_type": "code",
   "execution_count": 3,
   "id": "9a22ce10-3951-4a20-b9ee-f222fd53a583",
   "metadata": {},
   "outputs": [],
   "source": [
    "from fastai.vision.all import *"
   ]
  },
  {
   "cell_type": "code",
   "execution_count": 4,
   "id": "496da60f-190b-49d0-a778-a4e475a4c30d",
   "metadata": {},
   "outputs": [],
   "source": [
    "set_seed(999, reproducible=True)\n",
    "BATCH_SIZE = 8"
   ]
  },
  {
   "cell_type": "code",
   "execution_count": 5,
   "id": "d301a61b-8b70-4ae4-8d6d-0f564e68fd6f",
   "metadata": {},
   "outputs": [
    {
     "data": {
      "text/plain": [
       "(#13) [Path('../datasets/kaggle/petfinder/train_5folds.csv'),Path('../datasets/kaggle/petfinder/train_10folds.csv'),Path('../datasets/kaggle/petfinder/test.csv'),Path('../datasets/kaggle/petfinder/train.csv'),Path('../datasets/kaggle/petfinder/test'),Path('../datasets/kaggle/petfinder/sample_submission.csv'),Path('../datasets/kaggle/petfinder/archive.zip'),Path('../datasets/kaggle/petfinder/.ipynb_checkpoints'),Path('../datasets/kaggle/petfinder/train'),Path('../datasets/kaggle/petfinder/crop')...]"
      ]
     },
     "execution_count": 5,
     "metadata": {},
     "output_type": "execute_result"
    }
   ],
   "source": [
    "dataset_path = Path('../datasets/kaggle/petfinder/')\n",
    "dataset_path.ls()"
   ]
  },
  {
   "cell_type": "code",
   "execution_count": 6,
   "id": "57dd8f5c-2a88-4ecc-abe1-b0139d23187e",
   "metadata": {},
   "outputs": [
    {
     "data": {
      "text/html": [
       "<div>\n",
       "<style scoped>\n",
       "    .dataframe tbody tr th:only-of-type {\n",
       "        vertical-align: middle;\n",
       "    }\n",
       "\n",
       "    .dataframe tbody tr th {\n",
       "        vertical-align: top;\n",
       "    }\n",
       "\n",
       "    .dataframe thead th {\n",
       "        text-align: right;\n",
       "    }\n",
       "</style>\n",
       "<table border=\"1\" class=\"dataframe\">\n",
       "  <thead>\n",
       "    <tr style=\"text-align: right;\">\n",
       "      <th></th>\n",
       "      <th>Id</th>\n",
       "      <th>Subject Focus</th>\n",
       "      <th>Eyes</th>\n",
       "      <th>Face</th>\n",
       "      <th>Near</th>\n",
       "      <th>Action</th>\n",
       "      <th>Accessory</th>\n",
       "      <th>Group</th>\n",
       "      <th>Collage</th>\n",
       "      <th>Human</th>\n",
       "      <th>Occlusion</th>\n",
       "      <th>Info</th>\n",
       "      <th>Blur</th>\n",
       "      <th>Pawpularity</th>\n",
       "    </tr>\n",
       "  </thead>\n",
       "  <tbody>\n",
       "    <tr>\n",
       "      <th>0</th>\n",
       "      <td>0007de18844b0dbbb5e1f607da0606e0</td>\n",
       "      <td>0</td>\n",
       "      <td>1</td>\n",
       "      <td>1</td>\n",
       "      <td>1</td>\n",
       "      <td>0</td>\n",
       "      <td>0</td>\n",
       "      <td>1</td>\n",
       "      <td>0</td>\n",
       "      <td>0</td>\n",
       "      <td>0</td>\n",
       "      <td>0</td>\n",
       "      <td>0</td>\n",
       "      <td>63</td>\n",
       "    </tr>\n",
       "    <tr>\n",
       "      <th>1</th>\n",
       "      <td>0009c66b9439883ba2750fb825e1d7db</td>\n",
       "      <td>0</td>\n",
       "      <td>1</td>\n",
       "      <td>1</td>\n",
       "      <td>0</td>\n",
       "      <td>0</td>\n",
       "      <td>0</td>\n",
       "      <td>0</td>\n",
       "      <td>0</td>\n",
       "      <td>0</td>\n",
       "      <td>0</td>\n",
       "      <td>0</td>\n",
       "      <td>0</td>\n",
       "      <td>42</td>\n",
       "    </tr>\n",
       "    <tr>\n",
       "      <th>2</th>\n",
       "      <td>0013fd999caf9a3efe1352ca1b0d937e</td>\n",
       "      <td>0</td>\n",
       "      <td>1</td>\n",
       "      <td>1</td>\n",
       "      <td>1</td>\n",
       "      <td>0</td>\n",
       "      <td>0</td>\n",
       "      <td>0</td>\n",
       "      <td>0</td>\n",
       "      <td>1</td>\n",
       "      <td>1</td>\n",
       "      <td>0</td>\n",
       "      <td>0</td>\n",
       "      <td>28</td>\n",
       "    </tr>\n",
       "    <tr>\n",
       "      <th>3</th>\n",
       "      <td>0018df346ac9c1d8413cfcc888ca8246</td>\n",
       "      <td>0</td>\n",
       "      <td>1</td>\n",
       "      <td>1</td>\n",
       "      <td>1</td>\n",
       "      <td>0</td>\n",
       "      <td>0</td>\n",
       "      <td>0</td>\n",
       "      <td>0</td>\n",
       "      <td>0</td>\n",
       "      <td>0</td>\n",
       "      <td>0</td>\n",
       "      <td>0</td>\n",
       "      <td>15</td>\n",
       "    </tr>\n",
       "    <tr>\n",
       "      <th>4</th>\n",
       "      <td>001dc955e10590d3ca4673f034feeef2</td>\n",
       "      <td>0</td>\n",
       "      <td>0</td>\n",
       "      <td>0</td>\n",
       "      <td>1</td>\n",
       "      <td>0</td>\n",
       "      <td>0</td>\n",
       "      <td>1</td>\n",
       "      <td>0</td>\n",
       "      <td>0</td>\n",
       "      <td>0</td>\n",
       "      <td>0</td>\n",
       "      <td>0</td>\n",
       "      <td>72</td>\n",
       "    </tr>\n",
       "  </tbody>\n",
       "</table>\n",
       "</div>"
      ],
      "text/plain": [
       "                                 Id  Subject Focus  Eyes  Face  Near  Action  \\\n",
       "0  0007de18844b0dbbb5e1f607da0606e0              0     1     1     1       0   \n",
       "1  0009c66b9439883ba2750fb825e1d7db              0     1     1     0       0   \n",
       "2  0013fd999caf9a3efe1352ca1b0d937e              0     1     1     1       0   \n",
       "3  0018df346ac9c1d8413cfcc888ca8246              0     1     1     1       0   \n",
       "4  001dc955e10590d3ca4673f034feeef2              0     0     0     1       0   \n",
       "\n",
       "   Accessory  Group  Collage  Human  Occlusion  Info  Blur  Pawpularity  \n",
       "0          0      1        0      0          0     0     0           63  \n",
       "1          0      0        0      0          0     0     0           42  \n",
       "2          0      0        0      1          1     0     0           28  \n",
       "3          0      0        0      0          0     0     0           15  \n",
       "4          0      1        0      0          0     0     0           72  "
      ]
     },
     "execution_count": 6,
     "metadata": {},
     "output_type": "execute_result"
    }
   ],
   "source": [
    "df = pd.read_csv(dataset_path/'train.csv')\n",
    "df.head()"
   ]
  },
  {
   "cell_type": "code",
   "execution_count": 7,
   "id": "922adece-2866-4881-b2d9-3e1c27cb021e",
   "metadata": {},
   "outputs": [
    {
     "data": {
      "text/html": [
       "<div>\n",
       "<style scoped>\n",
       "    .dataframe tbody tr th:only-of-type {\n",
       "        vertical-align: middle;\n",
       "    }\n",
       "\n",
       "    .dataframe tbody tr th {\n",
       "        vertical-align: top;\n",
       "    }\n",
       "\n",
       "    .dataframe thead th {\n",
       "        text-align: right;\n",
       "    }\n",
       "</style>\n",
       "<table border=\"1\" class=\"dataframe\">\n",
       "  <thead>\n",
       "    <tr style=\"text-align: right;\">\n",
       "      <th></th>\n",
       "      <th>Id</th>\n",
       "      <th>Subject Focus</th>\n",
       "      <th>Eyes</th>\n",
       "      <th>Face</th>\n",
       "      <th>Near</th>\n",
       "      <th>Action</th>\n",
       "      <th>Accessory</th>\n",
       "      <th>Group</th>\n",
       "      <th>Collage</th>\n",
       "      <th>Human</th>\n",
       "      <th>Occlusion</th>\n",
       "      <th>Info</th>\n",
       "      <th>Blur</th>\n",
       "      <th>Pawpularity</th>\n",
       "      <th>path</th>\n",
       "    </tr>\n",
       "  </thead>\n",
       "  <tbody>\n",
       "    <tr>\n",
       "      <th>0</th>\n",
       "      <td>ebaaa8e384b3d2f0a56c7ff7675c154c</td>\n",
       "      <td>0</td>\n",
       "      <td>0</td>\n",
       "      <td>1</td>\n",
       "      <td>1</td>\n",
       "      <td>0</td>\n",
       "      <td>0</td>\n",
       "      <td>0</td>\n",
       "      <td>0</td>\n",
       "      <td>0</td>\n",
       "      <td>0</td>\n",
       "      <td>0</td>\n",
       "      <td>1</td>\n",
       "      <td>50</td>\n",
       "      <td>../datasets/kaggle/petfinder/train/ebaaa8e384b3d2f0a56c7ff7675c154c.jpg</td>\n",
       "    </tr>\n",
       "    <tr>\n",
       "      <th>1</th>\n",
       "      <td>25e3bf4267c2dc3f579b779418221bb7</td>\n",
       "      <td>0</td>\n",
       "      <td>1</td>\n",
       "      <td>1</td>\n",
       "      <td>1</td>\n",
       "      <td>0</td>\n",
       "      <td>1</td>\n",
       "      <td>0</td>\n",
       "      <td>1</td>\n",
       "      <td>0</td>\n",
       "      <td>0</td>\n",
       "      <td>1</td>\n",
       "      <td>0</td>\n",
       "      <td>25</td>\n",
       "      <td>../datasets/kaggle/petfinder/train/25e3bf4267c2dc3f579b779418221bb7.jpg</td>\n",
       "    </tr>\n",
       "    <tr>\n",
       "      <th>2</th>\n",
       "      <td>6548166fb3fda22b67881176397f0223</td>\n",
       "      <td>0</td>\n",
       "      <td>0</td>\n",
       "      <td>1</td>\n",
       "      <td>1</td>\n",
       "      <td>0</td>\n",
       "      <td>1</td>\n",
       "      <td>0</td>\n",
       "      <td>0</td>\n",
       "      <td>0</td>\n",
       "      <td>0</td>\n",
       "      <td>0</td>\n",
       "      <td>0</td>\n",
       "      <td>27</td>\n",
       "      <td>../datasets/kaggle/petfinder/train/6548166fb3fda22b67881176397f0223.jpg</td>\n",
       "    </tr>\n",
       "    <tr>\n",
       "      <th>3</th>\n",
       "      <td>472c40116e1833555715e4774445ae5b</td>\n",
       "      <td>0</td>\n",
       "      <td>1</td>\n",
       "      <td>1</td>\n",
       "      <td>1</td>\n",
       "      <td>0</td>\n",
       "      <td>0</td>\n",
       "      <td>0</td>\n",
       "      <td>0</td>\n",
       "      <td>1</td>\n",
       "      <td>1</td>\n",
       "      <td>0</td>\n",
       "      <td>0</td>\n",
       "      <td>19</td>\n",
       "      <td>../datasets/kaggle/petfinder/train/472c40116e1833555715e4774445ae5b.jpg</td>\n",
       "    </tr>\n",
       "    <tr>\n",
       "      <th>4</th>\n",
       "      <td>7b77e1a6d93667b575d57db83facd860</td>\n",
       "      <td>0</td>\n",
       "      <td>1</td>\n",
       "      <td>1</td>\n",
       "      <td>1</td>\n",
       "      <td>0</td>\n",
       "      <td>0</td>\n",
       "      <td>0</td>\n",
       "      <td>1</td>\n",
       "      <td>0</td>\n",
       "      <td>0</td>\n",
       "      <td>0</td>\n",
       "      <td>0</td>\n",
       "      <td>27</td>\n",
       "      <td>../datasets/kaggle/petfinder/train/7b77e1a6d93667b575d57db83facd860.jpg</td>\n",
       "    </tr>\n",
       "  </tbody>\n",
       "</table>\n",
       "</div>"
      ],
      "text/plain": [
       "                                 Id  Subject Focus  Eyes  Face  Near  Action  \\\n",
       "0  ebaaa8e384b3d2f0a56c7ff7675c154c              0     0     1     1       0   \n",
       "1  25e3bf4267c2dc3f579b779418221bb7              0     1     1     1       0   \n",
       "2  6548166fb3fda22b67881176397f0223              0     0     1     1       0   \n",
       "3  472c40116e1833555715e4774445ae5b              0     1     1     1       0   \n",
       "4  7b77e1a6d93667b575d57db83facd860              0     1     1     1       0   \n",
       "\n",
       "   Accessory  Group  Collage  Human  Occlusion  Info  Blur  Pawpularity  \\\n",
       "0          0      0        0      0          0     0     1           50   \n",
       "1          1      0        1      0          0     1     0           25   \n",
       "2          1      0        0      0          0     0     0           27   \n",
       "3          0      0        0      1          1     0     0           19   \n",
       "4          0      0        1      0          0     0     0           27   \n",
       "\n",
       "                                                                      path  \n",
       "0  ../datasets/kaggle/petfinder/train/ebaaa8e384b3d2f0a56c7ff7675c154c.jpg  \n",
       "1  ../datasets/kaggle/petfinder/train/25e3bf4267c2dc3f579b779418221bb7.jpg  \n",
       "2  ../datasets/kaggle/petfinder/train/6548166fb3fda22b67881176397f0223.jpg  \n",
       "3  ../datasets/kaggle/petfinder/train/472c40116e1833555715e4774445ae5b.jpg  \n",
       "4  ../datasets/kaggle/petfinder/train/7b77e1a6d93667b575d57db83facd860.jpg  "
      ]
     },
     "execution_count": 7,
     "metadata": {},
     "output_type": "execute_result"
    }
   ],
   "source": [
    "df['path'] = df['Id'].map(lambda x:str(dataset_path/'train'/x)+'.jpg')\n",
    "df = df.sample(frac=1).reset_index(drop=True) #shuffle dataframe\n",
    "df.head()"
   ]
  },
  {
   "cell_type": "code",
   "execution_count": 8,
   "id": "7beaf932-3893-459d-9057-8ccf33a71470",
   "metadata": {},
   "outputs": [
    {
     "name": "stdout",
     "output_type": "stream",
     "text": [
      "There are 9912 images\n"
     ]
    }
   ],
   "source": [
    "len_df = len(df)\n",
    "print(f\"There are {len_df} images\")"
   ]
  },
  {
   "cell_type": "code",
   "execution_count": 9,
   "id": "b3213912-8010-4f42-93b2-70bfbcf47fb3",
   "metadata": {},
   "outputs": [
    {
     "name": "stdout",
     "output_type": "stream",
     "text": [
      "The mean Pawpularity score is 38.03904358353511\n",
      "The median Pawpularity score is 33.0\n",
      "The standard deviation of the Pawpularity score is 20.59199010577444\n"
     ]
    },
    {
     "data": {
      "image/png": "[encoded data removed]",
      "text/plain": [
       "<Figure size 720x360 with 1 Axes>"
      ]
     },
     "metadata": {
      "needs_background": "light"
     },
     "output_type": "display_data"
    }
   ],
   "source": [
    "df['Pawpularity'].hist(figsize = (10, 5))\n",
    "print(f\"The mean Pawpularity score is {df['Pawpularity'].mean()}\")\n",
    "print(f\"The median Pawpularity score is {df['Pawpularity'].median()}\")\n",
    "print(f\"The standard deviation of the Pawpularity score is {df['Pawpularity'].std()}\")"
   ]
  },
  {
   "cell_type": "code",
   "execution_count": 10,
   "id": "13dfd5e1-f6ee-44a7-81b3-a96b3727435f",
   "metadata": {},
   "outputs": [
    {
     "data": {
      "text/plain": [
       "0       0.50\n",
       "1       0.25\n",
       "2       0.27\n",
       "3       0.19\n",
       "4       0.27\n",
       "        ... \n",
       "9907    0.26\n",
       "9908    0.65\n",
       "9909    0.38\n",
       "9910    0.44\n",
       "9911    0.62\n",
       "Name: norm_score, Length: 9912, dtype: float64"
      ]
     },
     "execution_count": 10,
     "metadata": {},
     "output_type": "execute_result"
    }
   ],
   "source": [
    "df['norm_score'] = df['Pawpularity']/100\n",
    "df['norm_score']"
   ]
  },
  {
   "cell_type": "code",
   "execution_count": 11,
   "id": "d6e705be-9cd2-4f0b-b6e1-69e946ba08f4",
   "metadata": {},
   "outputs": [],
   "source": [
    "seed=999\n",
    "set_seed(seed, reproducible=True)\n",
    "torch.manual_seed(seed)\n",
    "torch.cuda.manual_seed(seed)\n",
    "torch.backends.cudnn.deterministic = True\n",
    "torch.use_deterministic_algorithms = True"
   ]
  },
  {
   "cell_type": "code",
   "execution_count": 12,
   "id": "263e2e01-ef83-4866-9969-62bd2f5aefbd",
   "metadata": {},
   "outputs": [],
   "source": [
    "#Sturges' rule\n",
    "num_bins = int(np.floor(1+(3.3)*(np.log2(len(df)))))\n",
    "# num_bins"
   ]
  },
  {
   "cell_type": "code",
   "execution_count": 13,
   "id": "a63a28f0-ecfe-4a79-846d-e6d6656c7624",
   "metadata": {},
   "outputs": [
    {
     "data": {
      "text/plain": [
       "<AxesSubplot:>"
      ]
     },
     "execution_count": 13,
     "metadata": {},
     "output_type": "execute_result"
    },
    {
     "data": {
      "image/png": "[encoded data removed]",
      "text/plain": [
       "<Figure size 432x288 with 1 Axes>"
      ]
     },
     "metadata": {
      "needs_background": "light"
     },
     "output_type": "display_data"
    }
   ],
   "source": [
    "df['bins'] = pd.cut(df['norm_score'], bins=num_bins, labels=False)\n",
    "df['bins'].hist()"
   ]
  },
  {
   "cell_type": "code",
   "execution_count": 14,
   "id": "359bb72e-d74f-4c3b-99ef-37c220a8db34",
   "metadata": {},
   "outputs": [],
   "source": [
    "import torch\n",
    "import torch.nn as nn\n",
    "\n",
    "# class PetModel(nn.Module):\n",
    "#     def __init__(\n",
    "#         self,\n",
    "#         num_classes\n",
    "#     ):\n",
    "#         super().__init__()\n",
    "#         self.model = create_model('swin_large_patch4_window7_224', num_classes=1, pretrained=True)\n",
    "       \n",
    "\n",
    "#     def forward(self, x):\n",
    "#         pred = self.model(x)\n",
    "       \n",
    "#         return pred\n",
    "\n",
    "# class PetModelForCB(nn.Module):\n",
    "#     def __init__(\n",
    "#         self,\n",
    "#         num_classes\n",
    "#     ):\n",
    "#         super().__init__()\n",
    "#         self.swin = create_model('swin_large_patch4_window7_224', num_classes=0, pretrained=True)\n",
    "#         self.res2next = create_model('res2next50', num_classes=0, pretrained=True)\n",
    "        \n",
    "#         self.dropout = nn.Dropout(0.5)\n",
    "#         self.dense1 = nn.Linear(self.swin.num_features + self.res2next.num_features, 128)\n",
    "#         self.gelu = nn.GELU()\n",
    "#         self.dense2 = nn.Linear(128, 1)\n",
    "        \n",
    "#     def forward(self, x):\n",
    "#         swin_features = self.swin(x)\n",
    "#         res2next_features = self.res2next(x)\n",
    "#         features = torch.cat([swin_features, res2next_features], dim=1)\n",
    "#         out = self.dense1(self.dropout(features))\n",
    "#         out = self.gelu(out)\n",
    "#         pred = self.dense2(out)\n",
    "#         out = torch.cat([pred, features], dim=1)\n",
    "#        return out\n",
    "\n",
    "\n",
    "class PetModel(nn.Module):\n",
    "    def __init__(\n",
    "        self,\n",
    "        num_classes\n",
    "    ):\n",
    "        super().__init__()\n",
    "        self.model = create_model('vit_large_patch16_224', num_classes=num_classes, pretrained=True)\n",
    "\n",
    "    def forward(self, x):\n",
    "        features = self.model.forward_features(x)\n",
    "        pred = self.model.head(features)\n",
    "        return pred\n",
    "\n",
    "\n",
    "# class PetModel(nn.Module):\n",
    "#     def __init__(\n",
    "#         self,\n",
    "#         num_classes\n",
    "#     ):\n",
    "#         super().__init__()\n",
    "#         self.model = create_model('tf_efficientnet_b0', num_classes=num_classes, pretrained=False)\n",
    "\n",
    "#     def forward(self, x):\n",
    "#         x = self.model.forward_features(x)\n",
    "#         x = self.model.global_pool(x)\n",
    "#         if self.model.drop_rate > 0.:\n",
    "#             x = F.dropout(x, p=self.model.drop_rate, training=self.model.training)\n",
    "#         return self.model.classifier(x)\n",
    "\n",
    "# class PetModelForCB(nn.Module):\n",
    "#     def __init__(\n",
    "#         self,\n",
    "#         num_classes\n",
    "#     ):\n",
    "#         super().__init__()\n",
    "#         self.model = create_model('tf_efficientnet_b0', num_classes=num_classes, pretrained=False)\n",
    "\n",
    "#     def forward(self, x):\n",
    "#         self.eval()\n",
    "#         features = self.model.forward_features(x)\n",
    "#         features = self.model.global_pool(features)\n",
    "#         if self.model.drop_rate > 0.:\n",
    "#             features = F.dropout(features, p=self.model.drop_rate, training=self.model.training)\n",
    "#         pred = self.model.classifier(features)\n",
    "#         out = torch.cat([pred, features], dim=1)\n",
    "#         return out"
   ]
  },
  {
   "cell_type": "code",
   "execution_count": 15,
   "id": "e70eba06-22ca-4890-a0da-17e32afd7ec4",
   "metadata": {},
   "outputs": [],
   "source": [
    "def petfinder_rmse(input,target):\n",
    "    return 100*torch.sqrt(F.mse_loss(F.sigmoid(input.flatten()), target))"
   ]
  },
  {
   "cell_type": "code",
   "execution_count": 16,
   "id": "e9e01e7f-89fa-40e7-b11e-7be55f898880",
   "metadata": {},
   "outputs": [
    {
     "name": "stderr",
     "output_type": "stream",
     "text": [
      "/opt/conda/envs/rapids/lib/python3.7/site-packages/fastai/learner.py:56: UserWarning: Saved filed doesn't contain an optimizer state.\n",
      "  elif with_opt: warn(\"Saved filed doesn't contain an optimizer state.\")\n"
     ]
    },
    {
     "data": {
      "text/html": [
       "\n",
       "    <div>\n",
       "        <style>\n",
       "            /* Turns off some styling */\n",
       "            progress {\n",
       "                /* gets rid of default border in Firefox and Opera. */\n",
       "                border: none;\n",
       "                /* Needs to be in here for Safari polyfill so background images work as expected. */\n",
       "                background-size: auto;\n",
       "            }\n",
       "            .progress-bar-interrupted, .progress-bar-interrupted::-webkit-progress-bar {\n",
       "                background: #F44336;\n",
       "            }\n",
       "        </style>\n",
       "      <progress value='0' class='' max='1' style='width:300px; height:20px; vertical-align: middle;'></progress>\n",
       "      \n",
       "    </div>\n",
       "    \n"
      ],
      "text/plain": [
       "<IPython.core.display.HTML object>"
      ]
     },
     "metadata": {},
     "output_type": "display_data"
    },
    {
     "data": {
      "text/html": [],
      "text/plain": [
       "<IPython.core.display.HTML object>"
      ]
     },
     "metadata": {},
     "output_type": "display_data"
    },
    {
     "name": "stdout",
     "output_type": "stream",
     "text": [
      "Fold1 NN RSME = 17.695806860330748 \n",
      "\n"
     ]
    },
    {
     "name": "stderr",
     "output_type": "stream",
     "text": [
      "/opt/conda/envs/rapids/lib/python3.7/site-packages/fastai/learner.py:56: UserWarning: Saved filed doesn't contain an optimizer state.\n",
      "  elif with_opt: warn(\"Saved filed doesn't contain an optimizer state.\")\n"
     ]
    },
    {
     "data": {
      "text/html": [
       "\n",
       "    <div>\n",
       "        <style>\n",
       "            /* Turns off some styling */\n",
       "            progress {\n",
       "                /* gets rid of default border in Firefox and Opera. */\n",
       "                border: none;\n",
       "                /* Needs to be in here for Safari polyfill so background images work as expected. */\n",
       "                background-size: auto;\n",
       "            }\n",
       "            .progress-bar-interrupted, .progress-bar-interrupted::-webkit-progress-bar {\n",
       "                background: #F44336;\n",
       "            }\n",
       "        </style>\n",
       "      <progress value='0' class='' max='1' style='width:300px; height:20px; vertical-align: middle;'></progress>\n",
       "      \n",
       "    </div>\n",
       "    \n"
      ],
      "text/plain": [
       "<IPython.core.display.HTML object>"
      ]
     },
     "metadata": {},
     "output_type": "display_data"
    },
    {
     "data": {
      "text/html": [],
      "text/plain": [
       "<IPython.core.display.HTML object>"
      ]
     },
     "metadata": {},
     "output_type": "display_data"
    },
    {
     "name": "stdout",
     "output_type": "stream",
     "text": [
      "Fold2 NN RSME = 17.470670355905444 \n",
      "\n"
     ]
    },
    {
     "name": "stderr",
     "output_type": "stream",
     "text": [
      "/opt/conda/envs/rapids/lib/python3.7/site-packages/fastai/learner.py:56: UserWarning: Saved filed doesn't contain an optimizer state.\n",
      "  elif with_opt: warn(\"Saved filed doesn't contain an optimizer state.\")\n"
     ]
    },
    {
     "data": {
      "text/html": [
       "\n",
       "    <div>\n",
       "        <style>\n",
       "            /* Turns off some styling */\n",
       "            progress {\n",
       "                /* gets rid of default border in Firefox and Opera. */\n",
       "                border: none;\n",
       "                /* Needs to be in here for Safari polyfill so background images work as expected. */\n",
       "                background-size: auto;\n",
       "            }\n",
       "            .progress-bar-interrupted, .progress-bar-interrupted::-webkit-progress-bar {\n",
       "                background: #F44336;\n",
       "            }\n",
       "        </style>\n",
       "      <progress value='0' class='' max='1' style='width:300px; height:20px; vertical-align: middle;'></progress>\n",
       "      \n",
       "    </div>\n",
       "    \n"
      ],
      "text/plain": [
       "<IPython.core.display.HTML object>"
      ]
     },
     "metadata": {},
     "output_type": "display_data"
    },
    {
     "data": {
      "text/html": [],
      "text/plain": [
       "<IPython.core.display.HTML object>"
      ]
     },
     "metadata": {},
     "output_type": "display_data"
    },
    {
     "name": "stdout",
     "output_type": "stream",
     "text": [
      "Fold3 NN RSME = 17.8757185721551 \n",
      "\n"
     ]
    },
    {
     "name": "stderr",
     "output_type": "stream",
     "text": [
      "/opt/conda/envs/rapids/lib/python3.7/site-packages/fastai/learner.py:56: UserWarning: Saved filed doesn't contain an optimizer state.\n",
      "  elif with_opt: warn(\"Saved filed doesn't contain an optimizer state.\")\n"
     ]
    },
    {
     "data": {
      "text/html": [
       "\n",
       "    <div>\n",
       "        <style>\n",
       "            /* Turns off some styling */\n",
       "            progress {\n",
       "                /* gets rid of default border in Firefox and Opera. */\n",
       "                border: none;\n",
       "                /* Needs to be in here for Safari polyfill so background images work as expected. */\n",
       "                background-size: auto;\n",
       "            }\n",
       "            .progress-bar-interrupted, .progress-bar-interrupted::-webkit-progress-bar {\n",
       "                background: #F44336;\n",
       "            }\n",
       "        </style>\n",
       "      <progress value='0' class='' max='1' style='width:300px; height:20px; vertical-align: middle;'></progress>\n",
       "      \n",
       "    </div>\n",
       "    \n"
      ],
      "text/plain": [
       "<IPython.core.display.HTML object>"
      ]
     },
     "metadata": {},
     "output_type": "display_data"
    },
    {
     "data": {
      "text/html": [],
      "text/plain": [
       "<IPython.core.display.HTML object>"
      ]
     },
     "metadata": {},
     "output_type": "display_data"
    },
    {
     "name": "stdout",
     "output_type": "stream",
     "text": [
      "Fold4 NN RSME = 17.235157316626953 \n",
      "\n"
     ]
    },
    {
     "name": "stderr",
     "output_type": "stream",
     "text": [
      "/opt/conda/envs/rapids/lib/python3.7/site-packages/fastai/learner.py:56: UserWarning: Saved filed doesn't contain an optimizer state.\n",
      "  elif with_opt: warn(\"Saved filed doesn't contain an optimizer state.\")\n"
     ]
    },
    {
     "data": {
      "text/html": [
       "\n",
       "    <div>\n",
       "        <style>\n",
       "            /* Turns off some styling */\n",
       "            progress {\n",
       "                /* gets rid of default border in Firefox and Opera. */\n",
       "                border: none;\n",
       "                /* Needs to be in here for Safari polyfill so background images work as expected. */\n",
       "                background-size: auto;\n",
       "            }\n",
       "            .progress-bar-interrupted, .progress-bar-interrupted::-webkit-progress-bar {\n",
       "                background: #F44336;\n",
       "            }\n",
       "        </style>\n",
       "      <progress value='0' class='' max='1' style='width:300px; height:20px; vertical-align: middle;'></progress>\n",
       "      \n",
       "    </div>\n",
       "    \n"
      ],
      "text/plain": [
       "<IPython.core.display.HTML object>"
      ]
     },
     "metadata": {},
     "output_type": "display_data"
    },
    {
     "data": {
      "text/html": [],
      "text/plain": [
       "<IPython.core.display.HTML object>"
      ]
     },
     "metadata": {},
     "output_type": "display_data"
    },
    {
     "name": "stdout",
     "output_type": "stream",
     "text": [
      "Fold5 NN RSME = 18.216877324727083 \n",
      "\n"
     ]
    },
    {
     "name": "stderr",
     "output_type": "stream",
     "text": [
      "/opt/conda/envs/rapids/lib/python3.7/site-packages/fastai/learner.py:56: UserWarning: Saved filed doesn't contain an optimizer state.\n",
      "  elif with_opt: warn(\"Saved filed doesn't contain an optimizer state.\")\n"
     ]
    },
    {
     "data": {
      "text/html": [
       "\n",
       "    <div>\n",
       "        <style>\n",
       "            /* Turns off some styling */\n",
       "            progress {\n",
       "                /* gets rid of default border in Firefox and Opera. */\n",
       "                border: none;\n",
       "                /* Needs to be in here for Safari polyfill so background images work as expected. */\n",
       "                background-size: auto;\n",
       "            }\n",
       "            .progress-bar-interrupted, .progress-bar-interrupted::-webkit-progress-bar {\n",
       "                background: #F44336;\n",
       "            }\n",
       "        </style>\n",
       "      <progress value='0' class='' max='1' style='width:300px; height:20px; vertical-align: middle;'></progress>\n",
       "      \n",
       "    </div>\n",
       "    \n"
      ],
      "text/plain": [
       "<IPython.core.display.HTML object>"
      ]
     },
     "metadata": {},
     "output_type": "display_data"
    },
    {
     "data": {
      "text/html": [],
      "text/plain": [
       "<IPython.core.display.HTML object>"
      ]
     },
     "metadata": {},
     "output_type": "display_data"
    },
    {
     "name": "stdout",
     "output_type": "stream",
     "text": [
      "Fold6 NN RSME = 17.04528796310452 \n",
      "\n"
     ]
    },
    {
     "name": "stderr",
     "output_type": "stream",
     "text": [
      "/opt/conda/envs/rapids/lib/python3.7/site-packages/fastai/learner.py:56: UserWarning: Saved filed doesn't contain an optimizer state.\n",
      "  elif with_opt: warn(\"Saved filed doesn't contain an optimizer state.\")\n"
     ]
    },
    {
     "data": {
      "text/html": [
       "\n",
       "    <div>\n",
       "        <style>\n",
       "            /* Turns off some styling */\n",
       "            progress {\n",
       "                /* gets rid of default border in Firefox and Opera. */\n",
       "                border: none;\n",
       "                /* Needs to be in here for Safari polyfill so background images work as expected. */\n",
       "                background-size: auto;\n",
       "            }\n",
       "            .progress-bar-interrupted, .progress-bar-interrupted::-webkit-progress-bar {\n",
       "                background: #F44336;\n",
       "            }\n",
       "        </style>\n",
       "      <progress value='0' class='' max='1' style='width:300px; height:20px; vertical-align: middle;'></progress>\n",
       "      \n",
       "    </div>\n",
       "    \n"
      ],
      "text/plain": [
       "<IPython.core.display.HTML object>"
      ]
     },
     "metadata": {},
     "output_type": "display_data"
    },
    {
     "data": {
      "text/html": [],
      "text/plain": [
       "<IPython.core.display.HTML object>"
      ]
     },
     "metadata": {},
     "output_type": "display_data"
    },
    {
     "name": "stdout",
     "output_type": "stream",
     "text": [
      "Fold7 NN RSME = 18.11620121491169 \n",
      "\n"
     ]
    },
    {
     "name": "stderr",
     "output_type": "stream",
     "text": [
      "/opt/conda/envs/rapids/lib/python3.7/site-packages/fastai/learner.py:56: UserWarning: Saved filed doesn't contain an optimizer state.\n",
      "  elif with_opt: warn(\"Saved filed doesn't contain an optimizer state.\")\n"
     ]
    },
    {
     "data": {
      "text/html": [
       "\n",
       "    <div>\n",
       "        <style>\n",
       "            /* Turns off some styling */\n",
       "            progress {\n",
       "                /* gets rid of default border in Firefox and Opera. */\n",
       "                border: none;\n",
       "                /* Needs to be in here for Safari polyfill so background images work as expected. */\n",
       "                background-size: auto;\n",
       "            }\n",
       "            .progress-bar-interrupted, .progress-bar-interrupted::-webkit-progress-bar {\n",
       "                background: #F44336;\n",
       "            }\n",
       "        </style>\n",
       "      <progress value='0' class='' max='1' style='width:300px; height:20px; vertical-align: middle;'></progress>\n",
       "      \n",
       "    </div>\n",
       "    \n"
      ],
      "text/plain": [
       "<IPython.core.display.HTML object>"
      ]
     },
     "metadata": {},
     "output_type": "display_data"
    },
    {
     "data": {
      "text/html": [],
      "text/plain": [
       "<IPython.core.display.HTML object>"
      ]
     },
     "metadata": {},
     "output_type": "display_data"
    },
    {
     "name": "stdout",
     "output_type": "stream",
     "text": [
      "Fold8 NN RSME = 17.90581950643505 \n",
      "\n"
     ]
    },
    {
     "name": "stderr",
     "output_type": "stream",
     "text": [
      "/opt/conda/envs/rapids/lib/python3.7/site-packages/fastai/learner.py:56: UserWarning: Saved filed doesn't contain an optimizer state.\n",
      "  elif with_opt: warn(\"Saved filed doesn't contain an optimizer state.\")\n"
     ]
    },
    {
     "data": {
      "text/html": [
       "\n",
       "    <div>\n",
       "        <style>\n",
       "            /* Turns off some styling */\n",
       "            progress {\n",
       "                /* gets rid of default border in Firefox and Opera. */\n",
       "                border: none;\n",
       "                /* Needs to be in here for Safari polyfill so background images work as expected. */\n",
       "                background-size: auto;\n",
       "            }\n",
       "            .progress-bar-interrupted, .progress-bar-interrupted::-webkit-progress-bar {\n",
       "                background: #F44336;\n",
       "            }\n",
       "        </style>\n",
       "      <progress value='0' class='' max='1' style='width:300px; height:20px; vertical-align: middle;'></progress>\n",
       "      \n",
       "    </div>\n",
       "    \n"
      ],
      "text/plain": [
       "<IPython.core.display.HTML object>"
      ]
     },
     "metadata": {},
     "output_type": "display_data"
    },
    {
     "data": {
      "text/html": [],
      "text/plain": [
       "<IPython.core.display.HTML object>"
      ]
     },
     "metadata": {},
     "output_type": "display_data"
    },
    {
     "name": "stdout",
     "output_type": "stream",
     "text": [
      "Fold9 NN RSME = 17.481153817089474 \n",
      "\n"
     ]
    },
    {
     "name": "stderr",
     "output_type": "stream",
     "text": [
      "/opt/conda/envs/rapids/lib/python3.7/site-packages/fastai/learner.py:56: UserWarning: Saved filed doesn't contain an optimizer state.\n",
      "  elif with_opt: warn(\"Saved filed doesn't contain an optimizer state.\")\n"
     ]
    },
    {
     "data": {
      "text/html": [
       "\n",
       "    <div>\n",
       "        <style>\n",
       "            /* Turns off some styling */\n",
       "            progress {\n",
       "                /* gets rid of default border in Firefox and Opera. */\n",
       "                border: none;\n",
       "                /* Needs to be in here for Safari polyfill so background images work as expected. */\n",
       "                background-size: auto;\n",
       "            }\n",
       "            .progress-bar-interrupted, .progress-bar-interrupted::-webkit-progress-bar {\n",
       "                background: #F44336;\n",
       "            }\n",
       "        </style>\n",
       "      <progress value='0' class='' max='1' style='width:300px; height:20px; vertical-align: middle;'></progress>\n",
       "      \n",
       "    </div>\n",
       "    \n"
      ],
      "text/plain": [
       "<IPython.core.display.HTML object>"
      ]
     },
     "metadata": {},
     "output_type": "display_data"
    },
    {
     "data": {
      "text/html": [],
      "text/plain": [
       "<IPython.core.display.HTML object>"
      ]
     },
     "metadata": {},
     "output_type": "display_data"
    },
    {
     "name": "stdout",
     "output_type": "stream",
     "text": [
      "Fold10 NN RSME = 17.422237936313095 \n",
      "\n"
     ]
    }
   ],
   "source": [
    "import gc\n",
    "import torch\n",
    "from sklearn.model_selection import KFold\n",
    "from  sklearn.decomposition import PCA\n",
    "from sklearn.model_selection import StratifiedKFold\n",
    "from sklearn.svm import SVR\n",
    "\n",
    "def sigmoid(x):\n",
    "    return 1 / (1 + math.exp(-x))\n",
    "\n",
    "df['fold'] = -1\n",
    "\n",
    "super_final_predictions = []\n",
    "super_final_predictions2 = []\n",
    "super_final_oof_predictions = []\n",
    "super_final_oof_predictions2 = []\n",
    "super_final_oof_true = []\n",
    "\n",
    "\n",
    "N_FOLDS = 10\n",
    "strat_kfold = StratifiedKFold(n_splits=N_FOLDS, random_state=seed, shuffle=True)\n",
    "for fold, (idx, val_idx) in enumerate(strat_kfold.split(df.index, df['bins'])):\n",
    "    train_df = df.loc[idx].reset_index(drop=True)\n",
    "    val_df = df.loc[val_idx].reset_index(drop=True)\n",
    "\n",
    "    dls = ImageDataLoaders.from_df(train_df, #pass in train DataFrame\n",
    "                               valid_pct=0.2, #80-20 train-validation random split\n",
    "                               seed=999, #seed\n",
    "                               fn_col='path', #filename/path is in the second column of the DataFrame\n",
    "                               label_col='norm_score', #label is in the first column of the DataFrame\n",
    "                               y_block=RegressionBlock, #The type of target\n",
    "                               bs=BATCH_SIZE, #pass in batch size\n",
    "                               num_workers=8,\n",
    "                               item_tfms=Resize(224), #pass in item_tfms\n",
    "                               batch_tfms=setup_aug_tfms([Brightness(), Contrast(), Hue(), Saturation()])) #pass in batch_tfms\n",
    "\n",
    "    model = PetModel(num_classes=1)\n",
    "\n",
    "    learn = Learner(\n",
    "        dls, \n",
    "        model, \n",
    "        loss_func=BCEWithLogitsLossFlat(), \n",
    "        metrics=petfinder_rmse,\n",
    "        # model_dir = \"tf_efficientnet_b0\"\n",
    "        model_dir = \"vit_large_patch16_224_bs8_10fold_10epoch\"\n",
    "        # model_dir = \"hybrid_bs8_20fold\"\n",
    "    ).to_fp16()\n",
    "    # learn.load(f'tf_efficientnet_b0_fold{fold}')\n",
    "    learn.load(f'vit_large_patch16_224_fold{fold}')\n",
    "\n",
    "\n",
    "    val_dl = dls.test_dl(val_df)\n",
    "\n",
    "    val_preds, _ = learn.tta(dl=val_dl, n=5, beta=0)\n",
    "    # val_preds, _ = learn.get_preds(dl=val_dl)\n",
    "    val_preds = val_preds.cpu().detach().numpy()\n",
    "    \n",
    "    final_test_predictions = []\n",
    "    final_test_predictions.extend(val_preds[:,:1].ravel().tolist())\n",
    "    \n",
    "    final_test_predictions = [x * 100 for x in final_test_predictions]\n",
    "    super_final_predictions.append(final_test_predictions)\n",
    "    \n",
    "    \n",
    "    final_oof_true = val_df['Pawpularity'].values\n",
    "    super_final_oof_true.append(final_oof_true)\n",
    "\n",
    "    ##################\n",
    "    # COMPUTE RSME\n",
    "    rsme = np.sqrt(np.mean((super_final_oof_true[-1] - np.array(super_final_predictions[-1]))**2.0))\n",
    "    print(f'Fold{fold+1} NN RSME =',rsme,'\\n')\n",
    "\n",
    "\n",
    "    gc.collect()\n",
    "    torch.cuda.empty_cache()\n",
    "    # if fold >= 1:\n",
    "    #     break\n",
    "    \n",
    "    "
   ]
  },
  {
   "cell_type": "code",
   "execution_count": 17,
   "id": "6d0cd56d-f5a4-4f28-acde-28b0e4af480f",
   "metadata": {},
   "outputs": [
    {
     "name": "stdout",
     "output_type": "stream",
     "text": [
      "Overall CV NN head RSME = 17.650183636440246\n"
     ]
    }
   ],
   "source": [
    "true = np.hstack(super_final_oof_true)\n",
    "\n",
    "oof = np.hstack(super_final_predictions)\n",
    "rsme = np.sqrt( np.mean( (oof - true)**2.0 ))\n",
    "print('Overall CV NN head RSME =',rsme)"
   ]
  },
  {
   "cell_type": "code",
   "execution_count": 18,
   "id": "23144b2f-efee-4434-a7e3-9c5b1ba92a9f",
   "metadata": {},
   "outputs": [],
   "source": [
    "def my_mse(pred, gt):\n",
    "    return np.sqrt(np.mean((pred-gt)**2))"
   ]
  },
  {
   "cell_type": "code",
   "execution_count": 19,
   "id": "7fa4746e-d672-48b0-aed0-97d6c550e3a2",
   "metadata": {},
   "outputs": [
    {
     "name": "stdout",
     "output_type": "stream",
     "text": [
      "original mse:17.650183636440246\n",
      "low high mse:18.162684576954916,(22,48),weight:0.5\n",
      "low mse:17.712000673923573,(,22),weight:0.5\n",
      "low mse:17.66409687525398,(,20),weight:0.5\n",
      "low mse:17.654209867753007,(,18),weight:0.5\n",
      "low mse:17.650183636440246,(,16),weight:0.5\n",
      "low high mse:17.648698460350815,(18,78),weight:0.5\n",
      "low high mse:17.648637997100405,(16,78),weight:0.5\n",
      "low high mse:17.648102041878584,(22,83),weight:0.5\n",
      "low high mse:17.6431734213239,(20,83),weight:0.5\n",
      "low high mse:17.638489826963703,(18,83),weight:0.5\n",
      "low high mse:17.63842932871884,(16,83),weight:0.5\n",
      "low high mse:17.63801294852223,(18,83),weight:0.55\n",
      "low high mse:17.63790199330636,(18,83),weight:0.6\n",
      "low high mse:17.637818167311,(22,78),weight:0.7\n",
      "low high mse:17.635339088227934,(22,73),weight:0.75\n",
      "low high mse:17.63282243439236,(22,73),weight:0.8\n",
      "best mse:  17.63282243439236\n"
     ]
    }
   ],
   "source": [
    "high_thresholds = [48, 53, 58, 63, 68, 73, 78, 83, 88]\n",
    "low_thresholds = [22,20,18,16,14,12,10,8,6]\n",
    "weights = [0.5,0.55,0.60,0.65,0.7,0.75,0.8,0.85,0.9,0.95]\n",
    "\n",
    "val_preds = oof.copy()\n",
    "mse = my_mse(val_preds, true)\n",
    "best_mse = float(\"inf\")\n",
    "print(\"original mse:{}\".format(mse))\n",
    "for weight in weights:\n",
    "    for high in high_thresholds:\n",
    "        for low in low_thresholds:\n",
    "            val_preds = oof.copy()\n",
    "            for i in range(len(val_preds)):\n",
    "                if val_preds[i] > high:\n",
    "                    val_preds[i] = val_preds[i] * weight + 38 * (1-weight)\n",
    "                elif val_preds[i] < low:\n",
    "                    val_preds[i] = val_preds[i] * weight + 38 * (1-weight)\n",
    "            mse = my_mse(val_preds, true)\n",
    "            if mse < best_mse:\n",
    "                best_mse = mse\n",
    "                best_val_preds = val_preds.copy()\n",
    "                print(\"low high mse:{},({},{}),weight:{}\".format(mse, low, high, weight))\n",
    "            \n",
    "            val_preds = oof.copy()\n",
    "            for i in range(len(val_preds)):\n",
    "                if val_preds[i] > high:\n",
    "                    val_preds[i] = val_preds[i] * weight\n",
    "            mse = my_mse(val_preds, true)\n",
    "            if mse < best_mse:\n",
    "                best_mse = mse\n",
    "                best_val_preds = val_preds.copy()\n",
    "                print(\"high mse:{},({}, ),weight:{}\".format(mse, high, weight))\n",
    "            \n",
    "            val_preds = oof.copy()\n",
    "            for i in range(len(val_preds)):\n",
    "                if val_preds[i] < low:\n",
    "                    val_preds[i] = val_preds[i] * weight \n",
    "            mse = my_mse(val_preds, true)\n",
    "            if mse < best_mse:\n",
    "                best_mse = mse\n",
    "                best_val_preds = val_preds.copy()\n",
    "                print(\"low mse:{},(,{}),weight:{}\".format(mse, low, weight))\n",
    "print(\"best mse: \", best_mse)"
   ]
  },
  {
   "cell_type": "code",
   "execution_count": 20,
   "id": "c74659a7-4c97-4d05-a238-6f694f22b1cd",
   "metadata": {},
   "outputs": [
    {
     "name": "stdout",
     "output_type": "stream",
     "text": [
      "ori_mse:  17.63282243439236\n",
      "mse:17.622577491906014,weight:1.005\n",
      "mse:17.61442783352908,weight:1.01\n",
      "mse:17.604425260660886,weight:1.02\n",
      "mse:17.602829021767604,weight:1.03\n",
      "mse:17.609641402844357,weight:1.04\n",
      "mse:17.62485265356151,weight:1.05\n"
     ]
    }
   ],
   "source": [
    "\"\"\"\n",
    "整体缩放，不区分猫狗\n",
    "\"\"\"\n",
    "# # model1\n",
    "# gt_dog = []\n",
    "# preds_dog = []\n",
    "# for i in range(len(is_cat)):\n",
    "#     #if is_cat.iloc[i] == 1:\n",
    "#         gt_dog.append(all_val_gts[i])\n",
    "#         preds_dog.append(super_final_predictions[i])\n",
    "\n",
    "# gts = np.array(gt_dog)\n",
    "# preds_dog = np.array(preds_dog)\n",
    "# all_val_preds = preds_dog\n",
    "# tt = all_val_gts.copy()\n",
    "# val_preds = all_val_preds.copy()\n",
    "# ori_mse = my_mse(val_preds, gts)\n",
    "# print(\"original mse:{}\".format(ori_mse))\n",
    "\n",
    "best_val_preds = best_val_preds.copy()\n",
    "ori_mse = my_mse(best_val_preds, true)\n",
    "print(\"ori_mse: \", ori_mse)\n",
    "weights = [0.95,0.96,0.97,0.98,0.99, 0.995, 1.005, 1.01,1.02,1.03,1.04,1.05]\n",
    "for weight in weights:\n",
    "    best_val_preds = best_val_preds.copy()\n",
    "    best_val_preds_scale = best_val_preds * weight\n",
    "    mse = my_mse(best_val_preds_scale, true)\n",
    "    if mse < ori_mse:\n",
    "        print(\"mse:{},weight:{}\".format(mse, weight))"
   ]
  },
  {
   "cell_type": "markdown",
   "id": "d36d4e2c-7f6a-43cc-a974-39c55aa5af1f",
   "metadata": {},
   "source": [
    "\n",
    "# twins_svt_large\n",
    "\n",
    "original mse:17.594138270329285\n",
    "\n",
    "low high mse:17.578122379930882,(22,68),weight:0.9\n",
    "\n",
    "# swin_large_patch4_window7_224_bs8_10fold_mixup\n",
    "\n",
    "original mse:17.497151724532664\n",
    "\n",
    "low high mse:17.477569999563013,(22,58),weight:0.9\n",
    "\n",
    "mse:17.47613288651255,weight:1.005\n",
    "\n",
    "\n",
    "# beit_large_patch16_224_bs8_10fold_10epoch\n",
    "\n",
    "original mse:17.483404823625204\n",
    "\n",
    "low mse:17.483404823625204,(,22),weight:0.5\n",
    "\n",
    "mse:17.476423636273488,weight:1.01\n",
    "\n",
    "\n",
    "# vit_large_patch16_224_bs8_10fold_10epoch\n",
    "\n",
    "original mse:17.650183636440246\n",
    "\n",
    "low high mse:17.63282243439236,(22,73),weight:0.8\n",
    "\n",
    "mse:17.602829021767604,weight:1.03\n",
    "\n",
    "\n"
   ]
  },
  {
   "cell_type": "code",
   "execution_count": null,
   "id": "33bcd776-3e09-4952-a7fb-ccc217b975b7",
   "metadata": {},
   "outputs": [],
   "source": []
  }
 ],
 "metadata": {
  "kernelspec": {
   "display_name": "Python 3",
   "language": "python",
   "name": "python3"
  },
  "language_info": {
   "codemirror_mode": {
    "name": "ipython",
    "version": 3
   },
   "file_extension": ".py",
   "mimetype": "text/x-python",
   "name": "python",
   "nbconvert_exporter": "python",
   "pygments_lexer": "ipython3",
   "version": "3.7.10"
  }
 },
 "nbformat": 4,
 "nbformat_minor": 5
}
