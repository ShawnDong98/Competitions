{
 "cells": [
  {
   "cell_type": "code",
   "execution_count": 1,
   "metadata": {},
   "outputs": [],
   "source": [
    "import os\n",
    "os.environ[\"CUDA_VISIBLE_DEVICES\"] = \"1\""
   ]
  },
  {
   "cell_type": "code",
   "execution_count": 2,
   "metadata": {},
   "outputs": [],
   "source": [
    "from timm import create_model"
   ]
  },
  {
   "cell_type": "code",
   "execution_count": 3,
   "metadata": {},
   "outputs": [],
   "source": [
    "from fastai.vision.all import *"
   ]
  },
  {
   "cell_type": "code",
   "execution_count": 4,
   "metadata": {},
   "outputs": [],
   "source": [
    "set_seed(999, reproducible=True)\n",
    "BATCH_SIZE = 8"
   ]
  },
  {
   "cell_type": "code",
   "execution_count": 5,
   "metadata": {},
   "outputs": [
    {
     "data": {
      "text/plain": [
       "(#13) [Path('../datasets/kaggle/petfinder/train_5folds.csv'),Path('../datasets/kaggle/petfinder/train_10folds.csv'),Path('../datasets/kaggle/petfinder/test.csv'),Path('../datasets/kaggle/petfinder/train.csv'),Path('../datasets/kaggle/petfinder/test'),Path('../datasets/kaggle/petfinder/sample_submission.csv'),Path('../datasets/kaggle/petfinder/archive.zip'),Path('../datasets/kaggle/petfinder/.ipynb_checkpoints'),Path('../datasets/kaggle/petfinder/train'),Path('../datasets/kaggle/petfinder/crop')...]"
      ]
     },
     "execution_count": 5,
     "metadata": {},
     "output_type": "execute_result"
    }
   ],
   "source": [
    "dataset_path = Path('../datasets/kaggle/petfinder/')\n",
    "dataset_path.ls()"
   ]
  },
  {
   "cell_type": "code",
   "execution_count": 6,
   "metadata": {},
   "outputs": [
    {
     "data": {
      "text/html": [
       "<div>\n",
       "<style scoped>\n",
       "    .dataframe tbody tr th:only-of-type {\n",
       "        vertical-align: middle;\n",
       "    }\n",
       "\n",
       "    .dataframe tbody tr th {\n",
       "        vertical-align: top;\n",
       "    }\n",
       "\n",
       "    .dataframe thead th {\n",
       "        text-align: right;\n",
       "    }\n",
       "</style>\n",
       "<table border=\"1\" class=\"dataframe\">\n",
       "  <thead>\n",
       "    <tr style=\"text-align: right;\">\n",
       "      <th></th>\n",
       "      <th>Unnamed: 0</th>\n",
       "      <th>Id</th>\n",
       "      <th>Subject Focus</th>\n",
       "      <th>Eyes</th>\n",
       "      <th>Face</th>\n",
       "      <th>Near</th>\n",
       "      <th>Action</th>\n",
       "      <th>Accessory</th>\n",
       "      <th>Group</th>\n",
       "      <th>Collage</th>\n",
       "      <th>Human</th>\n",
       "      <th>Occlusion</th>\n",
       "      <th>Info</th>\n",
       "      <th>Blur</th>\n",
       "      <th>Pawpularity</th>\n",
       "      <th>is_cat</th>\n",
       "    </tr>\n",
       "  </thead>\n",
       "  <tbody>\n",
       "    <tr>\n",
       "      <th>0</th>\n",
       "      <td>0</td>\n",
       "      <td>0007de18844b0dbbb5e1f607da0606e0</td>\n",
       "      <td>0</td>\n",
       "      <td>1</td>\n",
       "      <td>1</td>\n",
       "      <td>1</td>\n",
       "      <td>0</td>\n",
       "      <td>0</td>\n",
       "      <td>1</td>\n",
       "      <td>0</td>\n",
       "      <td>0</td>\n",
       "      <td>0</td>\n",
       "      <td>0</td>\n",
       "      <td>0</td>\n",
       "      <td>63</td>\n",
       "      <td>0</td>\n",
       "    </tr>\n",
       "    <tr>\n",
       "      <th>1</th>\n",
       "      <td>1</td>\n",
       "      <td>0009c66b9439883ba2750fb825e1d7db</td>\n",
       "      <td>0</td>\n",
       "      <td>1</td>\n",
       "      <td>1</td>\n",
       "      <td>0</td>\n",
       "      <td>0</td>\n",
       "      <td>0</td>\n",
       "      <td>0</td>\n",
       "      <td>0</td>\n",
       "      <td>0</td>\n",
       "      <td>0</td>\n",
       "      <td>0</td>\n",
       "      <td>0</td>\n",
       "      <td>42</td>\n",
       "      <td>1</td>\n",
       "    </tr>\n",
       "    <tr>\n",
       "      <th>2</th>\n",
       "      <td>2</td>\n",
       "      <td>0013fd999caf9a3efe1352ca1b0d937e</td>\n",
       "      <td>0</td>\n",
       "      <td>1</td>\n",
       "      <td>1</td>\n",
       "      <td>1</td>\n",
       "      <td>0</td>\n",
       "      <td>0</td>\n",
       "      <td>0</td>\n",
       "      <td>0</td>\n",
       "      <td>1</td>\n",
       "      <td>1</td>\n",
       "      <td>0</td>\n",
       "      <td>0</td>\n",
       "      <td>28</td>\n",
       "      <td>0</td>\n",
       "    </tr>\n",
       "    <tr>\n",
       "      <th>3</th>\n",
       "      <td>3</td>\n",
       "      <td>0018df346ac9c1d8413cfcc888ca8246</td>\n",
       "      <td>0</td>\n",
       "      <td>1</td>\n",
       "      <td>1</td>\n",
       "      <td>1</td>\n",
       "      <td>0</td>\n",
       "      <td>0</td>\n",
       "      <td>0</td>\n",
       "      <td>0</td>\n",
       "      <td>0</td>\n",
       "      <td>0</td>\n",
       "      <td>0</td>\n",
       "      <td>0</td>\n",
       "      <td>15</td>\n",
       "      <td>0</td>\n",
       "    </tr>\n",
       "    <tr>\n",
       "      <th>4</th>\n",
       "      <td>4</td>\n",
       "      <td>001dc955e10590d3ca4673f034feeef2</td>\n",
       "      <td>0</td>\n",
       "      <td>0</td>\n",
       "      <td>0</td>\n",
       "      <td>1</td>\n",
       "      <td>0</td>\n",
       "      <td>0</td>\n",
       "      <td>1</td>\n",
       "      <td>0</td>\n",
       "      <td>0</td>\n",
       "      <td>0</td>\n",
       "      <td>0</td>\n",
       "      <td>0</td>\n",
       "      <td>72</td>\n",
       "      <td>0</td>\n",
       "    </tr>\n",
       "  </tbody>\n",
       "</table>\n",
       "</div>"
      ],
      "text/plain": [
       "   Unnamed: 0                                Id  Subject Focus  Eyes  Face  \\\n",
       "0           0  0007de18844b0dbbb5e1f607da0606e0              0     1     1   \n",
       "1           1  0009c66b9439883ba2750fb825e1d7db              0     1     1   \n",
       "2           2  0013fd999caf9a3efe1352ca1b0d937e              0     1     1   \n",
       "3           3  0018df346ac9c1d8413cfcc888ca8246              0     1     1   \n",
       "4           4  001dc955e10590d3ca4673f034feeef2              0     0     0   \n",
       "\n",
       "   Near  Action  Accessory  Group  Collage  Human  Occlusion  Info  Blur  \\\n",
       "0     1       0          0      1        0      0          0     0     0   \n",
       "1     0       0          0      0        0      0          0     0     0   \n",
       "2     1       0          0      0        0      1          1     0     0   \n",
       "3     1       0          0      0        0      0          0     0     0   \n",
       "4     1       0          0      1        0      0          0     0     0   \n",
       "\n",
       "   Pawpularity  is_cat  \n",
       "0           63       0  \n",
       "1           42       1  \n",
       "2           28       0  \n",
       "3           15       0  \n",
       "4           72       0  "
      ]
     },
     "execution_count": 6,
     "metadata": {},
     "output_type": "execute_result"
    }
   ],
   "source": [
    "df = pd.read_csv(dataset_path/'mytrain.csv')\n",
    "df.head()"
   ]
  },
  {
   "cell_type": "code",
   "execution_count": 7,
   "metadata": {},
   "outputs": [
    {
     "data": {
      "text/html": [
       "<div>\n",
       "<style scoped>\n",
       "    .dataframe tbody tr th:only-of-type {\n",
       "        vertical-align: middle;\n",
       "    }\n",
       "\n",
       "    .dataframe tbody tr th {\n",
       "        vertical-align: top;\n",
       "    }\n",
       "\n",
       "    .dataframe thead th {\n",
       "        text-align: right;\n",
       "    }\n",
       "</style>\n",
       "<table border=\"1\" class=\"dataframe\">\n",
       "  <thead>\n",
       "    <tr style=\"text-align: right;\">\n",
       "      <th></th>\n",
       "      <th>Unnamed: 0</th>\n",
       "      <th>Subject Focus</th>\n",
       "      <th>Eyes</th>\n",
       "      <th>Face</th>\n",
       "      <th>Near</th>\n",
       "      <th>Action</th>\n",
       "      <th>Accessory</th>\n",
       "      <th>Group</th>\n",
       "      <th>Collage</th>\n",
       "      <th>Human</th>\n",
       "      <th>Occlusion</th>\n",
       "      <th>Info</th>\n",
       "      <th>Blur</th>\n",
       "      <th>Pawpularity</th>\n",
       "      <th>is_cat</th>\n",
       "      <th>path</th>\n",
       "    </tr>\n",
       "  </thead>\n",
       "  <tbody>\n",
       "    <tr>\n",
       "      <th>0</th>\n",
       "      <td>9122</td>\n",
       "      <td>0</td>\n",
       "      <td>0</td>\n",
       "      <td>1</td>\n",
       "      <td>1</td>\n",
       "      <td>0</td>\n",
       "      <td>0</td>\n",
       "      <td>0</td>\n",
       "      <td>0</td>\n",
       "      <td>0</td>\n",
       "      <td>0</td>\n",
       "      <td>0</td>\n",
       "      <td>1</td>\n",
       "      <td>50</td>\n",
       "      <td>0</td>\n",
       "      <td>../datasets/kaggle/petfinder/train/ebaaa8e384b3d2f0a56c7ff7675c154c.jpg</td>\n",
       "    </tr>\n",
       "    <tr>\n",
       "      <th>1</th>\n",
       "      <td>1469</td>\n",
       "      <td>0</td>\n",
       "      <td>1</td>\n",
       "      <td>1</td>\n",
       "      <td>1</td>\n",
       "      <td>0</td>\n",
       "      <td>1</td>\n",
       "      <td>0</td>\n",
       "      <td>1</td>\n",
       "      <td>0</td>\n",
       "      <td>0</td>\n",
       "      <td>1</td>\n",
       "      <td>0</td>\n",
       "      <td>25</td>\n",
       "      <td>0</td>\n",
       "      <td>../datasets/kaggle/petfinder/train/25e3bf4267c2dc3f579b779418221bb7.jpg</td>\n",
       "    </tr>\n",
       "    <tr>\n",
       "      <th>2</th>\n",
       "      <td>3970</td>\n",
       "      <td>0</td>\n",
       "      <td>0</td>\n",
       "      <td>1</td>\n",
       "      <td>1</td>\n",
       "      <td>0</td>\n",
       "      <td>1</td>\n",
       "      <td>0</td>\n",
       "      <td>0</td>\n",
       "      <td>0</td>\n",
       "      <td>0</td>\n",
       "      <td>0</td>\n",
       "      <td>0</td>\n",
       "      <td>27</td>\n",
       "      <td>0</td>\n",
       "      <td>../datasets/kaggle/petfinder/train/6548166fb3fda22b67881176397f0223.jpg</td>\n",
       "    </tr>\n",
       "    <tr>\n",
       "      <th>3</th>\n",
       "      <td>2760</td>\n",
       "      <td>0</td>\n",
       "      <td>1</td>\n",
       "      <td>1</td>\n",
       "      <td>1</td>\n",
       "      <td>0</td>\n",
       "      <td>0</td>\n",
       "      <td>0</td>\n",
       "      <td>0</td>\n",
       "      <td>1</td>\n",
       "      <td>1</td>\n",
       "      <td>0</td>\n",
       "      <td>0</td>\n",
       "      <td>19</td>\n",
       "      <td>0</td>\n",
       "      <td>../datasets/kaggle/petfinder/train/472c40116e1833555715e4774445ae5b.jpg</td>\n",
       "    </tr>\n",
       "    <tr>\n",
       "      <th>4</th>\n",
       "      <td>4798</td>\n",
       "      <td>0</td>\n",
       "      <td>1</td>\n",
       "      <td>1</td>\n",
       "      <td>1</td>\n",
       "      <td>0</td>\n",
       "      <td>0</td>\n",
       "      <td>0</td>\n",
       "      <td>1</td>\n",
       "      <td>0</td>\n",
       "      <td>0</td>\n",
       "      <td>0</td>\n",
       "      <td>0</td>\n",
       "      <td>27</td>\n",
       "      <td>0</td>\n",
       "      <td>../datasets/kaggle/petfinder/train/7b77e1a6d93667b575d57db83facd860.jpg</td>\n",
       "    </tr>\n",
       "  </tbody>\n",
       "</table>\n",
       "</div>"
      ],
      "text/plain": [
       "   Unnamed: 0  Subject Focus  Eyes  Face  Near  Action  Accessory  Group  \\\n",
       "0        9122              0     0     1     1       0          0      0   \n",
       "1        1469              0     1     1     1       0          1      0   \n",
       "2        3970              0     0     1     1       0          1      0   \n",
       "3        2760              0     1     1     1       0          0      0   \n",
       "4        4798              0     1     1     1       0          0      0   \n",
       "\n",
       "   Collage  Human  Occlusion  Info  Blur  Pawpularity  is_cat  \\\n",
       "0        0      0          0     0     1           50       0   \n",
       "1        1      0          0     1     0           25       0   \n",
       "2        0      0          0     0     0           27       0   \n",
       "3        0      1          1     0     0           19       0   \n",
       "4        1      0          0     0     0           27       0   \n",
       "\n",
       "                                                                      path  \n",
       "0  ../datasets/kaggle/petfinder/train/ebaaa8e384b3d2f0a56c7ff7675c154c.jpg  \n",
       "1  ../datasets/kaggle/petfinder/train/25e3bf4267c2dc3f579b779418221bb7.jpg  \n",
       "2  ../datasets/kaggle/petfinder/train/6548166fb3fda22b67881176397f0223.jpg  \n",
       "3  ../datasets/kaggle/petfinder/train/472c40116e1833555715e4774445ae5b.jpg  \n",
       "4  ../datasets/kaggle/petfinder/train/7b77e1a6d93667b575d57db83facd860.jpg  "
      ]
     },
     "execution_count": 7,
     "metadata": {},
     "output_type": "execute_result"
    }
   ],
   "source": [
    "df['path'] = df['Id'].map(lambda x:str(dataset_path/'train'/x)+'.jpg')\n",
    "df = df.drop(columns=['Id'])\n",
    "df = df.sample(frac=1).reset_index(drop=True) #shuffle dataframe\n",
    "df.head()"
   ]
  },
  {
   "cell_type": "code",
   "execution_count": 8,
   "metadata": {},
   "outputs": [
    {
     "name": "stdout",
     "output_type": "stream",
     "text": [
      "There are 9912 images\n"
     ]
    }
   ],
   "source": [
    "len_df = len(df)\n",
    "print(f\"There are {len_df} images\")"
   ]
  },
  {
   "cell_type": "code",
   "execution_count": 9,
   "metadata": {},
   "outputs": [
    {
     "name": "stdout",
     "output_type": "stream",
     "text": [
      "The mean Pawpularity score is 38.03904358353511\n",
      "The median Pawpularity score is 33.0\n",
      "The standard deviation of the Pawpularity score is 20.59199010577444\n"
     ]
    },
    {
     "data": {
      "image/png": "[encoded data removed]",
      "text/plain": [
       "<Figure size 720x360 with 1 Axes>"
      ]
     },
     "metadata": {
      "needs_background": "light"
     },
     "output_type": "display_data"
    }
   ],
   "source": [
    "df['Pawpularity'].hist(figsize = (10, 5))\n",
    "print(f\"The mean Pawpularity score is {df['Pawpularity'].mean()}\")\n",
    "print(f\"The median Pawpularity score is {df['Pawpularity'].median()}\")\n",
    "print(f\"The standard deviation of the Pawpularity score is {df['Pawpularity'].std()}\")"
   ]
  },
  {
   "cell_type": "code",
   "execution_count": 10,
   "metadata": {},
   "outputs": [
    {
     "data": {
      "text/plain": [
       "0       0.50\n",
       "1       0.25\n",
       "2       0.27\n",
       "3       0.19\n",
       "4       0.27\n",
       "        ... \n",
       "9907    0.26\n",
       "9908    0.65\n",
       "9909    0.38\n",
       "9910    0.44\n",
       "9911    0.62\n",
       "Name: norm_score, Length: 9912, dtype: float64"
      ]
     },
     "execution_count": 10,
     "metadata": {},
     "output_type": "execute_result"
    }
   ],
   "source": [
    "df['norm_score'] = df['Pawpularity']/100\n",
    "df['norm_score']"
   ]
  },
  {
   "cell_type": "code",
   "execution_count": 11,
   "metadata": {},
   "outputs": [],
   "source": [
    "seed=999\n",
    "set_seed(seed, reproducible=True)\n",
    "torch.manual_seed(seed)\n",
    "torch.cuda.manual_seed(seed)\n",
    "torch.backends.cudnn.deterministic = True\n",
    "torch.use_deterministic_algorithms = True"
   ]
  },
  {
   "cell_type": "code",
   "execution_count": 12,
   "metadata": {},
   "outputs": [],
   "source": [
    "#Sturges' rule\n",
    "num_bins = int(np.floor(1+(3.3)*(np.log2(len(df)))))\n",
    "# num_bins"
   ]
  },
  {
   "cell_type": "code",
   "execution_count": 13,
   "metadata": {},
   "outputs": [
    {
     "data": {
      "text/plain": [
       "<AxesSubplot:>"
      ]
     },
     "execution_count": 13,
     "metadata": {},
     "output_type": "execute_result"
    },
    {
     "data": {
      "image/png": "[encoded data removed]",
      "text/plain": [
       "<Figure size 432x288 with 1 Axes>"
      ]
     },
     "metadata": {
      "needs_background": "light"
     },
     "output_type": "display_data"
    }
   ],
   "source": [
    "df['bins'] = pd.cut(df['norm_score'], bins=num_bins, labels=False)\n",
    "df['bins'].hist()"
   ]
  },
  {
   "cell_type": "code",
   "execution_count": 14,
   "metadata": {},
   "outputs": [],
   "source": [
    "# class PetModel_beit(nn.Module):\n",
    "#     def __init__(\n",
    "#         self,\n",
    "#         num_classes\n",
    "#     ):\n",
    "#         super().__init__()\n",
    "#         self.model = create_model('beit_large_patch16_224', num_classes=0, pretrained=True)\n",
    "#         self.reg_head = nn.Linear(self.model.embed_dim, 1)\n",
    "#         self.cls_head = nn.Linear(self.model.embed_dim, 1)\n",
    "        \n",
    "#     def forward(self, x):\n",
    "#         features = self.model(x)\n",
    "#         reg = self.reg_head(features)\n",
    "#         is_cat = self.cls_head(features)\n",
    "        \n",
    "        \n",
    "#         return torch.cat([reg, is_cat], 1)\n",
    "    \n",
    "\n",
    "    \n",
    "# class PetModel_twins(nn.Module):\n",
    "#     def __init__(\n",
    "#         self,\n",
    "#         num_classes\n",
    "#     ):\n",
    "#         super().__init__()\n",
    "#         self.model = create_model('twins_svt_large', num_classes=0, pretrained=True)\n",
    "#         self.reg_head = nn.Linear(self.model.embed_dims[-1], 1)\n",
    "#         self.cls_head = nn.Linear(self.model.embed_dims[-1], 1)\n",
    "        \n",
    "\n",
    "#     def forward(self, x):\n",
    "#         features = self.model(x)\n",
    "#         reg = self.reg_head(features)\n",
    "#         is_cat = self.cls_head(features)\n",
    "        \n",
    "#         return torch.cat([reg, is_cat], 1)\n",
    "\n",
    "# class PetModel_vit(nn.Module):\n",
    "#     def __init__(\n",
    "#         self,\n",
    "#         num_classes\n",
    "#     ):\n",
    "#         super().__init__()\n",
    "#         self.model = create_model('vit_large_patch16_224', num_classes=0, pretrained=True)\n",
    "#         self.reg_head = nn.Linear(self.model.num_features, 1)\n",
    "#         self.cls_head = nn.Linear(self.model.num_features, 1)\n",
    "        \n",
    "\n",
    "#     def forward(self, x):\n",
    "#         features = self.model(x)\n",
    "#         reg = self.reg_head(features)\n",
    "#         is_cat = self.cls_head(features)\n",
    "        \n",
    "#         return torch.cat([reg, is_cat], 1)\n",
    "\n",
    "    \n",
    "\n",
    "# class PetModel_swin(nn.Module):\n",
    "#     def __init__(\n",
    "#         self,\n",
    "#         num_classes\n",
    "#     ):\n",
    "#         super().__init__()\n",
    "#         self.model = create_model('swin_large_patch4_window7_224', num_classes=0, pretrained=True)\n",
    "#         self.reg_head = nn.Linear(1536, 1)\n",
    "#         self.cls_head = nn.Linear(1536, 1)\n",
    "\n",
    "\n",
    "#     def forward(self, x):\n",
    "#         features = self.model(x)\n",
    "#         reg = self.reg_head(features)\n",
    "#         is_cat = self.cls_head(features)\n",
    "\n",
    "        \n",
    "#         return torch.cat([reg, is_cat], 1)\n",
    "\n",
    "# class PetModel_swin(nn.Module):\n",
    "#     def __init__(\n",
    "#         self,\n",
    "#         num_classes\n",
    "#     ):\n",
    "#         super().__init__()\n",
    "#         self.model = create_model('swin_large_patch4_window7_224', num_classes=0, pretrained=True)\n",
    "#         self.reg_head = nn.Linear(1536, 1)\n",
    "#         self.cls_head = nn.Linear(1536, 1)\n",
    "#         self.face_head = nn.Linear(1536, 1)\n",
    "#         self.blur_head = nn.Linear(1536, 1)\n",
    "    \n",
    "#     def forward(self, x):\n",
    "#         features = self.model(x)\n",
    "#         reg = self.reg_head(features)\n",
    "#         is_cat = self.cls_head(features)\n",
    "#         face = self.face_head(features)\n",
    "#         blur = self.blur_head(features)\n",
    "\n",
    "        \n",
    "#         return torch.cat([reg, is_cat, face, blur], 1)\n",
    "\n",
    "\n",
    "# class PetModel_beit(nn.Module):\n",
    "#     def __init__(\n",
    "#         self,\n",
    "#         num_classes\n",
    "#     ):\n",
    "#         super().__init__()\n",
    "#         self.model = create_model('beit_large_patch16_224', num_classes=0, pretrained=True)\n",
    "#         self.reg_head = nn.Linear(self.model.embed_dim, 1)\n",
    "#         self.cls_head = nn.Linear(self.model.embed_dim, 1)\n",
    "#         self.face_head = nn.Linear(self.model.embed_dim, 1)\n",
    "#         self.blur_head = nn.Linear(self.model.embed_dim, 1)\n",
    "        \n",
    "\n",
    "#     def forward(self, x):\n",
    "#         features = self.model(x)\n",
    "#         reg = self.reg_head(features)\n",
    "#         is_cat = self.cls_head(features)\n",
    "#         face = self.face_head(features)\n",
    "#         blur = self.blur_head(features)\n",
    "        \n",
    "#         return torch.cat([reg, is_cat, face, blur], 1)\n",
    "\n",
    "# class PetModel_vit(nn.Module):\n",
    "#     def __init__(\n",
    "#         self,\n",
    "#         num_classes\n",
    "#     ):\n",
    "#         super().__init__()\n",
    "#         self.model = create_model('vit_large_patch16_224', num_classes=0, pretrained=True)\n",
    "#         self.reg_head = nn.Linear(self.model.embed_dim, 1)\n",
    "#         self.cls_head = nn.Linear(self.model.embed_dim, 1)\n",
    "#         self.face_head = nn.Linear(self.model.embed_dim, 1)\n",
    "#         self.blur_head = nn.Linear(self.model.embed_dim, 1)\n",
    "        \n",
    "\n",
    "#     def forward(self, x):\n",
    "#         features = self.model(x)\n",
    "#         reg = self.reg_head(features)\n",
    "#         is_cat = self.cls_head(features)\n",
    "#         face = self.face_head(features)\n",
    "#         blur = self.blur_head(features)\n",
    "        \n",
    "#         return torch.cat([reg, is_cat, face, blur], 1)\n",
    "\n",
    "\n",
    "class PetModel_swin(nn.Module):\n",
    "    def __init__(\n",
    "        self,\n",
    "        num_classes\n",
    "    ):\n",
    "        super().__init__()\n",
    "        self.model = create_model('swin_large_patch4_window7_224', num_classes=0, pretrained=True)\n",
    "        self.reg_head = nn.Linear(1536, 1)\n",
    "        \n",
    "        for label in meta_labels[1:]:\n",
    "            setattr(self, label+'_head', nn.Linear(1536, 1))\n",
    "    \n",
    "    def forward(self, x):\n",
    "        features = self.model(x)\n",
    "        res = []\n",
    "        reg = self.reg_head(features)\n",
    "        res.append(reg)\n",
    "        for label in meta_labels[1:]:\n",
    "            head = getattr(self, label+'_head')\n",
    "            res.append(head(features))\n",
    "        \n",
    "        return torch.cat(res, 1)\n",
    "    \n",
    "    \n",
    "class PetModel_beit(nn.Module):\n",
    "    def __init__(\n",
    "        self,\n",
    "        num_classes\n",
    "    ):\n",
    "        super().__init__()\n",
    "        self.model = create_model('beit_large_patch16_224', num_classes=0, pretrained=True)\n",
    "        self.reg_head = nn.Linear(self.model.embed_dim, 1)\n",
    "        \n",
    "        for label in meta_labels[1:]:\n",
    "            setattr(self, label+'_head', nn.Linear(self.model.embed_dim, 1))\n",
    "    \n",
    "    def forward(self, x):\n",
    "        features = self.model(x)\n",
    "        res = []\n",
    "        reg = self.reg_head(features)\n",
    "        res.append(reg)\n",
    "        for label in meta_labels[1:]:\n",
    "            head = getattr(self, label+'_head')\n",
    "            res.append(head(features))\n",
    "        \n",
    "        return torch.cat(res, 1)\n",
    "    \n",
    "class PetModel_vit(nn.Module):\n",
    "    def __init__(\n",
    "        self,\n",
    "        num_classes\n",
    "    ):\n",
    "        super().__init__()\n",
    "        self.model = create_model('vit_large_patch16_224', num_classes=0, pretrained=True)\n",
    "        self.reg_head = nn.Linear(self.model.embed_dim, 1)\n",
    "        \n",
    "        for label in meta_labels[1:]:\n",
    "            setattr(self, label+'_head', nn.Linear(self.model.embed_dim, 1))\n",
    "    \n",
    "    def forward(self, x):\n",
    "        features = self.model(x)\n",
    "        res = []\n",
    "        reg = self.reg_head(features)\n",
    "        res.append(reg)\n",
    "        for label in meta_labels[1:]:\n",
    "            head = getattr(self, label+'_head')\n",
    "            res.append(head(features))\n",
    "        \n",
    "        return torch.cat(res, 1)\n",
    "\n",
    "\n",
    "\n"
   ]
  },
  {
   "cell_type": "code",
   "execution_count": 15,
   "metadata": {},
   "outputs": [],
   "source": [
    "class CombinedLoss:\n",
    "    \"Dice and Focal combined\"\n",
    "    def __init__(self):\n",
    "        store_attr()\n",
    "        self.bceloss = BCEWithLogitsLossFlat()\n",
    "        \n",
    "        for label in meta_labels[1:]:\n",
    "            setattr(self, 'bceloss_' + label, BCEWithLogitsLossFlat())\n",
    "        \n",
    "    def __call__(self, pred, targ, *preds):\n",
    "        # print(f\"targ: {targ}, is_cat: {is_cat}\")\n",
    "        loss = self.bceloss(pred[:, 0], targ) \n",
    "        for i, label in enumerate(meta_labels[1:], 1):\n",
    "            critic = getattr(self, 'bceloss_' + label)\n",
    "            loss += 0.1 * critic(pred[:, i], preds[i-1])\n",
    "            \n",
    "        return loss\n",
    "            \n",
    "    \n",
    "    def decodes(self, x):    return x[:, 0]>self.thresh\n",
    "    def activation(self, x): return x\n",
    "\n",
    "\n",
    "# class CombinedLoss:\n",
    "#     \"Dice and Focal combined\"\n",
    "#     def __init__(self, alpha=1.):\n",
    "#         store_attr()\n",
    "#         self.bceloss1 = BCEWithLogitsLossFlat()\n",
    "#         self.bceloss2 =  BCEWithLogitsLossFlat()\n",
    "        \n",
    "#     def __call__(self, pred, targ, is_cat):\n",
    "#         # print(f\"targ: {targ}, is_cat: {is_cat}\")\n",
    "#         return self.bceloss1(pred[0], targ) + self.alpha * self.bceloss2(pred[1], is_cat)\n",
    "    \n",
    "#     def decodes(self, x):    return x[:, 0]>self.thresh\n",
    "#     def activation(self, x): return x\n",
    "\n",
    "# class CombinedLoss:\n",
    "#     \"Dice and Focal combined\"\n",
    "#     def __init__(self):\n",
    "#         store_attr()\n",
    "#         self.bceloss1 = BCEWithLogitsLossFlat()\n",
    "#         self.bceloss2 =  BCEWithLogitsLossFlat()\n",
    "#         self.bceloss3 =  BCEWithLogitsLossFlat()\n",
    "#         self.bceloss4 =  BCEWithLogitsLossFlat()\n",
    "        \n",
    "#     def __call__(self, pred, targ, is_cat, face, blur):\n",
    "#         # print(f\"targ: {targ}, is_cat: {is_cat}\")\n",
    "#         return self.bceloss1(pred[:, 0], targ) \\\n",
    "#                 + 0.2 * self.bceloss2(pred[:, 1], is_cat) \\\n",
    "#                 + 0.2 * self.bceloss3(pred[:, 2], face) \\\n",
    "#                 + 0.2 * self.bceloss4(pred[:, 3], blur)\n",
    "    \n",
    "#     def decodes(self, x):    return x[:, 0]>self.thresh\n",
    "#     def activation(self, x): return x\n",
    "\n",
    "mk_class('ActivationType', **{o:o.lower() for o in ['No', 'Sigmoid', 'Softmax', 'BinarySoftmax']},\n",
    "         doc=\"All possible activation classes for `AccumMetric\")\n",
    "\n",
    "class AccumMetric(Metric):\n",
    "    \"Stores predictions and targets on CPU in accumulate to perform final calculations with `func`.\"\n",
    "    def __init__(self, func, dim_argmax=None, activation=ActivationType.No, thresh=None, to_np=False,\n",
    "                 invert_arg=False, flatten=False, **kwargs):\n",
    "        store_attr('func,dim_argmax,activation,thresh,flatten')\n",
    "        self.to_np,self.invert_args,self.kwargs = to_np,invert_arg,kwargs\n",
    "\n",
    "    def reset(self):\n",
    "        \"Clear all targs and preds\"\n",
    "        self.targs,self.preds = [],[]\n",
    "\n",
    "    def accumulate(self, learn):\n",
    "        \"Store targs and preds from `learn`, using activation function and argmax as appropriate\"\n",
    "        pred = learn.pred\n",
    "        if self.activation in [ActivationType.Softmax, ActivationType.BinarySoftmax]:\n",
    "            pred = F.softmax(pred, dim=self.dim_argmax)\n",
    "            if self.activation == ActivationType.BinarySoftmax: pred = pred[:, -1]\n",
    "        elif self.activation == ActivationType.Sigmoid: pred = torch.sigmoid(pred)\n",
    "        elif self.dim_argmax: pred = pred.argmax(dim=self.dim_argmax)\n",
    "        if self.thresh:  pred = (pred >= self.thresh)\n",
    "        self.accum_values(pred,learn.y,learn)\n",
    "\n",
    "    def accum_values(self, preds, targs,learn=None):\n",
    "        \"Store targs and preds\"\n",
    "        to_d = learn.to_detach if learn is not None else to_detach\n",
    "        preds,targs = to_d(preds),to_d(targs)\n",
    "        if self.flatten: preds,targs = flatten_check(preds,targs)\n",
    "        self.preds.append(preds)\n",
    "        self.targs.append(targs[0])\n",
    "\n",
    "    def __call__(self, preds, targs):\n",
    "        \"Calculate metric on one batch of data\"\n",
    "        self.reset()\n",
    "        self.accum_values(preds,targs)\n",
    "        return self.value\n",
    "\n",
    "    @property\n",
    "    def value(self):\n",
    "        \"Value of the metric using accumulated preds and targs\"\n",
    "        if len(self.preds) == 0: return\n",
    "        preds,targs = torch.cat(self.preds),torch.cat(self.targs)\n",
    "        if self.to_np: preds,targs = preds.numpy(),targs.numpy()\n",
    "        return self.func(targs, preds, **self.kwargs) if self.invert_args else self.func(preds, targs, **self.kwargs)\n",
    "\n",
    "    @property\n",
    "    def name(self):  return self.func.func.__name__ if hasattr(self.func, 'func') else  self.func.__name__\n",
    "\n",
    "\n",
    "def petfinder_rmse(input, target):\n",
    "    # print(\"input:\", input)\n",
    "    # print(\"target:\", target)\n",
    "    return 100*torch.sqrt(F.mse_loss(F.sigmoid(input[:, 0].flatten()), target))"
   ]
  },
  {
   "cell_type": "code",
   "execution_count": 16,
   "metadata": {},
   "outputs": [],
   "source": [
    "class MyImageDataLoaders(DataLoaders):\n",
    "    \"Basic wrapper around several `DataLoader`s with factory methods for computer vision problems\"\n",
    "    @classmethod\n",
    "    @delegates(DataLoaders.from_dblock)\n",
    "    def from_df(cls, df, path='.', valid_pct=0.2, seed=None, fn_col=0, folder=None, suff='', label_cols=1, label_delim=None,\n",
    "                y_block=None, valid_col=None, item_tfms=None, batch_tfms=None, **kwargs):\n",
    "        \"Create from `df` using `fn_col` and `label_col`\"\n",
    "        pref = f'{Path(path) if folder is None else Path(path)/folder}{os.path.sep}'\n",
    "        if y_block is None:\n",
    "            is_multi = (is_listy(label_col) and len(label_col) > 1) or label_delim is not None\n",
    "            y_block = MultiCategoryBlock if is_multi else CategoryBlock\n",
    "        splitter = RandomSplitter(valid_pct, seed=seed) if valid_col is None else ColSplitter(valid_col)\n",
    "        dblock = DataBlock(blocks=(ImageBlock, *y_block),\n",
    "                           get_x=ColReader(fn_col, pref=pref, suff=suff),\n",
    "                           get_y=[ColReader(label_col, label_delim=label_delim) for label_col in label_cols],\n",
    "                           n_inp = 1,\n",
    "                           splitter=splitter,\n",
    "                           item_tfms=item_tfms,\n",
    "                           batch_tfms=batch_tfms)\n",
    "        return cls.from_dblock(dblock, df, path=path, **kwargs)"
   ]
  },
  {
   "cell_type": "code",
   "execution_count": 17,
   "metadata": {},
   "outputs": [
    {
     "name": "stderr",
     "output_type": "stream",
     "text": [
      "/opt/conda/envs/rapids/lib/python3.7/site-packages/fastai/learner.py:56: UserWarning: Saved filed doesn't contain an optimizer state.\n",
      "  elif with_opt: warn(\"Saved filed doesn't contain an optimizer state.\")\n"
     ]
    },
    {
     "data": {
      "text/html": [
       "\n",
       "    <div>\n",
       "        <style>\n",
       "            /* Turns off some styling */\n",
       "            progress {\n",
       "                /* gets rid of default border in Firefox and Opera. */\n",
       "                border: none;\n",
       "                /* Needs to be in here for Safari polyfill so background images work as expected. */\n",
       "                background-size: auto;\n",
       "            }\n",
       "            .progress-bar-interrupted, .progress-bar-interrupted::-webkit-progress-bar {\n",
       "                background: #F44336;\n",
       "            }\n",
       "        </style>\n",
       "      <progress value='0' class='' max='1' style='width:300px; height:20px; vertical-align: middle;'></progress>\n",
       "      \n",
       "    </div>\n",
       "    \n"
      ],
      "text/plain": [
       "<IPython.core.display.HTML object>"
      ]
     },
     "metadata": {},
     "output_type": "display_data"
    },
    {
     "data": {
      "text/html": [],
      "text/plain": [
       "<IPython.core.display.HTML object>"
      ]
     },
     "metadata": {},
     "output_type": "display_data"
    },
    {
     "data": {
      "text/html": [
       "\n",
       "    <div>\n",
       "        <style>\n",
       "            /* Turns off some styling */\n",
       "            progress {\n",
       "                /* gets rid of default border in Firefox and Opera. */\n",
       "                border: none;\n",
       "                /* Needs to be in here for Safari polyfill so background images work as expected. */\n",
       "                background-size: auto;\n",
       "            }\n",
       "            .progress-bar-interrupted, .progress-bar-interrupted::-webkit-progress-bar {\n",
       "                background: #F44336;\n",
       "            }\n",
       "        </style>\n",
       "      <progress value='0' class='' max='1' style='width:300px; height:20px; vertical-align: middle;'></progress>\n",
       "      \n",
       "    </div>\n",
       "    \n"
      ],
      "text/plain": [
       "<IPython.core.display.HTML object>"
      ]
     },
     "metadata": {},
     "output_type": "display_data"
    },
    {
     "data": {
      "text/html": [],
      "text/plain": [
       "<IPython.core.display.HTML object>"
      ]
     },
     "metadata": {},
     "output_type": "display_data"
    },
    {
     "data": {
      "text/html": [
       "\n",
       "    <div>\n",
       "        <style>\n",
       "            /* Turns off some styling */\n",
       "            progress {\n",
       "                /* gets rid of default border in Firefox and Opera. */\n",
       "                border: none;\n",
       "                /* Needs to be in here for Safari polyfill so background images work as expected. */\n",
       "                background-size: auto;\n",
       "            }\n",
       "            .progress-bar-interrupted, .progress-bar-interrupted::-webkit-progress-bar {\n",
       "                background: #F44336;\n",
       "            }\n",
       "        </style>\n",
       "      <progress value='0' class='' max='1' style='width:300px; height:20px; vertical-align: middle;'></progress>\n",
       "      \n",
       "    </div>\n",
       "    \n"
      ],
      "text/plain": [
       "<IPython.core.display.HTML object>"
      ]
     },
     "metadata": {},
     "output_type": "display_data"
    },
    {
     "data": {
      "text/html": [],
      "text/plain": [
       "<IPython.core.display.HTML object>"
      ]
     },
     "metadata": {},
     "output_type": "display_data"
    },
    {
     "name": "stdout",
     "output_type": "stream",
     "text": [
      "Fold1 Swin NN RSME = 17.75804773953378 \n",
      "\n",
      "Fold1 Swin acc = 0.5584677419354839 \n",
      "\n",
      "Fold1 Beit RSME = 18.135331843860946 \n",
      "\n",
      "Fold1 Beit acc = 0.5584677419354839 \n",
      "\n",
      "Fold1 Vit RSME = 18.15939289150316 \n",
      "\n",
      "Fold1 Vit acc = 0.5594758064516129 \n",
      "\n",
      "Ensemble RSME = 17.53144051951605 \n",
      "\n"
     ]
    },
    {
     "name": "stderr",
     "output_type": "stream",
     "text": [
      "/opt/conda/envs/rapids/lib/python3.7/site-packages/fastai/learner.py:56: UserWarning: Saved filed doesn't contain an optimizer state.\n",
      "  elif with_opt: warn(\"Saved filed doesn't contain an optimizer state.\")\n"
     ]
    },
    {
     "data": {
      "text/html": [
       "\n",
       "    <div>\n",
       "        <style>\n",
       "            /* Turns off some styling */\n",
       "            progress {\n",
       "                /* gets rid of default border in Firefox and Opera. */\n",
       "                border: none;\n",
       "                /* Needs to be in here for Safari polyfill so background images work as expected. */\n",
       "                background-size: auto;\n",
       "            }\n",
       "            .progress-bar-interrupted, .progress-bar-interrupted::-webkit-progress-bar {\n",
       "                background: #F44336;\n",
       "            }\n",
       "        </style>\n",
       "      <progress value='0' class='' max='1' style='width:300px; height:20px; vertical-align: middle;'></progress>\n",
       "      \n",
       "    </div>\n",
       "    \n"
      ],
      "text/plain": [
       "<IPython.core.display.HTML object>"
      ]
     },
     "metadata": {},
     "output_type": "display_data"
    },
    {
     "data": {
      "text/html": [],
      "text/plain": [
       "<IPython.core.display.HTML object>"
      ]
     },
     "metadata": {},
     "output_type": "display_data"
    },
    {
     "data": {
      "text/html": [
       "\n",
       "    <div>\n",
       "        <style>\n",
       "            /* Turns off some styling */\n",
       "            progress {\n",
       "                /* gets rid of default border in Firefox and Opera. */\n",
       "                border: none;\n",
       "                /* Needs to be in here for Safari polyfill so background images work as expected. */\n",
       "                background-size: auto;\n",
       "            }\n",
       "            .progress-bar-interrupted, .progress-bar-interrupted::-webkit-progress-bar {\n",
       "                background: #F44336;\n",
       "            }\n",
       "        </style>\n",
       "      <progress value='0' class='' max='1' style='width:300px; height:20px; vertical-align: middle;'></progress>\n",
       "      \n",
       "    </div>\n",
       "    \n"
      ],
      "text/plain": [
       "<IPython.core.display.HTML object>"
      ]
     },
     "metadata": {},
     "output_type": "display_data"
    },
    {
     "data": {
      "text/html": [],
      "text/plain": [
       "<IPython.core.display.HTML object>"
      ]
     },
     "metadata": {},
     "output_type": "display_data"
    },
    {
     "data": {
      "text/html": [
       "\n",
       "    <div>\n",
       "        <style>\n",
       "            /* Turns off some styling */\n",
       "            progress {\n",
       "                /* gets rid of default border in Firefox and Opera. */\n",
       "                border: none;\n",
       "                /* Needs to be in here for Safari polyfill so background images work as expected. */\n",
       "                background-size: auto;\n",
       "            }\n",
       "            .progress-bar-interrupted, .progress-bar-interrupted::-webkit-progress-bar {\n",
       "                background: #F44336;\n",
       "            }\n",
       "        </style>\n",
       "      <progress value='0' class='' max='1' style='width:300px; height:20px; vertical-align: middle;'></progress>\n",
       "      \n",
       "    </div>\n",
       "    \n"
      ],
      "text/plain": [
       "<IPython.core.display.HTML object>"
      ]
     },
     "metadata": {},
     "output_type": "display_data"
    },
    {
     "data": {
      "text/html": [],
      "text/plain": [
       "<IPython.core.display.HTML object>"
      ]
     },
     "metadata": {},
     "output_type": "display_data"
    },
    {
     "name": "stdout",
     "output_type": "stream",
     "text": [
      "Fold2 Swin NN RSME = 17.44288345820992 \n",
      "\n",
      "Fold2 Swin acc = 0.5534274193548387 \n",
      "\n",
      "Fold2 Beit RSME = 17.858452093216542 \n",
      "\n",
      "Fold2 Beit acc = 0.5524193548387096 \n",
      "\n",
      "Fold2 Vit RSME = 17.550979183373975 \n",
      "\n",
      "Fold2 Vit acc = 0.5675403225806451 \n",
      "\n",
      "Ensemble RSME = 17.0516549043258 \n",
      "\n"
     ]
    },
    {
     "name": "stderr",
     "output_type": "stream",
     "text": [
      "/opt/conda/envs/rapids/lib/python3.7/site-packages/fastai/learner.py:56: UserWarning: Saved filed doesn't contain an optimizer state.\n",
      "  elif with_opt: warn(\"Saved filed doesn't contain an optimizer state.\")\n"
     ]
    },
    {
     "data": {
      "text/html": [
       "\n",
       "    <div>\n",
       "        <style>\n",
       "            /* Turns off some styling */\n",
       "            progress {\n",
       "                /* gets rid of default border in Firefox and Opera. */\n",
       "                border: none;\n",
       "                /* Needs to be in here for Safari polyfill so background images work as expected. */\n",
       "                background-size: auto;\n",
       "            }\n",
       "            .progress-bar-interrupted, .progress-bar-interrupted::-webkit-progress-bar {\n",
       "                background: #F44336;\n",
       "            }\n",
       "        </style>\n",
       "      <progress value='0' class='' max='1' style='width:300px; height:20px; vertical-align: middle;'></progress>\n",
       "      \n",
       "    </div>\n",
       "    \n"
      ],
      "text/plain": [
       "<IPython.core.display.HTML object>"
      ]
     },
     "metadata": {},
     "output_type": "display_data"
    },
    {
     "data": {
      "text/html": [],
      "text/plain": [
       "<IPython.core.display.HTML object>"
      ]
     },
     "metadata": {},
     "output_type": "display_data"
    },
    {
     "data": {
      "text/html": [
       "\n",
       "    <div>\n",
       "        <style>\n",
       "            /* Turns off some styling */\n",
       "            progress {\n",
       "                /* gets rid of default border in Firefox and Opera. */\n",
       "                border: none;\n",
       "                /* Needs to be in here for Safari polyfill so background images work as expected. */\n",
       "                background-size: auto;\n",
       "            }\n",
       "            .progress-bar-interrupted, .progress-bar-interrupted::-webkit-progress-bar {\n",
       "                background: #F44336;\n",
       "            }\n",
       "        </style>\n",
       "      <progress value='0' class='' max='1' style='width:300px; height:20px; vertical-align: middle;'></progress>\n",
       "      \n",
       "    </div>\n",
       "    \n"
      ],
      "text/plain": [
       "<IPython.core.display.HTML object>"
      ]
     },
     "metadata": {},
     "output_type": "display_data"
    },
    {
     "data": {
      "text/html": [],
      "text/plain": [
       "<IPython.core.display.HTML object>"
      ]
     },
     "metadata": {},
     "output_type": "display_data"
    },
    {
     "data": {
      "text/html": [
       "\n",
       "    <div>\n",
       "        <style>\n",
       "            /* Turns off some styling */\n",
       "            progress {\n",
       "                /* gets rid of default border in Firefox and Opera. */\n",
       "                border: none;\n",
       "                /* Needs to be in here for Safari polyfill so background images work as expected. */\n",
       "                background-size: auto;\n",
       "            }\n",
       "            .progress-bar-interrupted, .progress-bar-interrupted::-webkit-progress-bar {\n",
       "                background: #F44336;\n",
       "            }\n",
       "        </style>\n",
       "      <progress value='0' class='' max='1' style='width:300px; height:20px; vertical-align: middle;'></progress>\n",
       "      \n",
       "    </div>\n",
       "    \n"
      ],
      "text/plain": [
       "<IPython.core.display.HTML object>"
      ]
     },
     "metadata": {},
     "output_type": "display_data"
    },
    {
     "data": {
      "text/html": [],
      "text/plain": [
       "<IPython.core.display.HTML object>"
      ]
     },
     "metadata": {},
     "output_type": "display_data"
    },
    {
     "name": "stdout",
     "output_type": "stream",
     "text": [
      "Fold3 Swin NN RSME = 18.10636291646102 \n",
      "\n",
      "Fold3 Swin acc = 0.5802219979818365 \n",
      "\n",
      "Fold3 Beit RSME = 18.19793175010318 \n",
      "\n",
      "Fold3 Beit acc = 0.5771947527749748 \n",
      "\n",
      "Fold3 Vit RSME = 18.43445181646908 \n",
      "\n",
      "Fold3 Vit acc = 0.5610494450050454 \n",
      "\n",
      "Ensemble RSME = 17.740760451142837 \n",
      "\n"
     ]
    },
    {
     "name": "stderr",
     "output_type": "stream",
     "text": [
      "/opt/conda/envs/rapids/lib/python3.7/site-packages/fastai/learner.py:56: UserWarning: Saved filed doesn't contain an optimizer state.\n",
      "  elif with_opt: warn(\"Saved filed doesn't contain an optimizer state.\")\n"
     ]
    },
    {
     "data": {
      "text/html": [
       "\n",
       "    <div>\n",
       "        <style>\n",
       "            /* Turns off some styling */\n",
       "            progress {\n",
       "                /* gets rid of default border in Firefox and Opera. */\n",
       "                border: none;\n",
       "                /* Needs to be in here for Safari polyfill so background images work as expected. */\n",
       "                background-size: auto;\n",
       "            }\n",
       "            .progress-bar-interrupted, .progress-bar-interrupted::-webkit-progress-bar {\n",
       "                background: #F44336;\n",
       "            }\n",
       "        </style>\n",
       "      <progress value='0' class='' max='1' style='width:300px; height:20px; vertical-align: middle;'></progress>\n",
       "      \n",
       "    </div>\n",
       "    \n"
      ],
      "text/plain": [
       "<IPython.core.display.HTML object>"
      ]
     },
     "metadata": {},
     "output_type": "display_data"
    },
    {
     "data": {
      "text/html": [],
      "text/plain": [
       "<IPython.core.display.HTML object>"
      ]
     },
     "metadata": {},
     "output_type": "display_data"
    },
    {
     "data": {
      "text/html": [
       "\n",
       "    <div>\n",
       "        <style>\n",
       "            /* Turns off some styling */\n",
       "            progress {\n",
       "                /* gets rid of default border in Firefox and Opera. */\n",
       "                border: none;\n",
       "                /* Needs to be in here for Safari polyfill so background images work as expected. */\n",
       "                background-size: auto;\n",
       "            }\n",
       "            .progress-bar-interrupted, .progress-bar-interrupted::-webkit-progress-bar {\n",
       "                background: #F44336;\n",
       "            }\n",
       "        </style>\n",
       "      <progress value='0' class='' max='1' style='width:300px; height:20px; vertical-align: middle;'></progress>\n",
       "      \n",
       "    </div>\n",
       "    \n"
      ],
      "text/plain": [
       "<IPython.core.display.HTML object>"
      ]
     },
     "metadata": {},
     "output_type": "display_data"
    },
    {
     "data": {
      "text/html": [],
      "text/plain": [
       "<IPython.core.display.HTML object>"
      ]
     },
     "metadata": {},
     "output_type": "display_data"
    },
    {
     "data": {
      "text/html": [
       "\n",
       "    <div>\n",
       "        <style>\n",
       "            /* Turns off some styling */\n",
       "            progress {\n",
       "                /* gets rid of default border in Firefox and Opera. */\n",
       "                border: none;\n",
       "                /* Needs to be in here for Safari polyfill so background images work as expected. */\n",
       "                background-size: auto;\n",
       "            }\n",
       "            .progress-bar-interrupted, .progress-bar-interrupted::-webkit-progress-bar {\n",
       "                background: #F44336;\n",
       "            }\n",
       "        </style>\n",
       "      <progress value='0' class='' max='1' style='width:300px; height:20px; vertical-align: middle;'></progress>\n",
       "      \n",
       "    </div>\n",
       "    \n"
      ],
      "text/plain": [
       "<IPython.core.display.HTML object>"
      ]
     },
     "metadata": {},
     "output_type": "display_data"
    },
    {
     "data": {
      "text/html": [],
      "text/plain": [
       "<IPython.core.display.HTML object>"
      ]
     },
     "metadata": {},
     "output_type": "display_data"
    },
    {
     "name": "stdout",
     "output_type": "stream",
     "text": [
      "Fold4 Swin NN RSME = 17.244061383777748 \n",
      "\n",
      "Fold4 Swin acc = 0.5368314833501514 \n",
      "\n",
      "Fold4 Beit RSME = 17.554652757888327 \n",
      "\n",
      "Fold4 Beit acc = 0.5489404641775983 \n",
      "\n",
      "Fold4 Vit RSME = 17.636961223662666 \n",
      "\n",
      "Fold4 Vit acc = 0.5630676084762866 \n",
      "\n",
      "Ensemble RSME = 16.970877818052863 \n",
      "\n"
     ]
    },
    {
     "name": "stderr",
     "output_type": "stream",
     "text": [
      "/opt/conda/envs/rapids/lib/python3.7/site-packages/fastai/learner.py:56: UserWarning: Saved filed doesn't contain an optimizer state.\n",
      "  elif with_opt: warn(\"Saved filed doesn't contain an optimizer state.\")\n"
     ]
    },
    {
     "data": {
      "text/html": [
       "\n",
       "    <div>\n",
       "        <style>\n",
       "            /* Turns off some styling */\n",
       "            progress {\n",
       "                /* gets rid of default border in Firefox and Opera. */\n",
       "                border: none;\n",
       "                /* Needs to be in here for Safari polyfill so background images work as expected. */\n",
       "                background-size: auto;\n",
       "            }\n",
       "            .progress-bar-interrupted, .progress-bar-interrupted::-webkit-progress-bar {\n",
       "                background: #F44336;\n",
       "            }\n",
       "        </style>\n",
       "      <progress value='0' class='' max='1' style='width:300px; height:20px; vertical-align: middle;'></progress>\n",
       "      \n",
       "    </div>\n",
       "    \n"
      ],
      "text/plain": [
       "<IPython.core.display.HTML object>"
      ]
     },
     "metadata": {},
     "output_type": "display_data"
    },
    {
     "data": {
      "text/html": [],
      "text/plain": [
       "<IPython.core.display.HTML object>"
      ]
     },
     "metadata": {},
     "output_type": "display_data"
    },
    {
     "data": {
      "text/html": [
       "\n",
       "    <div>\n",
       "        <style>\n",
       "            /* Turns off some styling */\n",
       "            progress {\n",
       "                /* gets rid of default border in Firefox and Opera. */\n",
       "                border: none;\n",
       "                /* Needs to be in here for Safari polyfill so background images work as expected. */\n",
       "                background-size: auto;\n",
       "            }\n",
       "            .progress-bar-interrupted, .progress-bar-interrupted::-webkit-progress-bar {\n",
       "                background: #F44336;\n",
       "            }\n",
       "        </style>\n",
       "      <progress value='0' class='' max='1' style='width:300px; height:20px; vertical-align: middle;'></progress>\n",
       "      \n",
       "    </div>\n",
       "    \n"
      ],
      "text/plain": [
       "<IPython.core.display.HTML object>"
      ]
     },
     "metadata": {},
     "output_type": "display_data"
    },
    {
     "data": {
      "text/html": [],
      "text/plain": [
       "<IPython.core.display.HTML object>"
      ]
     },
     "metadata": {},
     "output_type": "display_data"
    },
    {
     "data": {
      "text/html": [
       "\n",
       "    <div>\n",
       "        <style>\n",
       "            /* Turns off some styling */\n",
       "            progress {\n",
       "                /* gets rid of default border in Firefox and Opera. */\n",
       "                border: none;\n",
       "                /* Needs to be in here for Safari polyfill so background images work as expected. */\n",
       "                background-size: auto;\n",
       "            }\n",
       "            .progress-bar-interrupted, .progress-bar-interrupted::-webkit-progress-bar {\n",
       "                background: #F44336;\n",
       "            }\n",
       "        </style>\n",
       "      <progress value='0' class='' max='1' style='width:300px; height:20px; vertical-align: middle;'></progress>\n",
       "      \n",
       "    </div>\n",
       "    \n"
      ],
      "text/plain": [
       "<IPython.core.display.HTML object>"
      ]
     },
     "metadata": {},
     "output_type": "display_data"
    },
    {
     "data": {
      "text/html": [],
      "text/plain": [
       "<IPython.core.display.HTML object>"
      ]
     },
     "metadata": {},
     "output_type": "display_data"
    },
    {
     "name": "stdout",
     "output_type": "stream",
     "text": [
      "Fold5 Swin NN RSME = 18.29022519789007 \n",
      "\n",
      "Fold5 Swin acc = 0.5378405650857719 \n",
      "\n",
      "Fold5 Beit RSME = 18.310362173887473 \n",
      "\n",
      "Fold5 Beit acc = 0.5459132189707366 \n",
      "\n",
      "Fold5 Vit RSME = 18.533543849089735 \n",
      "\n",
      "Fold5 Vit acc = 0.5660948536831484 \n",
      "\n",
      "Ensemble RSME = 17.941980666835548 \n",
      "\n"
     ]
    },
    {
     "name": "stderr",
     "output_type": "stream",
     "text": [
      "/opt/conda/envs/rapids/lib/python3.7/site-packages/fastai/learner.py:56: UserWarning: Saved filed doesn't contain an optimizer state.\n",
      "  elif with_opt: warn(\"Saved filed doesn't contain an optimizer state.\")\n"
     ]
    },
    {
     "data": {
      "text/html": [
       "\n",
       "    <div>\n",
       "        <style>\n",
       "            /* Turns off some styling */\n",
       "            progress {\n",
       "                /* gets rid of default border in Firefox and Opera. */\n",
       "                border: none;\n",
       "                /* Needs to be in here for Safari polyfill so background images work as expected. */\n",
       "                background-size: auto;\n",
       "            }\n",
       "            .progress-bar-interrupted, .progress-bar-interrupted::-webkit-progress-bar {\n",
       "                background: #F44336;\n",
       "            }\n",
       "        </style>\n",
       "      <progress value='0' class='' max='1' style='width:300px; height:20px; vertical-align: middle;'></progress>\n",
       "      \n",
       "    </div>\n",
       "    \n"
      ],
      "text/plain": [
       "<IPython.core.display.HTML object>"
      ]
     },
     "metadata": {},
     "output_type": "display_data"
    },
    {
     "data": {
      "text/html": [],
      "text/plain": [
       "<IPython.core.display.HTML object>"
      ]
     },
     "metadata": {},
     "output_type": "display_data"
    },
    {
     "data": {
      "text/html": [
       "\n",
       "    <div>\n",
       "        <style>\n",
       "            /* Turns off some styling */\n",
       "            progress {\n",
       "                /* gets rid of default border in Firefox and Opera. */\n",
       "                border: none;\n",
       "                /* Needs to be in here for Safari polyfill so background images work as expected. */\n",
       "                background-size: auto;\n",
       "            }\n",
       "            .progress-bar-interrupted, .progress-bar-interrupted::-webkit-progress-bar {\n",
       "                background: #F44336;\n",
       "            }\n",
       "        </style>\n",
       "      <progress value='0' class='' max='1' style='width:300px; height:20px; vertical-align: middle;'></progress>\n",
       "      \n",
       "    </div>\n",
       "    \n"
      ],
      "text/plain": [
       "<IPython.core.display.HTML object>"
      ]
     },
     "metadata": {},
     "output_type": "display_data"
    },
    {
     "data": {
      "text/html": [],
      "text/plain": [
       "<IPython.core.display.HTML object>"
      ]
     },
     "metadata": {},
     "output_type": "display_data"
    },
    {
     "data": {
      "text/html": [
       "\n",
       "    <div>\n",
       "        <style>\n",
       "            /* Turns off some styling */\n",
       "            progress {\n",
       "                /* gets rid of default border in Firefox and Opera. */\n",
       "                border: none;\n",
       "                /* Needs to be in here for Safari polyfill so background images work as expected. */\n",
       "                background-size: auto;\n",
       "            }\n",
       "            .progress-bar-interrupted, .progress-bar-interrupted::-webkit-progress-bar {\n",
       "                background: #F44336;\n",
       "            }\n",
       "        </style>\n",
       "      <progress value='0' class='' max='1' style='width:300px; height:20px; vertical-align: middle;'></progress>\n",
       "      \n",
       "    </div>\n",
       "    \n"
      ],
      "text/plain": [
       "<IPython.core.display.HTML object>"
      ]
     },
     "metadata": {},
     "output_type": "display_data"
    },
    {
     "data": {
      "text/html": [],
      "text/plain": [
       "<IPython.core.display.HTML object>"
      ]
     },
     "metadata": {},
     "output_type": "display_data"
    },
    {
     "name": "stdout",
     "output_type": "stream",
     "text": [
      "Fold6 Swin NN RSME = 17.88775559127913 \n",
      "\n",
      "Fold6 Swin acc = 0.549949545913219 \n",
      "\n",
      "Fold6 Beit RSME = 17.51101575607189 \n",
      "\n",
      "Fold6 Beit acc = 0.5610494450050454 \n",
      "\n",
      "Fold6 Vit RSME = 17.219137491117674 \n",
      "\n",
      "Fold6 Vit acc = 0.5580221997981837 \n",
      "\n",
      "Ensemble RSME = 17.04819429527342 \n",
      "\n"
     ]
    },
    {
     "name": "stderr",
     "output_type": "stream",
     "text": [
      "/opt/conda/envs/rapids/lib/python3.7/site-packages/fastai/learner.py:56: UserWarning: Saved filed doesn't contain an optimizer state.\n",
      "  elif with_opt: warn(\"Saved filed doesn't contain an optimizer state.\")\n"
     ]
    },
    {
     "data": {
      "text/html": [
       "\n",
       "    <div>\n",
       "        <style>\n",
       "            /* Turns off some styling */\n",
       "            progress {\n",
       "                /* gets rid of default border in Firefox and Opera. */\n",
       "                border: none;\n",
       "                /* Needs to be in here for Safari polyfill so background images work as expected. */\n",
       "                background-size: auto;\n",
       "            }\n",
       "            .progress-bar-interrupted, .progress-bar-interrupted::-webkit-progress-bar {\n",
       "                background: #F44336;\n",
       "            }\n",
       "        </style>\n",
       "      <progress value='0' class='' max='1' style='width:300px; height:20px; vertical-align: middle;'></progress>\n",
       "      \n",
       "    </div>\n",
       "    \n"
      ],
      "text/plain": [
       "<IPython.core.display.HTML object>"
      ]
     },
     "metadata": {},
     "output_type": "display_data"
    },
    {
     "data": {
      "text/html": [],
      "text/plain": [
       "<IPython.core.display.HTML object>"
      ]
     },
     "metadata": {},
     "output_type": "display_data"
    },
    {
     "data": {
      "text/html": [
       "\n",
       "    <div>\n",
       "        <style>\n",
       "            /* Turns off some styling */\n",
       "            progress {\n",
       "                /* gets rid of default border in Firefox and Opera. */\n",
       "                border: none;\n",
       "                /* Needs to be in here for Safari polyfill so background images work as expected. */\n",
       "                background-size: auto;\n",
       "            }\n",
       "            .progress-bar-interrupted, .progress-bar-interrupted::-webkit-progress-bar {\n",
       "                background: #F44336;\n",
       "            }\n",
       "        </style>\n",
       "      <progress value='0' class='' max='1' style='width:300px; height:20px; vertical-align: middle;'></progress>\n",
       "      \n",
       "    </div>\n",
       "    \n"
      ],
      "text/plain": [
       "<IPython.core.display.HTML object>"
      ]
     },
     "metadata": {},
     "output_type": "display_data"
    },
    {
     "data": {
      "text/html": [],
      "text/plain": [
       "<IPython.core.display.HTML object>"
      ]
     },
     "metadata": {},
     "output_type": "display_data"
    },
    {
     "data": {
      "text/html": [
       "\n",
       "    <div>\n",
       "        <style>\n",
       "            /* Turns off some styling */\n",
       "            progress {\n",
       "                /* gets rid of default border in Firefox and Opera. */\n",
       "                border: none;\n",
       "                /* Needs to be in here for Safari polyfill so background images work as expected. */\n",
       "                background-size: auto;\n",
       "            }\n",
       "            .progress-bar-interrupted, .progress-bar-interrupted::-webkit-progress-bar {\n",
       "                background: #F44336;\n",
       "            }\n",
       "        </style>\n",
       "      <progress value='0' class='' max='1' style='width:300px; height:20px; vertical-align: middle;'></progress>\n",
       "      \n",
       "    </div>\n",
       "    \n"
      ],
      "text/plain": [
       "<IPython.core.display.HTML object>"
      ]
     },
     "metadata": {},
     "output_type": "display_data"
    },
    {
     "data": {
      "text/html": [],
      "text/plain": [
       "<IPython.core.display.HTML object>"
      ]
     },
     "metadata": {},
     "output_type": "display_data"
    },
    {
     "name": "stdout",
     "output_type": "stream",
     "text": [
      "Fold7 Swin NN RSME = 18.027440033338053 \n",
      "\n",
      "Fold7 Swin acc = 0.5650857719475277 \n",
      "\n",
      "Fold7 Beit RSME = 18.401295888814982 \n",
      "\n",
      "Fold7 Beit acc = 0.5600403632694249 \n",
      "\n",
      "Fold7 Vit RSME = 18.295711452335556 \n",
      "\n",
      "Fold7 Vit acc = 0.5782038345105953 \n",
      "\n",
      "Ensemble RSME = 17.761091952615654 \n",
      "\n"
     ]
    },
    {
     "name": "stderr",
     "output_type": "stream",
     "text": [
      "/opt/conda/envs/rapids/lib/python3.7/site-packages/fastai/learner.py:56: UserWarning: Saved filed doesn't contain an optimizer state.\n",
      "  elif with_opt: warn(\"Saved filed doesn't contain an optimizer state.\")\n"
     ]
    },
    {
     "data": {
      "text/html": [
       "\n",
       "    <div>\n",
       "        <style>\n",
       "            /* Turns off some styling */\n",
       "            progress {\n",
       "                /* gets rid of default border in Firefox and Opera. */\n",
       "                border: none;\n",
       "                /* Needs to be in here for Safari polyfill so background images work as expected. */\n",
       "                background-size: auto;\n",
       "            }\n",
       "            .progress-bar-interrupted, .progress-bar-interrupted::-webkit-progress-bar {\n",
       "                background: #F44336;\n",
       "            }\n",
       "        </style>\n",
       "      <progress value='0' class='' max='1' style='width:300px; height:20px; vertical-align: middle;'></progress>\n",
       "      \n",
       "    </div>\n",
       "    \n"
      ],
      "text/plain": [
       "<IPython.core.display.HTML object>"
      ]
     },
     "metadata": {},
     "output_type": "display_data"
    },
    {
     "data": {
      "text/html": [],
      "text/plain": [
       "<IPython.core.display.HTML object>"
      ]
     },
     "metadata": {},
     "output_type": "display_data"
    },
    {
     "data": {
      "text/html": [
       "\n",
       "    <div>\n",
       "        <style>\n",
       "            /* Turns off some styling */\n",
       "            progress {\n",
       "                /* gets rid of default border in Firefox and Opera. */\n",
       "                border: none;\n",
       "                /* Needs to be in here for Safari polyfill so background images work as expected. */\n",
       "                background-size: auto;\n",
       "            }\n",
       "            .progress-bar-interrupted, .progress-bar-interrupted::-webkit-progress-bar {\n",
       "                background: #F44336;\n",
       "            }\n",
       "        </style>\n",
       "      <progress value='0' class='' max='1' style='width:300px; height:20px; vertical-align: middle;'></progress>\n",
       "      \n",
       "    </div>\n",
       "    \n"
      ],
      "text/plain": [
       "<IPython.core.display.HTML object>"
      ]
     },
     "metadata": {},
     "output_type": "display_data"
    },
    {
     "data": {
      "text/html": [],
      "text/plain": [
       "<IPython.core.display.HTML object>"
      ]
     },
     "metadata": {},
     "output_type": "display_data"
    },
    {
     "data": {
      "text/html": [
       "\n",
       "    <div>\n",
       "        <style>\n",
       "            /* Turns off some styling */\n",
       "            progress {\n",
       "                /* gets rid of default border in Firefox and Opera. */\n",
       "                border: none;\n",
       "                /* Needs to be in here for Safari polyfill so background images work as expected. */\n",
       "                background-size: auto;\n",
       "            }\n",
       "            .progress-bar-interrupted, .progress-bar-interrupted::-webkit-progress-bar {\n",
       "                background: #F44336;\n",
       "            }\n",
       "        </style>\n",
       "      <progress value='0' class='' max='1' style='width:300px; height:20px; vertical-align: middle;'></progress>\n",
       "      \n",
       "    </div>\n",
       "    \n"
      ],
      "text/plain": [
       "<IPython.core.display.HTML object>"
      ]
     },
     "metadata": {},
     "output_type": "display_data"
    },
    {
     "data": {
      "text/html": [],
      "text/plain": [
       "<IPython.core.display.HTML object>"
      ]
     },
     "metadata": {},
     "output_type": "display_data"
    },
    {
     "name": "stdout",
     "output_type": "stream",
     "text": [
      "Fold8 Swin NN RSME = 17.990490699971737 \n",
      "\n",
      "Fold8 Swin acc = 0.5580221997981837 \n",
      "\n",
      "Fold8 Beit RSME = 18.454815248589014 \n",
      "\n",
      "Fold8 Beit acc = 0.5600403632694249 \n",
      "\n",
      "Fold8 Vit RSME = 18.36823319384356 \n",
      "\n",
      "Fold8 Vit acc = 0.5600403632694249 \n",
      "\n",
      "Ensemble RSME = 17.77312704091689 \n",
      "\n"
     ]
    },
    {
     "name": "stderr",
     "output_type": "stream",
     "text": [
      "/opt/conda/envs/rapids/lib/python3.7/site-packages/fastai/learner.py:56: UserWarning: Saved filed doesn't contain an optimizer state.\n",
      "  elif with_opt: warn(\"Saved filed doesn't contain an optimizer state.\")\n"
     ]
    },
    {
     "data": {
      "text/html": [
       "\n",
       "    <div>\n",
       "        <style>\n",
       "            /* Turns off some styling */\n",
       "            progress {\n",
       "                /* gets rid of default border in Firefox and Opera. */\n",
       "                border: none;\n",
       "                /* Needs to be in here for Safari polyfill so background images work as expected. */\n",
       "                background-size: auto;\n",
       "            }\n",
       "            .progress-bar-interrupted, .progress-bar-interrupted::-webkit-progress-bar {\n",
       "                background: #F44336;\n",
       "            }\n",
       "        </style>\n",
       "      <progress value='0' class='' max='1' style='width:300px; height:20px; vertical-align: middle;'></progress>\n",
       "      \n",
       "    </div>\n",
       "    \n"
      ],
      "text/plain": [
       "<IPython.core.display.HTML object>"
      ]
     },
     "metadata": {},
     "output_type": "display_data"
    },
    {
     "data": {
      "text/html": [],
      "text/plain": [
       "<IPython.core.display.HTML object>"
      ]
     },
     "metadata": {},
     "output_type": "display_data"
    },
    {
     "data": {
      "text/html": [
       "\n",
       "    <div>\n",
       "        <style>\n",
       "            /* Turns off some styling */\n",
       "            progress {\n",
       "                /* gets rid of default border in Firefox and Opera. */\n",
       "                border: none;\n",
       "                /* Needs to be in here for Safari polyfill so background images work as expected. */\n",
       "                background-size: auto;\n",
       "            }\n",
       "            .progress-bar-interrupted, .progress-bar-interrupted::-webkit-progress-bar {\n",
       "                background: #F44336;\n",
       "            }\n",
       "        </style>\n",
       "      <progress value='0' class='' max='1' style='width:300px; height:20px; vertical-align: middle;'></progress>\n",
       "      \n",
       "    </div>\n",
       "    \n"
      ],
      "text/plain": [
       "<IPython.core.display.HTML object>"
      ]
     },
     "metadata": {},
     "output_type": "display_data"
    },
    {
     "data": {
      "text/html": [],
      "text/plain": [
       "<IPython.core.display.HTML object>"
      ]
     },
     "metadata": {},
     "output_type": "display_data"
    },
    {
     "data": {
      "text/html": [
       "\n",
       "    <div>\n",
       "        <style>\n",
       "            /* Turns off some styling */\n",
       "            progress {\n",
       "                /* gets rid of default border in Firefox and Opera. */\n",
       "                border: none;\n",
       "                /* Needs to be in here for Safari polyfill so background images work as expected. */\n",
       "                background-size: auto;\n",
       "            }\n",
       "            .progress-bar-interrupted, .progress-bar-interrupted::-webkit-progress-bar {\n",
       "                background: #F44336;\n",
       "            }\n",
       "        </style>\n",
       "      <progress value='0' class='' max='1' style='width:300px; height:20px; vertical-align: middle;'></progress>\n",
       "      \n",
       "    </div>\n",
       "    \n"
      ],
      "text/plain": [
       "<IPython.core.display.HTML object>"
      ]
     },
     "metadata": {},
     "output_type": "display_data"
    },
    {
     "data": {
      "text/html": [],
      "text/plain": [
       "<IPython.core.display.HTML object>"
      ]
     },
     "metadata": {},
     "output_type": "display_data"
    },
    {
     "name": "stdout",
     "output_type": "stream",
     "text": [
      "Fold9 Swin NN RSME = 17.598623635050064 \n",
      "\n",
      "Fold9 Swin acc = 0.5610494450050454 \n",
      "\n",
      "Fold9 Beit RSME = 17.84730141001348 \n",
      "\n",
      "Fold9 Beit acc = 0.562058526740666 \n",
      "\n",
      "Fold9 Vit RSME = 18.599436155133272 \n",
      "\n",
      "Fold9 Vit acc = 0.5761856710393541 \n",
      "\n",
      "Ensemble RSME = 17.268776314270387 \n",
      "\n"
     ]
    },
    {
     "name": "stderr",
     "output_type": "stream",
     "text": [
      "/opt/conda/envs/rapids/lib/python3.7/site-packages/fastai/learner.py:56: UserWarning: Saved filed doesn't contain an optimizer state.\n",
      "  elif with_opt: warn(\"Saved filed doesn't contain an optimizer state.\")\n"
     ]
    },
    {
     "data": {
      "text/html": [
       "\n",
       "    <div>\n",
       "        <style>\n",
       "            /* Turns off some styling */\n",
       "            progress {\n",
       "                /* gets rid of default border in Firefox and Opera. */\n",
       "                border: none;\n",
       "                /* Needs to be in here for Safari polyfill so background images work as expected. */\n",
       "                background-size: auto;\n",
       "            }\n",
       "            .progress-bar-interrupted, .progress-bar-interrupted::-webkit-progress-bar {\n",
       "                background: #F44336;\n",
       "            }\n",
       "        </style>\n",
       "      <progress value='0' class='' max='1' style='width:300px; height:20px; vertical-align: middle;'></progress>\n",
       "      \n",
       "    </div>\n",
       "    \n"
      ],
      "text/plain": [
       "<IPython.core.display.HTML object>"
      ]
     },
     "metadata": {},
     "output_type": "display_data"
    },
    {
     "data": {
      "text/html": [],
      "text/plain": [
       "<IPython.core.display.HTML object>"
      ]
     },
     "metadata": {},
     "output_type": "display_data"
    },
    {
     "data": {
      "text/html": [
       "\n",
       "    <div>\n",
       "        <style>\n",
       "            /* Turns off some styling */\n",
       "            progress {\n",
       "                /* gets rid of default border in Firefox and Opera. */\n",
       "                border: none;\n",
       "                /* Needs to be in here for Safari polyfill so background images work as expected. */\n",
       "                background-size: auto;\n",
       "            }\n",
       "            .progress-bar-interrupted, .progress-bar-interrupted::-webkit-progress-bar {\n",
       "                background: #F44336;\n",
       "            }\n",
       "        </style>\n",
       "      <progress value='0' class='' max='1' style='width:300px; height:20px; vertical-align: middle;'></progress>\n",
       "      \n",
       "    </div>\n",
       "    \n"
      ],
      "text/plain": [
       "<IPython.core.display.HTML object>"
      ]
     },
     "metadata": {},
     "output_type": "display_data"
    },
    {
     "data": {
      "text/html": [],
      "text/plain": [
       "<IPython.core.display.HTML object>"
      ]
     },
     "metadata": {},
     "output_type": "display_data"
    },
    {
     "data": {
      "text/html": [
       "\n",
       "    <div>\n",
       "        <style>\n",
       "            /* Turns off some styling */\n",
       "            progress {\n",
       "                /* gets rid of default border in Firefox and Opera. */\n",
       "                border: none;\n",
       "                /* Needs to be in here for Safari polyfill so background images work as expected. */\n",
       "                background-size: auto;\n",
       "            }\n",
       "            .progress-bar-interrupted, .progress-bar-interrupted::-webkit-progress-bar {\n",
       "                background: #F44336;\n",
       "            }\n",
       "        </style>\n",
       "      <progress value='0' class='' max='1' style='width:300px; height:20px; vertical-align: middle;'></progress>\n",
       "      \n",
       "    </div>\n",
       "    \n"
      ],
      "text/plain": [
       "<IPython.core.display.HTML object>"
      ]
     },
     "metadata": {},
     "output_type": "display_data"
    },
    {
     "data": {
      "text/html": [],
      "text/plain": [
       "<IPython.core.display.HTML object>"
      ]
     },
     "metadata": {},
     "output_type": "display_data"
    },
    {
     "name": "stdout",
     "output_type": "stream",
     "text": [
      "Fold10 Swin NN RSME = 17.31951638411129 \n",
      "\n",
      "Fold10 Swin acc = 0.5287588294651867 \n",
      "\n",
      "Fold10 Beit RSME = 17.391023084063352 \n",
      "\n",
      "Fold10 Beit acc = 0.5418768920282543 \n",
      "\n",
      "Fold10 Vit RSME = 17.59533819035615 \n",
      "\n",
      "Fold10 Vit acc = 0.5338042381432896 \n",
      "\n",
      "Ensemble RSME = 16.94478453195446 \n",
      "\n"
     ]
    }
   ],
   "source": [
    "import gc\n",
    "import torch\n",
    "from sklearn.model_selection import KFold\n",
    "from  sklearn.decomposition import PCA\n",
    "from sklearn.model_selection import StratifiedKFold\n",
    "from sklearn.svm import SVR\n",
    "from sklearn.metrics import accuracy_score\n",
    "from scipy.special import expit\n",
    "\n",
    "def sigmoid(x):\n",
    "    return 1 / (1 + math.exp(-x))\n",
    "\n",
    "df['fold'] = -1\n",
    "\n",
    "super_final_predictions = []\n",
    "super_final_predictions2 = []\n",
    "super_final_predictions3 = []\n",
    "super_final_acc_predictions = []\n",
    "super_final_acc_predictions2 = []\n",
    "super_final_acc_predictions3 = []\n",
    "super_final_oof_true = []\n",
    "super_final_acc_true = []\n",
    "\n",
    "meta_labels = [\"norm_score\", \"Eyes\", \"Face\", \"Near\", \"Action\", \"Accessory\", \"Group\", \"Collage\", \\\n",
    "               \"Human\", \"Occlusion\", \"Info\", \"Blur\", \"is_cat\"]\n",
    "\n",
    "\n",
    "N_FOLDS = 10\n",
    "strat_kfold = StratifiedKFold(n_splits=N_FOLDS, random_state=seed, shuffle=True)\n",
    "for fold, (idx, val_idx) in enumerate(strat_kfold.split(df.index, df['bins'])):\n",
    "    name = f\"SVR_fold_{fold}.pkl\"\n",
    "    train_df = df.loc[idx].reset_index(drop=True)\n",
    "    val_df = df.loc[val_idx].reset_index(drop=True)\n",
    "\n",
    "#     paw_block = DataBlock(blocks = (ImageBlock, RegressionBlock, CategoryBlock) ,  # input/ output\n",
    "#                           get_x = ColReader('path'), \n",
    "#                           get_y = [ColReader('norm_score'), ColReader('is_cat')], \n",
    "#                           n_inp = 1,\n",
    "#                           item_tfms = Resize(224), \n",
    "#                           batch_tfms = setup_aug_tfms([#Flip(p=0.5),\n",
    "#                                           Brightness(max_lighting=0.2, p=0.75), \n",
    "#                                           Contrast(max_lighting=0.2, p=0.75), \n",
    "#                                           Hue(max_hue=0.1, p=0.75), \n",
    "#                                           Saturation(max_lighting=0.2, p=0.75)])\n",
    "#                           # RandomErasing(p=0.5, sl=0.0, sh=0.3, min_aspect=0.3, max_count=1)\n",
    "#                          )\n",
    "    \n",
    "#     dls = paw_block.dataloaders(\n",
    "#         train_df, \n",
    "#         batch_size=BATCH_SIZE, \n",
    "#         y_block=(RegressionBlock, CategoryBlock), \n",
    "#         num_workers=8)\n",
    "\n",
    "#     dls = MyImageDataLoaders.from_df(train_df, #pass in train DataFrame\n",
    "#                                valid_pct=0.2, #80-20 train-validation random split\n",
    "#                                # valid_col='is_valid', #\n",
    "#                                seed=999, #seed\n",
    "#                                fn_col='path', #filename/path is in the second column of the DataFrame\n",
    "#                                label_cols=['norm_score', 'is_cat'], #label is in the first column of the DataFrame\n",
    "#                                y_block=(RegressionBlock, RegressionBlock), #The type of target\n",
    "#                                bs=BATCH_SIZE, #pass in batch size\n",
    "#                                num_workers=8,\n",
    "#                                item_tfms=Resize(224), #pass in item_tfms\n",
    "#                                batch_tfms=setup_aug_tfms([Brightness(), Contrast(), Hue(), Saturation()])) #pass in batch_tfms\n",
    "\n",
    "    dls = MyImageDataLoaders.from_df(train_df, #pass in train DataFrame\n",
    "                               valid_pct=0.2, #80-20 train-validation random split\n",
    "                       # valid_col='is_valid', #\n",
    "                       seed=999, #seed\n",
    "                       fn_col='path', #filename/path is in the second column of the DataFrame\n",
    "                       label_cols=meta_labels, #label is in the first column of the DataFrame\n",
    "                       y_block=tuple([RegressionBlock] * len(meta_labels)), #The type of target\n",
    "                       bs=BATCH_SIZE, #pass in batch size\n",
    "                       num_workers=8,\n",
    "                       item_tfms=Resize(224), #pass in item_tfms\n",
    "                       batch_tfms=setup_aug_tfms([Brightness(), Contrast(), Hue(), Saturation()])) #pass in batch_tfms\n",
    "    \n",
    "\n",
    "    \n",
    "    model_swin = PetModel_swin(num_classes=0)\n",
    "    model_beit = PetModel_beit(num_classes=0)\n",
    "    model_vit = PetModel_vit(num_classes=0)\n",
    "    # model_twins = PetModel_twins(num_classes=0)\n",
    "    # model_pit = PetModel_pit(num_classes=0)\n",
    "\n",
    "\n",
    "    learn_swin = Learner(\n",
    "        dls, \n",
    "        model_swin, \n",
    "        loss_func=CombinedLoss(), \n",
    "        metrics=AccumMetric(func = petfinder_rmse),\n",
    "        model_dir = \"swin_large_patch4_window7_224_allmeta_nodataleak_10fold\"\n",
    "    ).to_fp16()\n",
    "    learn_swin.load(f'swin_large_patch4_window7_224_fold{fold}')\n",
    "    \n",
    "    learn_beit = Learner(\n",
    "        dls, \n",
    "        model_beit, \n",
    "        loss_func=CombinedLoss(), \n",
    "        metrics=AccumMetric(func = petfinder_rmse),\n",
    "        model_dir = \"beit_large_patch16_224_allmeta_nodataleak_1e5lr_10fold\"\n",
    "    ).to_fp16()\n",
    "    learn_beit.load(f'beit_large_patch16_224_fold{fold}')\n",
    "    \n",
    "\n",
    "    \n",
    "    learn_vit = Learner(\n",
    "        dls, \n",
    "        model_vit, \n",
    "        loss_func=CombinedLoss(), \n",
    "        metrics=AccumMetric(func = petfinder_rmse),\n",
    "        model_dir = \"vit_large_patch16_224_allmeta_nodataleak_1e5lr_10fold\"\n",
    "    ).to_fp16()\n",
    "    learn_vit.load(f'vit_large_patch16_224_fold{fold}')\n",
    "    \n",
    "    # learn_twins = Learner(\n",
    "    #     dls, \n",
    "    #     model_twins, \n",
    "    #     loss_func=CombinedLoss(), \n",
    "    #     metrics=AccumMetric(func = petfinder_rmse),\n",
    "    #     model_dir = \"twins_svt_large_multitask_nodataleak\"\n",
    "    # ).to_fp16()\n",
    "    # learn_twins.load(f'twins_svt_large_fold{fold}')\n",
    "    \n",
    "    # learn_pit = Learner(\n",
    "    #     dls, \n",
    "    #     model_pit, \n",
    "    #     loss_func=CombinedLoss(), \n",
    "    #     metrics=AccumMetric(func = petfinder_rmse),\n",
    "    #     model_dir = \"pit_b_224_multitask\"\n",
    "    # ).to_fp16()\n",
    "    # learn_pit.load(f'pit_b_224_fold{fold}')\n",
    "    \n",
    "    \n",
    "    val_dl = dls.test_dl(val_df)\n",
    "\n",
    "    swin_val_preds, _ = learn_swin.tta(dl=val_dl, n=5, beta=0)\n",
    "    swin_val_preds = swin_val_preds.cpu().detach().numpy()\n",
    "    \n",
    "    final_test_predictions = []\n",
    "    final_test_predictions.extend(swin_val_preds[:,0].ravel().tolist())\n",
    "    final_test_predictions = [sigmoid(x) * 100 for x in final_test_predictions]\n",
    "    super_final_predictions.append(final_test_predictions)\n",
    "    final_acc_test_predictions = []\n",
    "    acc_tmp = expit(swin_val_preds[:, 1])\n",
    "    # print(\"acc_tmp：\", acc_tmp) \n",
    "    acc_tmp[acc_tmp >= 0.5] = 1\n",
    "    acc_tmp[acc_tmp < 0.5] = 0\n",
    "    final_acc_test_predictions.extend(acc_tmp.ravel().tolist())\n",
    "    super_final_acc_predictions.append(final_acc_test_predictions)\n",
    "\n",
    "    \n",
    "    beit_val_preds, _ = learn_beit.tta(dl=val_dl, n=5, beta=0)\n",
    "    beit_val_preds = beit_val_preds.cpu().detach().numpy()\n",
    "    final_test_predictions2 = []\n",
    "    final_test_predictions2.extend(beit_val_preds[:,0].ravel().tolist())\n",
    "    final_test_predictions2 = [sigmoid(x) * 100 for x in final_test_predictions2]\n",
    "    super_final_predictions2.append(final_test_predictions2)\n",
    "    final_acc_test_predictions2 = []\n",
    "    acc_tmp = expit(beit_val_preds[:, 1])\n",
    "    # print(\"acc_tmp：\", acc_tmp) \n",
    "    acc_tmp[acc_tmp >= 0.5] = 1\n",
    "    acc_tmp[acc_tmp < 0.5] = 0\n",
    "    final_acc_test_predictions2.extend(acc_tmp.ravel().tolist())\n",
    "    super_final_acc_predictions2.append(final_acc_test_predictions2)\n",
    "    \n",
    "    vit_val_preds, _ = learn_vit.tta(dl=val_dl, n=5, beta=0)\n",
    "    vit_val_preds = vit_val_preds.cpu().detach().numpy()\n",
    "    \n",
    "    final_test_predictions3 = []\n",
    "    final_test_predictions3.extend(vit_val_preds[:,0].ravel().tolist())\n",
    "    final_test_predictions3 = [sigmoid(x) * 100 for x in final_test_predictions3]\n",
    "    super_final_predictions3.append(final_test_predictions3)\n",
    "    final_acc_test_predictions3 = []\n",
    "    acc_tmp = expit(vit_val_preds[:, 1])\n",
    "    # print(\"acc_tmp：\", acc_tmp) \n",
    "    acc_tmp[acc_tmp >= 0.5] = 1\n",
    "    acc_tmp[acc_tmp < 0.5] = 0\n",
    "    final_acc_test_predictions3.extend(acc_tmp.ravel().tolist())\n",
    "    super_final_acc_predictions3.append(final_acc_test_predictions3)\n",
    "    \n",
    "#     twins_val_preds, _ = learn_twins.tta(dl=val_dl, n=5, beta=0)\n",
    "#     twins_val_preds = twins_val_preds.cpu().detach().numpy()\n",
    "    \n",
    "#     final_test_predictions3 = []\n",
    "#     final_test_predictions3.extend(twins_val_preds[:,0].ravel().tolist())\n",
    "#     final_test_predictions3 = [sigmoid(x) * 100 for x in final_test_predictions3]\n",
    "#     super_final_predictions3.append(final_test_predictions3)\n",
    "#     final_acc_test_predictions3 = []\n",
    "#     acc_tmp = expit(twins_val_preds[:, 1])\n",
    "#     # print(\"acc_tmp：\", acc_tmp) \n",
    "#     acc_tmp[acc_tmp >= 0.5] = 1\n",
    "#     acc_tmp[acc_tmp < 0.5] = 0\n",
    "#     final_acc_test_predictions3.extend(acc_tmp.ravel().tolist())\n",
    "#     super_final_acc_predictions3.append(final_acc_test_predictions3)\n",
    "    \n",
    "  \n",
    "    final_oof_true = val_df['Pawpularity'].values\n",
    "    super_final_oof_true.append(final_oof_true)\n",
    "    final_acc_true = val_df['is_cat'].values\n",
    "    super_final_acc_true.append(final_acc_true)\n",
    "\n",
    "    ##################\n",
    "    # COMPUTE RSME\n",
    "    rsme = np.sqrt( np.mean( (super_final_oof_true[-1] - np.array(super_final_predictions[-1]))**2.0 ) )\n",
    "    print(f'Fold{fold + 1} Swin NN RSME =', rsme, '\\n')\n",
    "    acc = accuracy_score(super_final_acc_predictions[-1], super_final_acc_true[-1])\n",
    "    print(f'Fold{fold+1} Swin acc =', acc, '\\n')\n",
    "    \n",
    "    rsme = np.sqrt( np.mean( (super_final_oof_true[-1] - np.array(super_final_predictions2[-1]))**2.0 ) )\n",
    "    print(f'Fold{fold + 1} Beit RSME =', rsme, '\\n')\n",
    "    acc = accuracy_score(super_final_acc_predictions2[-1], super_final_acc_true[-1])\n",
    "    print(f'Fold{fold+1} Beit acc =', acc, '\\n')\n",
    "    rsme = np.sqrt( np.mean( (super_final_oof_true[-1] - np.array(super_final_predictions3[-1]))**2.0 ) )\n",
    "    print(f'Fold{fold + 1} Vit RSME =', rsme, '\\n')\n",
    "    acc = accuracy_score(super_final_acc_predictions3[-1], super_final_acc_true[-1])\n",
    "    print(f'Fold{fold+1} Vit acc =', acc, '\\n')\n",
    "#     rsme = np.sqrt( np.mean( (super_final_oof_true[-1] - np.array(super_final_predictions3[-1]))**2.0 ) )\n",
    "#     print(f'Fold{fold + 1} twins NN RSME =', rsme, '\\n')\n",
    "#     acc = accuracy_score(super_final_acc_predictions3[-1], super_final_acc_true[-1])\n",
    "#     print(f'Fold{fold+1} twins acc =', acc, '\\n')\n",
    "    \n",
    "\n",
    "    w1, w2, w3 = 0.33, 0.34, 0.33\n",
    "    oof2 = w1*np.array(super_final_predictions[-1]) + w2*np.array(super_final_predictions2[-1]) + w3*np.array(super_final_predictions3[-1])\n",
    "    rsme = np.sqrt( np.mean( (super_final_oof_true[-1] - oof2)**2.0 ) )\n",
    "    print('Ensemble RSME =',rsme,'\\n')\n",
    "\n",
    "    gc.collect()\n",
    "    torch.cuda.empty_cache()\n",
    "    # if fold >= 1:\n",
    "    #     break\n",
    "    "
   ]
  },
  {
   "cell_type": "code",
   "execution_count": 18,
   "metadata": {},
   "outputs": [
    {
     "name": "stdout",
     "output_type": "stream",
     "text": [
      "Overall CV Swin NN head RSME = 17.729154840742478\n",
      "Overall CV Beit NN head RSME = 17.845263150317425\n",
      "Overall CV xcit NN head RSME = 17.937577445869998\n",
      "Overall CV Ensemble heads RSME with 50% Swin and 40% Beit and 10% Vit = 17.380944727930267\n"
     ]
    }
   ],
   "source": [
    "true = np.hstack(super_final_oof_true)\n",
    "\n",
    "oof = np.hstack(super_final_predictions)\n",
    "oof[oof > 78] = oof[oof > 78] * 0.75 + 38 * 0.25\n",
    "oof[oof < 22] = oof[oof < 22] * 0.75 + 38 * 0.25\n",
    "rsme = np.sqrt( np.mean( (oof - true)**2.0 ))\n",
    "print('Overall CV Swin NN head RSME =',rsme)\n",
    "\n",
    "oof2 = np.hstack(super_final_predictions2)\n",
    "oof2[oof2 > 58] = oof2[oof2 > 58] * 0.8 + 38 * 0.2\n",
    "oof2[oof2 < 22] = oof2[oof2 < 22] * 0.8 + 38 * 0.2\n",
    "rsme = np.sqrt( np.mean( (oof2 - true)**2.0 ))\n",
    "print('Overall CV Beit NN head RSME =',rsme)\n",
    "\n",
    "# oof3 = np.hstack(super_final_predictions3)\n",
    "# rsme = np.sqrt( np.mean( (oof3 - true)**2.0 ))\n",
    "# print('Overall CV Vit NN head RSME =',rsme)\n",
    "\n",
    "oof3 = np.hstack(super_final_predictions3)\n",
    "oof3[oof3 > 63] = oof3[oof3 > 63] * 0.75 + 38 * 0.25\n",
    "oof3[oof3 < 22] = oof3[oof3 < 22] * 0.75 + 38 * 0.25\n",
    "rsme = np.sqrt( np.mean( (oof3 - true)**2.0 ))\n",
    "print('Overall CV xcit NN head RSME =',rsme)\n",
    "\n",
    "oof4 = w1*oof + w2*oof2 + w3*oof3\n",
    "rsme = np.sqrt( np.mean( (oof4 - true)**2.0 ))\n",
    "print('Overall CV Ensemble heads RSME with 50% Swin and 40% Beit and 10% Vit =',rsme)"
   ]
  },
  {
   "cell_type": "code",
   "execution_count": 19,
   "metadata": {},
   "outputs": [
    {
     "name": "stdout",
     "output_type": "stream",
     "text": [
      "0.0 and 0.0 CV Ensemble RSME = 17.729154840742478\n",
      "0.0 and 0.05 CV Ensemble RSME = 17.676722310202145\n",
      "0.0 and 0.1 CV Ensemble RSME = 17.630786412347476\n",
      "0.0 and 0.15 CV Ensemble RSME = 17.591398040646936\n",
      "0.0 and 0.2 CV Ensemble RSME = 17.558601258414058\n",
      "0.0 and 0.25 CV Ensemble RSME = 17.53243305706099\n",
      "0.0 and 0.3 CV Ensemble RSME = 17.512923150334228\n",
      "0.0 and 0.35 CV Ensemble RSME = 17.500093807164074\n",
      "0.0 and 0.4 CV Ensemble RSME = 17.493959725299888\n",
      "0.0 and 0.45 CV Ensemble RSME = 17.494527947393415\n",
      "0.0 and 0.5 CV Ensemble RSME = 17.501797820643628\n",
      "0.0 and 0.55 CV Ensemble RSME = 17.51576100054135\n",
      "0.0 and 0.6 CV Ensemble RSME = 17.536401498663487\n",
      "0.0 and 0.65 CV Ensemble RSME = 17.56369577388002\n",
      "0.0 and 0.7 CV Ensemble RSME = 17.59761286576498\n",
      "0.0 and 0.75 CV Ensemble RSME = 17.638114568459574\n",
      "0.0 and 0.8 CV Ensemble RSME = 17.685155642733733\n",
      "0.0 and 0.85 CV Ensemble RSME = 17.738684063542316\n",
      "0.0 and 0.9 CV Ensemble RSME = 17.798641299983146\n",
      "0.0 and 0.95 CV Ensemble RSME = 17.864962624243123\n",
      "0.0 and 1.0 CV Ensemble RSME = 17.937577445869998\n",
      "0.05 and 0.0 CV Ensemble RSME = 17.677066702797855\n",
      "0.05 and 0.05 CV Ensemble RSME = 17.62699255150065\n",
      "0.05 and 0.1 CV Ensemble RSME = 17.583446284133167\n",
      "0.05 and 0.15 CV Ensemble RSME = 17.546476502824603\n",
      "0.05 and 0.2 CV Ensemble RSME = 17.516124848898446\n",
      "0.05 and 0.25 CV Ensemble RSME = 17.492425772346778\n",
      "0.05 and 0.3 CV Ensemble RSME = 17.475406338645413\n",
      "0.05 and 0.35 CV Ensemble RSME = 17.465086075405328\n",
      "0.05 and 0.4 CV Ensemble RSME = 17.46147686087028\n",
      "0.05 and 0.45 CV Ensemble RSME = 17.464582855738115\n",
      "0.05 and 0.5 CV Ensemble RSME = 17.474400479215806\n",
      "0.05 and 0.55 CV Ensemble RSME = 17.49091842962901\n",
      "0.05 and 0.6 CV Ensemble RSME = 17.51411774931002\n",
      "0.05 and 0.65 CV Ensemble RSME = 17.543971932897612\n",
      "0.05 and 0.7 CV Ensemble RSME = 17.580447077612796\n",
      "0.05 and 0.75 CV Ensemble RSME = 17.623502073538955\n",
      "0.05 and 0.8 CV Ensemble RSME = 17.673088831445444\n",
      "0.05 and 0.85 CV Ensemble RSME = 17.729152545260984\n",
      "0.05 and 0.9 CV Ensemble RSME = 17.79163198593509\n",
      "0.05 and 0.95 CV Ensemble RSME = 17.86045982312901\n",
      "0.1 and 0.0 CV Ensemble RSME = 17.630947604261763\n",
      "0.1 and 0.05 CV Ensemble RSME = 17.583261686906596\n",
      "0.1 and 0.1 CV Ensemble RSME = 17.542132347496793\n",
      "0.1 and 0.15 CV Ensemble RSME = 17.50760579476222\n",
      "0.1 and 0.2 CV Ensemble RSME = 17.479721154907836\n",
      "0.1 and 0.25 CV Ensemble RSME = 17.458510253246565\n",
      "0.1 and 0.3 CV Ensemble RSME = 17.443997434445492\n",
      "0.1 and 0.35 CV Ensemble RSME = 17.436199423727885\n",
      "0.1 and 0.4 CV Ensemble RSME = 17.435125230864237\n",
      "0.1 and 0.45 CV Ensemble RSME = 17.440776098232302\n",
      "0.1 and 0.5 CV Ensemble RSME = 17.453145493642854\n",
      "0.1 and 0.55 CV Ensemble RSME = 17.47221914802762\n",
      "0.1 and 0.6 CV Ensemble RSME = 17.497975137483262\n",
      "0.1 and 0.65 CV Ensemble RSME = 17.530384008575062\n",
      "0.1 and 0.7 CV Ensemble RSME = 17.56940894523969\n",
      "0.1 and 0.75 CV Ensemble RSME = 17.61500597510188\n",
      "0.1 and 0.8 CV Ensemble RSME = 17.667124212545847\n",
      "0.1 and 0.85 CV Ensemble RSME = 17.725706135469323\n",
      "0.1 and 0.9 CV Ensemble RSME = 17.790687892303332\n",
      "0.15 and 0.0 CV Ensemble RSME = 17.59084449349148\n",
      "0.15 and 0.05 CV Ensemble RSME = 17.54557457168993\n",
      "0.15 and 0.1 CV Ensemble RSME = 17.506887265533734\n",
      "0.15 and 0.15 CV Ensemble RSME = 17.474826294596593\n",
      "0.15 and 0.2 CV Ensemble RSME = 17.44942818390861\n",
      "0.15 and 0.25 CV Ensemble RSME = 17.43072205863217\n",
      "0.15 and 0.3 CV Ensemble RSME = 17.418729478524845\n",
      "0.15 and 0.35 CV Ensemble RSME = 17.413464314363676\n",
      "0.15 and 0.4 CV Ensemble RSME = 17.41493266797337\n",
      "0.15 and 0.45 CV Ensemble RSME = 17.423132836930257\n",
      "0.15 and 0.5 CV Ensemble RSME = 17.43805532441709\n",
      "0.15 and 0.55 CV Ensemble RSME = 17.459682894095963\n",
      "0.15 and 0.6 CV Ensemble RSME = 17.487990669261738\n",
      "0.15 and 0.65 CV Ensemble RSME = 17.522946274951206\n",
      "0.15 and 0.7 CV Ensemble RSME = 17.564510021128097\n",
      "0.15 and 0.75 CV Ensemble RSME = 17.612635124552906\n",
      "0.15 and 0.8 CV Ensemble RSME = 17.6672679664911\n",
      "0.15 and 0.85 CV Ensemble RSME = 17.728348383022393\n",
      "0.2 and 0.0 CV Ensemble RSME = 17.556798595560995\n",
      "0.2 and 0.05 CV Ensemble RSME = 17.513970221287465\n",
      "0.2 and 0.1 CV Ensemble RSME = 17.477747753072702\n",
      "0.2 and 0.15 CV Ensemble RSME = 17.448172332619084\n",
      "0.2 and 0.2 CV Ensemble RSME = 17.425277805485706\n",
      "0.2 and 0.25 CV Ensemble RSME = 17.409090529627722\n",
      "0.2 and 0.3 CV Ensemble RSME = 17.39962922478628\n",
      "0.2 and 0.35 CV Ensemble RSME = 17.396904864720693\n",
      "0.2 and 0.4 CV Ensemble RSME = 17.400920613723013\n",
      "0.2 and 0.45 CV Ensemble RSME = 17.411671808269322\n",
      "0.2 and 0.5 CV Ensemble RSME = 17.429145984055367\n",
      "0.2 and 0.55 CV Ensemble RSME = 17.453322948051706\n",
      "0.2 and 0.6 CV Ensemble RSME = 17.484174894609854\n",
      "0.2 and 0.65 CV Ensemble RSME = 17.521666564070475\n",
      "0.2 and 0.7 CV Ensemble RSME = 17.56575544178124\n",
      "0.2 and 0.75 CV Ensemble RSME = 17.61639199493788\n",
      "0.2 and 0.8 CV Ensemble RSME = 17.673519944227248\n",
      "0.25 and 0.0 CV Ensemble RSME = 17.52884520488735\n",
      "0.25 and 0.05 CV Ensemble RSME = 17.488481613178223\n",
      "0.25 and 0.1 CV Ensemble RSME = 17.454744388643608\n",
      "0.25 and 0.15 CV Ensemble RSME = 17.427672014131456\n",
      "0.25 and 0.2 CV Ensemble RSME = 17.407295585823725\n",
      "0.25 and 0.25 CV Ensemble RSME = 17.393638636385948\n",
      "0.25 and 0.3 CV Ensemble RSME = 17.386716999910025\n",
      "0.25 and 0.35 CV Ensemble RSME = 17.38653872044648\n",
      "0.25 and 0.4 CV Ensemble RSME = 17.39310400535372\n",
      "0.25 and 0.45 CV Ensemble RSME = 17.406405224093827\n",
      "0.25 and 0.5 CV Ensemble RSME = 17.42642695249122\n",
      "0.25 and 0.55 CV Ensemble RSME = 17.453146061856764\n",
      "0.25 and 0.6 CV Ensemble RSME = 17.486531851780743\n",
      "0.25 and 0.65 CV Ensemble RSME = 17.52654622482767\n",
      "0.25 and 0.7 CV Ensemble RSME = 17.573143900837493\n",
      "0.25 and 0.75 CV Ensemble RSME = 17.626272668063017\n",
      "0.3 and 0.0 CV Ensemble RSME = 17.507013505153555\n",
      "0.3 and 0.05 CV Ensemble RSME = 17.469135517183393\n",
      "0.3 and 0.1 CV Ensemble RSME = 17.437901455927832\n",
      "0.3 and 0.15 CV Ensemble RSME = 17.413347072760715\n",
      "0.3 and 0.2 CV Ensemble RSME = 17.39550065353224\n",
      "0.3 and 0.25 CV Ensemble RSME = 17.384382856992634\n",
      "0.3 and 0.3 CV Ensemble RSME = 17.38000659582155\n",
      "0.3 and 0.35 CV Ensemble RSME = 17.382376961852597\n",
      "0.3 and 0.4 CV Ensemble RSME = 17.39149119649979\n",
      "0.3 and 0.45 CV Ensemble RSME = 17.407338706785648\n",
      "0.3 and 0.5 CV Ensemble RSME = 17.429901126754228\n",
      "0.3 and 0.55 CV Ensemble RSME = 17.45915242344087\n",
      "0.3 and 0.6 CV Ensemble RSME = 17.495059045979136\n",
      "0.3 and 0.65 CV Ensemble RSME = 17.53758011586815\n",
      "0.3 and 0.7 CV Ensemble RSME = 17.58666765591292\n",
      "0.35 and 0.0 CV Ensemble RSME = 17.491326418635968\n",
      "0.35 and 0.05 CV Ensemble RSME = 17.455952356198754\n",
      "0.35 and 0.1 CV Ensemble RSME = 17.42723681658488\n",
      "0.35 and 0.15 CV Ensemble RSME = 17.405212755999983\n",
      "0.35 and 0.2 CV Ensemble RSME = 17.389905598443022\n",
      "0.35 and 0.25 CV Ensemble RSME = 17.381333089977236\n",
      "0.35 and 0.3 CV Ensemble RSME = 17.37950519628098\n",
      "0.35 and 0.35 CV Ensemble RSME = 17.38442404485176\n",
      "0.35 and 0.4 CV Ensemble RSME = 17.396083912643235\n",
      "0.35 and 0.45 CV Ensemble RSME = 17.41447125930247\n",
      "0.35 and 0.5 CV Ensemble RSME = 17.439564805558113\n",
      "0.35 and 0.55 CV Ensemble RSME = 17.471335655704546\n",
      "0.35 and 0.6 CV Ensemble RSME = 17.509747462546883\n",
      "0.35 and 0.65 CV Ensemble RSME = 17.554756632630472\n",
      "0.4 and 0.0 CV Ensemble RSME = 17.48180048672999\n",
      "0.4 and 0.05 CV Ensemble RSME = 17.448946099033037\n",
      "0.4 and 0.1 CV Ensemble RSME = 17.422761815996044\n",
      "0.4 and 0.15 CV Ensemble RSME = 17.403277744371653\n",
      "0.4 and 0.2 CV Ensemble RSME = 17.390516404621113\n",
      "0.4 and 0.25 CV Ensemble RSME = 17.38449260150818\n",
      "0.4 and 0.3 CV Ensemble RSME = 17.38521333850211\n",
      "0.4 and 0.35 CV Ensemble RSME = 17.392677777139806\n",
      "0.4 and 0.4 CV Ensemble RSME = 17.40687724189599\n",
      "0.4 and 0.45 CV Ensemble RSME = 17.427795270495423\n",
      "0.4 and 0.5 CV Ensemble RSME = 17.45540770898838\n",
      "0.4 and 0.55 CV Ensemble RSME = 17.489682850313827\n",
      "0.4 and 0.6 CV Ensemble RSME = 17.53058161450882\n",
      "0.45 and 0.0 CV Ensemble RSME = 17.478445783115568\n",
      "0.45 and 0.05 CV Ensemble RSME = 17.448124186655612\n",
      "0.45 and 0.1 CV Ensemble RSME = 17.424481223079358\n",
      "0.45 and 0.15 CV Ensemble RSME = 17.407544105208405\n",
      "0.45 and 0.2 CV Ensemble RSME = 17.397332418418326\n",
      "0.45 and 0.25 CV Ensemble RSME = 17.393858007928106\n",
      "0.45 and 0.3 CV Ensemble RSME = 17.39712491027821\n",
      "0.45 and 0.35 CV Ensemble RSME = 17.407129329918902\n",
      "0.45 and 0.4 CV Ensemble RSME = 17.423859661225045\n",
      "0.45 and 0.45 CV Ensemble RSME = 17.447296555640083\n",
      "0.45 and 0.5 CV Ensemble RSME = 17.477413033045753\n",
      "0.45 and 0.55 CV Ensemble RSME = 17.51417463586986\n",
      "0.45 and 0.6 CV Ensemble RSME = 17.55753962389546\n",
      "0.5 and 0.0 CV Ensemble RSME = 17.481265860620752\n",
      "0.5 and 0.05 CV Ensemble RSME = 17.45348749275828\n",
      "0.5 and 0.1 CV Ensemble RSME = 17.432393204918167\n",
      "0.5 and 0.15 CV Ensemble RSME = 17.418007281624583\n",
      "0.5 and 0.2 CV Ensemble RSME = 17.410346351966094\n",
      "0.5 and 0.25 CV Ensemble RSME = 17.40941929384647\n",
      "0.5 and 0.3 CV Ensemble RSME = 17.415227182650543\n",
      "0.5 and 0.35 CV Ensemble RSME = 17.42776328501594\n",
      "0.5 and 0.4 CV Ensemble RSME = 17.44701309779445\n",
      "0.5 and 0.45 CV Ensemble RSME = 17.47295443167855\n",
      "0.5 and 0.5 CV Ensemble RSME = 17.50555753837224\n",
      "0.55 and 0.0 CV Ensemble RSME = 17.490257732435385\n",
      "0.55 and 0.05 CV Ensemble RSME = 17.46503031911768\n",
      "0.55 and 0.1 CV Ensemble RSME = 17.44648933651771\n",
      "0.55 and 0.15 CV Ensemble RSME = 17.43465611681501\n",
      "0.55 and 0.2 CV Ensemble RSME = 17.429544322064363\n",
      "0.55 and 0.25 CV Ensemble RSME = 17.431159865564293\n",
      "0.55 and 0.3 CV Ensemble RSME = 17.439500877713076\n",
      "0.55 and 0.35 CV Ensemble RSME = 17.454557716811195\n",
      "0.55 and 0.4 CV Ensemble RSME = 17.47631302466495\n",
      "0.55 and 0.45 CV Ensemble RSME = 17.50474182624515\n",
      "0.6 and 0.0 CV Ensemble RSME = 17.505411887906092\n",
      "0.6 and 0.05 CV Ensemble RSME = 17.482740425815596\n",
      "0.6 and 0.1 CV Ensemble RSME = 17.466754645568596\n",
      "0.6 and 0.15 CV Ensemble RSME = 17.457472913379526\n",
      "0.6 and 0.2 CV Ensemble RSME = 17.45490592398337\n",
      "0.6 and 0.25 CV Ensemble RSME = 17.45905663916817\n",
      "0.6 and 0.3 CV Ensemble RSME = 17.4699202707138\n",
      "0.6 and 0.35 CV Ensemble RSME = 17.48748430796591\n",
      "0.6 and 0.4 CV Ensemble RSME = 17.511728589675357\n",
      "0.65 and 0.0 CV Ensemble RSME = 17.526712342718152\n",
      "0.65 and 0.05 CV Ensemble RSME = 17.506599095944097\n",
      "0.65 and 0.1 CV Ensemble RSME = 17.493167691663935\n",
      "0.65 and 0.15 CV Ensemble RSME = 17.486433526939724\n",
      "0.65 and 0.2 CV Ensemble RSME = 17.48640433926685\n",
      "0.65 and 0.25 CV Ensemble RSME = 17.49308016220762\n",
      "0.65 and 0.3 CV Ensemble RSME = 17.50645332519855\n",
      "0.65 and 0.35 CV Ensemble RSME = 17.526508497533996\n",
      "0.7 and 0.0 CV Ensemble RSME = 17.554136722848284\n",
      "0.7 and 0.05 CV Ensemble RSME = 17.536581234000302\n",
      "0.7 and 0.1 CV Ensemble RSME = 17.525700678996394\n",
      "0.7 and 0.15 CV Ensemble RSME = 17.521507492898557\n",
      "0.7 and 0.2 CV Ensemble RSME = 17.524006476216226\n",
      "0.7 and 0.25 CV Ensemble RSME = 17.533194767471166\n",
      "0.7 and 0.3 CV Ensemble RSME = 17.54906185955622\n",
      "0.75 and 0.0 CV Ensemble RSME = 17.587656381264377\n",
      "0.75 and 0.05 CV Ensemble RSME = 17.57265549677081\n",
      "0.75 and 0.1 CV Ensemble RSME = 17.56431960116279\n",
      "0.75 and 0.15 CV Ensemble RSME = 17.562658184803226\n",
      "0.75 and 0.2 CV Ensemble RSME = 17.567673141356046\n",
      "0.75 and 0.25 CV Ensemble RSME = 17.579358757009647\n",
      "0.75 and 0.3 CV Ensemble RSME = 17.597701742972667\n",
      "0.8 and 0.0 CV Ensemble RSME = 17.62723654596276\n",
      "0.8 and 0.05 CV Ensemble RSME = 17.61478445512757\n",
      "0.8 and 0.1 CV Ensemble RSME = 17.608984416334888\n",
      "0.8 and 0.15 CV Ensemble RSME = 17.60984300241454\n",
      "0.8 and 0.2 CV Ensemble RSME = 17.61735923983768\n",
      "0.85 and 0.0 CV Ensemble RSME = 17.67283649757836\n",
      "0.85 and 0.05 CV Ensemble RSME = 17.662924784812265\n",
      "0.85 and 0.1 CV Ensemble RSME = 17.659649250723394\n",
      "0.85 and 0.15 CV Ensemble RSME = 17.663013587269237\n",
      "0.9 and 0.0 CV Ensemble RSME = 17.72440977448522\n",
      "0.9 and 0.05 CV Ensemble RSME = 17.71702748398229\n",
      "0.9 and 0.1 CV Ensemble RSME = 17.716262627973844\n",
      "0.9 and 0.15 CV Ensemble RSME = 17.722116063251136\n",
      "0.95 and 0.0 CV Ensemble RSME = 17.78190440303045\n",
      "0.95 and 0.05 CV Ensemble RSME = 17.777038115033367\n",
      "1.0 and 0.0 CV Ensemble RSME = 17.845263150317425\n",
      "1.0 and 0.05 CV Ensemble RSME = 17.84289706800528\n"
     ]
    }
   ],
   "source": [
    "import matplotlib.pyplot as plt\n",
    "\n",
    "score = []\n",
    "for ww1 in np.arange(0,1.05,0.05):\n",
    "    for ww2 in np.arange(0, 1.05-ww1, 0.05):\n",
    "        oof4 = (1-ww1-ww2)*oof + ww1*oof2 + ww2*oof3\n",
    "        rsme = np.sqrt( np.mean( (oof4 - true)**2.0 ))\n",
    "        print(f'{ww1:0.2} and {ww2:0.2} CV Ensemble RSME =',rsme)\n",
    "        # score.append(rsme)\n",
    "# best_w = np.argmin(score)*0.05\n",
    "\n",
    "# plt.figure(figsize=(20,5))\n",
    "# plt.plot(np.arange(21)/20.0,score,'-o')\n",
    "# plt.plot([best_w],np.min(score),'o',color='black',markersize=15)\n",
    "# plt.title(f'Best Overall CV RSME={np.min(score):.4} with SVR Ensemble Weight={best_w:.2}',size=16)\n",
    "# plt.ylabel('Overall Ensemble RSME',size=14)\n",
    "# plt.xlabel('SVR Weight',size=14)\n",
    "# plt.show()\n"
   ]
  },
  {
   "cell_type": "markdown",
   "metadata": {},
   "source": [
    "# 以下数据有数据泄露\n",
    "\n",
    "## Ensemble multitask\n",
    "\n",
    "Overall CV Swin NN head RSME = 16.203946408983356\n",
    "\n",
    "Overall CV Beit NN head RSME = 15.99495048728945\n",
    "\n",
    "Overall CV Vit NN head RSME = 16.306163615941237\n",
    "\n",
    "0.45 and 0.25 CV Ensemble RSME = 15.74545807938118\n",
    "\n",
    "## Ensemble\n",
    "\n",
    "swin: 3multitask alpha = 0.2\n",
    "\n",
    "beit: multitask alpha = 0.2\n",
    "\n",
    "vit: multitask alpha = 0.2\n",
    "\n",
    "Overall CV Swin NN head RSME = 15.868472870686267\n",
    "\n",
    "Overall CV Beit NN head RSME = 15.976088520109643\n",
    "\n",
    "Overall CV Vit NN head RSME = 16.289376605394715\n",
    "\n",
    "0.35 and 0.15 CV Ensemble RSME = 15.569844601667265\n",
    "\n",
    "## Ensemble \n",
    "\n",
    "swin: 3multitask alpha = 0.2\n",
    "\n",
    "beit: multitask alpha = 0.2\n",
    "\n",
    "xcit: 3multitask alpha = 0.2\n",
    "\n",
    "Overall CV Swin NN head RSME = 15.869095853196681\n",
    "\n",
    "Overall CV Beit NN head RSME = 15.990748305031671\n",
    "\n",
    "Overall CV xcit NN head RSME = 14.849391254741418\n",
    "\n",
    "\n",
    "0.15 and 0.85 CV Ensemble RSME = 14.813879813799389\n",
    "\n",
    "\n",
    "# 以下数据无数据泄露\n",
    "\n",
    "## Ensemble\n",
    "\n",
    "Overall CV Swin NN head RSME = 17.55531787267438\n",
    "\n",
    "Overall CV Beit NN head RSME = 17.71835369209622\n",
    "\n",
    "Overall CV twins NN head RSME = 17.62272257502294\n",
    "\n",
    "0.35 and 0.3 CV Ensemble RSME = 17.3048776834519\n",
    "\n",
    "# Ensemble\n",
    "\n",
    "Overall CV Swin NN head RSME = 17.558451942390484\n",
    "\n",
    "Overall CV Beit NN head RSME = 17.72720360817508\n",
    "\n",
    "Overall CV Vit NN head RSME = 17.73929854364626\n",
    "\n",
    "0.3 and 0.3 CV Ensemble RSME = 17.278509752241995\n",
    "\n",
    "\n",
    "# Ensemble 3multitask\n",
    "\n",
    "Overall CV Swin NN head RSME = 17.63582066858857\n",
    "\n",
    "Overall CV Beit NN head RSME = 17.911233781257344\n",
    "\n",
    "Overall CV Vit NN head RSME = 17.77350182175991\n",
    "\n",
    "0.25 and 0.35 CV Ensemble RSME = 17.334817370496637\n",
    "\n",
    "# Ensemble allmeta\n",
    "\n",
    "8foldfold\n",
    "\n",
    "Swin: lr2e-5, 5epoch, alpha0.1\n",
    "\n",
    "Beit: lr4e-6, 5epoch, alpha0.1\n",
    "\n",
    "Vit: lr2e-5, 5epoch, alpha0.1\n",
    "\n",
    "Overall CV Swin NN head RSME = 17.701047214766504\n",
    "\n",
    "Overall CV Beit NN head RSME = 17.957191515824178\n",
    "\n",
    "Overall CV Vit NN head RSME = 18.006969978677716\n",
    "\n",
    "0.25 and 0.25 CV Ensemble RSME = 17.433541495136907\n",
    "\n",
    "# Ensemble allmeta\n",
    "\n",
    "Swin: lr2e-5, 5epoch, alpha0.1\n",
    "\n",
    "Beit: lr1e-5, 5epoch, alpha0.1\n",
    "\n",
    "Vit: lr2e-5, 5epoch, alpha0.1\n",
    "\n",
    "Overall CV Swin NN head RSME = 17.729154840742478\n",
    "\n",
    "Overall CV Beit NN head RSME = 17.845263150317425\n",
    "\n",
    "Overall CV Vit NN head RSME = 17.99846007009746\n",
    "\n",
    "0.35 and 0.25 CV Ensemble RSME = 17.396085768990243\n",
    "\n",
    "## Ensemble allmeta\n",
    "\n",
    "Swin: lr2e-5, 5epoch, alpha0.1\n",
    "\n",
    "Beit: lr1e-5, 5epoch, alpha0.1\n",
    "\n",
    "Vit: lr1e-5, 5epoch, alpha0.1\n",
    "\n",
    "Overall CV Swin NN head RSME = 17.729154840742478\n",
    "\n",
    "Overall CV Beit NN head RSME = 17.845263150317425\n",
    "\n",
    "Overall CV xcit NN head RSME = 17.937577445869998\n",
    "\n",
    "0.35 and 0.3 CV Ensemble RSME = 17.37950519628098\n"
   ]
  },
  {
   "cell_type": "code",
   "execution_count": 20,
   "metadata": {},
   "outputs": [
    {
     "name": "stdout",
     "output_type": "stream",
     "text": [
      "end\n"
     ]
    }
   ],
   "source": [
    "import gc\n",
    "import torch\n",
    "\n",
    "print(\"end\")\n",
    "gc.collect()\n",
    "torch.cuda.empty_cache()"
   ]
  },
  {
   "cell_type": "code",
   "execution_count": null,
   "metadata": {},
   "outputs": [],
   "source": []
  }
 ],
 "metadata": {
  "interpreter": {
   "hash": "5e12d91e1da5d66fb580e96699ee198fd9d2759057be15109a9caf046b9070c6"
  },
  "kernelspec": {
   "display_name": "Python 3",
   "language": "python",
   "name": "python3"
  },
  "language_info": {
   "codemirror_mode": {
    "name": "ipython",
    "version": 3
   },
   "file_extension": ".py",
   "mimetype": "text/x-python",
   "name": "python",
   "nbconvert_exporter": "python",
   "pygments_lexer": "ipython3",
   "version": "3.7.10"
  }
 },
 "nbformat": 4,
 "nbformat_minor": 4
}
