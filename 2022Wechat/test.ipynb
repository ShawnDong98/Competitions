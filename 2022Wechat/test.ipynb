{
 "cells": [
  {
   "cell_type": "code",
   "execution_count": 19,
   "metadata": {},
   "outputs": [
    {
     "name": "stdout",
     "output_type": "stream",
     "text": [
      "time consumed:  1.3062589168548584\n"
     ]
    }
   ],
   "source": [
    "import time\n",
    "import torch\n",
    "import clip\n",
    "from PIL import Image\n",
    "\n",
    "\n",
    "device = \"cuda\" if torch.cuda.is_available() else \"cpu\"\n",
    "model, preprocess = clip.load(\"RN50\", device=device)\n",
    "\n",
    "image = preprocess(Image.open(\"CLIP.png\")).unsqueeze(0).to(device)\n",
    "image = torch.cat([image] * 70 * 32, 0)\n",
    "text = clip.tokenize([\"a diagram\", \"a dog\", \"a cat\"]).to(device)\n",
    "\n",
    "start_time = time.time()\n",
    "\n",
    "with torch.no_grad():\n",
    "    image_features = model.encode_image(image)\n",
    "\n",
    "print(\"time consumed: \", time.time() - start_time)\n",
    "\n"
   ]
  },
  {
   "cell_type": "code",
   "execution_count": 17,
   "metadata": {},
   "outputs": [
    {
     "name": "stdout",
     "output_type": "stream",
     "text": [
      "--2022-07-02 13:17:14--  https://github.com/openai/CLIP/blob/main/CLIP.png\n",
      "Connecting to 127.0.0.1:7890... connected.\n",
      "Proxy request sent, awaiting response... 200 OK\n",
      "Length: unspecified [text/html]\n",
      "Saving to: ‘CLIP.png.1’\n",
      "\n",
      "CLIP.png.1              [  <=>               ] 127.78K   345KB/s    in 0.4s    \n",
      "\n",
      "2022-07-02 13:17:15 (345 KB/s) - ‘CLIP.png.1’ saved [130850]\n",
      "\n"
     ]
    }
   ],
   "source": [
    "!wget https://github.com/openai/CLIP/blob/main/CLIP.png"
   ]
  },
  {
   "cell_type": "code",
   "execution_count": null,
   "metadata": {},
   "outputs": [],
   "source": []
  }
 ],
 "metadata": {
  "kernelspec": {
   "display_name": "Python 3.7.10 ('MM')",
   "language": "python",
   "name": "python3"
  },
  "language_info": {
   "codemirror_mode": {
    "name": "ipython",
    "version": 3
   },
   "file_extension": ".py",
   "mimetype": "text/x-python",
   "name": "python",
   "nbconvert_exporter": "python",
   "pygments_lexer": "ipython3",
   "version": "3.7.10"
  },
  "orig_nbformat": 4,
  "vscode": {
   "interpreter": {
    "hash": "11d43b9a8bfbe46320c382032e8b01b2facc9c9e55d1a6b37d4b491ddd7e7d26"
   }
  }
 },
 "nbformat": 4,
 "nbformat_minor": 2
}
