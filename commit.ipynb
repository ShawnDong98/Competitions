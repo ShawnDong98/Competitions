{
 "cells": [
  {
   "cell_type": "code",
   "execution_count": 1,
   "metadata": {},
   "outputs": [
    {
     "name": "stdout",
     "output_type": "stream",
     "text": [
      "{'checkpoint_config': <Box: {'interval': 1}>,\n",
      " 'debug': False,\n",
      " 'earlystopping_config': {'mode': 'min',\n",
      "                          'monitor': 'mse',\n",
      "                          'patience': 2},\n",
      " 'epochs': 5,\n",
      " 'image_size': 224,\n",
      " 'image_size_tta': 256,\n",
      " 'log_average_filter': <BoxList: ['pred', 'label']>,\n",
      " 'log_config': {'hooks': <BoxList: [{'name': 'PetfinderLoggerHook'}]>,\n",
      "                'interval': 10},\n",
      " 'log_level': 'INFO',\n",
      " 'lr_config': {'by_epoch': True,\n",
      "               'policy': 'Step',\n",
      "               'step': <BoxList: [3, 4]>,\n",
      "               'warmup': 'linear',\n",
      "               'warmup_by_epoch': True,\n",
      "               'warmup_iters': 1,\n",
      "               'warmup_ratio': 0.01},\n",
      " 'model': <Box: {'name': 'swin_large_patch4_window7_224', 'output_dim': 1}>,\n",
      " 'n_splits': 10,\n",
      " 'name': 'Petfinder',\n",
      " 'optimizer': {'betas': (0.9, 0.999),\n",
      "               'eps': 1e-08,\n",
      "               'lr': 2e-05,\n",
      "               'name': 'AdamW',\n",
      "               'weight_decay': 0.01},\n",
      " 'optimizer_config': <Box: {'grad_clip': None}>,\n",
      " 'root': '../datasets/kaggle/petfinder_clean',\n",
      " 'seed': 999,\n",
      " 'train_loader': {'batch_size': 32,\n",
      "                  'drop_last': True,\n",
      "                  'num_workers': 10,\n",
      "                  'pin_memory': False,\n",
      "                  'shuffle': True},\n",
      " 'val_loader': {'batch_size': 32,\n",
      "                'drop_last': False,\n",
      "                'num_workers': 10,\n",
      "                'pin_memory': False,\n",
      "                'shuffle': False},\n",
      " 'work_dir': './checkpoint',\n",
      " 'workflow': <BoxList: [('train', 1), ('val', 1)]>}\n"
     ]
    }
   ],
   "source": [
    "from pprint import pprint\n",
    "from box import Box\n",
    "\n",
    "config = {\n",
    "    'debug': False,\n",
    "    'name': 'Petfinder',\n",
    "    'seed': 999,\n",
    "    'n_splits': 10,\n",
    "    'epochs': 5,\n",
    "    'root': \"../datasets/kaggle/petfinder\",\n",
    "    'image_size_tta': 256,\n",
    "    'image_size': 224,\n",
    "    'work_dir': './checkpoint',\n",
    "    'log_level': 'INFO',\n",
    "    'log_average_filter':['pred', 'label'],\n",
    "    'log_config': {\n",
    "        'interval': 10,\n",
    "        'hooks' : [\n",
    "            dict(name='PetfinderLoggerHook'),\n",
    "            # dict(name='TextLoggerHook'),\n",
    "        ]\n",
    "    },\n",
    "    'model': {\n",
    "        'name': 'swin_large_patch4_window7_224',\n",
    "        'output_dim': 1,\n",
    "    },\n",
    "    'train_loader': {\n",
    "        'batch_size': 32,\n",
    "        'num_workers': 10,\n",
    "        'shuffle': True,\n",
    "        'drop_last': True,\n",
    "        'pin_memory': False,\n",
    "    },\n",
    "    'val_loader': {\n",
    "        'batch_size': 32,\n",
    "        'num_workers': 10,\n",
    "        'shuffle': False,\n",
    "        'drop_last': False,\n",
    "        'pin_memory': False,\n",
    "    },\n",
    "    'optimizer': {\n",
    "        'name': 'AdamW',\n",
    "        'lr': 2e-5,\n",
    "        'betas': (0.9, 0.999),\n",
    "        'eps': 1e-8,\n",
    "        'weight_decay': 0.01,\n",
    "    },\n",
    "    'optimizer_config': {\n",
    "        'grad_clip': None\n",
    "    },\n",
    "    'lr_config': {\n",
    "        'policy': 'Step',\n",
    "        'step': [3, 4],\n",
    "        'by_epoch': True,\n",
    "        'warmup': 'linear',\n",
    "        'warmup_iters': 1,\n",
    "        'warmup_ratio': 1e-2,\n",
    "        'warmup_by_epoch': True,\n",
    "    },\n",
    "    'workflow': [('train', 1), ('val', 1)],\n",
    "    'checkpoint_config': {\n",
    "        'interval': 1,\n",
    "    },\n",
    "    'earlystopping_config': {\n",
    "        'monitor': 'mse',\n",
    "        'patience': 2,\n",
    "        'mode': 'min',\n",
    "    }\n",
    "}\n",
    "\n",
    "\n",
    "config = Box(config)\n",
    "pprint(config)\n"
   ]
  },
  {
   "cell_type": "code",
   "execution_count": 2,
   "metadata": {},
   "outputs": [],
   "source": [
    "from timm import create_model\n",
    "from fastai.vision.all import *\n",
    "\n",
    "def set_seed(s, reproducible=False):\n",
    "    \"Set random seed for `random`, `torch`, and `numpy` (where available)\"\n",
    "    torch.manual_seed(s)\n",
    "    torch.cuda.manual_seed(s)\n",
    "    torch.cuda.manual_seed_all(s)\n",
    "    np.random.seed(s%(2**32-1))\n",
    "    random.seed(s)\n",
    "    os.environ['PYTHONHASHSEED'] = str(s)\n",
    "    if reproducible:\n",
    "        torch.backends.cudnn.deterministic = True\n",
    "        torch.backends.cudnn.benchmark = False\n",
    "        torch.use_deterministic_algorithms = True\n",
    "\n",
    "set_seed(config.seed, reproducible=True)\n",
    "BATCH_SIZE = 32"
   ]
  },
  {
   "cell_type": "code",
   "execution_count": 3,
   "metadata": {},
   "outputs": [],
   "source": [
    "dataset_path = Path('../datasets/kaggle/petfinder_clean/')\n",
    "train_df = pd.read_csv(dataset_path/'train.csv')\n",
    "train_df['path'] = train_df['Id'].map(lambda x:str(dataset_path/'train'/x)+'.jpg')\n",
    "train_df = train_df.drop(columns=['Id'])\n",
    "# train_df = train_df.sample(frac=1).reset_index(drop=True) #shuffle dataframe\n",
    "train_df['norm_score'] = train_df['Pawpularity']/100"
   ]
  },
  {
   "cell_type": "code",
   "execution_count": 4,
   "metadata": {},
   "outputs": [],
   "source": [
    "from sklearn.model_selection import KFold\n",
    "from sklearn.model_selection import StratifiedKFold\n",
    "\n",
    "#Sturges' rule\n",
    "num_bins = int(np.floor(1+(3.322)*(np.log2(len(train_df)))))\n",
    "train_df['bins'] = pd.cut(train_df['norm_score'], bins=num_bins, labels=False)\n",
    "\n",
    "train_df['fold'] = -1\n",
    "\n",
    "\n",
    "N_FOLDS = config.n_splits\n",
    "strat_kfold = StratifiedKFold(n_splits=N_FOLDS, random_state=config.seed, shuffle=True)\n",
    "for i, (_, train_index) in enumerate(strat_kfold.split(train_df.index, train_df['bins'])):\n",
    "    train_df.iloc[train_index, -1] = i\n",
    "    \n",
    "train_df['fold'] = train_df['fold'].astype('int')\n"
   ]
  },
  {
   "cell_type": "code",
   "execution_count": 5,
   "metadata": {},
   "outputs": [],
   "source": [
    "def petfinder_rmse(input,target):\n",
    "    return 100*torch.sqrt(F.mse_loss(F.sigmoid(input.flatten()), target))"
   ]
  },
  {
   "cell_type": "code",
   "execution_count": 6,
   "metadata": {},
   "outputs": [],
   "source": [
    "def get_data(fold):\n",
    "    train_df_f = train_df.copy()\n",
    "    # add is_valid for validation fold\n",
    "    train_df_f['is_valid'] = (train_df_f['fold'] == fold)\n",
    "    \n",
    "    dls = ImageDataLoaders.from_df(train_df_f, #pass in train DataFrame\n",
    "                               valid_col='is_valid', #\n",
    "                               seed=config.seed, #seed\n",
    "                               fn_col='path', #filename/path is in the second column of the DataFrame\n",
    "                               label_col='norm_score', #label is in the first column of the DataFrame\n",
    "                               y_block=RegressionBlock, #The type of target\n",
    "                               bs=BATCH_SIZE, #pass in batch size\n",
    "                               num_workers=8,\n",
    "                               item_tfms=Resize(224), #pass in item_tfms\n",
    "                               batch_tfms=setup_aug_tfms([Brightness(), Contrast(), Hue(), Saturation()])) #pass in batch_tfms\n",
    "    \n",
    "    return dls"
   ]
  },
  {
   "cell_type": "code",
   "execution_count": 7,
   "metadata": {},
   "outputs": [],
   "source": [
    "import torch\n",
    "import torch.nn as nn\n",
    "import torch.nn.functional as F\n",
    "import timm\n",
    "\n",
    "\n",
    "class PetfinderModel(nn.Module):\n",
    "    def __init__(\n",
    "        self, \n",
    "        cfg\n",
    "    ):\n",
    "        super(PetfinderModel, self).__init__()\n",
    "        self._cfg = cfg\n",
    "        self.backbone = timm.create_model(self._cfg.model.name, pretrained=True, num_classes=self._cfg.model.output_dim)\n",
    "\n",
    "    def forward(self, x):\n",
    "        out = self.backbone(x)\n",
    "        return out\n",
    "\n",
    "def get_learner(fold_num):\n",
    "    data = get_data(fold_num)\n",
    "    \n",
    "    model = PetfinderModel(config)\n",
    "\n",
    "    learn = Learner(data, model, loss_func=BCEWithLogitsLossFlat(), metrics=petfinder_rmse).to_fp16()\n",
    "    \n",
    "    return learn"
   ]
  },
  {
   "cell_type": "code",
   "execution_count": 8,
   "metadata": {},
   "outputs": [
    {
     "name": "stdout",
     "output_type": "stream",
     "text": [
      "Fold 0 results\n"
     ]
    },
    {
     "data": {
      "text/html": [
       "<table border=\"1\" class=\"dataframe\">\n",
       "  <thead>\n",
       "    <tr style=\"text-align: left;\">\n",
       "      <th>epoch</th>\n",
       "      <th>train_loss</th>\n",
       "      <th>valid_loss</th>\n",
       "      <th>petfinder_rmse</th>\n",
       "      <th>time</th>\n",
       "    </tr>\n",
       "  </thead>\n",
       "  <tbody>\n",
       "    <tr>\n",
       "      <td>0</td>\n",
       "      <td>0.651028</td>\n",
       "      <td>0.647478</td>\n",
       "      <td>18.332195</td>\n",
       "      <td>01:48</td>\n",
       "    </tr>\n",
       "    <tr>\n",
       "      <td>1</td>\n",
       "      <td>0.644317</td>\n",
       "      <td>0.640914</td>\n",
       "      <td>17.478945</td>\n",
       "      <td>01:48</td>\n",
       "    </tr>\n",
       "    <tr>\n",
       "      <td>2</td>\n",
       "      <td>0.633085</td>\n",
       "      <td>0.641238</td>\n",
       "      <td>17.455807</td>\n",
       "      <td>01:48</td>\n",
       "    </tr>\n",
       "    <tr>\n",
       "      <td>3</td>\n",
       "      <td>0.630071</td>\n",
       "      <td>0.640523</td>\n",
       "      <td>17.365005</td>\n",
       "      <td>01:48</td>\n",
       "    </tr>\n",
       "    <tr>\n",
       "      <td>4</td>\n",
       "      <td>0.627951</td>\n",
       "      <td>0.640596</td>\n",
       "      <td>17.364141</td>\n",
       "      <td>01:48</td>\n",
       "    </tr>\n",
       "  </tbody>\n",
       "</table>"
      ],
      "text/plain": [
       "<IPython.core.display.HTML object>"
      ]
     },
     "metadata": {},
     "output_type": "display_data"
    },
    {
     "name": "stderr",
     "output_type": "stream",
     "text": [
      "/opt/conda/envs/rapids/lib/python3.7/site-packages/torch/nn/functional.py:1639: UserWarning: nn.functional.sigmoid is deprecated. Use torch.sigmoid instead.\n",
      "  warnings.warn(\"nn.functional.sigmoid is deprecated. Use torch.sigmoid instead.\")\n"
     ]
    },
    {
     "name": "stdout",
     "output_type": "stream",
     "text": [
      "Better model found at epoch 0 with petfinder_rmse value: 18.332195281982422.\n",
      "Better model found at epoch 1 with petfinder_rmse value: 17.478944778442383.\n",
      "Better model found at epoch 2 with petfinder_rmse value: 17.455806732177734.\n",
      "Better model found at epoch 3 with petfinder_rmse value: 17.365005493164062.\n",
      "Better model found at epoch 4 with petfinder_rmse value: 17.3641414642334.\n",
      "Fold 1 results\n"
     ]
    },
    {
     "data": {
      "text/html": [
       "<table border=\"1\" class=\"dataframe\">\n",
       "  <thead>\n",
       "    <tr style=\"text-align: left;\">\n",
       "      <th>epoch</th>\n",
       "      <th>train_loss</th>\n",
       "      <th>valid_loss</th>\n",
       "      <th>petfinder_rmse</th>\n",
       "      <th>time</th>\n",
       "    </tr>\n",
       "  </thead>\n",
       "  <tbody>\n",
       "    <tr>\n",
       "      <td>0</td>\n",
       "      <td>0.653020</td>\n",
       "      <td>0.643761</td>\n",
       "      <td>17.753061</td>\n",
       "      <td>01:48</td>\n",
       "    </tr>\n",
       "    <tr>\n",
       "      <td>1</td>\n",
       "      <td>0.642493</td>\n",
       "      <td>0.639817</td>\n",
       "      <td>17.246948</td>\n",
       "      <td>01:49</td>\n",
       "    </tr>\n",
       "    <tr>\n",
       "      <td>2</td>\n",
       "      <td>0.634828</td>\n",
       "      <td>0.639209</td>\n",
       "      <td>17.098133</td>\n",
       "      <td>01:55</td>\n",
       "    </tr>\n",
       "    <tr>\n",
       "      <td>3</td>\n",
       "      <td>0.632384</td>\n",
       "      <td>0.638342</td>\n",
       "      <td>17.010611</td>\n",
       "      <td>01:50</td>\n",
       "    </tr>\n",
       "    <tr>\n",
       "      <td>4</td>\n",
       "      <td>0.629425</td>\n",
       "      <td>0.637764</td>\n",
       "      <td>16.958393</td>\n",
       "      <td>01:48</td>\n",
       "    </tr>\n",
       "  </tbody>\n",
       "</table>"
      ],
      "text/plain": [
       "<IPython.core.display.HTML object>"
      ]
     },
     "metadata": {},
     "output_type": "display_data"
    },
    {
     "name": "stderr",
     "output_type": "stream",
     "text": [
      "/opt/conda/envs/rapids/lib/python3.7/site-packages/torch/nn/functional.py:1639: UserWarning: nn.functional.sigmoid is deprecated. Use torch.sigmoid instead.\n",
      "  warnings.warn(\"nn.functional.sigmoid is deprecated. Use torch.sigmoid instead.\")\n"
     ]
    },
    {
     "name": "stdout",
     "output_type": "stream",
     "text": [
      "Better model found at epoch 0 with petfinder_rmse value: 17.753061294555664.\n",
      "Better model found at epoch 1 with petfinder_rmse value: 17.2469482421875.\n",
      "Better model found at epoch 2 with petfinder_rmse value: 17.098133087158203.\n",
      "Better model found at epoch 3 with petfinder_rmse value: 17.010610580444336.\n",
      "Better model found at epoch 4 with petfinder_rmse value: 16.958393096923828.\n",
      "Fold 2 results\n"
     ]
    },
    {
     "data": {
      "text/html": [
       "<table border=\"1\" class=\"dataframe\">\n",
       "  <thead>\n",
       "    <tr style=\"text-align: left;\">\n",
       "      <th>epoch</th>\n",
       "      <th>train_loss</th>\n",
       "      <th>valid_loss</th>\n",
       "      <th>petfinder_rmse</th>\n",
       "      <th>time</th>\n",
       "    </tr>\n",
       "  </thead>\n",
       "  <tbody>\n",
       "    <tr>\n",
       "      <td>0</td>\n",
       "      <td>0.653023</td>\n",
       "      <td>0.644478</td>\n",
       "      <td>17.948023</td>\n",
       "      <td>01:48</td>\n",
       "    </tr>\n",
       "    <tr>\n",
       "      <td>1</td>\n",
       "      <td>0.641649</td>\n",
       "      <td>0.643996</td>\n",
       "      <td>17.841522</td>\n",
       "      <td>01:48</td>\n",
       "    </tr>\n",
       "    <tr>\n",
       "      <td>2</td>\n",
       "      <td>0.639309</td>\n",
       "      <td>0.639195</td>\n",
       "      <td>17.193279</td>\n",
       "      <td>01:48</td>\n",
       "    </tr>\n",
       "    <tr>\n",
       "      <td>3</td>\n",
       "      <td>0.632850</td>\n",
       "      <td>0.639827</td>\n",
       "      <td>17.314318</td>\n",
       "      <td>01:48</td>\n",
       "    </tr>\n",
       "    <tr>\n",
       "      <td>4</td>\n",
       "      <td>0.629256</td>\n",
       "      <td>0.639854</td>\n",
       "      <td>17.285421</td>\n",
       "      <td>01:48</td>\n",
       "    </tr>\n",
       "  </tbody>\n",
       "</table>"
      ],
      "text/plain": [
       "<IPython.core.display.HTML object>"
      ]
     },
     "metadata": {},
     "output_type": "display_data"
    },
    {
     "name": "stderr",
     "output_type": "stream",
     "text": [
      "/opt/conda/envs/rapids/lib/python3.7/site-packages/torch/nn/functional.py:1639: UserWarning: nn.functional.sigmoid is deprecated. Use torch.sigmoid instead.\n",
      "  warnings.warn(\"nn.functional.sigmoid is deprecated. Use torch.sigmoid instead.\")\n"
     ]
    },
    {
     "name": "stdout",
     "output_type": "stream",
     "text": [
      "Better model found at epoch 0 with petfinder_rmse value: 17.948022842407227.\n",
      "Better model found at epoch 1 with petfinder_rmse value: 17.841522216796875.\n",
      "Better model found at epoch 2 with petfinder_rmse value: 17.193279266357422.\n",
      "No improvement since epoch 2: early stopping\n",
      "Fold 3 results\n"
     ]
    },
    {
     "data": {
      "text/html": [
       "<table border=\"1\" class=\"dataframe\">\n",
       "  <thead>\n",
       "    <tr style=\"text-align: left;\">\n",
       "      <th>epoch</th>\n",
       "      <th>train_loss</th>\n",
       "      <th>valid_loss</th>\n",
       "      <th>petfinder_rmse</th>\n",
       "      <th>time</th>\n",
       "    </tr>\n",
       "  </thead>\n",
       "  <tbody>\n",
       "    <tr>\n",
       "      <td>0</td>\n",
       "      <td>0.649274</td>\n",
       "      <td>0.648287</td>\n",
       "      <td>18.350468</td>\n",
       "      <td>01:48</td>\n",
       "    </tr>\n",
       "    <tr>\n",
       "      <td>1</td>\n",
       "      <td>0.640921</td>\n",
       "      <td>0.648600</td>\n",
       "      <td>18.345875</td>\n",
       "      <td>01:48</td>\n",
       "    </tr>\n",
       "    <tr>\n",
       "      <td>2</td>\n",
       "      <td>0.634025</td>\n",
       "      <td>0.646924</td>\n",
       "      <td>18.098089</td>\n",
       "      <td>01:48</td>\n",
       "    </tr>\n",
       "    <tr>\n",
       "      <td>3</td>\n",
       "      <td>0.629210</td>\n",
       "      <td>0.645618</td>\n",
       "      <td>17.921047</td>\n",
       "      <td>01:48</td>\n",
       "    </tr>\n",
       "    <tr>\n",
       "      <td>4</td>\n",
       "      <td>0.624198</td>\n",
       "      <td>0.646077</td>\n",
       "      <td>17.975750</td>\n",
       "      <td>01:48</td>\n",
       "    </tr>\n",
       "  </tbody>\n",
       "</table>"
      ],
      "text/plain": [
       "<IPython.core.display.HTML object>"
      ]
     },
     "metadata": {},
     "output_type": "display_data"
    },
    {
     "name": "stderr",
     "output_type": "stream",
     "text": [
      "/opt/conda/envs/rapids/lib/python3.7/site-packages/torch/nn/functional.py:1639: UserWarning: nn.functional.sigmoid is deprecated. Use torch.sigmoid instead.\n",
      "  warnings.warn(\"nn.functional.sigmoid is deprecated. Use torch.sigmoid instead.\")\n"
     ]
    },
    {
     "name": "stdout",
     "output_type": "stream",
     "text": [
      "Better model found at epoch 0 with petfinder_rmse value: 18.350467681884766.\n",
      "Better model found at epoch 1 with petfinder_rmse value: 18.345874786376953.\n",
      "Better model found at epoch 2 with petfinder_rmse value: 18.09808921813965.\n",
      "Better model found at epoch 3 with petfinder_rmse value: 17.92104721069336.\n",
      "Fold 4 results\n"
     ]
    },
    {
     "data": {
      "text/html": [
       "<table border=\"1\" class=\"dataframe\">\n",
       "  <thead>\n",
       "    <tr style=\"text-align: left;\">\n",
       "      <th>epoch</th>\n",
       "      <th>train_loss</th>\n",
       "      <th>valid_loss</th>\n",
       "      <th>petfinder_rmse</th>\n",
       "      <th>time</th>\n",
       "    </tr>\n",
       "  </thead>\n",
       "  <tbody>\n",
       "    <tr>\n",
       "      <td>0</td>\n",
       "      <td>0.653494</td>\n",
       "      <td>0.643434</td>\n",
       "      <td>17.934038</td>\n",
       "      <td>01:48</td>\n",
       "    </tr>\n",
       "    <tr>\n",
       "      <td>1</td>\n",
       "      <td>0.644435</td>\n",
       "      <td>0.644057</td>\n",
       "      <td>18.059032</td>\n",
       "      <td>01:48</td>\n",
       "    </tr>\n",
       "    <tr>\n",
       "      <td>2</td>\n",
       "      <td>0.637134</td>\n",
       "      <td>0.639068</td>\n",
       "      <td>17.382847</td>\n",
       "      <td>01:48</td>\n",
       "    </tr>\n",
       "    <tr>\n",
       "      <td>3</td>\n",
       "      <td>0.630836</td>\n",
       "      <td>0.638966</td>\n",
       "      <td>17.352245</td>\n",
       "      <td>01:48</td>\n",
       "    </tr>\n",
       "    <tr>\n",
       "      <td>4</td>\n",
       "      <td>0.623467</td>\n",
       "      <td>0.638873</td>\n",
       "      <td>17.313648</td>\n",
       "      <td>01:48</td>\n",
       "    </tr>\n",
       "  </tbody>\n",
       "</table>"
      ],
      "text/plain": [
       "<IPython.core.display.HTML object>"
      ]
     },
     "metadata": {},
     "output_type": "display_data"
    },
    {
     "name": "stderr",
     "output_type": "stream",
     "text": [
      "/opt/conda/envs/rapids/lib/python3.7/site-packages/torch/nn/functional.py:1639: UserWarning: nn.functional.sigmoid is deprecated. Use torch.sigmoid instead.\n",
      "  warnings.warn(\"nn.functional.sigmoid is deprecated. Use torch.sigmoid instead.\")\n"
     ]
    },
    {
     "name": "stdout",
     "output_type": "stream",
     "text": [
      "Better model found at epoch 0 with petfinder_rmse value: 17.934038162231445.\n",
      "Better model found at epoch 2 with petfinder_rmse value: 17.38284683227539.\n",
      "Better model found at epoch 3 with petfinder_rmse value: 17.352245330810547.\n",
      "Better model found at epoch 4 with petfinder_rmse value: 17.313648223876953.\n",
      "Fold 5 results\n"
     ]
    },
    {
     "data": {
      "text/html": [
       "<table border=\"1\" class=\"dataframe\">\n",
       "  <thead>\n",
       "    <tr style=\"text-align: left;\">\n",
       "      <th>epoch</th>\n",
       "      <th>train_loss</th>\n",
       "      <th>valid_loss</th>\n",
       "      <th>petfinder_rmse</th>\n",
       "      <th>time</th>\n",
       "    </tr>\n",
       "  </thead>\n",
       "  <tbody>\n",
       "    <tr>\n",
       "      <td>0</td>\n",
       "      <td>0.651370</td>\n",
       "      <td>0.643761</td>\n",
       "      <td>17.810946</td>\n",
       "      <td>01:48</td>\n",
       "    </tr>\n",
       "    <tr>\n",
       "      <td>1</td>\n",
       "      <td>0.642474</td>\n",
       "      <td>0.640414</td>\n",
       "      <td>17.403149</td>\n",
       "      <td>01:48</td>\n",
       "    </tr>\n",
       "    <tr>\n",
       "      <td>2</td>\n",
       "      <td>0.633574</td>\n",
       "      <td>0.639769</td>\n",
       "      <td>17.294241</td>\n",
       "      <td>01:48</td>\n",
       "    </tr>\n",
       "    <tr>\n",
       "      <td>3</td>\n",
       "      <td>0.628522</td>\n",
       "      <td>0.639286</td>\n",
       "      <td>17.185888</td>\n",
       "      <td>01:48</td>\n",
       "    </tr>\n",
       "    <tr>\n",
       "      <td>4</td>\n",
       "      <td>0.625764</td>\n",
       "      <td>0.639560</td>\n",
       "      <td>17.206646</td>\n",
       "      <td>01:48</td>\n",
       "    </tr>\n",
       "  </tbody>\n",
       "</table>"
      ],
      "text/plain": [
       "<IPython.core.display.HTML object>"
      ]
     },
     "metadata": {},
     "output_type": "display_data"
    },
    {
     "name": "stderr",
     "output_type": "stream",
     "text": [
      "/opt/conda/envs/rapids/lib/python3.7/site-packages/torch/nn/functional.py:1639: UserWarning: nn.functional.sigmoid is deprecated. Use torch.sigmoid instead.\n",
      "  warnings.warn(\"nn.functional.sigmoid is deprecated. Use torch.sigmoid instead.\")\n"
     ]
    },
    {
     "name": "stdout",
     "output_type": "stream",
     "text": [
      "Better model found at epoch 0 with petfinder_rmse value: 17.810945510864258.\n",
      "Better model found at epoch 1 with petfinder_rmse value: 17.403148651123047.\n",
      "Better model found at epoch 2 with petfinder_rmse value: 17.294240951538086.\n",
      "Better model found at epoch 3 with petfinder_rmse value: 17.185888290405273.\n",
      "Fold 6 results\n"
     ]
    },
    {
     "data": {
      "text/html": [
       "<table border=\"1\" class=\"dataframe\">\n",
       "  <thead>\n",
       "    <tr style=\"text-align: left;\">\n",
       "      <th>epoch</th>\n",
       "      <th>train_loss</th>\n",
       "      <th>valid_loss</th>\n",
       "      <th>petfinder_rmse</th>\n",
       "      <th>time</th>\n",
       "    </tr>\n",
       "  </thead>\n",
       "  <tbody>\n",
       "    <tr>\n",
       "      <td>0</td>\n",
       "      <td>0.646549</td>\n",
       "      <td>0.650146</td>\n",
       "      <td>18.566553</td>\n",
       "      <td>01:48</td>\n",
       "    </tr>\n",
       "    <tr>\n",
       "      <td>1</td>\n",
       "      <td>0.642520</td>\n",
       "      <td>0.645974</td>\n",
       "      <td>18.046719</td>\n",
       "      <td>01:48</td>\n",
       "    </tr>\n",
       "    <tr>\n",
       "      <td>2</td>\n",
       "      <td>0.635049</td>\n",
       "      <td>0.646985</td>\n",
       "      <td>18.193243</td>\n",
       "      <td>01:48</td>\n",
       "    </tr>\n",
       "    <tr>\n",
       "      <td>3</td>\n",
       "      <td>0.627198</td>\n",
       "      <td>0.646691</td>\n",
       "      <td>18.115562</td>\n",
       "      <td>01:48</td>\n",
       "    </tr>\n",
       "  </tbody>\n",
       "</table>"
      ],
      "text/plain": [
       "<IPython.core.display.HTML object>"
      ]
     },
     "metadata": {},
     "output_type": "display_data"
    },
    {
     "name": "stderr",
     "output_type": "stream",
     "text": [
      "/opt/conda/envs/rapids/lib/python3.7/site-packages/torch/nn/functional.py:1639: UserWarning: nn.functional.sigmoid is deprecated. Use torch.sigmoid instead.\n",
      "  warnings.warn(\"nn.functional.sigmoid is deprecated. Use torch.sigmoid instead.\")\n"
     ]
    },
    {
     "name": "stdout",
     "output_type": "stream",
     "text": [
      "Better model found at epoch 0 with petfinder_rmse value: 18.566553115844727.\n",
      "Better model found at epoch 1 with petfinder_rmse value: 18.04671859741211.\n",
      "No improvement since epoch 1: early stopping\n",
      "Fold 7 results\n"
     ]
    },
    {
     "data": {
      "text/html": [
       "<table border=\"1\" class=\"dataframe\">\n",
       "  <thead>\n",
       "    <tr style=\"text-align: left;\">\n",
       "      <th>epoch</th>\n",
       "      <th>train_loss</th>\n",
       "      <th>valid_loss</th>\n",
       "      <th>petfinder_rmse</th>\n",
       "      <th>time</th>\n",
       "    </tr>\n",
       "  </thead>\n",
       "  <tbody>\n",
       "    <tr>\n",
       "      <td>0</td>\n",
       "      <td>0.653438</td>\n",
       "      <td>0.648092</td>\n",
       "      <td>18.430965</td>\n",
       "      <td>01:48</td>\n",
       "    </tr>\n",
       "    <tr>\n",
       "      <td>1</td>\n",
       "      <td>0.644753</td>\n",
       "      <td>0.643528</td>\n",
       "      <td>17.887434</td>\n",
       "      <td>01:48</td>\n",
       "    </tr>\n",
       "    <tr>\n",
       "      <td>2</td>\n",
       "      <td>0.638303</td>\n",
       "      <td>0.637564</td>\n",
       "      <td>17.042963</td>\n",
       "      <td>01:48</td>\n",
       "    </tr>\n",
       "    <tr>\n",
       "      <td>3</td>\n",
       "      <td>0.630301</td>\n",
       "      <td>0.637159</td>\n",
       "      <td>17.004742</td>\n",
       "      <td>01:48</td>\n",
       "    </tr>\n",
       "    <tr>\n",
       "      <td>4</td>\n",
       "      <td>0.628388</td>\n",
       "      <td>0.636411</td>\n",
       "      <td>16.870909</td>\n",
       "      <td>01:48</td>\n",
       "    </tr>\n",
       "  </tbody>\n",
       "</table>"
      ],
      "text/plain": [
       "<IPython.core.display.HTML object>"
      ]
     },
     "metadata": {},
     "output_type": "display_data"
    },
    {
     "name": "stderr",
     "output_type": "stream",
     "text": [
      "/opt/conda/envs/rapids/lib/python3.7/site-packages/torch/nn/functional.py:1639: UserWarning: nn.functional.sigmoid is deprecated. Use torch.sigmoid instead.\n",
      "  warnings.warn(\"nn.functional.sigmoid is deprecated. Use torch.sigmoid instead.\")\n"
     ]
    },
    {
     "name": "stdout",
     "output_type": "stream",
     "text": [
      "Better model found at epoch 0 with petfinder_rmse value: 18.430965423583984.\n",
      "Better model found at epoch 1 with petfinder_rmse value: 17.887434005737305.\n",
      "Better model found at epoch 2 with petfinder_rmse value: 17.0429630279541.\n",
      "Better model found at epoch 3 with petfinder_rmse value: 17.004741668701172.\n",
      "Better model found at epoch 4 with petfinder_rmse value: 16.870908737182617.\n",
      "Fold 8 results\n"
     ]
    },
    {
     "data": {
      "text/html": [
       "<table border=\"1\" class=\"dataframe\">\n",
       "  <thead>\n",
       "    <tr style=\"text-align: left;\">\n",
       "      <th>epoch</th>\n",
       "      <th>train_loss</th>\n",
       "      <th>valid_loss</th>\n",
       "      <th>petfinder_rmse</th>\n",
       "      <th>time</th>\n",
       "    </tr>\n",
       "  </thead>\n",
       "  <tbody>\n",
       "    <tr>\n",
       "      <td>0</td>\n",
       "      <td>0.654686</td>\n",
       "      <td>0.649188</td>\n",
       "      <td>18.492348</td>\n",
       "      <td>01:48</td>\n",
       "    </tr>\n",
       "    <tr>\n",
       "      <td>1</td>\n",
       "      <td>0.642176</td>\n",
       "      <td>0.643365</td>\n",
       "      <td>17.786766</td>\n",
       "      <td>01:48</td>\n",
       "    </tr>\n",
       "    <tr>\n",
       "      <td>2</td>\n",
       "      <td>0.636074</td>\n",
       "      <td>0.641886</td>\n",
       "      <td>17.529366</td>\n",
       "      <td>01:48</td>\n",
       "    </tr>\n",
       "    <tr>\n",
       "      <td>3</td>\n",
       "      <td>0.632824</td>\n",
       "      <td>0.641645</td>\n",
       "      <td>17.549284</td>\n",
       "      <td>01:48</td>\n",
       "    </tr>\n",
       "    <tr>\n",
       "      <td>4</td>\n",
       "      <td>0.630340</td>\n",
       "      <td>0.642675</td>\n",
       "      <td>17.661734</td>\n",
       "      <td>01:48</td>\n",
       "    </tr>\n",
       "  </tbody>\n",
       "</table>"
      ],
      "text/plain": [
       "<IPython.core.display.HTML object>"
      ]
     },
     "metadata": {},
     "output_type": "display_data"
    },
    {
     "name": "stderr",
     "output_type": "stream",
     "text": [
      "/opt/conda/envs/rapids/lib/python3.7/site-packages/torch/nn/functional.py:1639: UserWarning: nn.functional.sigmoid is deprecated. Use torch.sigmoid instead.\n",
      "  warnings.warn(\"nn.functional.sigmoid is deprecated. Use torch.sigmoid instead.\")\n"
     ]
    },
    {
     "name": "stdout",
     "output_type": "stream",
     "text": [
      "Better model found at epoch 0 with petfinder_rmse value: 18.492347717285156.\n",
      "Better model found at epoch 1 with petfinder_rmse value: 17.786766052246094.\n",
      "Better model found at epoch 2 with petfinder_rmse value: 17.52936553955078.\n",
      "No improvement since epoch 2: early stopping\n",
      "Fold 9 results\n"
     ]
    },
    {
     "data": {
      "text/html": [
       "<table border=\"1\" class=\"dataframe\">\n",
       "  <thead>\n",
       "    <tr style=\"text-align: left;\">\n",
       "      <th>epoch</th>\n",
       "      <th>train_loss</th>\n",
       "      <th>valid_loss</th>\n",
       "      <th>petfinder_rmse</th>\n",
       "      <th>time</th>\n",
       "    </tr>\n",
       "  </thead>\n",
       "  <tbody>\n",
       "    <tr>\n",
       "      <td>0</td>\n",
       "      <td>0.649607</td>\n",
       "      <td>0.650446</td>\n",
       "      <td>18.678415</td>\n",
       "      <td>01:48</td>\n",
       "    </tr>\n",
       "    <tr>\n",
       "      <td>1</td>\n",
       "      <td>0.642622</td>\n",
       "      <td>0.640271</td>\n",
       "      <td>17.455667</td>\n",
       "      <td>01:48</td>\n",
       "    </tr>\n",
       "    <tr>\n",
       "      <td>2</td>\n",
       "      <td>0.636732</td>\n",
       "      <td>0.644568</td>\n",
       "      <td>17.981354</td>\n",
       "      <td>01:48</td>\n",
       "    </tr>\n",
       "    <tr>\n",
       "      <td>3</td>\n",
       "      <td>0.632807</td>\n",
       "      <td>0.640792</td>\n",
       "      <td>17.448715</td>\n",
       "      <td>01:48</td>\n",
       "    </tr>\n",
       "    <tr>\n",
       "      <td>4</td>\n",
       "      <td>0.627841</td>\n",
       "      <td>0.641300</td>\n",
       "      <td>17.509007</td>\n",
       "      <td>01:48</td>\n",
       "    </tr>\n",
       "  </tbody>\n",
       "</table>"
      ],
      "text/plain": [
       "<IPython.core.display.HTML object>"
      ]
     },
     "metadata": {},
     "output_type": "display_data"
    },
    {
     "name": "stderr",
     "output_type": "stream",
     "text": [
      "/opt/conda/envs/rapids/lib/python3.7/site-packages/torch/nn/functional.py:1639: UserWarning: nn.functional.sigmoid is deprecated. Use torch.sigmoid instead.\n",
      "  warnings.warn(\"nn.functional.sigmoid is deprecated. Use torch.sigmoid instead.\")\n"
     ]
    },
    {
     "name": "stdout",
     "output_type": "stream",
     "text": [
      "Better model found at epoch 0 with petfinder_rmse value: 18.678415298461914.\n",
      "Better model found at epoch 1 with petfinder_rmse value: 17.45566749572754.\n",
      "Better model found at epoch 3 with petfinder_rmse value: 17.448715209960938.\n"
     ]
    },
    {
     "data": {
      "image/png": "[encoded data removed]",
      "text/plain": [
       "<Figure size 432x288 with 1 Axes>"
      ]
     },
     "metadata": {
      "needs_background": "light"
     },
     "output_type": "display_data"
    }
   ],
   "source": [
    "import gc\n",
    "\n",
    "\n",
    "for i in range(N_FOLDS):\n",
    "\n",
    "    print(f'Fold {i} results')\n",
    "    \n",
    "    learn = get_learner(fold_num=i)\n",
    "\n",
    "    learn.fit_one_cycle(5, 2e-5, cbs=[SaveModelCallback(monitor='petfinder_rmse', fname=f'model_fold{i}', comp=np.less), EarlyStoppingCallback(monitor='petfinder_rmse', comp=np.less, patience=2)]) \n",
    "    \n",
    "    learn.recorder.plot_loss()\n",
    "    \n",
    "    del learn\n",
    "\n",
    "    torch.cuda.empty_cache()\n",
    "\n",
    "    gc.collect()"
   ]
  },
  {
   "cell_type": "code",
   "execution_count": null,
   "metadata": {},
   "outputs": [],
   "source": []
  }
 ],
 "metadata": {
  "interpreter": {
   "hash": "5e12d91e1da5d66fb580e96699ee198fd9d2759057be15109a9caf046b9070c6"
  },
  "kernelspec": {
   "display_name": "Python 3",
   "language": "python",
   "name": "python3"
  },
  "language_info": {
   "codemirror_mode": {
    "name": "ipython",
    "version": 3
   },
   "file_extension": ".py",
   "mimetype": "text/x-python",
   "name": "python",
   "nbconvert_exporter": "python",
   "pygments_lexer": "ipython3",
   "version": "3.7.10"
  }
 },
 "nbformat": 4,
 "nbformat_minor": 4
}
