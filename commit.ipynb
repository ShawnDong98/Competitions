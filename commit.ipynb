{
 "cells": [
  {
   "cell_type": "code",
   "execution_count": 4,
   "metadata": {},
   "outputs": [
    {
     "data": {
      "text/html": [
       "<div>\n",
       "<style scoped>\n",
       "    .dataframe tbody tr th:only-of-type {\n",
       "        vertical-align: middle;\n",
       "    }\n",
       "\n",
       "    .dataframe tbody tr th {\n",
       "        vertical-align: top;\n",
       "    }\n",
       "\n",
       "    .dataframe thead th {\n",
       "        text-align: right;\n",
       "    }\n",
       "</style>\n",
       "<table border=\"1\" class=\"dataframe\">\n",
       "  <thead>\n",
       "    <tr style=\"text-align: right;\">\n",
       "      <th></th>\n",
       "      <th>fnames</th>\n",
       "      <th>label</th>\n",
       "      <th>image_path</th>\n",
       "    </tr>\n",
       "  </thead>\n",
       "  <tbody>\n",
       "    <tr>\n",
       "      <th>0</th>\n",
       "      <td>test_0.jpg</td>\n",
       "      <td>1</td>\n",
       "      <td>../datasets/fackface_det/image/test/test_0.jpg</td>\n",
       "    </tr>\n",
       "    <tr>\n",
       "      <th>1</th>\n",
       "      <td>test_1.jpg</td>\n",
       "      <td>0</td>\n",
       "      <td>../datasets/fackface_det/image/test/test_1.jpg</td>\n",
       "    </tr>\n",
       "    <tr>\n",
       "      <th>2</th>\n",
       "      <td>test_2.jpg</td>\n",
       "      <td>1</td>\n",
       "      <td>../datasets/fackface_det/image/test/test_2.jpg</td>\n",
       "    </tr>\n",
       "    <tr>\n",
       "      <th>3</th>\n",
       "      <td>test_3.jpg</td>\n",
       "      <td>0</td>\n",
       "      <td>../datasets/fackface_det/image/test/test_3.jpg</td>\n",
       "    </tr>\n",
       "    <tr>\n",
       "      <th>4</th>\n",
       "      <td>test_4.jpg</td>\n",
       "      <td>1</td>\n",
       "      <td>../datasets/fackface_det/image/test/test_4.jpg</td>\n",
       "    </tr>\n",
       "  </tbody>\n",
       "</table>\n",
       "</div>"
      ],
      "text/plain": [
       "       fnames  label                                      image_path\n",
       "0  test_0.jpg      1  ../datasets/fackface_det/image/test/test_0.jpg\n",
       "1  test_1.jpg      0  ../datasets/fackface_det/image/test/test_1.jpg\n",
       "2  test_2.jpg      1  ../datasets/fackface_det/image/test/test_2.jpg\n",
       "3  test_3.jpg      0  ../datasets/fackface_det/image/test/test_3.jpg\n",
       "4  test_4.jpg      1  ../datasets/fackface_det/image/test/test_4.jpg"
      ]
     },
     "execution_count": 4,
     "metadata": {},
     "output_type": "execute_result"
    }
   ],
   "source": [
    "import os\n",
    "\n",
    "import torch\n",
    "from torch import nn\n",
    "import pandas as pd\n",
    "from config import config\n",
    "from dataset import FackFaceDetLoader\n",
    "from model import FackFaceDetModel\n",
    "\n",
    "from glob import glob\n",
    "\n",
    "df = pd.read_csv(os.path.join(config.root, 'submission.csv'), sep='\\t')\n",
    "df['image_path'] = df['fnames'].apply(lambda x: os.path.join(config.root, 'image', 'test', x))\n",
    "df.head()"
   ]
  },
  {
   "cell_type": "code",
   "execution_count": null,
   "metadata": {},
   "outputs": [],
   "source": [
    "import gc\n",
    "from tqdm import tqdm\n",
    "import numpy as np\n",
    "\n",
    "test_loader = FackFaceDetLoader(df, df, config).val_dataloader()\n",
    "\n",
    "models_dir = ''\n",
    "device = \"cuda\" \n",
    "\n",
    "predicted_labels = None\n",
    "for model_name in glob.glob(models_dir + '/*.pth'):\n",
    "\n",
    "    model = FackFaceDetModel(config)\n",
    "    model = nn.DataParallel(model)\n",
    "    model.load_state_dict(torch.load(model_name,map_location=\"cuda:0\"))\n",
    "    model = model.cuda()\n",
    "    model.eval()\n",
    "    \n",
    "    temp_preds = None\n",
    "    with torch.no_grad():\n",
    "        for (images, target) in tqdm(test_loader, desc=f'Predicting. '):\n",
    "            images = images.to(\"cuda\", non_blocking=True)\n",
    "            dense = dense.to(\"cuda\", non_blocking=True)\n",
    "            predictions = torch.sigmoid(model(images)).to('cpu').numpy()\n",
    "            \n",
    "            if temp_preds is None:\n",
    "                temp_preds = predictions\n",
    "            else:\n",
    "                temp_preds = np.vstack((temp_preds, predictions))\n",
    "\n",
    "    if predicted_labels is None:\n",
    "        predicted_labels = temp_preds\n",
    "    else:\n",
    "        predicted_labels += temp_preds\n",
    "    \n",
    "#     del model\n",
    "    gc.collect()\n"
   ]
  },
  {
   "cell_type": "code",
   "execution_count": null,
   "metadata": {},
   "outputs": [],
   "source": [
    "sub_df = pd.DataFrame()\n",
    "sub_df['fnames'] = df['fnames']\n",
    "sub_df['label'] = predicted_labels"
   ]
  }
 ],
 "metadata": {
  "interpreter": {
   "hash": "5e12d91e1da5d66fb580e96699ee198fd9d2759057be15109a9caf046b9070c6"
  },
  "kernelspec": {
   "display_name": "Python 3.7.11 64-bit ('Deeplearning': conda)",
   "language": "python",
   "name": "python3"
  },
  "language_info": {
   "codemirror_mode": {
    "name": "ipython",
    "version": 3
   },
   "file_extension": ".py",
   "mimetype": "text/x-python",
   "name": "python",
   "nbconvert_exporter": "python",
   "pygments_lexer": "ipython3",
   "version": "3.7.11"
  },
  "orig_nbformat": 4
 },
 "nbformat": 4,
 "nbformat_minor": 2
}
